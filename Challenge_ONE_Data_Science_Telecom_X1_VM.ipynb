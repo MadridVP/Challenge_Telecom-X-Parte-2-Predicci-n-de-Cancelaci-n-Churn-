{
  "nbformat": 4,
  "nbformat_minor": 0,
  "metadata": {
    "colab": {
      "provenance": [],
      "authorship_tag": "ABX9TyMz2lXVvyXMVQmFnuVS1g+M",
      "include_colab_link": true
    },
    "kernelspec": {
      "name": "python3",
      "display_name": "Python 3"
    },
    "language_info": {
      "name": "python"
    }
  },
  "cells": [
    {
      "cell_type": "markdown",
      "metadata": {
        "id": "view-in-github",
        "colab_type": "text"
      },
      "source": [
        "<a href=\"https://colab.research.google.com/github/MadridVP/Challenge_Telecom-X-Parte-2-Predicci-n-de-Cancelaci-n-Churn-/blob/main/Challenge_ONE_Data_Science_Telecom_X1_VM.ipynb\" target=\"_parent\"><img src=\"https://colab.research.google.com/assets/colab-badge.svg\" alt=\"Open In Colab\"/></a>"
      ]
    },
    {
      "cell_type": "code",
      "execution_count": null,
      "metadata": {
        "id": "wX88sQNAwmK7",
        "colab": {
          "base_uri": "https://localhost:8080/",
          "height": 293
        },
        "outputId": "0ac2527c-be28-4949-fb11-32f52c5d1f28"
      },
      "outputs": [
        {
          "output_type": "execute_result",
          "data": {
            "text/plain": [
              "   customerID Churn                                           customer  \\\n",
              "0  0002-ORFBO    No  {'gender': 'Female', 'SeniorCitizen': 0, 'Part...   \n",
              "1  0003-MKNFE    No  {'gender': 'Male', 'SeniorCitizen': 0, 'Partne...   \n",
              "2  0004-TLHLJ   Yes  {'gender': 'Male', 'SeniorCitizen': 0, 'Partne...   \n",
              "3  0011-IGKFF   Yes  {'gender': 'Male', 'SeniorCitizen': 1, 'Partne...   \n",
              "4  0013-EXCHZ   Yes  {'gender': 'Female', 'SeniorCitizen': 1, 'Part...   \n",
              "\n",
              "                                             phone  \\\n",
              "0   {'PhoneService': 'Yes', 'MultipleLines': 'No'}   \n",
              "1  {'PhoneService': 'Yes', 'MultipleLines': 'Yes'}   \n",
              "2   {'PhoneService': 'Yes', 'MultipleLines': 'No'}   \n",
              "3   {'PhoneService': 'Yes', 'MultipleLines': 'No'}   \n",
              "4   {'PhoneService': 'Yes', 'MultipleLines': 'No'}   \n",
              "\n",
              "                                            internet  \\\n",
              "0  {'InternetService': 'DSL', 'OnlineSecurity': '...   \n",
              "1  {'InternetService': 'DSL', 'OnlineSecurity': '...   \n",
              "2  {'InternetService': 'Fiber optic', 'OnlineSecu...   \n",
              "3  {'InternetService': 'Fiber optic', 'OnlineSecu...   \n",
              "4  {'InternetService': 'Fiber optic', 'OnlineSecu...   \n",
              "\n",
              "                                             account  \n",
              "0  {'Contract': 'One year', 'PaperlessBilling': '...  \n",
              "1  {'Contract': 'Month-to-month', 'PaperlessBilli...  \n",
              "2  {'Contract': 'Month-to-month', 'PaperlessBilli...  \n",
              "3  {'Contract': 'Month-to-month', 'PaperlessBilli...  \n",
              "4  {'Contract': 'Month-to-month', 'PaperlessBilli...  "
            ],
            "text/html": [
              "\n",
              "  <div id=\"df-e8745fee-735c-481c-8df2-21901b39d532\" class=\"colab-df-container\">\n",
              "    <div>\n",
              "<style scoped>\n",
              "    .dataframe tbody tr th:only-of-type {\n",
              "        vertical-align: middle;\n",
              "    }\n",
              "\n",
              "    .dataframe tbody tr th {\n",
              "        vertical-align: top;\n",
              "    }\n",
              "\n",
              "    .dataframe thead th {\n",
              "        text-align: right;\n",
              "    }\n",
              "</style>\n",
              "<table border=\"1\" class=\"dataframe\">\n",
              "  <thead>\n",
              "    <tr style=\"text-align: right;\">\n",
              "      <th></th>\n",
              "      <th>customerID</th>\n",
              "      <th>Churn</th>\n",
              "      <th>customer</th>\n",
              "      <th>phone</th>\n",
              "      <th>internet</th>\n",
              "      <th>account</th>\n",
              "    </tr>\n",
              "  </thead>\n",
              "  <tbody>\n",
              "    <tr>\n",
              "      <th>0</th>\n",
              "      <td>0002-ORFBO</td>\n",
              "      <td>No</td>\n",
              "      <td>{'gender': 'Female', 'SeniorCitizen': 0, 'Part...</td>\n",
              "      <td>{'PhoneService': 'Yes', 'MultipleLines': 'No'}</td>\n",
              "      <td>{'InternetService': 'DSL', 'OnlineSecurity': '...</td>\n",
              "      <td>{'Contract': 'One year', 'PaperlessBilling': '...</td>\n",
              "    </tr>\n",
              "    <tr>\n",
              "      <th>1</th>\n",
              "      <td>0003-MKNFE</td>\n",
              "      <td>No</td>\n",
              "      <td>{'gender': 'Male', 'SeniorCitizen': 0, 'Partne...</td>\n",
              "      <td>{'PhoneService': 'Yes', 'MultipleLines': 'Yes'}</td>\n",
              "      <td>{'InternetService': 'DSL', 'OnlineSecurity': '...</td>\n",
              "      <td>{'Contract': 'Month-to-month', 'PaperlessBilli...</td>\n",
              "    </tr>\n",
              "    <tr>\n",
              "      <th>2</th>\n",
              "      <td>0004-TLHLJ</td>\n",
              "      <td>Yes</td>\n",
              "      <td>{'gender': 'Male', 'SeniorCitizen': 0, 'Partne...</td>\n",
              "      <td>{'PhoneService': 'Yes', 'MultipleLines': 'No'}</td>\n",
              "      <td>{'InternetService': 'Fiber optic', 'OnlineSecu...</td>\n",
              "      <td>{'Contract': 'Month-to-month', 'PaperlessBilli...</td>\n",
              "    </tr>\n",
              "    <tr>\n",
              "      <th>3</th>\n",
              "      <td>0011-IGKFF</td>\n",
              "      <td>Yes</td>\n",
              "      <td>{'gender': 'Male', 'SeniorCitizen': 1, 'Partne...</td>\n",
              "      <td>{'PhoneService': 'Yes', 'MultipleLines': 'No'}</td>\n",
              "      <td>{'InternetService': 'Fiber optic', 'OnlineSecu...</td>\n",
              "      <td>{'Contract': 'Month-to-month', 'PaperlessBilli...</td>\n",
              "    </tr>\n",
              "    <tr>\n",
              "      <th>4</th>\n",
              "      <td>0013-EXCHZ</td>\n",
              "      <td>Yes</td>\n",
              "      <td>{'gender': 'Female', 'SeniorCitizen': 1, 'Part...</td>\n",
              "      <td>{'PhoneService': 'Yes', 'MultipleLines': 'No'}</td>\n",
              "      <td>{'InternetService': 'Fiber optic', 'OnlineSecu...</td>\n",
              "      <td>{'Contract': 'Month-to-month', 'PaperlessBilli...</td>\n",
              "    </tr>\n",
              "  </tbody>\n",
              "</table>\n",
              "</div>\n",
              "    <div class=\"colab-df-buttons\">\n",
              "\n",
              "  <div class=\"colab-df-container\">\n",
              "    <button class=\"colab-df-convert\" onclick=\"convertToInteractive('df-e8745fee-735c-481c-8df2-21901b39d532')\"\n",
              "            title=\"Convert this dataframe to an interactive table.\"\n",
              "            style=\"display:none;\">\n",
              "\n",
              "  <svg xmlns=\"http://www.w3.org/2000/svg\" height=\"24px\" viewBox=\"0 -960 960 960\">\n",
              "    <path d=\"M120-120v-720h720v720H120Zm60-500h600v-160H180v160Zm220 220h160v-160H400v160Zm0 220h160v-160H400v160ZM180-400h160v-160H180v160Zm440 0h160v-160H620v160ZM180-180h160v-160H180v160Zm440 0h160v-160H620v160Z\"/>\n",
              "  </svg>\n",
              "    </button>\n",
              "\n",
              "  <style>\n",
              "    .colab-df-container {\n",
              "      display:flex;\n",
              "      gap: 12px;\n",
              "    }\n",
              "\n",
              "    .colab-df-convert {\n",
              "      background-color: #E8F0FE;\n",
              "      border: none;\n",
              "      border-radius: 50%;\n",
              "      cursor: pointer;\n",
              "      display: none;\n",
              "      fill: #1967D2;\n",
              "      height: 32px;\n",
              "      padding: 0 0 0 0;\n",
              "      width: 32px;\n",
              "    }\n",
              "\n",
              "    .colab-df-convert:hover {\n",
              "      background-color: #E2EBFA;\n",
              "      box-shadow: 0px 1px 2px rgba(60, 64, 67, 0.3), 0px 1px 3px 1px rgba(60, 64, 67, 0.15);\n",
              "      fill: #174EA6;\n",
              "    }\n",
              "\n",
              "    .colab-df-buttons div {\n",
              "      margin-bottom: 4px;\n",
              "    }\n",
              "\n",
              "    [theme=dark] .colab-df-convert {\n",
              "      background-color: #3B4455;\n",
              "      fill: #D2E3FC;\n",
              "    }\n",
              "\n",
              "    [theme=dark] .colab-df-convert:hover {\n",
              "      background-color: #434B5C;\n",
              "      box-shadow: 0px 1px 3px 1px rgba(0, 0, 0, 0.15);\n",
              "      filter: drop-shadow(0px 1px 2px rgba(0, 0, 0, 0.3));\n",
              "      fill: #FFFFFF;\n",
              "    }\n",
              "  </style>\n",
              "\n",
              "    <script>\n",
              "      const buttonEl =\n",
              "        document.querySelector('#df-e8745fee-735c-481c-8df2-21901b39d532 button.colab-df-convert');\n",
              "      buttonEl.style.display =\n",
              "        google.colab.kernel.accessAllowed ? 'block' : 'none';\n",
              "\n",
              "      async function convertToInteractive(key) {\n",
              "        const element = document.querySelector('#df-e8745fee-735c-481c-8df2-21901b39d532');\n",
              "        const dataTable =\n",
              "          await google.colab.kernel.invokeFunction('convertToInteractive',\n",
              "                                                    [key], {});\n",
              "        if (!dataTable) return;\n",
              "\n",
              "        const docLinkHtml = 'Like what you see? Visit the ' +\n",
              "          '<a target=\"_blank\" href=https://colab.research.google.com/notebooks/data_table.ipynb>data table notebook</a>'\n",
              "          + ' to learn more about interactive tables.';\n",
              "        element.innerHTML = '';\n",
              "        dataTable['output_type'] = 'display_data';\n",
              "        await google.colab.output.renderOutput(dataTable, element);\n",
              "        const docLink = document.createElement('div');\n",
              "        docLink.innerHTML = docLinkHtml;\n",
              "        element.appendChild(docLink);\n",
              "      }\n",
              "    </script>\n",
              "  </div>\n",
              "\n",
              "\n",
              "    <div id=\"df-93b265eb-82f6-4de3-a4c7-423b8abc2c9a\">\n",
              "      <button class=\"colab-df-quickchart\" onclick=\"quickchart('df-93b265eb-82f6-4de3-a4c7-423b8abc2c9a')\"\n",
              "                title=\"Suggest charts\"\n",
              "                style=\"display:none;\">\n",
              "\n",
              "<svg xmlns=\"http://www.w3.org/2000/svg\" height=\"24px\"viewBox=\"0 0 24 24\"\n",
              "     width=\"24px\">\n",
              "    <g>\n",
              "        <path d=\"M19 3H5c-1.1 0-2 .9-2 2v14c0 1.1.9 2 2 2h14c1.1 0 2-.9 2-2V5c0-1.1-.9-2-2-2zM9 17H7v-7h2v7zm4 0h-2V7h2v10zm4 0h-2v-4h2v4z\"/>\n",
              "    </g>\n",
              "</svg>\n",
              "      </button>\n",
              "\n",
              "<style>\n",
              "  .colab-df-quickchart {\n",
              "      --bg-color: #E8F0FE;\n",
              "      --fill-color: #1967D2;\n",
              "      --hover-bg-color: #E2EBFA;\n",
              "      --hover-fill-color: #174EA6;\n",
              "      --disabled-fill-color: #AAA;\n",
              "      --disabled-bg-color: #DDD;\n",
              "  }\n",
              "\n",
              "  [theme=dark] .colab-df-quickchart {\n",
              "      --bg-color: #3B4455;\n",
              "      --fill-color: #D2E3FC;\n",
              "      --hover-bg-color: #434B5C;\n",
              "      --hover-fill-color: #FFFFFF;\n",
              "      --disabled-bg-color: #3B4455;\n",
              "      --disabled-fill-color: #666;\n",
              "  }\n",
              "\n",
              "  .colab-df-quickchart {\n",
              "    background-color: var(--bg-color);\n",
              "    border: none;\n",
              "    border-radius: 50%;\n",
              "    cursor: pointer;\n",
              "    display: none;\n",
              "    fill: var(--fill-color);\n",
              "    height: 32px;\n",
              "    padding: 0;\n",
              "    width: 32px;\n",
              "  }\n",
              "\n",
              "  .colab-df-quickchart:hover {\n",
              "    background-color: var(--hover-bg-color);\n",
              "    box-shadow: 0 1px 2px rgba(60, 64, 67, 0.3), 0 1px 3px 1px rgba(60, 64, 67, 0.15);\n",
              "    fill: var(--button-hover-fill-color);\n",
              "  }\n",
              "\n",
              "  .colab-df-quickchart-complete:disabled,\n",
              "  .colab-df-quickchart-complete:disabled:hover {\n",
              "    background-color: var(--disabled-bg-color);\n",
              "    fill: var(--disabled-fill-color);\n",
              "    box-shadow: none;\n",
              "  }\n",
              "\n",
              "  .colab-df-spinner {\n",
              "    border: 2px solid var(--fill-color);\n",
              "    border-color: transparent;\n",
              "    border-bottom-color: var(--fill-color);\n",
              "    animation:\n",
              "      spin 1s steps(1) infinite;\n",
              "  }\n",
              "\n",
              "  @keyframes spin {\n",
              "    0% {\n",
              "      border-color: transparent;\n",
              "      border-bottom-color: var(--fill-color);\n",
              "      border-left-color: var(--fill-color);\n",
              "    }\n",
              "    20% {\n",
              "      border-color: transparent;\n",
              "      border-left-color: var(--fill-color);\n",
              "      border-top-color: var(--fill-color);\n",
              "    }\n",
              "    30% {\n",
              "      border-color: transparent;\n",
              "      border-left-color: var(--fill-color);\n",
              "      border-top-color: var(--fill-color);\n",
              "      border-right-color: var(--fill-color);\n",
              "    }\n",
              "    40% {\n",
              "      border-color: transparent;\n",
              "      border-right-color: var(--fill-color);\n",
              "      border-top-color: var(--fill-color);\n",
              "    }\n",
              "    60% {\n",
              "      border-color: transparent;\n",
              "      border-right-color: var(--fill-color);\n",
              "    }\n",
              "    80% {\n",
              "      border-color: transparent;\n",
              "      border-right-color: var(--fill-color);\n",
              "      border-bottom-color: var(--fill-color);\n",
              "    }\n",
              "    90% {\n",
              "      border-color: transparent;\n",
              "      border-bottom-color: var(--fill-color);\n",
              "    }\n",
              "  }\n",
              "</style>\n",
              "\n",
              "      <script>\n",
              "        async function quickchart(key) {\n",
              "          const quickchartButtonEl =\n",
              "            document.querySelector('#' + key + ' button');\n",
              "          quickchartButtonEl.disabled = true;  // To prevent multiple clicks.\n",
              "          quickchartButtonEl.classList.add('colab-df-spinner');\n",
              "          try {\n",
              "            const charts = await google.colab.kernel.invokeFunction(\n",
              "                'suggestCharts', [key], {});\n",
              "          } catch (error) {\n",
              "            console.error('Error during call to suggestCharts:', error);\n",
              "          }\n",
              "          quickchartButtonEl.classList.remove('colab-df-spinner');\n",
              "          quickchartButtonEl.classList.add('colab-df-quickchart-complete');\n",
              "        }\n",
              "        (() => {\n",
              "          let quickchartButtonEl =\n",
              "            document.querySelector('#df-93b265eb-82f6-4de3-a4c7-423b8abc2c9a button');\n",
              "          quickchartButtonEl.style.display =\n",
              "            google.colab.kernel.accessAllowed ? 'block' : 'none';\n",
              "        })();\n",
              "      </script>\n",
              "    </div>\n",
              "\n",
              "    </div>\n",
              "  </div>\n"
            ],
            "application/vnd.google.colaboratory.intrinsic+json": {
              "type": "dataframe",
              "variable_name": "df",
              "summary": "{\n  \"name\": \"df\",\n  \"rows\": 7267,\n  \"fields\": [\n    {\n      \"column\": \"customerID\",\n      \"properties\": {\n        \"dtype\": \"string\",\n        \"num_unique_values\": 7267,\n        \"samples\": [\n          \"2038-OEQZH\",\n          \"6322-HRPFA\",\n          \"3969-JQABI\"\n        ],\n        \"semantic_type\": \"\",\n        \"description\": \"\"\n      }\n    },\n    {\n      \"column\": \"Churn\",\n      \"properties\": {\n        \"dtype\": \"category\",\n        \"num_unique_values\": 3,\n        \"samples\": [\n          \"No\",\n          \"Yes\",\n          \"\"\n        ],\n        \"semantic_type\": \"\",\n        \"description\": \"\"\n      }\n    },\n    {\n      \"column\": \"customer\",\n      \"properties\": {\n        \"dtype\": \"object\",\n        \"semantic_type\": \"\",\n        \"description\": \"\"\n      }\n    },\n    {\n      \"column\": \"phone\",\n      \"properties\": {\n        \"dtype\": \"object\",\n        \"semantic_type\": \"\",\n        \"description\": \"\"\n      }\n    },\n    {\n      \"column\": \"internet\",\n      \"properties\": {\n        \"dtype\": \"object\",\n        \"semantic_type\": \"\",\n        \"description\": \"\"\n      }\n    },\n    {\n      \"column\": \"account\",\n      \"properties\": {\n        \"dtype\": \"object\",\n        \"semantic_type\": \"\",\n        \"description\": \"\"\n      }\n    }\n  ]\n}"
            }
          },
          "metadata": {},
          "execution_count": 1
        }
      ],
      "source": [
        "import pandas as pd\n",
        "\n",
        "# Cargar el archivo JSON en un DataFrame\n",
        "df = pd.read_json('/content/TelecomX_Data.json')\n",
        "df.head()\n"
      ]
    },
    {
      "cell_type": "code",
      "source": [],
      "metadata": {
        "id": "l1xsAIP4y8Vp"
      },
      "execution_count": null,
      "outputs": []
    },
    {
      "cell_type": "markdown",
      "source": [
        "## **Verificar si hay problemas en los datos**\n"
      ],
      "metadata": {
        "id": "8D2415YTzZP8"
      }
    },
    {
      "cell_type": "code",
      "source": [
        "df.isnull().sum()\n"
      ],
      "metadata": {
        "colab": {
          "base_uri": "https://localhost:8080/",
          "height": 272
        },
        "id": "g3ImVN9DzY6Y",
        "outputId": "837483d5-10ae-44a2-e6da-354ba5f0613d"
      },
      "execution_count": null,
      "outputs": [
        {
          "output_type": "execute_result",
          "data": {
            "text/plain": [
              "customerID    0\n",
              "Churn         0\n",
              "customer      0\n",
              "phone         0\n",
              "internet      0\n",
              "account       0\n",
              "dtype: int64"
            ],
            "text/html": [
              "<div>\n",
              "<style scoped>\n",
              "    .dataframe tbody tr th:only-of-type {\n",
              "        vertical-align: middle;\n",
              "    }\n",
              "\n",
              "    .dataframe tbody tr th {\n",
              "        vertical-align: top;\n",
              "    }\n",
              "\n",
              "    .dataframe thead th {\n",
              "        text-align: right;\n",
              "    }\n",
              "</style>\n",
              "<table border=\"1\" class=\"dataframe\">\n",
              "  <thead>\n",
              "    <tr style=\"text-align: right;\">\n",
              "      <th></th>\n",
              "      <th>0</th>\n",
              "    </tr>\n",
              "  </thead>\n",
              "  <tbody>\n",
              "    <tr>\n",
              "      <th>customerID</th>\n",
              "      <td>0</td>\n",
              "    </tr>\n",
              "    <tr>\n",
              "      <th>Churn</th>\n",
              "      <td>0</td>\n",
              "    </tr>\n",
              "    <tr>\n",
              "      <th>customer</th>\n",
              "      <td>0</td>\n",
              "    </tr>\n",
              "    <tr>\n",
              "      <th>phone</th>\n",
              "      <td>0</td>\n",
              "    </tr>\n",
              "    <tr>\n",
              "      <th>internet</th>\n",
              "      <td>0</td>\n",
              "    </tr>\n",
              "    <tr>\n",
              "      <th>account</th>\n",
              "      <td>0</td>\n",
              "    </tr>\n",
              "  </tbody>\n",
              "</table>\n",
              "</div><br><label><b>dtype:</b> int64</label>"
            ]
          },
          "metadata": {},
          "execution_count": 2
        }
      ]
    },
    {
      "cell_type": "code",
      "source": [
        "df.info()\n"
      ],
      "metadata": {
        "colab": {
          "base_uri": "https://localhost:8080/"
        },
        "id": "tJB5-0No0OiC",
        "outputId": "d5f22808-c537-404b-b03a-3ff9c9639337"
      },
      "execution_count": null,
      "outputs": [
        {
          "output_type": "stream",
          "name": "stdout",
          "text": [
            "<class 'pandas.core.frame.DataFrame'>\n",
            "RangeIndex: 7267 entries, 0 to 7266\n",
            "Data columns (total 6 columns):\n",
            " #   Column      Non-Null Count  Dtype \n",
            "---  ------      --------------  ----- \n",
            " 0   customerID  7267 non-null   object\n",
            " 1   Churn       7267 non-null   object\n",
            " 2   customer    7267 non-null   object\n",
            " 3   phone       7267 non-null   object\n",
            " 4   internet    7267 non-null   object\n",
            " 5   account     7267 non-null   object\n",
            "dtypes: object(6)\n",
            "memory usage: 340.8+ KB\n"
          ]
        }
      ]
    },
    {
      "cell_type": "code",
      "source": [
        "df.dtypes\n"
      ],
      "metadata": {
        "colab": {
          "base_uri": "https://localhost:8080/",
          "height": 272
        },
        "id": "i0kS4obh1AoO",
        "outputId": "32e530b6-6c3e-427f-cd9c-e03dd5ccf5d2"
      },
      "execution_count": null,
      "outputs": [
        {
          "output_type": "execute_result",
          "data": {
            "text/plain": [
              "customerID    object\n",
              "Churn         object\n",
              "customer      object\n",
              "phone         object\n",
              "internet      object\n",
              "account       object\n",
              "dtype: object"
            ],
            "text/html": [
              "<div>\n",
              "<style scoped>\n",
              "    .dataframe tbody tr th:only-of-type {\n",
              "        vertical-align: middle;\n",
              "    }\n",
              "\n",
              "    .dataframe tbody tr th {\n",
              "        vertical-align: top;\n",
              "    }\n",
              "\n",
              "    .dataframe thead th {\n",
              "        text-align: right;\n",
              "    }\n",
              "</style>\n",
              "<table border=\"1\" class=\"dataframe\">\n",
              "  <thead>\n",
              "    <tr style=\"text-align: right;\">\n",
              "      <th></th>\n",
              "      <th>0</th>\n",
              "    </tr>\n",
              "  </thead>\n",
              "  <tbody>\n",
              "    <tr>\n",
              "      <th>customerID</th>\n",
              "      <td>object</td>\n",
              "    </tr>\n",
              "    <tr>\n",
              "      <th>Churn</th>\n",
              "      <td>object</td>\n",
              "    </tr>\n",
              "    <tr>\n",
              "      <th>customer</th>\n",
              "      <td>object</td>\n",
              "    </tr>\n",
              "    <tr>\n",
              "      <th>phone</th>\n",
              "      <td>object</td>\n",
              "    </tr>\n",
              "    <tr>\n",
              "      <th>internet</th>\n",
              "      <td>object</td>\n",
              "    </tr>\n",
              "    <tr>\n",
              "      <th>account</th>\n",
              "      <td>object</td>\n",
              "    </tr>\n",
              "  </tbody>\n",
              "</table>\n",
              "</div><br><label><b>dtype:</b> object</label>"
            ]
          },
          "metadata": {},
          "execution_count": 4
        }
      ]
    },
    {
      "cell_type": "code",
      "source": [
        "import pandas as pd\n",
        "from pandas import json_normalize\n",
        "\n",
        "# 1. ¿Qué columnas tienen dicts?\n",
        "cols_dict = [c for c in df.columns if df[c].apply(lambda x: isinstance(x, dict)).any()]\n",
        "print(\"Columnas con dict:\", cols_dict)\n",
        "\n",
        "# 2. Aplanar cada una\n",
        "for c in cols_dict:\n",
        "    expanded = json_normalize(df[c]).add_prefix(f\"{c}.\")\n",
        "    df = pd.concat([df.drop(columns=[c]), expanded], axis=1)\n",
        "\n",
        "df.info()  # revisa la nueva estructura\n"
      ],
      "metadata": {
        "colab": {
          "base_uri": "https://localhost:8080/"
        },
        "id": "N6sPx9yJ1V4O",
        "outputId": "e684ab1c-55f0-407d-973b-b55fe0e0e133"
      },
      "execution_count": null,
      "outputs": [
        {
          "output_type": "stream",
          "name": "stdout",
          "text": [
            "Columnas con dict: ['customer', 'phone', 'internet', 'account']\n",
            "<class 'pandas.core.frame.DataFrame'>\n",
            "RangeIndex: 7267 entries, 0 to 7266\n",
            "Data columns (total 21 columns):\n",
            " #   Column                     Non-Null Count  Dtype  \n",
            "---  ------                     --------------  -----  \n",
            " 0   customerID                 7267 non-null   object \n",
            " 1   Churn                      7267 non-null   object \n",
            " 2   customer.gender            7267 non-null   object \n",
            " 3   customer.SeniorCitizen     7267 non-null   int64  \n",
            " 4   customer.Partner           7267 non-null   object \n",
            " 5   customer.Dependents        7267 non-null   object \n",
            " 6   customer.tenure            7267 non-null   int64  \n",
            " 7   phone.PhoneService         7267 non-null   object \n",
            " 8   phone.MultipleLines        7267 non-null   object \n",
            " 9   internet.InternetService   7267 non-null   object \n",
            " 10  internet.OnlineSecurity    7267 non-null   object \n",
            " 11  internet.OnlineBackup      7267 non-null   object \n",
            " 12  internet.DeviceProtection  7267 non-null   object \n",
            " 13  internet.TechSupport       7267 non-null   object \n",
            " 14  internet.StreamingTV       7267 non-null   object \n",
            " 15  internet.StreamingMovies   7267 non-null   object \n",
            " 16  account.Contract           7267 non-null   object \n",
            " 17  account.PaperlessBilling   7267 non-null   object \n",
            " 18  account.PaymentMethod      7267 non-null   object \n",
            " 19  account.Charges.Monthly    7267 non-null   float64\n",
            " 20  account.Charges.Total      7267 non-null   object \n",
            "dtypes: float64(1), int64(2), object(18)\n",
            "memory usage: 1.2+ MB\n"
          ]
        }
      ]
    },
    {
      "cell_type": "code",
      "source": [
        "df.duplicated().sum()\n"
      ],
      "metadata": {
        "colab": {
          "base_uri": "https://localhost:8080/"
        },
        "id": "b1YXD0U71e2C",
        "outputId": "9abcc816-ae48-4860-a18a-707640a178ba"
      },
      "execution_count": null,
      "outputs": [
        {
          "output_type": "execute_result",
          "data": {
            "text/plain": [
              "np.int64(0)"
            ]
          },
          "metadata": {},
          "execution_count": 6
        }
      ]
    },
    {
      "cell_type": "code",
      "source": [
        "df.duplicated(subset=[\"customerID\"]).sum()\n"
      ],
      "metadata": {
        "colab": {
          "base_uri": "https://localhost:8080/"
        },
        "id": "Dj1OkR9M1hm5",
        "outputId": "e0c9299c-b250-45d7-ece3-6c6201d4686e"
      },
      "execution_count": null,
      "outputs": [
        {
          "output_type": "execute_result",
          "data": {
            "text/plain": [
              "np.int64(0)"
            ]
          },
          "metadata": {},
          "execution_count": 7
        }
      ]
    },
    {
      "cell_type": "code",
      "source": [
        "for col in [\"Churn\", \"internet.plan\", \"phone.contract\", \"account.tenure\"]:\n",
        "    if col in df.columns:\n",
        "        print(col, df[col].unique()[:20])\n"
      ],
      "metadata": {
        "colab": {
          "base_uri": "https://localhost:8080/"
        },
        "id": "7d5n9Et_1pIQ",
        "outputId": "2c0a3e21-09ea-44f9-b1af-32e379399d2e"
      },
      "execution_count": null,
      "outputs": [
        {
          "output_type": "stream",
          "name": "stdout",
          "text": [
            "Churn ['No' 'Yes' '']\n"
          ]
        }
      ]
    },
    {
      "cell_type": "code",
      "source": [
        "df.shape\n"
      ],
      "metadata": {
        "colab": {
          "base_uri": "https://localhost:8080/"
        },
        "id": "lMEn-y1T1sJw",
        "outputId": "f1bb0ba6-face-4adb-94e7-ac85ac993205"
      },
      "execution_count": null,
      "outputs": [
        {
          "output_type": "execute_result",
          "data": {
            "text/plain": [
              "(7267, 21)"
            ]
          },
          "metadata": {},
          "execution_count": 9
        }
      ]
    },
    {
      "cell_type": "code",
      "source": [
        "# Revisar valores únicos de la columna Churn\n",
        "df[\"Churn\"].unique()\n",
        "\n",
        "# Revisar valores únicos de varias columnas\n",
        "for col in df.columns:\n",
        "    print(f\"{col}: {df[col].unique()}\")\n"
      ],
      "metadata": {
        "colab": {
          "base_uri": "https://localhost:8080/"
        },
        "id": "Yolb23bd13-0",
        "outputId": "0878e420-8611-49da-c82f-fdffba661052"
      },
      "execution_count": null,
      "outputs": [
        {
          "output_type": "stream",
          "name": "stdout",
          "text": [
            "customerID: ['0002-ORFBO' '0003-MKNFE' '0004-TLHLJ' ... '9992-UJOEL' '9993-LHIEB'\n",
            " '9995-HOTOH']\n",
            "Churn: ['No' 'Yes' '']\n",
            "customer.gender: ['Female' 'Male']\n",
            "customer.SeniorCitizen: [0 1]\n",
            "customer.Partner: ['Yes' 'No']\n",
            "customer.Dependents: ['Yes' 'No']\n",
            "customer.tenure: [ 9  4 13  3 71 63  7 65 54 72  5 56 34  1 45 50 23 55 26 69 11 37 49 66\n",
            " 67 20 43 59 12 27  2 25 29 14 35 64 39 40  6 30 70 57 58 16 32 33 10 21\n",
            " 61 15 44 22 24 19 47 62 46 52  8 60 48 28 41 53 68 51 31 36 17 18 38 42\n",
            "  0]\n",
            "phone.PhoneService: ['Yes' 'No']\n",
            "phone.MultipleLines: ['No' 'Yes' 'No phone service']\n",
            "internet.InternetService: ['DSL' 'Fiber optic' 'No']\n",
            "internet.OnlineSecurity: ['No' 'Yes' 'No internet service']\n",
            "internet.OnlineBackup: ['Yes' 'No' 'No internet service']\n",
            "internet.DeviceProtection: ['No' 'Yes' 'No internet service']\n",
            "internet.TechSupport: ['Yes' 'No' 'No internet service']\n",
            "internet.StreamingTV: ['Yes' 'No' 'No internet service']\n",
            "internet.StreamingMovies: ['No' 'Yes' 'No internet service']\n",
            "account.Contract: ['One year' 'Month-to-month' 'Two year']\n",
            "account.PaperlessBilling: ['Yes' 'No']\n",
            "account.PaymentMethod: ['Mailed check' 'Electronic check' 'Credit card (automatic)'\n",
            " 'Bank transfer (automatic)']\n",
            "account.Charges.Monthly: [65.6  59.9  73.9  ... 91.75 68.8  67.85]\n",
            "account.Charges.Total: ['593.3' '542.4' '280.85' ... '742.9' '4627.65' '3707.6']\n"
          ]
        }
      ]
    },
    {
      "cell_type": "code",
      "source": [
        "df.head(3)\n"
      ],
      "metadata": {
        "colab": {
          "base_uri": "https://localhost:8080/",
          "height": 245
        },
        "id": "FoIpneSA2_pR",
        "outputId": "28ae2e6d-0650-4849-d6f7-b701573a2dc1"
      },
      "execution_count": null,
      "outputs": [
        {
          "output_type": "execute_result",
          "data": {
            "text/plain": [
              "   customerID Churn customer.gender  customer.SeniorCitizen customer.Partner  \\\n",
              "0  0002-ORFBO    No          Female                       0              Yes   \n",
              "1  0003-MKNFE    No            Male                       0               No   \n",
              "2  0004-TLHLJ   Yes            Male                       0               No   \n",
              "\n",
              "  customer.Dependents  customer.tenure phone.PhoneService phone.MultipleLines  \\\n",
              "0                 Yes                9                Yes                  No   \n",
              "1                  No                9                Yes                 Yes   \n",
              "2                  No                4                Yes                  No   \n",
              "\n",
              "  internet.InternetService  ... internet.OnlineBackup  \\\n",
              "0                      DSL  ...                   Yes   \n",
              "1                      DSL  ...                    No   \n",
              "2              Fiber optic  ...                    No   \n",
              "\n",
              "  internet.DeviceProtection internet.TechSupport internet.StreamingTV  \\\n",
              "0                        No                  Yes                  Yes   \n",
              "1                        No                   No                   No   \n",
              "2                       Yes                   No                   No   \n",
              "\n",
              "  internet.StreamingMovies account.Contract account.PaperlessBilling  \\\n",
              "0                       No         One year                      Yes   \n",
              "1                      Yes   Month-to-month                       No   \n",
              "2                       No   Month-to-month                      Yes   \n",
              "\n",
              "  account.PaymentMethod account.Charges.Monthly  account.Charges.Total  \n",
              "0          Mailed check                    65.6                  593.3  \n",
              "1          Mailed check                    59.9                  542.4  \n",
              "2      Electronic check                    73.9                 280.85  \n",
              "\n",
              "[3 rows x 21 columns]"
            ],
            "text/html": [
              "\n",
              "  <div id=\"df-880102c3-f1e7-4cef-9588-f1f5dd5621a7\" class=\"colab-df-container\">\n",
              "    <div>\n",
              "<style scoped>\n",
              "    .dataframe tbody tr th:only-of-type {\n",
              "        vertical-align: middle;\n",
              "    }\n",
              "\n",
              "    .dataframe tbody tr th {\n",
              "        vertical-align: top;\n",
              "    }\n",
              "\n",
              "    .dataframe thead th {\n",
              "        text-align: right;\n",
              "    }\n",
              "</style>\n",
              "<table border=\"1\" class=\"dataframe\">\n",
              "  <thead>\n",
              "    <tr style=\"text-align: right;\">\n",
              "      <th></th>\n",
              "      <th>customerID</th>\n",
              "      <th>Churn</th>\n",
              "      <th>customer.gender</th>\n",
              "      <th>customer.SeniorCitizen</th>\n",
              "      <th>customer.Partner</th>\n",
              "      <th>customer.Dependents</th>\n",
              "      <th>customer.tenure</th>\n",
              "      <th>phone.PhoneService</th>\n",
              "      <th>phone.MultipleLines</th>\n",
              "      <th>internet.InternetService</th>\n",
              "      <th>...</th>\n",
              "      <th>internet.OnlineBackup</th>\n",
              "      <th>internet.DeviceProtection</th>\n",
              "      <th>internet.TechSupport</th>\n",
              "      <th>internet.StreamingTV</th>\n",
              "      <th>internet.StreamingMovies</th>\n",
              "      <th>account.Contract</th>\n",
              "      <th>account.PaperlessBilling</th>\n",
              "      <th>account.PaymentMethod</th>\n",
              "      <th>account.Charges.Monthly</th>\n",
              "      <th>account.Charges.Total</th>\n",
              "    </tr>\n",
              "  </thead>\n",
              "  <tbody>\n",
              "    <tr>\n",
              "      <th>0</th>\n",
              "      <td>0002-ORFBO</td>\n",
              "      <td>No</td>\n",
              "      <td>Female</td>\n",
              "      <td>0</td>\n",
              "      <td>Yes</td>\n",
              "      <td>Yes</td>\n",
              "      <td>9</td>\n",
              "      <td>Yes</td>\n",
              "      <td>No</td>\n",
              "      <td>DSL</td>\n",
              "      <td>...</td>\n",
              "      <td>Yes</td>\n",
              "      <td>No</td>\n",
              "      <td>Yes</td>\n",
              "      <td>Yes</td>\n",
              "      <td>No</td>\n",
              "      <td>One year</td>\n",
              "      <td>Yes</td>\n",
              "      <td>Mailed check</td>\n",
              "      <td>65.6</td>\n",
              "      <td>593.3</td>\n",
              "    </tr>\n",
              "    <tr>\n",
              "      <th>1</th>\n",
              "      <td>0003-MKNFE</td>\n",
              "      <td>No</td>\n",
              "      <td>Male</td>\n",
              "      <td>0</td>\n",
              "      <td>No</td>\n",
              "      <td>No</td>\n",
              "      <td>9</td>\n",
              "      <td>Yes</td>\n",
              "      <td>Yes</td>\n",
              "      <td>DSL</td>\n",
              "      <td>...</td>\n",
              "      <td>No</td>\n",
              "      <td>No</td>\n",
              "      <td>No</td>\n",
              "      <td>No</td>\n",
              "      <td>Yes</td>\n",
              "      <td>Month-to-month</td>\n",
              "      <td>No</td>\n",
              "      <td>Mailed check</td>\n",
              "      <td>59.9</td>\n",
              "      <td>542.4</td>\n",
              "    </tr>\n",
              "    <tr>\n",
              "      <th>2</th>\n",
              "      <td>0004-TLHLJ</td>\n",
              "      <td>Yes</td>\n",
              "      <td>Male</td>\n",
              "      <td>0</td>\n",
              "      <td>No</td>\n",
              "      <td>No</td>\n",
              "      <td>4</td>\n",
              "      <td>Yes</td>\n",
              "      <td>No</td>\n",
              "      <td>Fiber optic</td>\n",
              "      <td>...</td>\n",
              "      <td>No</td>\n",
              "      <td>Yes</td>\n",
              "      <td>No</td>\n",
              "      <td>No</td>\n",
              "      <td>No</td>\n",
              "      <td>Month-to-month</td>\n",
              "      <td>Yes</td>\n",
              "      <td>Electronic check</td>\n",
              "      <td>73.9</td>\n",
              "      <td>280.85</td>\n",
              "    </tr>\n",
              "  </tbody>\n",
              "</table>\n",
              "<p>3 rows × 21 columns</p>\n",
              "</div>\n",
              "    <div class=\"colab-df-buttons\">\n",
              "\n",
              "  <div class=\"colab-df-container\">\n",
              "    <button class=\"colab-df-convert\" onclick=\"convertToInteractive('df-880102c3-f1e7-4cef-9588-f1f5dd5621a7')\"\n",
              "            title=\"Convert this dataframe to an interactive table.\"\n",
              "            style=\"display:none;\">\n",
              "\n",
              "  <svg xmlns=\"http://www.w3.org/2000/svg\" height=\"24px\" viewBox=\"0 -960 960 960\">\n",
              "    <path d=\"M120-120v-720h720v720H120Zm60-500h600v-160H180v160Zm220 220h160v-160H400v160Zm0 220h160v-160H400v160ZM180-400h160v-160H180v160Zm440 0h160v-160H620v160ZM180-180h160v-160H180v160Zm440 0h160v-160H620v160Z\"/>\n",
              "  </svg>\n",
              "    </button>\n",
              "\n",
              "  <style>\n",
              "    .colab-df-container {\n",
              "      display:flex;\n",
              "      gap: 12px;\n",
              "    }\n",
              "\n",
              "    .colab-df-convert {\n",
              "      background-color: #E8F0FE;\n",
              "      border: none;\n",
              "      border-radius: 50%;\n",
              "      cursor: pointer;\n",
              "      display: none;\n",
              "      fill: #1967D2;\n",
              "      height: 32px;\n",
              "      padding: 0 0 0 0;\n",
              "      width: 32px;\n",
              "    }\n",
              "\n",
              "    .colab-df-convert:hover {\n",
              "      background-color: #E2EBFA;\n",
              "      box-shadow: 0px 1px 2px rgba(60, 64, 67, 0.3), 0px 1px 3px 1px rgba(60, 64, 67, 0.15);\n",
              "      fill: #174EA6;\n",
              "    }\n",
              "\n",
              "    .colab-df-buttons div {\n",
              "      margin-bottom: 4px;\n",
              "    }\n",
              "\n",
              "    [theme=dark] .colab-df-convert {\n",
              "      background-color: #3B4455;\n",
              "      fill: #D2E3FC;\n",
              "    }\n",
              "\n",
              "    [theme=dark] .colab-df-convert:hover {\n",
              "      background-color: #434B5C;\n",
              "      box-shadow: 0px 1px 3px 1px rgba(0, 0, 0, 0.15);\n",
              "      filter: drop-shadow(0px 1px 2px rgba(0, 0, 0, 0.3));\n",
              "      fill: #FFFFFF;\n",
              "    }\n",
              "  </style>\n",
              "\n",
              "    <script>\n",
              "      const buttonEl =\n",
              "        document.querySelector('#df-880102c3-f1e7-4cef-9588-f1f5dd5621a7 button.colab-df-convert');\n",
              "      buttonEl.style.display =\n",
              "        google.colab.kernel.accessAllowed ? 'block' : 'none';\n",
              "\n",
              "      async function convertToInteractive(key) {\n",
              "        const element = document.querySelector('#df-880102c3-f1e7-4cef-9588-f1f5dd5621a7');\n",
              "        const dataTable =\n",
              "          await google.colab.kernel.invokeFunction('convertToInteractive',\n",
              "                                                    [key], {});\n",
              "        if (!dataTable) return;\n",
              "\n",
              "        const docLinkHtml = 'Like what you see? Visit the ' +\n",
              "          '<a target=\"_blank\" href=https://colab.research.google.com/notebooks/data_table.ipynb>data table notebook</a>'\n",
              "          + ' to learn more about interactive tables.';\n",
              "        element.innerHTML = '';\n",
              "        dataTable['output_type'] = 'display_data';\n",
              "        await google.colab.output.renderOutput(dataTable, element);\n",
              "        const docLink = document.createElement('div');\n",
              "        docLink.innerHTML = docLinkHtml;\n",
              "        element.appendChild(docLink);\n",
              "      }\n",
              "    </script>\n",
              "  </div>\n",
              "\n",
              "\n",
              "    <div id=\"df-d4f54220-922f-44d6-8949-f11f5fcb6037\">\n",
              "      <button class=\"colab-df-quickchart\" onclick=\"quickchart('df-d4f54220-922f-44d6-8949-f11f5fcb6037')\"\n",
              "                title=\"Suggest charts\"\n",
              "                style=\"display:none;\">\n",
              "\n",
              "<svg xmlns=\"http://www.w3.org/2000/svg\" height=\"24px\"viewBox=\"0 0 24 24\"\n",
              "     width=\"24px\">\n",
              "    <g>\n",
              "        <path d=\"M19 3H5c-1.1 0-2 .9-2 2v14c0 1.1.9 2 2 2h14c1.1 0 2-.9 2-2V5c0-1.1-.9-2-2-2zM9 17H7v-7h2v7zm4 0h-2V7h2v10zm4 0h-2v-4h2v4z\"/>\n",
              "    </g>\n",
              "</svg>\n",
              "      </button>\n",
              "\n",
              "<style>\n",
              "  .colab-df-quickchart {\n",
              "      --bg-color: #E8F0FE;\n",
              "      --fill-color: #1967D2;\n",
              "      --hover-bg-color: #E2EBFA;\n",
              "      --hover-fill-color: #174EA6;\n",
              "      --disabled-fill-color: #AAA;\n",
              "      --disabled-bg-color: #DDD;\n",
              "  }\n",
              "\n",
              "  [theme=dark] .colab-df-quickchart {\n",
              "      --bg-color: #3B4455;\n",
              "      --fill-color: #D2E3FC;\n",
              "      --hover-bg-color: #434B5C;\n",
              "      --hover-fill-color: #FFFFFF;\n",
              "      --disabled-bg-color: #3B4455;\n",
              "      --disabled-fill-color: #666;\n",
              "  }\n",
              "\n",
              "  .colab-df-quickchart {\n",
              "    background-color: var(--bg-color);\n",
              "    border: none;\n",
              "    border-radius: 50%;\n",
              "    cursor: pointer;\n",
              "    display: none;\n",
              "    fill: var(--fill-color);\n",
              "    height: 32px;\n",
              "    padding: 0;\n",
              "    width: 32px;\n",
              "  }\n",
              "\n",
              "  .colab-df-quickchart:hover {\n",
              "    background-color: var(--hover-bg-color);\n",
              "    box-shadow: 0 1px 2px rgba(60, 64, 67, 0.3), 0 1px 3px 1px rgba(60, 64, 67, 0.15);\n",
              "    fill: var(--button-hover-fill-color);\n",
              "  }\n",
              "\n",
              "  .colab-df-quickchart-complete:disabled,\n",
              "  .colab-df-quickchart-complete:disabled:hover {\n",
              "    background-color: var(--disabled-bg-color);\n",
              "    fill: var(--disabled-fill-color);\n",
              "    box-shadow: none;\n",
              "  }\n",
              "\n",
              "  .colab-df-spinner {\n",
              "    border: 2px solid var(--fill-color);\n",
              "    border-color: transparent;\n",
              "    border-bottom-color: var(--fill-color);\n",
              "    animation:\n",
              "      spin 1s steps(1) infinite;\n",
              "  }\n",
              "\n",
              "  @keyframes spin {\n",
              "    0% {\n",
              "      border-color: transparent;\n",
              "      border-bottom-color: var(--fill-color);\n",
              "      border-left-color: var(--fill-color);\n",
              "    }\n",
              "    20% {\n",
              "      border-color: transparent;\n",
              "      border-left-color: var(--fill-color);\n",
              "      border-top-color: var(--fill-color);\n",
              "    }\n",
              "    30% {\n",
              "      border-color: transparent;\n",
              "      border-left-color: var(--fill-color);\n",
              "      border-top-color: var(--fill-color);\n",
              "      border-right-color: var(--fill-color);\n",
              "    }\n",
              "    40% {\n",
              "      border-color: transparent;\n",
              "      border-right-color: var(--fill-color);\n",
              "      border-top-color: var(--fill-color);\n",
              "    }\n",
              "    60% {\n",
              "      border-color: transparent;\n",
              "      border-right-color: var(--fill-color);\n",
              "    }\n",
              "    80% {\n",
              "      border-color: transparent;\n",
              "      border-right-color: var(--fill-color);\n",
              "      border-bottom-color: var(--fill-color);\n",
              "    }\n",
              "    90% {\n",
              "      border-color: transparent;\n",
              "      border-bottom-color: var(--fill-color);\n",
              "    }\n",
              "  }\n",
              "</style>\n",
              "\n",
              "      <script>\n",
              "        async function quickchart(key) {\n",
              "          const quickchartButtonEl =\n",
              "            document.querySelector('#' + key + ' button');\n",
              "          quickchartButtonEl.disabled = true;  // To prevent multiple clicks.\n",
              "          quickchartButtonEl.classList.add('colab-df-spinner');\n",
              "          try {\n",
              "            const charts = await google.colab.kernel.invokeFunction(\n",
              "                'suggestCharts', [key], {});\n",
              "          } catch (error) {\n",
              "            console.error('Error during call to suggestCharts:', error);\n",
              "          }\n",
              "          quickchartButtonEl.classList.remove('colab-df-spinner');\n",
              "          quickchartButtonEl.classList.add('colab-df-quickchart-complete');\n",
              "        }\n",
              "        (() => {\n",
              "          let quickchartButtonEl =\n",
              "            document.querySelector('#df-d4f54220-922f-44d6-8949-f11f5fcb6037 button');\n",
              "          quickchartButtonEl.style.display =\n",
              "            google.colab.kernel.accessAllowed ? 'block' : 'none';\n",
              "        })();\n",
              "      </script>\n",
              "    </div>\n",
              "\n",
              "    </div>\n",
              "  </div>\n"
            ],
            "application/vnd.google.colaboratory.intrinsic+json": {
              "type": "dataframe",
              "variable_name": "df"
            }
          },
          "metadata": {},
          "execution_count": 11
        }
      ]
    },
    {
      "cell_type": "code",
      "source": [
        "df[\"Churn\"] = df[\"Churn\"].str.strip().str.title()\n"
      ],
      "metadata": {
        "id": "pHdaj_DF3lSJ"
      },
      "execution_count": null,
      "outputs": []
    },
    {
      "cell_type": "code",
      "source": [
        "df[\"account.PaperlessBilling\"] = df[\"account.PaperlessBilling\"].str.strip().str.title()\n",
        "df[\"account.Contract\"] = df[\"account.Contract\"].str.strip().str.title()\n",
        "df[\"account.PaymentMethod\"] = df[\"account.PaymentMethod\"].str.strip().str.title()\n"
      ],
      "metadata": {
        "id": "GD7G1U3j4_yJ"
      },
      "execution_count": null,
      "outputs": []
    },
    {
      "cell_type": "code",
      "source": [
        "df[\"Churn\"].unique()\n",
        "df[\"account.PaperlessBilling\"].unique()\n",
        "df[\"account.Contract\"].unique()\n",
        "df[\"account.PaymentMethod\"].unique()\n"
      ],
      "metadata": {
        "colab": {
          "base_uri": "https://localhost:8080/"
        },
        "id": "OXjnR0645C6Z",
        "outputId": "9452c1b2-9670-4766-9366-0fdc10b551b4"
      },
      "execution_count": null,
      "outputs": [
        {
          "output_type": "execute_result",
          "data": {
            "text/plain": [
              "array(['Mailed Check', 'Electronic Check', 'Credit Card (Automatic)',\n",
              "       'Bank Transfer (Automatic)'], dtype=object)"
            ]
          },
          "metadata": {},
          "execution_count": 14
        }
      ]
    },
    {
      "cell_type": "code",
      "source": [
        "print(\"Churn:\", df[\"Churn\"].unique())\n",
        "print(\"PaperlessBilling:\", df[\"account.PaperlessBilling\"].unique())\n",
        "print(\"Contract:\", df[\"account.Contract\"].unique())\n",
        "print(\"PaymentMethod:\", df[\"account.PaymentMethod\"].unique())\n"
      ],
      "metadata": {
        "colab": {
          "base_uri": "https://localhost:8080/"
        },
        "id": "-ccOz5bf5GmM",
        "outputId": "b8a9aadb-24e8-4832-8330-ca3b8e9a6c6c"
      },
      "execution_count": null,
      "outputs": [
        {
          "output_type": "stream",
          "name": "stdout",
          "text": [
            "Churn: ['No' 'Yes' '']\n",
            "PaperlessBilling: ['Yes' 'No']\n",
            "Contract: ['One Year' 'Month-To-Month' 'Two Year']\n",
            "PaymentMethod: ['Mailed Check' 'Electronic Check' 'Credit Card (Automatic)'\n",
            " 'Bank Transfer (Automatic)']\n"
          ]
        }
      ]
    },
    {
      "cell_type": "code",
      "source": [
        "#Limpiar Vacios\n",
        "df[\"Churn\"] = df[\"Churn\"].replace({\"\": \"No\"})\n"
      ],
      "metadata": {
        "id": "rdXz8suV5WT_"
      },
      "execution_count": null,
      "outputs": []
    },
    {
      "cell_type": "code",
      "source": [
        "#Unificar\n",
        "df[\"account.Contract\"] = df[\"account.Contract\"].replace({\n",
        "    \"Month-To-Month\": \"Month-to-month\",\n",
        "    \"One Year\": \"One year\",\n",
        "    \"Two Year\": \"Two year\"\n",
        "})\n"
      ],
      "metadata": {
        "id": "uoV8-UlN536S"
      },
      "execution_count": null,
      "outputs": []
    },
    {
      "cell_type": "code",
      "source": [
        "#Unificar mayusculas con metodo de pago\n",
        "df[\"account.PaymentMethod\"] = df[\"account.PaymentMethod\"].replace({\n",
        "    \"Electronic Check\": \"Electronic check\",\n",
        "    \"Mailed Check\": \"Mailed check\",\n",
        "    \"Credit Card (Automatic)\": \"Credit card (automatic)\",\n",
        "    \"Bank Transfer (Automatic)\": \"Bank transfer (automatic)\"\n",
        "})\n"
      ],
      "metadata": {
        "id": "b8-Naj1156p_"
      },
      "execution_count": null,
      "outputs": []
    },
    {
      "cell_type": "code",
      "source": [
        "#Verificacion de los cambios\n",
        "print(\"Churn:\", df[\"Churn\"].unique())\n",
        "print(\"PaperlessBilling:\", df[\"account.PaperlessBilling\"].unique())\n",
        "print(\"Contract:\", df[\"account.Contract\"].unique())\n",
        "print(\"PaymentMethod:\", df[\"account.PaymentMethod\"].unique())\n"
      ],
      "metadata": {
        "colab": {
          "base_uri": "https://localhost:8080/"
        },
        "id": "S9U2NeiT5_Az",
        "outputId": "0529864c-4dd8-4561-a228-a0ef15305699"
      },
      "execution_count": null,
      "outputs": [
        {
          "output_type": "stream",
          "name": "stdout",
          "text": [
            "Churn: ['No' 'Yes']\n",
            "PaperlessBilling: ['Yes' 'No']\n",
            "Contract: ['One year' 'Month-to-month' 'Two year']\n",
            "PaymentMethod: ['Mailed check' 'Electronic check' 'Credit card (automatic)'\n",
            " 'Bank transfer (automatic)']\n"
          ]
        }
      ]
    },
    {
      "cell_type": "code",
      "source": [
        "df[\"Cuentas_Diarias\"] = df[\"account.Charges.Monthly\"] / 30\n"
      ],
      "metadata": {
        "id": "P_fbGM556CiJ"
      },
      "execution_count": null,
      "outputs": []
    },
    {
      "cell_type": "code",
      "source": [
        "df[[\"account.Charges.Monthly\", \"Cuentas_Diarias\"]].head()\n"
      ],
      "metadata": {
        "colab": {
          "base_uri": "https://localhost:8080/",
          "height": 206
        },
        "id": "1eg81iDE66Eg",
        "outputId": "96e7519f-da1d-48e9-f138-3b9a949ce037"
      },
      "execution_count": null,
      "outputs": [
        {
          "output_type": "execute_result",
          "data": {
            "text/plain": [
              "   account.Charges.Monthly  Cuentas_Diarias\n",
              "0                     65.6         2.186667\n",
              "1                     59.9         1.996667\n",
              "2                     73.9         2.463333\n",
              "3                     98.0         3.266667\n",
              "4                     83.9         2.796667"
            ],
            "text/html": [
              "\n",
              "  <div id=\"df-ecb297bd-c375-4ec2-baec-ed73982403a0\" class=\"colab-df-container\">\n",
              "    <div>\n",
              "<style scoped>\n",
              "    .dataframe tbody tr th:only-of-type {\n",
              "        vertical-align: middle;\n",
              "    }\n",
              "\n",
              "    .dataframe tbody tr th {\n",
              "        vertical-align: top;\n",
              "    }\n",
              "\n",
              "    .dataframe thead th {\n",
              "        text-align: right;\n",
              "    }\n",
              "</style>\n",
              "<table border=\"1\" class=\"dataframe\">\n",
              "  <thead>\n",
              "    <tr style=\"text-align: right;\">\n",
              "      <th></th>\n",
              "      <th>account.Charges.Monthly</th>\n",
              "      <th>Cuentas_Diarias</th>\n",
              "    </tr>\n",
              "  </thead>\n",
              "  <tbody>\n",
              "    <tr>\n",
              "      <th>0</th>\n",
              "      <td>65.6</td>\n",
              "      <td>2.186667</td>\n",
              "    </tr>\n",
              "    <tr>\n",
              "      <th>1</th>\n",
              "      <td>59.9</td>\n",
              "      <td>1.996667</td>\n",
              "    </tr>\n",
              "    <tr>\n",
              "      <th>2</th>\n",
              "      <td>73.9</td>\n",
              "      <td>2.463333</td>\n",
              "    </tr>\n",
              "    <tr>\n",
              "      <th>3</th>\n",
              "      <td>98.0</td>\n",
              "      <td>3.266667</td>\n",
              "    </tr>\n",
              "    <tr>\n",
              "      <th>4</th>\n",
              "      <td>83.9</td>\n",
              "      <td>2.796667</td>\n",
              "    </tr>\n",
              "  </tbody>\n",
              "</table>\n",
              "</div>\n",
              "    <div class=\"colab-df-buttons\">\n",
              "\n",
              "  <div class=\"colab-df-container\">\n",
              "    <button class=\"colab-df-convert\" onclick=\"convertToInteractive('df-ecb297bd-c375-4ec2-baec-ed73982403a0')\"\n",
              "            title=\"Convert this dataframe to an interactive table.\"\n",
              "            style=\"display:none;\">\n",
              "\n",
              "  <svg xmlns=\"http://www.w3.org/2000/svg\" height=\"24px\" viewBox=\"0 -960 960 960\">\n",
              "    <path d=\"M120-120v-720h720v720H120Zm60-500h600v-160H180v160Zm220 220h160v-160H400v160Zm0 220h160v-160H400v160ZM180-400h160v-160H180v160Zm440 0h160v-160H620v160ZM180-180h160v-160H180v160Zm440 0h160v-160H620v160Z\"/>\n",
              "  </svg>\n",
              "    </button>\n",
              "\n",
              "  <style>\n",
              "    .colab-df-container {\n",
              "      display:flex;\n",
              "      gap: 12px;\n",
              "    }\n",
              "\n",
              "    .colab-df-convert {\n",
              "      background-color: #E8F0FE;\n",
              "      border: none;\n",
              "      border-radius: 50%;\n",
              "      cursor: pointer;\n",
              "      display: none;\n",
              "      fill: #1967D2;\n",
              "      height: 32px;\n",
              "      padding: 0 0 0 0;\n",
              "      width: 32px;\n",
              "    }\n",
              "\n",
              "    .colab-df-convert:hover {\n",
              "      background-color: #E2EBFA;\n",
              "      box-shadow: 0px 1px 2px rgba(60, 64, 67, 0.3), 0px 1px 3px 1px rgba(60, 64, 67, 0.15);\n",
              "      fill: #174EA6;\n",
              "    }\n",
              "\n",
              "    .colab-df-buttons div {\n",
              "      margin-bottom: 4px;\n",
              "    }\n",
              "\n",
              "    [theme=dark] .colab-df-convert {\n",
              "      background-color: #3B4455;\n",
              "      fill: #D2E3FC;\n",
              "    }\n",
              "\n",
              "    [theme=dark] .colab-df-convert:hover {\n",
              "      background-color: #434B5C;\n",
              "      box-shadow: 0px 1px 3px 1px rgba(0, 0, 0, 0.15);\n",
              "      filter: drop-shadow(0px 1px 2px rgba(0, 0, 0, 0.3));\n",
              "      fill: #FFFFFF;\n",
              "    }\n",
              "  </style>\n",
              "\n",
              "    <script>\n",
              "      const buttonEl =\n",
              "        document.querySelector('#df-ecb297bd-c375-4ec2-baec-ed73982403a0 button.colab-df-convert');\n",
              "      buttonEl.style.display =\n",
              "        google.colab.kernel.accessAllowed ? 'block' : 'none';\n",
              "\n",
              "      async function convertToInteractive(key) {\n",
              "        const element = document.querySelector('#df-ecb297bd-c375-4ec2-baec-ed73982403a0');\n",
              "        const dataTable =\n",
              "          await google.colab.kernel.invokeFunction('convertToInteractive',\n",
              "                                                    [key], {});\n",
              "        if (!dataTable) return;\n",
              "\n",
              "        const docLinkHtml = 'Like what you see? Visit the ' +\n",
              "          '<a target=\"_blank\" href=https://colab.research.google.com/notebooks/data_table.ipynb>data table notebook</a>'\n",
              "          + ' to learn more about interactive tables.';\n",
              "        element.innerHTML = '';\n",
              "        dataTable['output_type'] = 'display_data';\n",
              "        await google.colab.output.renderOutput(dataTable, element);\n",
              "        const docLink = document.createElement('div');\n",
              "        docLink.innerHTML = docLinkHtml;\n",
              "        element.appendChild(docLink);\n",
              "      }\n",
              "    </script>\n",
              "  </div>\n",
              "\n",
              "\n",
              "    <div id=\"df-6623ebdb-100c-46ed-bbc2-b531ce0ba71e\">\n",
              "      <button class=\"colab-df-quickchart\" onclick=\"quickchart('df-6623ebdb-100c-46ed-bbc2-b531ce0ba71e')\"\n",
              "                title=\"Suggest charts\"\n",
              "                style=\"display:none;\">\n",
              "\n",
              "<svg xmlns=\"http://www.w3.org/2000/svg\" height=\"24px\"viewBox=\"0 0 24 24\"\n",
              "     width=\"24px\">\n",
              "    <g>\n",
              "        <path d=\"M19 3H5c-1.1 0-2 .9-2 2v14c0 1.1.9 2 2 2h14c1.1 0 2-.9 2-2V5c0-1.1-.9-2-2-2zM9 17H7v-7h2v7zm4 0h-2V7h2v10zm4 0h-2v-4h2v4z\"/>\n",
              "    </g>\n",
              "</svg>\n",
              "      </button>\n",
              "\n",
              "<style>\n",
              "  .colab-df-quickchart {\n",
              "      --bg-color: #E8F0FE;\n",
              "      --fill-color: #1967D2;\n",
              "      --hover-bg-color: #E2EBFA;\n",
              "      --hover-fill-color: #174EA6;\n",
              "      --disabled-fill-color: #AAA;\n",
              "      --disabled-bg-color: #DDD;\n",
              "  }\n",
              "\n",
              "  [theme=dark] .colab-df-quickchart {\n",
              "      --bg-color: #3B4455;\n",
              "      --fill-color: #D2E3FC;\n",
              "      --hover-bg-color: #434B5C;\n",
              "      --hover-fill-color: #FFFFFF;\n",
              "      --disabled-bg-color: #3B4455;\n",
              "      --disabled-fill-color: #666;\n",
              "  }\n",
              "\n",
              "  .colab-df-quickchart {\n",
              "    background-color: var(--bg-color);\n",
              "    border: none;\n",
              "    border-radius: 50%;\n",
              "    cursor: pointer;\n",
              "    display: none;\n",
              "    fill: var(--fill-color);\n",
              "    height: 32px;\n",
              "    padding: 0;\n",
              "    width: 32px;\n",
              "  }\n",
              "\n",
              "  .colab-df-quickchart:hover {\n",
              "    background-color: var(--hover-bg-color);\n",
              "    box-shadow: 0 1px 2px rgba(60, 64, 67, 0.3), 0 1px 3px 1px rgba(60, 64, 67, 0.15);\n",
              "    fill: var(--button-hover-fill-color);\n",
              "  }\n",
              "\n",
              "  .colab-df-quickchart-complete:disabled,\n",
              "  .colab-df-quickchart-complete:disabled:hover {\n",
              "    background-color: var(--disabled-bg-color);\n",
              "    fill: var(--disabled-fill-color);\n",
              "    box-shadow: none;\n",
              "  }\n",
              "\n",
              "  .colab-df-spinner {\n",
              "    border: 2px solid var(--fill-color);\n",
              "    border-color: transparent;\n",
              "    border-bottom-color: var(--fill-color);\n",
              "    animation:\n",
              "      spin 1s steps(1) infinite;\n",
              "  }\n",
              "\n",
              "  @keyframes spin {\n",
              "    0% {\n",
              "      border-color: transparent;\n",
              "      border-bottom-color: var(--fill-color);\n",
              "      border-left-color: var(--fill-color);\n",
              "    }\n",
              "    20% {\n",
              "      border-color: transparent;\n",
              "      border-left-color: var(--fill-color);\n",
              "      border-top-color: var(--fill-color);\n",
              "    }\n",
              "    30% {\n",
              "      border-color: transparent;\n",
              "      border-left-color: var(--fill-color);\n",
              "      border-top-color: var(--fill-color);\n",
              "      border-right-color: var(--fill-color);\n",
              "    }\n",
              "    40% {\n",
              "      border-color: transparent;\n",
              "      border-right-color: var(--fill-color);\n",
              "      border-top-color: var(--fill-color);\n",
              "    }\n",
              "    60% {\n",
              "      border-color: transparent;\n",
              "      border-right-color: var(--fill-color);\n",
              "    }\n",
              "    80% {\n",
              "      border-color: transparent;\n",
              "      border-right-color: var(--fill-color);\n",
              "      border-bottom-color: var(--fill-color);\n",
              "    }\n",
              "    90% {\n",
              "      border-color: transparent;\n",
              "      border-bottom-color: var(--fill-color);\n",
              "    }\n",
              "  }\n",
              "</style>\n",
              "\n",
              "      <script>\n",
              "        async function quickchart(key) {\n",
              "          const quickchartButtonEl =\n",
              "            document.querySelector('#' + key + ' button');\n",
              "          quickchartButtonEl.disabled = true;  // To prevent multiple clicks.\n",
              "          quickchartButtonEl.classList.add('colab-df-spinner');\n",
              "          try {\n",
              "            const charts = await google.colab.kernel.invokeFunction(\n",
              "                'suggestCharts', [key], {});\n",
              "          } catch (error) {\n",
              "            console.error('Error during call to suggestCharts:', error);\n",
              "          }\n",
              "          quickchartButtonEl.classList.remove('colab-df-spinner');\n",
              "          quickchartButtonEl.classList.add('colab-df-quickchart-complete');\n",
              "        }\n",
              "        (() => {\n",
              "          let quickchartButtonEl =\n",
              "            document.querySelector('#df-6623ebdb-100c-46ed-bbc2-b531ce0ba71e button');\n",
              "          quickchartButtonEl.style.display =\n",
              "            google.colab.kernel.accessAllowed ? 'block' : 'none';\n",
              "        })();\n",
              "      </script>\n",
              "    </div>\n",
              "\n",
              "    </div>\n",
              "  </div>\n"
            ],
            "application/vnd.google.colaboratory.intrinsic+json": {
              "type": "dataframe",
              "summary": "{\n  \"name\": \"df[[\\\"account\",\n  \"rows\": 5,\n  \"fields\": [\n    {\n      \"column\": \"account.Charges.Monthly\",\n      \"properties\": {\n        \"dtype\": \"number\",\n        \"std\": 15.148036176349727,\n        \"min\": 59.9,\n        \"max\": 98.0,\n        \"num_unique_values\": 5,\n        \"samples\": [\n          59.9,\n          83.9,\n          73.9\n        ],\n        \"semantic_type\": \"\",\n        \"description\": \"\"\n      }\n    },\n    {\n      \"column\": \"Cuentas_Diarias\",\n      \"properties\": {\n        \"dtype\": \"number\",\n        \"std\": 0.5049345392116575,\n        \"min\": 1.9966666666666666,\n        \"max\": 3.2666666666666666,\n        \"num_unique_values\": 5,\n        \"samples\": [\n          1.9966666666666666,\n          2.796666666666667,\n          2.4633333333333334\n        ],\n        \"semantic_type\": \"\",\n        \"description\": \"\"\n      }\n    }\n  ]\n}"
            }
          },
          "metadata": {},
          "execution_count": 21
        }
      ]
    },
    {
      "cell_type": "markdown",
      "source": [
        "#Estandarización y transformación de datos (opcional)\n"
      ],
      "metadata": {
        "id": "kEZ4gk-b7Im6"
      }
    },
    {
      "cell_type": "code",
      "source": [
        "df[\"Churn\"] = df[\"Churn\"].map({\"Yes\": 1, \"No\": 0})\n",
        "df[\"account.PaperlessBilling\"] = df[\"account.PaperlessBilling\"].map({\"Yes\": 1, \"No\": 0})\n"
      ],
      "metadata": {
        "id": "GaW7rFES7FV1"
      },
      "execution_count": null,
      "outputs": []
    },
    {
      "cell_type": "code",
      "source": [
        "df = df.rename(columns={\n",
        "    \"account.Charges.Monthly\": \"Cargo_Mensual\",\n",
        "    \"account.Charges.Total\": \"Cargo_Total\",\n",
        "    \"account.Contract\": \"Tipo_Contrato\",\n",
        "    \"account.PaperlessBilling\": \"Factura_Electronica\",\n",
        "    \"account.PaymentMethod\": \"Metodo_Pago\",\n",
        "    \"Cuentas_Diarias\": \"Cargo_Diario\"\n",
        "})\n"
      ],
      "metadata": {
        "id": "U4t8MR7D9GoM"
      },
      "execution_count": null,
      "outputs": []
    },
    {
      "cell_type": "code",
      "source": [
        "# Análisis descriptivo básico\n",
        "print(\"Resumen con describe():\")\n",
        "print(df.describe())\n",
        "\n",
        "# Media de cada columna numérica\n",
        "print(\"\\nMedia:\")\n",
        "print(df.mean(numeric_only=True))\n",
        "\n",
        "# Mediana de cada columna numérica\n",
        "print(\"\\nMediana:\")\n",
        "print(df.median(numeric_only=True))\n",
        "\n",
        "# Desviación estándar de cada columna numérica\n",
        "print(\"\\nDesviación estándar:\")\n",
        "print(df.std(numeric_only=True))\n"
      ],
      "metadata": {
        "id": "xF1x2mkX9JSo",
        "outputId": "ff0fb058-631e-4812-a478-adf6b545d4a3",
        "colab": {
          "base_uri": "https://localhost:8080/"
        }
      },
      "execution_count": null,
      "outputs": [
        {
          "output_type": "stream",
          "name": "stdout",
          "text": [
            "Resumen con describe():\n",
            "             Churn  customer.SeniorCitizen  customer.tenure  \\\n",
            "count  7267.000000             7267.000000      7267.000000   \n",
            "mean      0.257190                0.162653        32.346498   \n",
            "std       0.437115                0.369074        24.571773   \n",
            "min       0.000000                0.000000         0.000000   \n",
            "25%       0.000000                0.000000         9.000000   \n",
            "50%       0.000000                0.000000        29.000000   \n",
            "75%       1.000000                0.000000        55.000000   \n",
            "max       1.000000                1.000000        72.000000   \n",
            "\n",
            "       Factura_Electronica  Cargo_Mensual  Cargo_Diario  \n",
            "count          7267.000000    7267.000000   7267.000000  \n",
            "mean              0.593230      64.720098      2.157337  \n",
            "std               0.491265      30.129572      1.004319  \n",
            "min               0.000000      18.250000      0.608333  \n",
            "25%               0.000000      35.425000      1.180833  \n",
            "50%               1.000000      70.300000      2.343333  \n",
            "75%               1.000000      89.875000      2.995833  \n",
            "max               1.000000     118.750000      3.958333  \n",
            "\n",
            "Media:\n",
            "Churn                      0.257190\n",
            "customer.SeniorCitizen     0.162653\n",
            "customer.tenure           32.346498\n",
            "Factura_Electronica        0.593230\n",
            "Cargo_Mensual             64.720098\n",
            "Cargo_Diario               2.157337\n",
            "dtype: float64\n",
            "\n",
            "Mediana:\n",
            "Churn                      0.000000\n",
            "customer.SeniorCitizen     0.000000\n",
            "customer.tenure           29.000000\n",
            "Factura_Electronica        1.000000\n",
            "Cargo_Mensual             70.300000\n",
            "Cargo_Diario               2.343333\n",
            "dtype: float64\n",
            "\n",
            "Desviación estándar:\n",
            "Churn                      0.437115\n",
            "customer.SeniorCitizen     0.369074\n",
            "customer.tenure           24.571773\n",
            "Factura_Electronica        0.491265\n",
            "Cargo_Mensual             30.129572\n",
            "Cargo_Diario               1.004319\n",
            "dtype: float64\n"
          ]
        }
      ]
    },
    {
      "cell_type": "markdown",
      "source": [
        "#Distribucion de Churn"
      ],
      "metadata": {
        "id": "_DACFZj85oK2"
      }
    },
    {
      "cell_type": "code",
      "source": [
        "import matplotlib.pyplot as plt\n",
        "import seaborn as sns"
      ],
      "metadata": {
        "id": "PBAuvH3X5qvh"
      },
      "execution_count": null,
      "outputs": []
    },
    {
      "cell_type": "code",
      "source": [
        "# Conteo de valores en la columna churn\n",
        "conteo_churn = df['churn'].value_counts()"
      ],
      "metadata": {
        "id": "iw6FiT1b6coa",
        "outputId": "4cc62e98-26b0-4712-994c-5d665912cd14",
        "colab": {
          "base_uri": "https://localhost:8080/",
          "height": 547
        }
      },
      "execution_count": null,
      "outputs": [
        {
          "output_type": "error",
          "ename": "KeyError",
          "evalue": "'churn'",
          "traceback": [
            "\u001b[0;31m---------------------------------------------------------------------------\u001b[0m",
            "\u001b[0;31mKeyError\u001b[0m                                  Traceback (most recent call last)",
            "\u001b[0;32m/usr/local/lib/python3.11/dist-packages/pandas/core/indexes/base.py\u001b[0m in \u001b[0;36mget_loc\u001b[0;34m(self, key)\u001b[0m\n\u001b[1;32m   3804\u001b[0m         \u001b[0;32mtry\u001b[0m\u001b[0;34m:\u001b[0m\u001b[0;34m\u001b[0m\u001b[0;34m\u001b[0m\u001b[0m\n\u001b[0;32m-> 3805\u001b[0;31m             \u001b[0;32mreturn\u001b[0m \u001b[0mself\u001b[0m\u001b[0;34m.\u001b[0m\u001b[0m_engine\u001b[0m\u001b[0;34m.\u001b[0m\u001b[0mget_loc\u001b[0m\u001b[0;34m(\u001b[0m\u001b[0mcasted_key\u001b[0m\u001b[0;34m)\u001b[0m\u001b[0;34m\u001b[0m\u001b[0;34m\u001b[0m\u001b[0m\n\u001b[0m\u001b[1;32m   3806\u001b[0m         \u001b[0;32mexcept\u001b[0m \u001b[0mKeyError\u001b[0m \u001b[0;32mas\u001b[0m \u001b[0merr\u001b[0m\u001b[0;34m:\u001b[0m\u001b[0;34m\u001b[0m\u001b[0;34m\u001b[0m\u001b[0m\n",
            "\u001b[0;32mindex.pyx\u001b[0m in \u001b[0;36mpandas._libs.index.IndexEngine.get_loc\u001b[0;34m()\u001b[0m\n",
            "\u001b[0;32mindex.pyx\u001b[0m in \u001b[0;36mpandas._libs.index.IndexEngine.get_loc\u001b[0;34m()\u001b[0m\n",
            "\u001b[0;32mpandas/_libs/hashtable_class_helper.pxi\u001b[0m in \u001b[0;36mpandas._libs.hashtable.PyObjectHashTable.get_item\u001b[0;34m()\u001b[0m\n",
            "\u001b[0;32mpandas/_libs/hashtable_class_helper.pxi\u001b[0m in \u001b[0;36mpandas._libs.hashtable.PyObjectHashTable.get_item\u001b[0;34m()\u001b[0m\n",
            "\u001b[0;31mKeyError\u001b[0m: 'churn'",
            "\nThe above exception was the direct cause of the following exception:\n",
            "\u001b[0;31mKeyError\u001b[0m                                  Traceback (most recent call last)",
            "\u001b[0;32m/tmp/ipython-input-3440514797.py\u001b[0m in \u001b[0;36m<cell line: 0>\u001b[0;34m()\u001b[0m\n\u001b[1;32m      1\u001b[0m \u001b[0;31m# Conteo de valores en la columna churn\u001b[0m\u001b[0;34m\u001b[0m\u001b[0;34m\u001b[0m\u001b[0m\n\u001b[0;32m----> 2\u001b[0;31m \u001b[0mconteo_churn\u001b[0m \u001b[0;34m=\u001b[0m \u001b[0mdf\u001b[0m\u001b[0;34m[\u001b[0m\u001b[0;34m'churn'\u001b[0m\u001b[0;34m]\u001b[0m\u001b[0;34m.\u001b[0m\u001b[0mvalue_counts\u001b[0m\u001b[0;34m(\u001b[0m\u001b[0;34m)\u001b[0m\u001b[0;34m\u001b[0m\u001b[0;34m\u001b[0m\u001b[0m\n\u001b[0m",
            "\u001b[0;32m/usr/local/lib/python3.11/dist-packages/pandas/core/frame.py\u001b[0m in \u001b[0;36m__getitem__\u001b[0;34m(self, key)\u001b[0m\n\u001b[1;32m   4100\u001b[0m             \u001b[0;32mif\u001b[0m \u001b[0mself\u001b[0m\u001b[0;34m.\u001b[0m\u001b[0mcolumns\u001b[0m\u001b[0;34m.\u001b[0m\u001b[0mnlevels\u001b[0m \u001b[0;34m>\u001b[0m \u001b[0;36m1\u001b[0m\u001b[0;34m:\u001b[0m\u001b[0;34m\u001b[0m\u001b[0;34m\u001b[0m\u001b[0m\n\u001b[1;32m   4101\u001b[0m                 \u001b[0;32mreturn\u001b[0m \u001b[0mself\u001b[0m\u001b[0;34m.\u001b[0m\u001b[0m_getitem_multilevel\u001b[0m\u001b[0;34m(\u001b[0m\u001b[0mkey\u001b[0m\u001b[0;34m)\u001b[0m\u001b[0;34m\u001b[0m\u001b[0;34m\u001b[0m\u001b[0m\n\u001b[0;32m-> 4102\u001b[0;31m             \u001b[0mindexer\u001b[0m \u001b[0;34m=\u001b[0m \u001b[0mself\u001b[0m\u001b[0;34m.\u001b[0m\u001b[0mcolumns\u001b[0m\u001b[0;34m.\u001b[0m\u001b[0mget_loc\u001b[0m\u001b[0;34m(\u001b[0m\u001b[0mkey\u001b[0m\u001b[0;34m)\u001b[0m\u001b[0;34m\u001b[0m\u001b[0;34m\u001b[0m\u001b[0m\n\u001b[0m\u001b[1;32m   4103\u001b[0m             \u001b[0;32mif\u001b[0m \u001b[0mis_integer\u001b[0m\u001b[0;34m(\u001b[0m\u001b[0mindexer\u001b[0m\u001b[0;34m)\u001b[0m\u001b[0;34m:\u001b[0m\u001b[0;34m\u001b[0m\u001b[0;34m\u001b[0m\u001b[0m\n\u001b[1;32m   4104\u001b[0m                 \u001b[0mindexer\u001b[0m \u001b[0;34m=\u001b[0m \u001b[0;34m[\u001b[0m\u001b[0mindexer\u001b[0m\u001b[0;34m]\u001b[0m\u001b[0;34m\u001b[0m\u001b[0;34m\u001b[0m\u001b[0m\n",
            "\u001b[0;32m/usr/local/lib/python3.11/dist-packages/pandas/core/indexes/base.py\u001b[0m in \u001b[0;36mget_loc\u001b[0;34m(self, key)\u001b[0m\n\u001b[1;32m   3810\u001b[0m             ):\n\u001b[1;32m   3811\u001b[0m                 \u001b[0;32mraise\u001b[0m \u001b[0mInvalidIndexError\u001b[0m\u001b[0;34m(\u001b[0m\u001b[0mkey\u001b[0m\u001b[0;34m)\u001b[0m\u001b[0;34m\u001b[0m\u001b[0;34m\u001b[0m\u001b[0m\n\u001b[0;32m-> 3812\u001b[0;31m             \u001b[0;32mraise\u001b[0m \u001b[0mKeyError\u001b[0m\u001b[0;34m(\u001b[0m\u001b[0mkey\u001b[0m\u001b[0;34m)\u001b[0m \u001b[0;32mfrom\u001b[0m \u001b[0merr\u001b[0m\u001b[0;34m\u001b[0m\u001b[0;34m\u001b[0m\u001b[0m\n\u001b[0m\u001b[1;32m   3813\u001b[0m         \u001b[0;32mexcept\u001b[0m \u001b[0mTypeError\u001b[0m\u001b[0;34m:\u001b[0m\u001b[0;34m\u001b[0m\u001b[0;34m\u001b[0m\u001b[0m\n\u001b[1;32m   3814\u001b[0m             \u001b[0;31m# If we have a listlike key, _check_indexing_error will raise\u001b[0m\u001b[0;34m\u001b[0m\u001b[0;34m\u001b[0m\u001b[0m\n",
            "\u001b[0;31mKeyError\u001b[0m: 'churn'"
          ]
        }
      ]
    },
    {
      "cell_type": "code",
      "source": [
        "print(df.columns)\n"
      ],
      "metadata": {
        "id": "fzNO5EfR6i2E",
        "outputId": "de25348b-e249-4e23-dd30-2c688120233b",
        "colab": {
          "base_uri": "https://localhost:8080/"
        }
      },
      "execution_count": null,
      "outputs": [
        {
          "output_type": "stream",
          "name": "stdout",
          "text": [
            "Index(['customerID', 'Churn', 'customer.gender', 'customer.SeniorCitizen',\n",
            "       'customer.Partner', 'customer.Dependents', 'customer.tenure',\n",
            "       'phone.PhoneService', 'phone.MultipleLines', 'internet.InternetService',\n",
            "       'internet.OnlineSecurity', 'internet.OnlineBackup',\n",
            "       'internet.DeviceProtection', 'internet.TechSupport',\n",
            "       'internet.StreamingTV', 'internet.StreamingMovies', 'Tipo_Contrato',\n",
            "       'Factura_Electronica', 'Metodo_Pago', 'Cargo_Mensual', 'Cargo_Total',\n",
            "       'Cargo_Diario'],\n",
            "      dtype='object')\n"
          ]
        }
      ]
    },
    {
      "cell_type": "code",
      "source": [
        "# Conteo de valores en la columna Churn\n",
        "conteo_churn = df['Churn'].value_counts()"
      ],
      "metadata": {
        "id": "S0St6Nm96v1S"
      },
      "execution_count": null,
      "outputs": []
    },
    {
      "cell_type": "code",
      "source": [
        "# Mostrar conteo numérico\n",
        "print(\"Conteo de Churn:\")\n",
        "print(conteo_churn)"
      ],
      "metadata": {
        "id": "JnyOAbsG684n",
        "outputId": "777d9c55-51c1-42d9-9115-d208aaa5cb4d",
        "colab": {
          "base_uri": "https://localhost:8080/"
        }
      },
      "execution_count": null,
      "outputs": [
        {
          "output_type": "stream",
          "name": "stdout",
          "text": [
            "Conteo de Churn:\n",
            "Churn\n",
            "0    5398\n",
            "1    1869\n",
            "Name: count, dtype: int64\n"
          ]
        }
      ]
    },
    {
      "cell_type": "code",
      "source": [
        "# Gráfico de barras\n",
        "sns.countplot(x='Churn', data=df, palette='Set2')\n",
        "plt.title('Distribución de evasión (Churn)')\n",
        "plt.xlabel('Churn (No = se quedó, Yes = se fue)')\n",
        "plt.ylabel('Cantidad de clientes')\n",
        "plt.show()"
      ],
      "metadata": {
        "id": "ohCpyxG77Av9",
        "outputId": "313fe77b-a34d-4614-b154-8188afd39d8a",
        "colab": {
          "base_uri": "https://localhost:8080/",
          "height": 579
        }
      },
      "execution_count": null,
      "outputs": [
        {
          "output_type": "stream",
          "name": "stderr",
          "text": [
            "/tmp/ipython-input-1651922537.py:2: FutureWarning: \n",
            "\n",
            "Passing `palette` without assigning `hue` is deprecated and will be removed in v0.14.0. Assign the `x` variable to `hue` and set `legend=False` for the same effect.\n",
            "\n",
            "  sns.countplot(x='Churn', data=df, palette='Set2')\n"
          ]
        },
        {
          "output_type": "display_data",
          "data": {
            "text/plain": [
              "<Figure size 640x480 with 1 Axes>"
            ],
            "image/png": "[encoded data removed]"
          },
          "metadata": {}
        }
      ]
    },
    {
      "cell_type": "code",
      "source": [
        "df['Churn'].value_counts()\n"
      ],
      "metadata": {
        "id": "OlJpcOPz7Io7",
        "outputId": "aa1de085-3211-4f76-be20-f2d88004718d",
        "colab": {
          "base_uri": "https://localhost:8080/",
          "height": 178
        }
      },
      "execution_count": null,
      "outputs": [
        {
          "output_type": "execute_result",
          "data": {
            "text/plain": [
              "Churn\n",
              "0    5398\n",
              "1    1869\n",
              "Name: count, dtype: int64"
            ],
            "text/html": [
              "<div>\n",
              "<style scoped>\n",
              "    .dataframe tbody tr th:only-of-type {\n",
              "        vertical-align: middle;\n",
              "    }\n",
              "\n",
              "    .dataframe tbody tr th {\n",
              "        vertical-align: top;\n",
              "    }\n",
              "\n",
              "    .dataframe thead th {\n",
              "        text-align: right;\n",
              "    }\n",
              "</style>\n",
              "<table border=\"1\" class=\"dataframe\">\n",
              "  <thead>\n",
              "    <tr style=\"text-align: right;\">\n",
              "      <th></th>\n",
              "      <th>count</th>\n",
              "    </tr>\n",
              "    <tr>\n",
              "      <th>Churn</th>\n",
              "      <th></th>\n",
              "    </tr>\n",
              "  </thead>\n",
              "  <tbody>\n",
              "    <tr>\n",
              "      <th>0</th>\n",
              "      <td>5398</td>\n",
              "    </tr>\n",
              "    <tr>\n",
              "      <th>1</th>\n",
              "      <td>1869</td>\n",
              "    </tr>\n",
              "  </tbody>\n",
              "</table>\n",
              "</div><br><label><b>dtype:</b> int64</label>"
            ]
          },
          "metadata": {},
          "execution_count": 33
        }
      ]
    },
    {
      "cell_type": "code",
      "source": [
        "df['Churn_Label'] = df['Churn'].map({0: 'No se fue', 1: 'Se fue'})"
      ],
      "metadata": {
        "id": "-mlUB84x7hXq"
      },
      "execution_count": null,
      "outputs": []
    },
    {
      "cell_type": "code",
      "source": [
        "# Conteo\n",
        "conteo_churn = df['Churn_Label'].value_counts()"
      ],
      "metadata": {
        "id": "La26WmXf7-Zl"
      },
      "execution_count": null,
      "outputs": []
    },
    {
      "cell_type": "code",
      "source": [
        "# Gráfico de barras\n",
        "sns.countplot(x='Churn_Label', data=df, palette=['#66b3ff', '#ff9999'])\n",
        "plt.title('Distribución de evasión (Churn)')\n",
        "plt.xlabel('Estado del cliente')\n",
        "plt.ylabel('Cantidad de clientes')\n",
        "plt.show()"
      ],
      "metadata": {
        "id": "SQGe-UfV8BY6",
        "outputId": "13fc4919-8b99-4161-968c-163f0db6aaf6",
        "colab": {
          "base_uri": "https://localhost:8080/",
          "height": 579
        }
      },
      "execution_count": null,
      "outputs": [
        {
          "output_type": "stream",
          "name": "stderr",
          "text": [
            "/tmp/ipython-input-1104463996.py:2: FutureWarning: \n",
            "\n",
            "Passing `palette` without assigning `hue` is deprecated and will be removed in v0.14.0. Assign the `x` variable to `hue` and set `legend=False` for the same effect.\n",
            "\n",
            "  sns.countplot(x='Churn_Label', data=df, palette=['#66b3ff', '#ff9999'])\n"
          ]
        },
        {
          "output_type": "display_data",
          "data": {
            "text/plain": [
              "<Figure size 640x480 with 1 Axes>"
            ],
            "image/png": "[encoded data removed]"
          },
          "metadata": {}
        }
      ]
    },
    {
      "cell_type": "code",
      "source": [
        "# Crear una nueva columna con etiquetas\n",
        "df['Churn_Label'] = df['Churn'].map({0: 'No se fue', 1: 'Se fue'})\n",
        "\n",
        "# Conteo\n",
        "conteo_churn = df['Churn_Label'].value_counts()\n",
        "\n",
        "# Gráfico de barras con colores personalizados\n",
        "sns.countplot(x='Churn_Label', data=df, palette={'No se fue': 'green', 'Se fue': 'orange'})\n",
        "plt.title('Distribución de evasión (Churn)')\n",
        "plt.xlabel('Estado del cliente')\n",
        "plt.ylabel('Cantidad de clientes')\n",
        "plt.show()"
      ],
      "metadata": {
        "id": "ZjTJiZEx8DgC",
        "outputId": "e2d6a156-63be-4bf8-d6ad-a02338cf9922",
        "colab": {
          "base_uri": "https://localhost:8080/",
          "height": 579
        }
      },
      "execution_count": null,
      "outputs": [
        {
          "output_type": "stream",
          "name": "stderr",
          "text": [
            "/tmp/ipython-input-845360624.py:8: FutureWarning: \n",
            "\n",
            "Passing `palette` without assigning `hue` is deprecated and will be removed in v0.14.0. Assign the `x` variable to `hue` and set `legend=False` for the same effect.\n",
            "\n",
            "  sns.countplot(x='Churn_Label', data=df, palette={'No se fue': 'green', 'Se fue': 'orange'})\n"
          ]
        },
        {
          "output_type": "display_data",
          "data": {
            "text/plain": [
              "<Figure size 640x480 with 1 Axes>"
            ],
            "image/png": "[encoded data removed]"
          },
          "metadata": {}
        }
      ]
    },
    {
      "cell_type": "code",
      "source": [
        "# Gráfico de pastel con colores personalizados\n",
        "plt.pie(conteo_churn, labels=conteo_churn.index, autopct='%1.1f%%', startangle=90, colors=['green', 'orange'])\n",
        "plt.title('Proporción de clientes')\n",
        "plt.show()"
      ],
      "metadata": {
        "id": "AEGSs44Y8RSQ",
        "outputId": "69f1a5b2-179e-420c-a95a-447681bf8603",
        "colab": {
          "base_uri": "https://localhost:8080/",
          "height": 429
        }
      },
      "execution_count": null,
      "outputs": [
        {
          "output_type": "display_data",
          "data": {
            "text/plain": [
              "<Figure size 640x480 with 1 Axes>"
            ],
            "image/png": "[encoded data removed]"
          },
          "metadata": {}
        }
      ]
    },
    {
      "cell_type": "code",
      "source": [],
      "metadata": {
        "id": "AU3-JwmP8War"
      },
      "execution_count": null,
      "outputs": []
    },
    {
      "cell_type": "markdown",
      "source": [
        "#**Churn por variables categoricas**\n"
      ],
      "metadata": {
        "id": "zanXRFzp81Z0"
      }
    },
    {
      "cell_type": "code",
      "source": [
        "import matplotlib.pyplot as plt\n",
        "import seaborn as sns"
      ],
      "metadata": {
        "id": "_2gh-ohx87PB"
      },
      "execution_count": null,
      "outputs": []
    },
    {
      "cell_type": "code",
      "source": [
        "# Analizar las Variables categóricas\n",
        "variables = ['customer.gender', 'Tipo_Contrato', 'Metodo_Pago']\n"
      ],
      "metadata": {
        "id": "qNainhnl875W"
      },
      "execution_count": null,
      "outputs": []
    },
    {
      "cell_type": "code",
      "source": [
        "# Crear los gráficos\n",
        "for var in variables:\n",
        "    plt.figure(figsize=(6,4))\n",
        "    sns.countplot(x=var, hue='Churn_Label', data=df,\n",
        "                  palette={'No se fue': 'green', 'Se fue': 'orange'})\n",
        "    plt.title(f'Evasión según {var}')\n",
        "    plt.xlabel(var)\n",
        "    plt.ylabel('Cantidad de clientes')\n",
        "    plt.legend(title='Churn')\n",
        "    plt.xticks(rotation=15)\n",
        "    plt.show()"
      ],
      "metadata": {
        "id": "ca_8oSHg8-YK",
        "outputId": "e4e4bd7a-5df4-45d8-8322-ca54c10ba71e",
        "colab": {
          "base_uri": "https://localhost:8080/",
          "height": 1000
        }
      },
      "execution_count": null,
      "outputs": [
        {
          "output_type": "display_data",
          "data": {
            "text/plain": [
              "<Figure size 600x400 with 1 Axes>"
            ],
            "image/png": "[encoded data removed]"
          },
          "metadata": {}
        },
        {
          "output_type": "display_data",
          "data": {
            "text/plain": [
              "<Figure size 600x400 with 1 Axes>"
            ],
            "image/png": "[encoded data removed]"
          },
          "metadata": {}
        },
        {
          "output_type": "display_data",
          "data": {
            "text/plain": [
              "<Figure size 600x400 with 1 Axes>"
            ],
            "image/png": "[encoded data removed]"
          },
          "metadata": {}
        }
      ]
    },
    {
      "cell_type": "code",
      "source": [
        "import matplotlib.pyplot as plt\n",
        "import seaborn as sns"
      ],
      "metadata": {
        "id": "v3PyVOKG9BQR"
      },
      "execution_count": null,
      "outputs": []
    },
    {
      "cell_type": "code",
      "source": [
        "# Analizar la Lista de variables numéricas\n",
        "variables_numericas = ['Cargo_Total', 'customer.tenure']\n"
      ],
      "metadata": {
        "id": "zKvehSUG_BWy"
      },
      "execution_count": null,
      "outputs": []
    },
    {
      "cell_type": "code",
      "source": [
        "for var in variables_numericas:\n",
        "    plt.figure(figsize=(6,4))\n",
        "    sns.boxplot(x='Churn_Label', y=var, data=df,\n",
        "                palette={'No se fue': 'green', 'Se fue': 'orange'})\n",
        "    plt.title(f'{var} según estado de Churn')\n",
        "    plt.xlabel('Estado del cliente')\n",
        "    plt.ylabel(var)\n",
        "    plt.show()"
      ],
      "metadata": {
        "id": "CcHimole_HTV",
        "outputId": "c12c3dce-b369-4330-8a2c-49e516fef14d",
        "colab": {
          "base_uri": "https://localhost:8080/",
          "height": 998
        }
      },
      "execution_count": null,
      "outputs": [
        {
          "output_type": "stream",
          "name": "stderr",
          "text": [
            "/tmp/ipython-input-990344977.py:3: FutureWarning: \n",
            "\n",
            "Passing `palette` without assigning `hue` is deprecated and will be removed in v0.14.0. Assign the `x` variable to `hue` and set `legend=False` for the same effect.\n",
            "\n",
            "  sns.boxplot(x='Churn_Label', y=var, data=df,\n"
          ]
        },
        {
          "output_type": "display_data",
          "data": {
            "text/plain": [
              "<Figure size 600x400 with 1 Axes>"
            ],
            "image/png": "[encoded data removed]"
          },
          "metadata": {}
        },
        {
          "output_type": "stream",
          "name": "stderr",
          "text": [
            "/tmp/ipython-input-990344977.py:3: FutureWarning: \n",
            "\n",
            "Passing `palette` without assigning `hue` is deprecated and will be removed in v0.14.0. Assign the `x` variable to `hue` and set `legend=False` for the same effect.\n",
            "\n",
            "  sns.boxplot(x='Churn_Label', y=var, data=df,\n"
          ]
        },
        {
          "output_type": "display_data",
          "data": {
            "text/plain": [
              "<Figure size 600x400 with 1 Axes>"
            ],
            "image/png": "[encoded data removed]"
          },
          "metadata": {}
        }
      ]
    },
    {
      "cell_type": "code",
      "source": [],
      "metadata": {
        "id": "FWK4Xcnd_Jww"
      },
      "execution_count": null,
      "outputs": []
    },
    {
      "cell_type": "markdown",
      "source": [
        "##**Informe Final**\n"
      ],
      "metadata": {
        "id": "M6TxaKOIAYqm"
      }
    },
    {
      "cell_type": "markdown",
      "source": [
        "### Introducción\n",
        "\n",
        "El presente análisis tiene como objetivo comprender los factores que influyen en la evasión de clientes (Churn) en una empresa de telecomunicaciones.\n",
        "El Churn representa a los clientes que han cancelado el servicio en un período determinado. Reducir esta tasa es crucial, ya que retener a un cliente existente es más rentable que adquirir uno nuevo.\n",
        "\n",
        "A través de este estudio, se identificaron patrones y variables asociadas a la evasión, con el fin de proponer estrategias efectivas para mejorar la retención."
      ],
      "metadata": {
        "id": "A62_Y8OgAisP"
      }
    },
    {
      "cell_type": "markdown",
      "source": [
        "###Limpieza y Tratamiento de Datos\n",
        "Importación de datos\n",
        "\n",
        "Los datos fueron importados desde un archivo JSON provisto, utilizando pandas para su carga y manipulación.\n",
        "\n",
        "Revisión de estructura\n",
        "\n",
        "Se inspeccionaron las columnas, tipos de datos y valores faltantes (df.info(), df.describe()).\n",
        "\n",
        "Creación de variables auxiliares\n",
        "\n",
        "Se creó la columna Churn_Label para mapear los valores de Churn (0 = No se fue, 1 = Se fue) con etiquetas descriptivas.\n",
        "\n",
        "Preparación para análisis\n",
        "\n",
        "Se identificaron variables categóricas (género, tipo de contrato, método de pago) y numéricas (Cargo_Total, customer.tenure).[link text](https://)"
      ],
      "metadata": {
        "id": "YJe74DqOAqUf"
      }
    },
    {
      "cell_type": "markdown",
      "source": [
        "##Análisis Exploratorio de Datos (EDA)"
      ],
      "metadata": {
        "id": "b8oz9g8NJK1o"
      }
    },
    {
      "cell_type": "markdown",
      "source": [
        "# 1. Distribución de Evasión General\n",
        "El 25,7% de los clientes se fueron, mientras que el 74,3% permanecieron.\n",
        "\n",
        "Esto indica una tasa de evasión moderada que merece atención.\n",
        "\n",
        "Gráfico de barras y pastel mostrando proporción de Churn."
      ],
      "metadata": {
        "id": "I-Sox0TjJIpd"
      }
    },
    {
      "cell_type": "markdown",
      "source": [
        "# 2. Evasión por Variables Categóricas\n",
        "\n",
        "**Género:** No presenta diferencias significativas entre hombres y mujeres.  \n",
        "\n",
        "**Tipo de Contrato:** Los contratos *Month-to-month* tienen la mayor tasa de evasión, mientras que *One year* y *Two year* retienen mejor a los clientes.  \n",
        "\n",
        "**Método de Pago:** El pago mediante *Electronic check* presenta la mayor evasión; métodos automáticos muestran menor tasa.\n",
        "\n",
        "_Gráficos comparativos por categoría._\n"
      ],
      "metadata": {
        "id": "HZPLElheIQV4"
      }
    },
    {
      "cell_type": "markdown",
      "source": [
        "#3. Evasión por Variables Numéricas\n",
        "Cargo_Total: Los clientes que se fueron tienen un gasto total medianamente mayor, lo que podría indicar sensibilidad a costos.\n",
        "\n",
        "Tiempo de Contrato (tenure): La evasión es más alta en clientes con menor tiempo de contrato; a mayor antigüedad, menor probabilidad de cancelación.\n",
        "\n",
        "Boxplots para comparar distribuciones."
      ],
      "metadata": {
        "id": "Czs8d-zAI-c9"
      }
    },
    {
      "cell_type": "markdown",
      "source": [
        "##**Conclusiones**"
      ],
      "metadata": {
        "id": "-PZL_FHeJ1Z5"
      }
    },
    {
      "cell_type": "markdown",
      "source": [
        "1- Tipo de contrato y método de pago son fuertes predictores de evasión.\n",
        "\n",
        "2- Los clientes que pagan mes a mes y con Electronic check tienen mayor probabilidad de cancelar.\n",
        "\n",
        "3- La permanencia corta está altamente asociada con la evasión.\n",
        "\n",
        "4- Aunque el gasto total es algo mayor en los que se van, no es un factor tan determinante como el tiempo de contrato."
      ],
      "metadata": {
        "id": "6K5iKNE6J5Y-"
      }
    },
    {
      "cell_type": "code",
      "source": [],
      "metadata": {
        "id": "2v1d7vOqJ6ys"
      },
      "execution_count": null,
      "outputs": []
    },
    {
      "cell_type": "markdown",
      "source": [
        "##**Recomendaciones Estrategicas**"
      ],
      "metadata": {
        "id": "upgU1h5AKSFn"
      }
    },
    {
      "cell_type": "markdown",
      "source": [
        "* Incentivar contratos anuales o bianuales con beneficios atractivos (descuentos, upgrades).\n",
        "\n",
        "* Promover métodos de pago automáticos para disminuir la evasión.\n",
        "\n",
        "Programas de fidelización enfocados en clientes con menos de 12 meses de antigüedad.\n",
        "\n",
        "* Monitoreo proactivo: Identificar clientes con perfiles de alto riesgo (contrato mensual + pago por Electronic check) y contactarlos con ofertas personalizadas.\n",
        "\n",
        "* Evaluar estructura de precios para clientes con gasto elevado que muestran señales de deserción."
      ],
      "metadata": {
        "id": "3gVcb3e6KWpo"
      }
    },
    {
      "cell_type": "code",
      "source": [
        "import seaborn as sns\n",
        "import matplotlib.pyplot as plt\n",
        "\n",
        "# Calcular la matriz de correlación solo para variables numéricas\n",
        "corr_matrix = df.corr(numeric_only=True)\n",
        "\n",
        "# Mostrar la correlación de cada variable con Churn (ordenada)\n",
        "corr_with_churn = corr_matrix['Churn'].sort_values(ascending=False)\n",
        "print(\"Correlaciones con Churn:\")\n",
        "print(corr_with_churn)\n"
      ],
      "metadata": {
        "id": "B2LSYgeZKYUk",
        "outputId": "6ca0e944-18d8-448d-c6f6-2f85230d350d",
        "colab": {
          "base_uri": "https://localhost:8080/"
        }
      },
      "execution_count": null,
      "outputs": [
        {
          "output_type": "stream",
          "name": "stdout",
          "text": [
            "Correlaciones con Churn:\n",
            "Churn                     1.000000\n",
            "Cargo_Diario              0.189866\n",
            "Cargo_Mensual             0.189866\n",
            "Factura_Electronica       0.186666\n",
            "customer.SeniorCitizen    0.146733\n",
            "customer.tenure          -0.344079\n",
            "Name: Churn, dtype: float64\n"
          ]
        }
      ]
    },
    {
      "cell_type": "code",
      "source": [
        "plt.figure(figsize=(10,6))\n",
        "sns.heatmap(corr_matrix, annot=True, cmap='coolwarm', fmt=\".2f\")\n",
        "plt.title(\"Matriz de correlación\")\n",
        "plt.show()\n"
      ],
      "metadata": {
        "id": "jxYKwhAlNawc",
        "outputId": "27fecc3a-9672-4ffc-9aa5-d8f05916bafe",
        "colab": {
          "base_uri": "https://localhost:8080/",
          "height": 691
        }
      },
      "execution_count": null,
      "outputs": [
        {
          "output_type": "display_data",
          "data": {
            "text/plain": [
              "<Figure size 1000x600 with 2 Axes>"
            ],
            "image/png": "[encoded data removed]"
          },
          "metadata": {}
        }
      ]
    },
    {
      "cell_type": "code",
      "source": [
        "sns.boxplot(x='Churn_Label', y='Cargo_Diario', data=df,\n",
        "            palette={'No se fue': 'green', 'Se fue': 'orange'})\n",
        "plt.title('Relación entre Cargo Diario y Churn')\n",
        "plt.show()\n"
      ],
      "metadata": {
        "id": "2wA3uIcANgDE",
        "outputId": "3bb57563-209c-47d9-e747-1205986b22a4",
        "colab": {
          "base_uri": "https://localhost:8080/",
          "height": 579
        }
      },
      "execution_count": null,
      "outputs": [
        {
          "output_type": "stream",
          "name": "stderr",
          "text": [
            "/tmp/ipython-input-358705685.py:1: FutureWarning: \n",
            "\n",
            "Passing `palette` without assigning `hue` is deprecated and will be removed in v0.14.0. Assign the `x` variable to `hue` and set `legend=False` for the same effect.\n",
            "\n",
            "  sns.boxplot(x='Churn_Label', y='Cargo_Diario', data=df,\n"
          ]
        },
        {
          "output_type": "display_data",
          "data": {
            "text/plain": [
              "<Figure size 640x480 with 1 Axes>"
            ],
            "image/png": "[encoded data removed]"
          },
          "metadata": {}
        }
      ]
    },
    {
      "cell_type": "code",
      "source": [
        "# Lista de columnas de servicios\n",
        "servicios_cols = [\n",
        "    'phone.PhoneService', 'phone.MultipleLines',\n",
        "    'internet.InternetService', 'internet.OnlineSecurity',\n",
        "    'internet.OnlineBackup', 'internet.DeviceProtection',\n",
        "    'internet.TechSupport', 'internet.StreamingTV',\n",
        "    'internet.StreamingMovies'\n",
        "]\n",
        "\n",
        "# Contar cuántos servicios tiene cada cliente (No/Yes -> 0/1)\n",
        "df['Servicios_Contratados'] = df[servicios_cols].apply(lambda row: sum(row == 'Yes'), axis=1)\n",
        "\n",
        "# Gráfico\n",
        "sns.boxplot(x='Churn_Label', y='Servicios_Contratados', data=df,\n",
        "            palette={'No se fue': 'green', 'Se fue': 'orange'})\n",
        "plt.title('Servicios contratados vs Churn')\n",
        "plt.show()\n"
      ],
      "metadata": {
        "id": "dzd0mPFuNjDu",
        "outputId": "fc1553fe-2ab6-4474-ffbc-7414237a9fbd",
        "colab": {
          "base_uri": "https://localhost:8080/",
          "height": 579
        }
      },
      "execution_count": null,
      "outputs": [
        {
          "output_type": "stream",
          "name": "stderr",
          "text": [
            "/tmp/ipython-input-1890262255.py:14: FutureWarning: \n",
            "\n",
            "Passing `palette` without assigning `hue` is deprecated and will be removed in v0.14.0. Assign the `x` variable to `hue` and set `legend=False` for the same effect.\n",
            "\n",
            "  sns.boxplot(x='Churn_Label', y='Servicios_Contratados', data=df,\n"
          ]
        },
        {
          "output_type": "display_data",
          "data": {
            "text/plain": [
              "<Figure size 640x480 with 1 Axes>"
            ],
            "image/png": "[encoded data removed]"
          },
          "metadata": {}
        }
      ]
    },
    {
      "cell_type": "code",
      "source": [],
      "metadata": {
        "id": "t3I8ATOpNm72"
      },
      "execution_count": null,
      "outputs": []
    },
    {
      "cell_type": "markdown",
      "source": [
        "##**Extracción del Archivo Tratado_Challenge Telecom X_Parte_2**\n"
      ],
      "metadata": {
        "id": "M6xLRMok_cFw"
      }
    },
    {
      "cell_type": "code",
      "source": [
        "\n",
        "df.to_csv(\"datos_tratados.csv\", index=False)"
      ],
      "metadata": {
        "id": "xVKXUpnH_lUv"
      },
      "execution_count": 61,
      "outputs": []
    },
    {
      "cell_type": "markdown",
      "source": [
        "##Eliminar Columnas Irrelevantes"
      ],
      "metadata": {
        "id": "eUHaW81-_sbY"
      }
    },
    {
      "cell_type": "code",
      "source": [
        "# Mostrar todas las columnas del dataset\n",
        "print(\"Columnas del dataset:\")\n",
        "print(df.columns.tolist())\n"
      ],
      "metadata": {
        "colab": {
          "base_uri": "https://localhost:8080/"
        },
        "id": "mhQkic6l_x7u",
        "outputId": "5241e790-60f4-4703-e7c7-906318acceee"
      },
      "execution_count": 62,
      "outputs": [
        {
          "output_type": "stream",
          "name": "stdout",
          "text": [
            "Columnas del dataset:\n",
            "['customerID', 'Churn', 'customer.gender', 'customer.SeniorCitizen', 'customer.Partner', 'customer.Dependents', 'customer.tenure', 'phone.PhoneService', 'phone.MultipleLines', 'internet.InternetService', 'internet.OnlineSecurity', 'internet.OnlineBackup', 'internet.DeviceProtection', 'internet.TechSupport', 'internet.StreamingTV', 'internet.StreamingMovies', 'Tipo_Contrato', 'Factura_Electronica', 'Metodo_Pago', 'Cargo_Mensual', 'Cargo_Total', 'Cargo_Diario']\n"
          ]
        }
      ]
    },
    {
      "cell_type": "code",
      "source": [
        "df = df.drop(columns=[\"customerID\", \"Cargo_Diario\"], errors=\"ignore\")\n",
        "\n",
        "print(\"Columnas finales:\")\n",
        "print(df.columns.tolist())\n"
      ],
      "metadata": {
        "id": "3nl5dfa4A_JN",
        "outputId": "5d286713-8764-412e-c175-093edd48aefe",
        "colab": {
          "base_uri": "https://localhost:8080/"
        }
      },
      "execution_count": 66,
      "outputs": [
        {
          "output_type": "stream",
          "name": "stdout",
          "text": [
            "Columnas finales:\n",
            "['Churn', 'customer.gender', 'customer.SeniorCitizen', 'customer.Partner', 'customer.Dependents', 'customer.tenure', 'phone.PhoneService', 'phone.MultipleLines', 'internet.InternetService', 'internet.OnlineSecurity', 'internet.OnlineBackup', 'internet.DeviceProtection', 'internet.TechSupport', 'internet.StreamingTV', 'internet.StreamingMovies', 'Tipo_Contrato', 'Factura_Electronica', 'Metodo_Pago', 'Cargo_Mensual', 'Cargo_Total']\n"
          ]
        }
      ]
    },
    {
      "cell_type": "markdown",
      "source": [
        "##Ecoding"
      ],
      "metadata": {
        "id": "vIVKAFHwBv4C"
      }
    },
    {
      "cell_type": "code",
      "source": [
        "# Aplicar one-hot encoding a las variables categóricas\n",
        "df_encoded = pd.get_dummies(df, drop_first=True)\n",
        "\n",
        "# Revisar cómo quedó\n",
        "print(\"Columnas después de la transformación:\")\n",
        "print(df_encoded.columns.tolist())\n",
        "df_encoded.head()\n"
      ],
      "metadata": {
        "id": "snwxbJ0MBPn6",
        "outputId": "555deea9-193c-4e46-9225-e19c56994053",
        "colab": {
          "base_uri": "https://localhost:8080/",
          "height": 309
        }
      },
      "execution_count": 67,
      "outputs": [
        {
          "output_type": "stream",
          "name": "stdout",
          "text": [
            "Columnas después de la transformación:\n",
            "['Churn', 'customer.SeniorCitizen', 'customer.tenure', 'Factura_Electronica', 'Cargo_Mensual', 'customer.gender_Male', 'customer.Partner_Yes', 'customer.Dependents_Yes', 'phone.PhoneService_Yes', 'phone.MultipleLines_No phone service', 'phone.MultipleLines_Yes', 'internet.InternetService_Fiber optic', 'internet.InternetService_No', 'internet.OnlineSecurity_No internet service', 'internet.OnlineSecurity_Yes', 'internet.OnlineBackup_No internet service', 'internet.OnlineBackup_Yes', 'internet.DeviceProtection_No internet service', 'internet.DeviceProtection_Yes', 'internet.TechSupport_No internet service', 'internet.TechSupport_Yes', 'internet.StreamingTV_No internet service', 'internet.StreamingTV_Yes', 'internet.StreamingMovies_No internet service', 'internet.StreamingMovies_Yes', 'Tipo_Contrato_One year', 'Tipo_Contrato_Two year', 'Metodo_Pago_Credit card (automatic)', 'Metodo_Pago_Electronic check', 'Metodo_Pago_Mailed check', 'Cargo_Total_100.2', 'Cargo_Total_100.25', 'Cargo_Total_100.35', 'Cargo_Total_100.4', 'Cargo_Total_100.8', 'Cargo_Total_100.9', 'Cargo_Total_1001.2', 'Cargo_Total_1001.5', 'Cargo_Total_1003.05', 'Cargo_Total_1004.35', 'Cargo_Total_1004.5', 'Cargo_Total_1004.75', 'Cargo_Total_1005.7', 'Cargo_Total_1006.9', 'Cargo_Total_1007.8', 'Cargo_Total_1007.9', 'Cargo_Total_1008.55', 'Cargo_Total_1008.7', 'Cargo_Total_1009.25', 'Cargo_Total_101.1', 'Cargo_Total_101.45', 'Cargo_Total_101.65', 'Cargo_Total_101.9', 'Cargo_Total_1010', 'Cargo_Total_1011.05', 'Cargo_Total_1011.5', 'Cargo_Total_1011.8', 'Cargo_Total_1012.4', 'Cargo_Total_1013.05', 'Cargo_Total_1013.2', 'Cargo_Total_1013.35', 'Cargo_Total_1013.6', 'Cargo_Total_1014.25', 'Cargo_Total_1016.7', 'Cargo_Total_1017.35', 'Cargo_Total_102.45', 'Cargo_Total_102.5', 'Cargo_Total_102.75', 'Cargo_Total_1020.2', 'Cargo_Total_1020.75', 'Cargo_Total_1021.55', 'Cargo_Total_1021.75', 'Cargo_Total_1021.8', 'Cargo_Total_1022.5', 'Cargo_Total_1022.6', 'Cargo_Total_1022.95', 'Cargo_Total_1023.75', 'Cargo_Total_1023.85', 'Cargo_Total_1023.9', 'Cargo_Total_1023.95', 'Cargo_Total_1024', 'Cargo_Total_1024.65', 'Cargo_Total_1024.7', 'Cargo_Total_1025.05', 'Cargo_Total_1025.15', 'Cargo_Total_1025.95', 'Cargo_Total_1026.35', 'Cargo_Total_1027.25', 'Cargo_Total_1028.75', 'Cargo_Total_1028.9', 'Cargo_Total_1029.35', 'Cargo_Total_1029.75', 'Cargo_Total_1029.8', 'Cargo_Total_103.7', 'Cargo_Total_1031.1', 'Cargo_Total_1031.4', 'Cargo_Total_1031.7', 'Cargo_Total_1032', 'Cargo_Total_1032.05', 'Cargo_Total_1033', 'Cargo_Total_1033.9', 'Cargo_Total_1033.95', 'Cargo_Total_1035.5', 'Cargo_Total_1035.7', 'Cargo_Total_1036', 'Cargo_Total_1036.75', 'Cargo_Total_1037.75', 'Cargo_Total_1039.45', 'Cargo_Total_104.2', 'Cargo_Total_104.3', 'Cargo_Total_1041.8', 'Cargo_Total_1042.65', 'Cargo_Total_1043.3', 'Cargo_Total_1043.35', 'Cargo_Total_1043.4', 'Cargo_Total_1043.8', 'Cargo_Total_1045.25', 'Cargo_Total_1046.1', 'Cargo_Total_1046.2', 'Cargo_Total_1046.5', 'Cargo_Total_1047.7', 'Cargo_Total_1048.45', 'Cargo_Total_1048.85', 'Cargo_Total_1049.05', 'Cargo_Total_1049.6', 'Cargo_Total_105.5', 'Cargo_Total_105.6', 'Cargo_Total_1050.5', 'Cargo_Total_1051.05', 'Cargo_Total_1051.9', 'Cargo_Total_1052.35', 'Cargo_Total_1052.4', 'Cargo_Total_1054.6', 'Cargo_Total_1054.75', 'Cargo_Total_1054.8', 'Cargo_Total_1055.9', 'Cargo_Total_1056.95', 'Cargo_Total_1057', 'Cargo_Total_1057.55', 'Cargo_Total_1057.85', 'Cargo_Total_1058.1', 'Cargo_Total_1058.25', 'Cargo_Total_1058.6', 'Cargo_Total_1059.55', 'Cargo_Total_106.2', 'Cargo_Total_106.55', 'Cargo_Total_106.8', 'Cargo_Total_106.85', 'Cargo_Total_106.9', 'Cargo_Total_1060.2', 'Cargo_Total_1060.6', 'Cargo_Total_1061.6', 'Cargo_Total_1062.1', 'Cargo_Total_1064.65', 'Cargo_Total_1064.95', 'Cargo_Total_1066.15', 'Cargo_Total_1066.9', 'Cargo_Total_1067.05', 'Cargo_Total_1067.15', 'Cargo_Total_1067.65', 'Cargo_Total_1068.15', 'Cargo_Total_1068.85', 'Cargo_Total_107.05', 'Cargo_Total_107.1', 'Cargo_Total_107.25', 'Cargo_Total_107.6', 'Cargo_Total_1070.15', 'Cargo_Total_1070.25', 'Cargo_Total_1070.5', 'Cargo_Total_1070.7', 'Cargo_Total_1071.4', 'Cargo_Total_1071.6', 'Cargo_Total_1072', 'Cargo_Total_1072.6', 'Cargo_Total_1073.3', 'Cargo_Total_1074.3', 'Cargo_Total_1074.65', 'Cargo_Total_1077.05', 'Cargo_Total_1077.5', 'Cargo_Total_1077.95', 'Cargo_Total_1078.75', 'Cargo_Total_1078.9', 'Cargo_Total_1079.05', 'Cargo_Total_1079.45', 'Cargo_Total_1079.65', 'Cargo_Total_108.05', 'Cargo_Total_108.15', 'Cargo_Total_108.65', 'Cargo_Total_108.7', 'Cargo_Total_108.95', 'Cargo_Total_1080.55', 'Cargo_Total_1081.25', 'Cargo_Total_1081.45', 'Cargo_Total_1082.75', 'Cargo_Total_1082.8', 'Cargo_Total_1083', 'Cargo_Total_1083.7', 'Cargo_Total_1086.75', 'Cargo_Total_1087.25', 'Cargo_Total_1087.45', 'Cargo_Total_1087.7', 'Cargo_Total_1088.25', 'Cargo_Total_109.2', 'Cargo_Total_109.25', 'Cargo_Total_109.3', 'Cargo_Total_109.5', 'Cargo_Total_109.6', 'Cargo_Total_109.8', 'Cargo_Total_1090.1', 'Cargo_Total_1090.6', 'Cargo_Total_1090.65', 'Cargo_Total_1092.35', 'Cargo_Total_1093', 'Cargo_Total_1093.1', 'Cargo_Total_1093.2', 'Cargo_Total_1093.4', 'Cargo_Total_1094.35', 'Cargo_Total_1094.5', 'Cargo_Total_1095.3', 'Cargo_Total_1095.65', 'Cargo_Total_1096.25', 'Cargo_Total_1096.6', 'Cargo_Total_1096.65', 'Cargo_Total_1097.15', 'Cargo_Total_1098.85', 'Cargo_Total_1099.6', 'Cargo_Total_110.05', 'Cargo_Total_110.15', 'Cargo_Total_1101.85', 'Cargo_Total_1102.4', 'Cargo_Total_1103.25', 'Cargo_Total_1105.4', 'Cargo_Total_1107.2', 'Cargo_Total_1107.25', 'Cargo_Total_1108', 'Cargo_Total_1108.2', 'Cargo_Total_1108.6', 'Cargo_Total_1108.8', 'Cargo_Total_111.05', 'Cargo_Total_111.4', 'Cargo_Total_111.65', 'Cargo_Total_1110.05', 'Cargo_Total_1110.35', 'Cargo_Total_1110.5', 'Cargo_Total_1111.2', 'Cargo_Total_1111.65', 'Cargo_Total_1111.85', 'Cargo_Total_1112.3', 'Cargo_Total_1113.95', 'Cargo_Total_1114.55', 'Cargo_Total_1114.85', 'Cargo_Total_1115.15', 'Cargo_Total_1115.2', 'Cargo_Total_1115.6', 'Cargo_Total_1117.55', 'Cargo_Total_1118.8', 'Cargo_Total_1119.35', 'Cargo_Total_1119.9', 'Cargo_Total_112.3', 'Cargo_Total_112.75', 'Cargo_Total_1120.3', 'Cargo_Total_1120.95', 'Cargo_Total_1121.05', 'Cargo_Total_1122.4', 'Cargo_Total_1123.15', 'Cargo_Total_1123.65', 'Cargo_Total_1124.2', 'Cargo_Total_1125.2', 'Cargo_Total_1125.6', 'Cargo_Total_1126.35', 'Cargo_Total_1126.75', 'Cargo_Total_1127.2', 'Cargo_Total_1127.35', 'Cargo_Total_1128.1', 'Cargo_Total_1129.1', 'Cargo_Total_1129.35', 'Cargo_Total_1129.75', 'Cargo_Total_113.1', 'Cargo_Total_113.35', 'Cargo_Total_113.5', 'Cargo_Total_113.55', 'Cargo_Total_113.85', 'Cargo_Total_113.95', 'Cargo_Total_1130', 'Cargo_Total_1130.85', 'Cargo_Total_1131.2', 'Cargo_Total_1131.3', 'Cargo_Total_1131.5', 'Cargo_Total_1132.35', 'Cargo_Total_1132.75', 'Cargo_Total_1133.65', 'Cargo_Total_1133.7', 'Cargo_Total_1133.9', 'Cargo_Total_1134.25', 'Cargo_Total_1135.7', 'Cargo_Total_1137.05', 'Cargo_Total_1138.8', 'Cargo_Total_1139.2', 'Cargo_Total_114.1', 'Cargo_Total_114.15', 'Cargo_Total_114.7', 'Cargo_Total_1140.05', 'Cargo_Total_1143.8', 'Cargo_Total_1144.5', 'Cargo_Total_1144.6', 'Cargo_Total_1145.35', 'Cargo_Total_1145.7', 'Cargo_Total_1146.05', 'Cargo_Total_1146.65', 'Cargo_Total_1147', 'Cargo_Total_1147.45', 'Cargo_Total_1147.85', 'Cargo_Total_1148.1', 'Cargo_Total_1149.65', 'Cargo_Total_115.1', 'Cargo_Total_115.95', 'Cargo_Total_1151.05', 'Cargo_Total_1151.55', 'Cargo_Total_1152.7', 'Cargo_Total_1152.8', 'Cargo_Total_1153.25', 'Cargo_Total_1155.6', 'Cargo_Total_1156.1', 'Cargo_Total_1156.35', 'Cargo_Total_1156.55', 'Cargo_Total_1157.05', 'Cargo_Total_1158.85', 'Cargo_Total_116.6', 'Cargo_Total_116.65', 'Cargo_Total_116.85', 'Cargo_Total_116.95', 'Cargo_Total_1160.45', 'Cargo_Total_1160.75', 'Cargo_Total_1161.75', 'Cargo_Total_1162.85', 'Cargo_Total_1164.05', 'Cargo_Total_1164.3', 'Cargo_Total_1165.55', 'Cargo_Total_1165.6', 'Cargo_Total_1165.9', 'Cargo_Total_1166.7', 'Cargo_Total_1167.6', 'Cargo_Total_1167.8', 'Cargo_Total_1169.35', 'Cargo_Total_117.05', 'Cargo_Total_117.8', 'Cargo_Total_117.95', 'Cargo_Total_1170.5', 'Cargo_Total_1170.55', 'Cargo_Total_1171.3', 'Cargo_Total_1171.5', 'Cargo_Total_1172.95', 'Cargo_Total_1173.35', 'Cargo_Total_1173.55', 'Cargo_Total_1174.35', 'Cargo_Total_1174.8', 'Cargo_Total_1175.6', 'Cargo_Total_1175.85', 'Cargo_Total_1177.05', 'Cargo_Total_1177.95', 'Cargo_Total_1178.25', 'Cargo_Total_1178.4', 'Cargo_Total_1178.75', 'Cargo_Total_118.25', 'Cargo_Total_118.3', 'Cargo_Total_118.4', 'Cargo_Total_118.5', 'Cargo_Total_1180.95', 'Cargo_Total_1181.75', 'Cargo_Total_1182.55', 'Cargo_Total_1183.05', 'Cargo_Total_1183.2', 'Cargo_Total_1183.8', 'Cargo_Total_1184', 'Cargo_Total_1185', 'Cargo_Total_1185.95', 'Cargo_Total_1187.05', 'Cargo_Total_1188.2', 'Cargo_Total_1188.25', 'Cargo_Total_1189.4', 'Cargo_Total_1189.9', 'Cargo_Total_119.3', 'Cargo_Total_119.5', 'Cargo_Total_119.75', 'Cargo_Total_1190.5', 'Cargo_Total_1191.2', 'Cargo_Total_1191.4', 'Cargo_Total_1192.3', 'Cargo_Total_1192.7', 'Cargo_Total_1193.05', 'Cargo_Total_1193.55', 'Cargo_Total_1194.3', 'Cargo_Total_1195.25', 'Cargo_Total_1195.75', 'Cargo_Total_1195.95', 'Cargo_Total_1198.05', 'Cargo_Total_1198.8', 'Cargo_Total_1199.4', 'Cargo_Total_120.25', 'Cargo_Total_1200.15', 'Cargo_Total_1201.15', 'Cargo_Total_1201.65', 'Cargo_Total_1203.9', 'Cargo_Total_1203.95', 'Cargo_Total_1205.05', 'Cargo_Total_1205.5', 'Cargo_Total_1206.05', 'Cargo_Total_1207', 'Cargo_Total_1208.15', 'Cargo_Total_1208.35', 'Cargo_Total_1208.6', 'Cargo_Total_1209.25', 'Cargo_Total_121.25', 'Cargo_Total_1210.3', 'Cargo_Total_1210.4', 'Cargo_Total_1211.65', 'Cargo_Total_1212.1', 'Cargo_Total_1212.25', 'Cargo_Total_1212.85', 'Cargo_Total_1214.05', 'Cargo_Total_1215.1', 'Cargo_Total_1215.45', 'Cargo_Total_1215.6', 'Cargo_Total_1215.65', 'Cargo_Total_1215.8', 'Cargo_Total_1216.35', 'Cargo_Total_1216.6', 'Cargo_Total_1217.25', 'Cargo_Total_1218.25', 'Cargo_Total_1218.45', 'Cargo_Total_1218.55', 'Cargo_Total_1218.65', 'Cargo_Total_1219.85', 'Cargo_Total_122', 'Cargo_Total_122.7', 'Cargo_Total_122.9', 'Cargo_Total_1221.55', 'Cargo_Total_1221.65', 'Cargo_Total_1222.05', 'Cargo_Total_1222.25', 'Cargo_Total_1222.65', 'Cargo_Total_1222.8', 'Cargo_Total_1224.05', 'Cargo_Total_1225.65', 'Cargo_Total_1226.45', 'Cargo_Total_1228.65', 'Cargo_Total_1229.1', 'Cargo_Total_123.05', 'Cargo_Total_123.65', 'Cargo_Total_123.8', 'Cargo_Total_1230.25', 'Cargo_Total_1230.9', 'Cargo_Total_1231.85', 'Cargo_Total_1232.9', 'Cargo_Total_1233.15', 'Cargo_Total_1233.25', 'Cargo_Total_1233.4', 'Cargo_Total_1233.65', 'Cargo_Total_1234.6', 'Cargo_Total_1234.8', 'Cargo_Total_1235.55', 'Cargo_Total_1236.15', 'Cargo_Total_1237.3', 'Cargo_Total_1237.65', 'Cargo_Total_1237.85', 'Cargo_Total_1238.45', 'Cargo_Total_1238.65', 'Cargo_Total_124.4', 'Cargo_Total_124.45', 'Cargo_Total_1240.15', 'Cargo_Total_1240.25', 'Cargo_Total_1240.8', 'Cargo_Total_1242.2', 'Cargo_Total_1242.25', 'Cargo_Total_1242.45', 'Cargo_Total_1244.5', 'Cargo_Total_1244.8', 'Cargo_Total_1245.05', 'Cargo_Total_1245.6', 'Cargo_Total_1246.4', 'Cargo_Total_1247.75', 'Cargo_Total_1248.9', 'Cargo_Total_1249.25', 'Cargo_Total_125', 'Cargo_Total_125.5', 'Cargo_Total_125.95', 'Cargo_Total_1250.1', 'Cargo_Total_1250.85', 'Cargo_Total_1252', 'Cargo_Total_1252.85', 'Cargo_Total_1253.15', 'Cargo_Total_1253.5', 'Cargo_Total_1253.65', 'Cargo_Total_1253.8', 'Cargo_Total_1253.9', 'Cargo_Total_1254.7', 'Cargo_Total_1255.1', 'Cargo_Total_1258.15', 'Cargo_Total_1258.3', 'Cargo_Total_1258.35', 'Cargo_Total_1258.6', 'Cargo_Total_1259', 'Cargo_Total_1259.35', 'Cargo_Total_126.05', 'Cargo_Total_1260.7', 'Cargo_Total_1261', 'Cargo_Total_1261.35', 'Cargo_Total_1261.45', 'Cargo_Total_1261.7', 'Cargo_Total_1263.05', 'Cargo_Total_1263.85', 'Cargo_Total_1263.9', 'Cargo_Total_1264.2', 'Cargo_Total_1265.65', 'Cargo_Total_1266.1', 'Cargo_Total_1266.35', 'Cargo_Total_1266.4', 'Cargo_Total_1267', 'Cargo_Total_1267.05', 'Cargo_Total_1267.2', 'Cargo_Total_1267.95', 'Cargo_Total_1268.85', 'Cargo_Total_1269.1', 'Cargo_Total_1269.55', 'Cargo_Total_1269.6', 'Cargo_Total_127.1', 'Cargo_Total_1270.2', 'Cargo_Total_1270.25', 'Cargo_Total_1270.55', 'Cargo_Total_1271.8', 'Cargo_Total_1272.05', 'Cargo_Total_1273.3', 'Cargo_Total_1274.05', 'Cargo_Total_1274.45', 'Cargo_Total_1275.6', 'Cargo_Total_1275.65', 'Cargo_Total_1275.7', 'Cargo_Total_1275.85', 'Cargo_Total_1277.5', 'Cargo_Total_1277.75', 'Cargo_Total_1278.8', 'Cargo_Total_1279', 'Cargo_Total_128.6', 'Cargo_Total_1281', 'Cargo_Total_1281.25', 'Cargo_Total_1282.85', 'Cargo_Total_1284.2', 'Cargo_Total_1285.05', 'Cargo_Total_1285.8', 'Cargo_Total_1286', 'Cargo_Total_1286.05', 'Cargo_Total_1287.85', 'Cargo_Total_1288', 'Cargo_Total_1288.3', 'Cargo_Total_1288.75', 'Cargo_Total_129.15', 'Cargo_Total_129.2', 'Cargo_Total_129.55', 'Cargo_Total_129.6', 'Cargo_Total_1290', 'Cargo_Total_1291.3', 'Cargo_Total_1291.35', 'Cargo_Total_1292.2', 'Cargo_Total_1292.6', 'Cargo_Total_1292.65', 'Cargo_Total_1293.8', 'Cargo_Total_1294.6', 'Cargo_Total_1295.4', 'Cargo_Total_1296.15', 'Cargo_Total_1296.8', 'Cargo_Total_1297.35', 'Cargo_Total_1297.8', 'Cargo_Total_1298.7', 'Cargo_Total_1299.1', 'Cargo_Total_1299.8', 'Cargo_Total_130.1', 'Cargo_Total_130.15', 'Cargo_Total_130.25', 'Cargo_Total_130.5', 'Cargo_Total_130.55', 'Cargo_Total_130.75', 'Cargo_Total_1301', 'Cargo_Total_1301.1', 'Cargo_Total_1301.7', 'Cargo_Total_1301.9', 'Cargo_Total_1302.65', 'Cargo_Total_1303.25', 'Cargo_Total_1303.5', 'Cargo_Total_1304.8', 'Cargo_Total_1304.85', 'Cargo_Total_1305.95', 'Cargo_Total_1306.3', 'Cargo_Total_1307.8', 'Cargo_Total_1308.1', 'Cargo_Total_1308.4', 'Cargo_Total_1309', 'Cargo_Total_1309.15', 'Cargo_Total_131.05', 'Cargo_Total_131.65', 'Cargo_Total_1311.3', 'Cargo_Total_1311.6', 'Cargo_Total_1311.75', 'Cargo_Total_1312.15', 'Cargo_Total_1312.45', 'Cargo_Total_1313.25', 'Cargo_Total_1313.55', 'Cargo_Total_1315', 'Cargo_Total_1315.35', 'Cargo_Total_1316.9', 'Cargo_Total_1317.95', 'Cargo_Total_1319.85', 'Cargo_Total_1319.95', 'Cargo_Total_132.2', 'Cargo_Total_132.25', 'Cargo_Total_132.4', 'Cargo_Total_1321.3', 'Cargo_Total_1322.55', 'Cargo_Total_1322.85', 'Cargo_Total_1323.7', 'Cargo_Total_1325.85', 'Cargo_Total_1326.25', 'Cargo_Total_1326.35', 'Cargo_Total_1327.15', 'Cargo_Total_1327.4', 'Cargo_Total_1327.85', 'Cargo_Total_1328.15', 'Cargo_Total_1328.35', 'Cargo_Total_1329.15', 'Cargo_Total_1329.2', 'Cargo_Total_1331.05', 'Cargo_Total_1332.4', 'Cargo_Total_1334', 'Cargo_Total_1334.45', 'Cargo_Total_1334.5', 'Cargo_Total_1335.2', 'Cargo_Total_1336.1', 'Cargo_Total_1336.15', 'Cargo_Total_1336.35', 'Cargo_Total_1336.65', 'Cargo_Total_1336.8', 'Cargo_Total_1336.9', 'Cargo_Total_1337.45', 'Cargo_Total_1337.5', 'Cargo_Total_1338.15', 'Cargo_Total_1339.8', 'Cargo_Total_134.05', 'Cargo_Total_134.35', 'Cargo_Total_134.5', 'Cargo_Total_134.6', 'Cargo_Total_134.7', 'Cargo_Total_134.75', 'Cargo_Total_1340.1', 'Cargo_Total_1341.5', 'Cargo_Total_1342.15', 'Cargo_Total_1343.4', 'Cargo_Total_1344.5', 'Cargo_Total_1345.55', 'Cargo_Total_1345.65', 'Cargo_Total_1345.75', 'Cargo_Total_1345.85', 'Cargo_Total_1346.2', 'Cargo_Total_1346.3', 'Cargo_Total_1346.9', 'Cargo_Total_1347.15', 'Cargo_Total_1348.5', 'Cargo_Total_1348.9', 'Cargo_Total_1348.95', 'Cargo_Total_135', 'Cargo_Total_135.2', 'Cargo_Total_135.75', 'Cargo_Total_1350.15', 'Cargo_Total_1354.4', 'Cargo_Total_1355.1', 'Cargo_Total_1355.45', 'Cargo_Total_1356.3', 'Cargo_Total_1356.7', 'Cargo_Total_1357.1', 'Cargo_Total_1358.6', 'Cargo_Total_1358.85', 'Cargo_Total_1359', 'Cargo_Total_1359.45', 'Cargo_Total_1359.5', 'Cargo_Total_1359.7', 'Cargo_Total_136.05', 'Cargo_Total_136.75', 'Cargo_Total_1360.25', 'Cargo_Total_1362.85', 'Cargo_Total_1363.25', 'Cargo_Total_1363.45', 'Cargo_Total_1364.3', 'Cargo_Total_1364.75', 'Cargo_Total_1367.75', 'Cargo_Total_1369.8', 'Cargo_Total_137.1', 'Cargo_Total_137.25', 'Cargo_Total_137.6', 'Cargo_Total_137.85', 'Cargo_Total_137.95', 'Cargo_Total_1370.35', 'Cargo_Total_1372.45', 'Cargo_Total_1372.9', 'Cargo_Total_1373', 'Cargo_Total_1373.05', 'Cargo_Total_1374.2', 'Cargo_Total_1374.35', 'Cargo_Total_1374.9', 'Cargo_Total_1375.15', 'Cargo_Total_1375.4', 'Cargo_Total_1375.6', 'Cargo_Total_1376.5', 'Cargo_Total_1377.7', 'Cargo_Total_1378.25', 'Cargo_Total_1378.45', 'Cargo_Total_1378.75', 'Cargo_Total_1379.6', 'Cargo_Total_1379.8', 'Cargo_Total_138.85', 'Cargo_Total_1380.1', 'Cargo_Total_1380.4', 'Cargo_Total_1381.2', 'Cargo_Total_1381.8', 'Cargo_Total_1382.9', 'Cargo_Total_1383.6', 'Cargo_Total_1384.75', 'Cargo_Total_1385.85', 'Cargo_Total_1386.8', 'Cargo_Total_1386.9', 'Cargo_Total_1387', 'Cargo_Total_1387.35', 'Cargo_Total_1387.45', 'Cargo_Total_1388', 'Cargo_Total_1388.45', 'Cargo_Total_1388.75', 'Cargo_Total_1389.2', 'Cargo_Total_1389.35', 'Cargo_Total_1389.6', 'Cargo_Total_1389.85', 'Cargo_Total_139.05', 'Cargo_Total_139.25', 'Cargo_Total_139.35', 'Cargo_Total_139.4', 'Cargo_Total_139.75', 'Cargo_Total_1390.6', 'Cargo_Total_1390.85', 'Cargo_Total_1391.15', 'Cargo_Total_1391.65', 'Cargo_Total_1392.25', 'Cargo_Total_1393.6', 'Cargo_Total_1394.55', 'Cargo_Total_1395.05', 'Cargo_Total_1396', 'Cargo_Total_1396.25', 'Cargo_Total_1396.9', 'Cargo_Total_1397.3', 'Cargo_Total_1397.65', 'Cargo_Total_1398.25', 'Cargo_Total_1398.6', 'Cargo_Total_1399.35', 'Cargo_Total_140.1', 'Cargo_Total_140.4', 'Cargo_Total_140.7', 'Cargo_Total_140.95', 'Cargo_Total_1400.3', 'Cargo_Total_1400.55', 'Cargo_Total_1400.85', 'Cargo_Total_1401.15', 'Cargo_Total_1401.4', 'Cargo_Total_1402.25', 'Cargo_Total_1403.1', 'Cargo_Total_1404.65', 'Cargo_Total_1405.3', 'Cargo_Total_1406', 'Cargo_Total_1406.65', 'Cargo_Total_1406.9', 'Cargo_Total_141.1', 'Cargo_Total_141.45', 'Cargo_Total_141.5', 'Cargo_Total_141.6', 'Cargo_Total_141.65', 'Cargo_Total_141.7', 'Cargo_Total_1410.25', 'Cargo_Total_1411.2', 'Cargo_Total_1411.35', 'Cargo_Total_1411.65', 'Cargo_Total_1411.9', 'Cargo_Total_1412.4', 'Cargo_Total_1412.65', 'Cargo_Total_1413', 'Cargo_Total_1414.2', 'Cargo_Total_1414.45', 'Cargo_Total_1414.65', 'Cargo_Total_1414.8', 'Cargo_Total_1415', 'Cargo_Total_1415.55', 'Cargo_Total_1415.85', 'Cargo_Total_1416.2', 'Cargo_Total_1416.5', 'Cargo_Total_1416.75', 'Cargo_Total_1417.9', 'Cargo_Total_1419.4', 'Cargo_Total_142.35', 'Cargo_Total_1421.75', 'Cargo_Total_1421.9', 'Cargo_Total_1422.05', 'Cargo_Total_1422.1', 'Cargo_Total_1422.65', 'Cargo_Total_1423.05', 'Cargo_Total_1423.15', 'Cargo_Total_1423.35', 'Cargo_Total_1423.65', 'Cargo_Total_1423.85', 'Cargo_Total_1424.2', 'Cargo_Total_1424.4', 'Cargo_Total_1424.5', 'Cargo_Total_1424.6', 'Cargo_Total_1424.9', 'Cargo_Total_1424.95', 'Cargo_Total_1425.45', 'Cargo_Total_1426.4', 'Cargo_Total_1426.45', 'Cargo_Total_1426.75', 'Cargo_Total_1427.55', 'Cargo_Total_1429.65', 'Cargo_Total_143.35', 'Cargo_Total_143.65', 'Cargo_Total_143.9', 'Cargo_Total_1430.05', 'Cargo_Total_1430.25', 'Cargo_Total_1430.95', 'Cargo_Total_1431.65', 'Cargo_Total_1432.55', 'Cargo_Total_1433.8', 'Cargo_Total_1434.1', 'Cargo_Total_1434.6', 'Cargo_Total_1436.95', 'Cargo_Total_1438.05', 'Cargo_Total_1439.35', 'Cargo_Total_144', 'Cargo_Total_144.15', 'Cargo_Total_144.35', 'Cargo_Total_144.55', 'Cargo_Total_144.8', 'Cargo_Total_144.95', 'Cargo_Total_1440.75', 'Cargo_Total_1441.1', 'Cargo_Total_1441.65', 'Cargo_Total_1441.8', 'Cargo_Total_1441.95', 'Cargo_Total_1442', 'Cargo_Total_1442.2', 'Cargo_Total_1442.6', 'Cargo_Total_1442.65', 'Cargo_Total_1443.65', 'Cargo_Total_1444.05', 'Cargo_Total_1444.65', 'Cargo_Total_1445.2', 'Cargo_Total_1445.3', 'Cargo_Total_1445.95', 'Cargo_Total_1446.8', 'Cargo_Total_1447.9', 'Cargo_Total_1448.6', 'Cargo_Total_1448.8', 'Cargo_Total_145', 'Cargo_Total_145.15', 'Cargo_Total_145.4', 'Cargo_Total_1451.1', 'Cargo_Total_1451.6', 'Cargo_Total_1451.9', 'Cargo_Total_1453.1', 'Cargo_Total_1454.15', 'Cargo_Total_1454.25', 'Cargo_Total_1457.25', 'Cargo_Total_1458.1', 'Cargo_Total_1459.35', 'Cargo_Total_146.05', 'Cargo_Total_146.3', 'Cargo_Total_146.4', 'Cargo_Total_146.6', 'Cargo_Total_146.65', 'Cargo_Total_146.9', 'Cargo_Total_1460.65', 'Cargo_Total_1460.85', 'Cargo_Total_1461.15', 'Cargo_Total_1461.45', 'Cargo_Total_1462.05', 'Cargo_Total_1462.6', 'Cargo_Total_1463.45', 'Cargo_Total_1463.5', 'Cargo_Total_1463.7', 'Cargo_Total_1465.75', 'Cargo_Total_1466.1', 'Cargo_Total_1468.75', 'Cargo_Total_1468.9', 'Cargo_Total_147.15', 'Cargo_Total_147.5', 'Cargo_Total_147.55', 'Cargo_Total_147.75', 'Cargo_Total_147.8', 'Cargo_Total_1470.05', 'Cargo_Total_1470.95', 'Cargo_Total_1471.75', 'Cargo_Total_1474.35', 'Cargo_Total_1474.75', 'Cargo_Total_1474.9', 'Cargo_Total_1476.25', 'Cargo_Total_1477.65', 'Cargo_Total_1478.85', 'Cargo_Total_148.05', 'Cargo_Total_1482.3', 'Cargo_Total_1483.25', 'Cargo_Total_1489.3', 'Cargo_Total_149.05', 'Cargo_Total_149.55', 'Cargo_Total_1490.4', 'Cargo_Total_1490.95', 'Cargo_Total_1492.1', 'Cargo_Total_1493.1', 'Cargo_Total_1493.2', 'Cargo_Total_1493.55', 'Cargo_Total_1493.75', 'Cargo_Total_1494.5', 'Cargo_Total_1495.1', 'Cargo_Total_1496.45', 'Cargo_Total_1496.9', 'Cargo_Total_1497.05', 'Cargo_Total_1497.9', 'Cargo_Total_1498.2', 'Cargo_Total_1498.35', 'Cargo_Total_1498.55', 'Cargo_Total_1498.65', 'Cargo_Total_1498.85', 'Cargo_Total_150', 'Cargo_Total_150.35', 'Cargo_Total_150.6', 'Cargo_Total_150.75', 'Cargo_Total_150.85', 'Cargo_Total_1500.25', 'Cargo_Total_1500.5', 'Cargo_Total_1500.95', 'Cargo_Total_1501.75', 'Cargo_Total_1502.25', 'Cargo_Total_1502.65', 'Cargo_Total_1504.05', 'Cargo_Total_1505.05', 'Cargo_Total_1505.15', 'Cargo_Total_1505.35', 'Cargo_Total_1505.45', 'Cargo_Total_1505.85', 'Cargo_Total_1505.9', 'Cargo_Total_1506.4', 'Cargo_Total_1507', 'Cargo_Total_1509.8', 'Cargo_Total_1509.9', 'Cargo_Total_151.3', 'Cargo_Total_151.65', 'Cargo_Total_151.75', 'Cargo_Total_151.8', 'Cargo_Total_1510.3', 'Cargo_Total_1510.5', 'Cargo_Total_1511.2', 'Cargo_Total_1513.6', 'Cargo_Total_1514.85', 'Cargo_Total_1515.1', 'Cargo_Total_1516.6', 'Cargo_Total_1517.5', 'Cargo_Total_1519', 'Cargo_Total_152.3', 'Cargo_Total_152.45', 'Cargo_Total_152.6', 'Cargo_Total_152.7', 'Cargo_Total_152.95', 'Cargo_Total_1520.1', 'Cargo_Total_1520.9', 'Cargo_Total_1521.2', 'Cargo_Total_1522.65', 'Cargo_Total_1522.7', 'Cargo_Total_1523.4', 'Cargo_Total_1524.85', 'Cargo_Total_1525.35', 'Cargo_Total_1527.35', 'Cargo_Total_1527.5', 'Cargo_Total_1529.2', 'Cargo_Total_1529.45', 'Cargo_Total_1529.65', 'Cargo_Total_153.05', 'Cargo_Total_153.3', 'Cargo_Total_153.8', 'Cargo_Total_153.95', 'Cargo_Total_1530.6', 'Cargo_Total_1531.4', 'Cargo_Total_1532.45', 'Cargo_Total_1533.8', 'Cargo_Total_1534.05', 'Cargo_Total_1534.75', 'Cargo_Total_1536.75', 'Cargo_Total_1537.85', 'Cargo_Total_1537.9', 'Cargo_Total_1538.6', 'Cargo_Total_1539.45', 'Cargo_Total_1539.75', 'Cargo_Total_1539.8', 'Cargo_Total_154.3', 'Cargo_Total_154.55', 'Cargo_Total_154.65', 'Cargo_Total_154.8', 'Cargo_Total_154.85', 'Cargo_Total_1540.05', 'Cargo_Total_1540.2', 'Cargo_Total_1540.35', 'Cargo_Total_1544.05', 'Cargo_Total_1545.4', 'Cargo_Total_1546.3', 'Cargo_Total_1547.35', 'Cargo_Total_1548.65', 'Cargo_Total_1549.75', 'Cargo_Total_155.35', 'Cargo_Total_155.65', 'Cargo_Total_155.8', 'Cargo_Total_155.9', 'Cargo_Total_1551.6', 'Cargo_Total_1553.2', 'Cargo_Total_1553.9', 'Cargo_Total_1553.95', 'Cargo_Total_1554', 'Cargo_Total_1554.9', 'Cargo_Total_1555.65', 'Cargo_Total_1556.85', 'Cargo_Total_1558.65', 'Cargo_Total_1558.7', 'Cargo_Total_1559.15', 'Cargo_Total_1559.25', 'Cargo_Total_1559.3', 'Cargo_Total_1559.45', 'Cargo_Total_156.1', 'Cargo_Total_156.25', 'Cargo_Total_156.35', 'Cargo_Total_156.4', 'Cargo_Total_156.85', 'Cargo_Total_1561.5', 'Cargo_Total_1563.9', 'Cargo_Total_1563.95', 'Cargo_Total_1564.05', 'Cargo_Total_1564.4', 'Cargo_Total_1565.7', 'Cargo_Total_1566.75', 'Cargo_Total_1566.9', 'Cargo_Total_1567', 'Cargo_Total_1567.55', 'Cargo_Total_157.55', 'Cargo_Total_157.65', 'Cargo_Total_157.75', 'Cargo_Total_1570.7', 'Cargo_Total_1573.05', 'Cargo_Total_1573.7', 'Cargo_Total_1573.95', 'Cargo_Total_1574.45', 'Cargo_Total_1574.5', 'Cargo_Total_1579.7', 'Cargo_Total_158.35', 'Cargo_Total_158.4', 'Cargo_Total_158.95', 'Cargo_Total_1580.1', 'Cargo_Total_1581.2', 'Cargo_Total_1581.95', 'Cargo_Total_1582.75', 'Cargo_Total_1583.5', 'Cargo_Total_1584.8', 'Cargo_Total_1587.55', 'Cargo_Total_1588.25', 'Cargo_Total_1588.7', 'Cargo_Total_1588.75', 'Cargo_Total_159.15', 'Cargo_Total_159.2', 'Cargo_Total_159.35', 'Cargo_Total_159.4', 'Cargo_Total_159.45', 'Cargo_Total_1592.35', 'Cargo_Total_1593.1', 'Cargo_Total_1594.75', 'Cargo_Total_1595.5', 'Cargo_Total_1596.6', 'Cargo_Total_1597.05', 'Cargo_Total_1597.25', 'Cargo_Total_1597.4', 'Cargo_Total_160.05', 'Cargo_Total_160.75', 'Cargo_Total_160.8', 'Cargo_Total_160.85', 'Cargo_Total_1600.25', 'Cargo_Total_1600.95', 'Cargo_Total_1601.2', 'Cargo_Total_1601.5', 'Cargo_Total_1604.5', 'Cargo_Total_1607.2', 'Cargo_Total_1608.15', 'Cargo_Total_161.15', 'Cargo_Total_161.45', 'Cargo_Total_161.5', 'Cargo_Total_161.65', 'Cargo_Total_161.95', 'Cargo_Total_1611', 'Cargo_Total_1611.15', 'Cargo_Total_1611.65', 'Cargo_Total_1612.2', 'Cargo_Total_1612.75', 'Cargo_Total_1614.05', 'Cargo_Total_1614.2', 'Cargo_Total_1614.7', 'Cargo_Total_1614.9', 'Cargo_Total_1615.1', 'Cargo_Total_1616.15', 'Cargo_Total_1617.5', 'Cargo_Total_1618.2', 'Cargo_Total_162.15', 'Cargo_Total_162.3', 'Cargo_Total_162.45', 'Cargo_Total_162.55', 'Cargo_Total_1620.2', 'Cargo_Total_1620.25', 'Cargo_Total_1620.45', 'Cargo_Total_1620.8', 'Cargo_Total_1621.35', 'Cargo_Total_1622.45', 'Cargo_Total_1623.15', 'Cargo_Total_1623.4', 'Cargo_Total_1625', 'Cargo_Total_1625.65', 'Cargo_Total_1626.05', 'Cargo_Total_1626.4', 'Cargo_Total_1629.2', 'Cargo_Total_163.2', 'Cargo_Total_163.55', 'Cargo_Total_163.6', 'Cargo_Total_163.7', 'Cargo_Total_1630.4', 'Cargo_Total_1633', 'Cargo_Total_1636.95', 'Cargo_Total_1637.3', 'Cargo_Total_1637.4', 'Cargo_Total_1638.7', 'Cargo_Total_1639.3', 'Cargo_Total_164.3', 'Cargo_Total_164.5', 'Cargo_Total_164.6', 'Cargo_Total_164.85', 'Cargo_Total_1640', 'Cargo_Total_1641.3', 'Cargo_Total_1641.8', 'Cargo_Total_1642.75', 'Cargo_Total_1643.25', 'Cargo_Total_1643.55', 'Cargo_Total_1646.45', 'Cargo_Total_1647', 'Cargo_Total_1648.45', 'Cargo_Total_165', 'Cargo_Total_165.2', 'Cargo_Total_165.35', 'Cargo_Total_165.4', 'Cargo_Total_165.45', 'Cargo_Total_165.5', 'Cargo_Total_1651.95', 'Cargo_Total_1652.1', 'Cargo_Total_1652.4', 'Cargo_Total_1652.95', 'Cargo_Total_1653.45', 'Cargo_Total_1653.85', 'Cargo_Total_1654.45', 'Cargo_Total_1654.6', 'Cargo_Total_1654.7', 'Cargo_Total_1654.75', 'Cargo_Total_1654.85', 'Cargo_Total_1655.35', 'Cargo_Total_1657.4', 'Cargo_Total_166.3', 'Cargo_Total_1660', 'Cargo_Total_1662.05', 'Cargo_Total_1663.5', 'Cargo_Total_1663.75', 'Cargo_Total_1664.3', 'Cargo_Total_1665.2', 'Cargo_Total_1667.25', 'Cargo_Total_1669.4', 'Cargo_Total_167.2', 'Cargo_Total_167.3', 'Cargo_Total_167.5', 'Cargo_Total_1671.6', 'Cargo_Total_1672.1', 'Cargo_Total_1672.15', 'Cargo_Total_1672.35', 'Cargo_Total_1673.4', 'Cargo_Total_1673.8', 'Cargo_Total_1676.95', 'Cargo_Total_1677.85', 'Cargo_Total_1678.05', 'Cargo_Total_1679.25', 'Cargo_Total_1679.4', 'Cargo_Total_1679.65', 'Cargo_Total_168.15', 'Cargo_Total_168.2', 'Cargo_Total_168.5', 'Cargo_Total_168.6', 'Cargo_Total_168.65', 'Cargo_Total_168.9', 'Cargo_Total_1680.25', 'Cargo_Total_1681.6', 'Cargo_Total_1682.05', 'Cargo_Total_1682.4', 'Cargo_Total_1683.6', 'Cargo_Total_1683.7', 'Cargo_Total_1685.9', 'Cargo_Total_1686.15', 'Cargo_Total_1686.85', 'Cargo_Total_1687.95', 'Cargo_Total_1688.9', 'Cargo_Total_1689.45', 'Cargo_Total_169.05', 'Cargo_Total_169.45', 'Cargo_Total_169.65', 'Cargo_Total_169.75', 'Cargo_Total_169.8', 'Cargo_Total_1691.9', 'Cargo_Total_1692.6', 'Cargo_Total_1696.2', 'Cargo_Total_1697.7', 'Cargo_Total_1698.55', 'Cargo_Total_1699.15', 'Cargo_Total_170.5', 'Cargo_Total_170.85', 'Cargo_Total_170.9', 'Cargo_Total_1700.9', 'Cargo_Total_1701.65', 'Cargo_Total_1702.9', 'Cargo_Total_1704.95', 'Cargo_Total_1706.45', 'Cargo_Total_1709.1', 'Cargo_Total_1709.15', 'Cargo_Total_171', 'Cargo_Total_171.15', 'Cargo_Total_171.45', 'Cargo_Total_1710.15', 'Cargo_Total_1710.45', 'Cargo_Total_1710.9', 'Cargo_Total_1712.7', 'Cargo_Total_1712.9', 'Cargo_Total_1713.1', 'Cargo_Total_1714.55', 'Cargo_Total_1714.95', 'Cargo_Total_1715.1', 'Cargo_Total_1715.15', 'Cargo_Total_1715.65', 'Cargo_Total_1716.45', 'Cargo_Total_1718.2', 'Cargo_Total_1718.35', 'Cargo_Total_1718.95', 'Cargo_Total_1719.15', 'Cargo_Total_172.35', 'Cargo_Total_172.85', 'Cargo_Total_1723.95', 'Cargo_Total_1724.15', 'Cargo_Total_1725', 'Cargo_Total_1725.4', 'Cargo_Total_1725.95', 'Cargo_Total_1727.5', 'Cargo_Total_1728.2', 'Cargo_Total_1729.35', 'Cargo_Total_173', 'Cargo_Total_173.15', 'Cargo_Total_1730.35', 'Cargo_Total_1730.65', 'Cargo_Total_1732.6', 'Cargo_Total_1732.95', 'Cargo_Total_1733.15', 'Cargo_Total_1734.2', 'Cargo_Total_1734.5', 'Cargo_Total_1734.65', 'Cargo_Total_1737.45', 'Cargo_Total_1738.9', 'Cargo_Total_1739.6', 'Cargo_Total_174.2', 'Cargo_Total_174.3', 'Cargo_Total_174.45', 'Cargo_Total_174.65', 'Cargo_Total_174.7', 'Cargo_Total_174.75', 'Cargo_Total_174.8', 'Cargo_Total_1740.7', 'Cargo_Total_1740.8', 'Cargo_Total_1742.45', 'Cargo_Total_1742.5', 'Cargo_Total_1742.75', 'Cargo_Total_1742.95', 'Cargo_Total_1743.05', 'Cargo_Total_1743.5', 'Cargo_Total_1743.9', 'Cargo_Total_1745.2', 'Cargo_Total_1745.5', 'Cargo_Total_1747.2', 'Cargo_Total_1747.85', 'Cargo_Total_1748.55', 'Cargo_Total_1748.9', 'Cargo_Total_1750.7', 'Cargo_Total_1750.85', 'Cargo_Total_1752.45', 'Cargo_Total_1752.55', 'Cargo_Total_1752.65', 'Cargo_Total_1753', 'Cargo_Total_1755.35', 'Cargo_Total_1756.2', 'Cargo_Total_1756.6', 'Cargo_Total_1758.6', 'Cargo_Total_1758.9', 'Cargo_Total_1759.4', 'Cargo_Total_1759.55', 'Cargo_Total_176.2', 'Cargo_Total_176.3', 'Cargo_Total_1760.25', 'Cargo_Total_1761.05', 'Cargo_Total_1761.45', 'Cargo_Total_1763.55', 'Cargo_Total_1764.75', 'Cargo_Total_1765.95', 'Cargo_Total_1766.75', 'Cargo_Total_1767.35', 'Cargo_Total_1769.6', 'Cargo_Total_177.4', 'Cargo_Total_1772.25', 'Cargo_Total_1775.8', 'Cargo_Total_1776', 'Cargo_Total_1776.45', 'Cargo_Total_1776.55', 'Cargo_Total_1776.95', 'Cargo_Total_1777.6', 'Cargo_Total_1777.9', 'Cargo_Total_1778.5', 'Cargo_Total_1778.7', 'Cargo_Total_1779.95', 'Cargo_Total_178.1', 'Cargo_Total_178.5', 'Cargo_Total_178.7', 'Cargo_Total_178.8', 'Cargo_Total_178.85', 'Cargo_Total_1781.35', 'Cargo_Total_1782', 'Cargo_Total_1782.05', 'Cargo_Total_1782.4', 'Cargo_Total_1783.6', 'Cargo_Total_1783.75', 'Cargo_Total_1784.5', 'Cargo_Total_1784.9', 'Cargo_Total_1785.65', 'Cargo_Total_1787.35', 'Cargo_Total_1789.25', 'Cargo_Total_1789.65', 'Cargo_Total_1789.9', 'Cargo_Total_179.25', 'Cargo_Total_179.35', 'Cargo_Total_179.85', 'Cargo_Total_1790.15', 'Cargo_Total_1790.35', 'Cargo_Total_1790.6', 'Cargo_Total_1790.65', 'Cargo_Total_1790.8', 'Cargo_Total_1793.25', 'Cargo_Total_1794.65', 'Cargo_Total_1794.8', 'Cargo_Total_1796.55', 'Cargo_Total_1797.1', 'Cargo_Total_1797.75', 'Cargo_Total_1798.65', 'Cargo_Total_1798.9', 'Cargo_Total_1799.3', 'Cargo_Total_18.8', 'Cargo_Total_18.85', 'Cargo_Total_18.9', 'Cargo_Total_180.25', 'Cargo_Total_180.3', 'Cargo_Total_180.7', 'Cargo_Total_1800.05', 'Cargo_Total_1801.1', 'Cargo_Total_1801.9', 'Cargo_Total_1802.15', 'Cargo_Total_1802.55', 'Cargo_Total_1803.7', 'Cargo_Total_1806.35', 'Cargo_Total_1808.7', 'Cargo_Total_1809.35', 'Cargo_Total_181.1', 'Cargo_Total_181.5', 'Cargo_Total_181.6', 'Cargo_Total_181.65', 'Cargo_Total_181.7', 'Cargo_Total_181.8', 'Cargo_Total_1810.55', 'Cargo_Total_1810.85', 'Cargo_Total_1813.1', 'Cargo_Total_1813.35', 'Cargo_Total_1815', 'Cargo_Total_1815.3', 'Cargo_Total_1815.65', 'Cargo_Total_1816.2', 'Cargo_Total_1816.75', 'Cargo_Total_1818.3', 'Cargo_Total_1818.9', 'Cargo_Total_1820.45', 'Cargo_Total_1820.9', 'Cargo_Total_1821.2', 'Cargo_Total_1821.8', 'Cargo_Total_1821.95', 'Cargo_Total_1825.5', 'Cargo_Total_1826.7', 'Cargo_Total_183.15', 'Cargo_Total_183.75', 'Cargo_Total_1830.05', 'Cargo_Total_1830.1', 'Cargo_Total_1832.4', 'Cargo_Total_1834.15', 'Cargo_Total_1834.95', 'Cargo_Total_1835.3', 'Cargo_Total_1836.25', 'Cargo_Total_1836.9', 'Cargo_Total_1837.7', 'Cargo_Total_1837.9', 'Cargo_Total_1838.15', 'Cargo_Total_184.05', 'Cargo_Total_184.1', 'Cargo_Total_184.15', 'Cargo_Total_184.4', 'Cargo_Total_184.65', 'Cargo_Total_184.95', 'Cargo_Total_1840.75', 'Cargo_Total_1841.2', 'Cargo_Total_1841.9', 'Cargo_Total_1842.7', 'Cargo_Total_1842.8', 'Cargo_Total_1843.05', 'Cargo_Total_1845.9', 'Cargo_Total_1846.65', 'Cargo_Total_1847.55', 'Cargo_Total_1848.8', 'Cargo_Total_1849.2', 'Cargo_Total_1849.95', 'Cargo_Total_185.2', 'Cargo_Total_185.4', 'Cargo_Total_185.55', 'Cargo_Total_185.6', 'Cargo_Total_1850.65', 'Cargo_Total_1851.45', 'Cargo_Total_1852.85', 'Cargo_Total_1855.65', 'Cargo_Total_1856.4', 'Cargo_Total_1857.25', 'Cargo_Total_1857.3', 'Cargo_Total_1857.75', 'Cargo_Total_1857.85', 'Cargo_Total_1859.1', 'Cargo_Total_1859.2', 'Cargo_Total_1859.5', 'Cargo_Total_186.05', 'Cargo_Total_186.15', 'Cargo_Total_186.3', 'Cargo_Total_1861.1', 'Cargo_Total_1861.5', 'Cargo_Total_1862.9', 'Cargo_Total_1863.8', 'Cargo_Total_1864.2', 'Cargo_Total_1864.65', 'Cargo_Total_1866.45', 'Cargo_Total_1867.6', 'Cargo_Total_1867.7', 'Cargo_Total_1868.4', 'Cargo_Total_187.35', 'Cargo_Total_187.45', 'Cargo_Total_187.75', 'Cargo_Total_1871.15', 'Cargo_Total_1871.85', 'Cargo_Total_1872.2', 'Cargo_Total_1873.7', 'Cargo_Total_1874.3', 'Cargo_Total_1874.45', 'Cargo_Total_1875.25', 'Cargo_Total_1875.55', 'Cargo_Total_1879.25', 'Cargo_Total_188.1', 'Cargo_Total_188.7', 'Cargo_Total_1880.85', 'Cargo_Total_1882.55', 'Cargo_Total_1882.8', 'Cargo_Total_1884.65', 'Cargo_Total_1885.15', 'Cargo_Total_1886.25', 'Cargo_Total_1886.4', 'Cargo_Total_1887', 'Cargo_Total_1888.25', 'Cargo_Total_1888.45', 'Cargo_Total_1888.65', 'Cargo_Total_1889.5', 'Cargo_Total_189.1', 'Cargo_Total_189.2', 'Cargo_Total_189.45', 'Cargo_Total_189.95', 'Cargo_Total_1893.5', 'Cargo_Total_1893.95', 'Cargo_Total_1898.1', 'Cargo_Total_1899.65', 'Cargo_Total_19', 'Cargo_Total_19.05', 'Cargo_Total_19.1', 'Cargo_Total_19.15', 'Cargo_Total_19.2', 'Cargo_Total_19.25', 'Cargo_Total_19.3', 'Cargo_Total_19.4', 'Cargo_Total_19.45', 'Cargo_Total_19.5', 'Cargo_Total_19.55', 'Cargo_Total_19.6', 'Cargo_Total_19.65', 'Cargo_Total_19.7', 'Cargo_Total_19.75', 'Cargo_Total_19.8', 'Cargo_Total_19.85', 'Cargo_Total_19.9', 'Cargo_Total_19.95', 'Cargo_Total_190.05', 'Cargo_Total_190.1', 'Cargo_Total_190.25', 'Cargo_Total_190.5', 'Cargo_Total_1900.25', 'Cargo_Total_1901', 'Cargo_Total_1901.05', 'Cargo_Total_1901.25', 'Cargo_Total_1901.65', 'Cargo_Total_1902', 'Cargo_Total_1905.4', 'Cargo_Total_1905.7', 'Cargo_Total_1907.85', 'Cargo_Total_1908.35', 'Cargo_Total_191.05', 'Cargo_Total_191.1', 'Cargo_Total_191.35', 'Cargo_Total_1910.6', 'Cargo_Total_1910.75', 'Cargo_Total_1911.5', 'Cargo_Total_1912.15', 'Cargo_Total_1912.85', 'Cargo_Total_1914.5', 'Cargo_Total_1914.9', 'Cargo_Total_1916', 'Cargo_Total_1916.2', 'Cargo_Total_1917.1', 'Cargo_Total_1923.5', 'Cargo_Total_1923.85', 'Cargo_Total_1924.1', 'Cargo_Total_1927.3', 'Cargo_Total_1928.7', 'Cargo_Total_1929', 'Cargo_Total_1929.35', 'Cargo_Total_1929.95', 'Cargo_Total_193.05', 'Cargo_Total_193.6', 'Cargo_Total_193.8', 'Cargo_Total_1930.9', 'Cargo_Total_1931.3', 'Cargo_Total_1931.75', 'Cargo_Total_1932.75', 'Cargo_Total_1934.45', 'Cargo_Total_1936.85', 'Cargo_Total_1937.4', 'Cargo_Total_1938.05', 'Cargo_Total_1938.9', 'Cargo_Total_1939.35', 'Cargo_Total_194.2', 'Cargo_Total_194.55', 'Cargo_Total_1940.8', 'Cargo_Total_1940.85', 'Cargo_Total_1941.5', 'Cargo_Total_1943.2', 'Cargo_Total_1943.9', 'Cargo_Total_1948.35', 'Cargo_Total_1949.4', 'Cargo_Total_195.05', 'Cargo_Total_195.3', 'Cargo_Total_195.65', 'Cargo_Total_1951', 'Cargo_Total_1952.25', 'Cargo_Total_1952.8', 'Cargo_Total_1955.4', 'Cargo_Total_1956.4', 'Cargo_Total_1957.1', 'Cargo_Total_1958.45', 'Cargo_Total_1958.95', 'Cargo_Total_1959.5', 'Cargo_Total_196.15', 'Cargo_Total_196.35', 'Cargo_Total_196.4', 'Cargo_Total_196.75', 'Cargo_Total_196.9', 'Cargo_Total_196.95', 'Cargo_Total_1961.6', 'Cargo_Total_1964.6', 'Cargo_Total_1968.1', 'Cargo_Total_197.4', 'Cargo_Total_197.7', 'Cargo_Total_1970.5', 'Cargo_Total_1971.15', 'Cargo_Total_1971.5', 'Cargo_Total_1972.35', 'Cargo_Total_1973.75', 'Cargo_Total_1974.8', 'Cargo_Total_1975.85', 'Cargo_Total_1978.65', 'Cargo_Total_198', 'Cargo_Total_198.1', 'Cargo_Total_198.25', 'Cargo_Total_198.5', 'Cargo_Total_198.6', 'Cargo_Total_198.7', 'Cargo_Total_1980.3', 'Cargo_Total_1982.1', 'Cargo_Total_1982.6', 'Cargo_Total_1983.15', 'Cargo_Total_1985.15', 'Cargo_Total_1988.05', 'Cargo_Total_199.45', 'Cargo_Total_199.75', 'Cargo_Total_199.85', 'Cargo_Total_1990.5', 'Cargo_Total_1992.2', 'Cargo_Total_1992.55', 'Cargo_Total_1992.85', 'Cargo_Total_1992.95', 'Cargo_Total_1993.2', 'Cargo_Total_1993.25', 'Cargo_Total_1993.8', 'Cargo_Total_1994.3', 'Cargo_Total_20', 'Cargo_Total_20.05', 'Cargo_Total_20.1', 'Cargo_Total_20.15', 'Cargo_Total_20.2', 'Cargo_Total_20.25', 'Cargo_Total_20.3', 'Cargo_Total_20.35', 'Cargo_Total_20.4', 'Cargo_Total_20.45', 'Cargo_Total_20.5', 'Cargo_Total_20.55', 'Cargo_Total_20.6', 'Cargo_Total_20.65', 'Cargo_Total_20.7', 'Cargo_Total_20.75', 'Cargo_Total_20.8', 'Cargo_Total_20.85', 'Cargo_Total_20.9', 'Cargo_Total_20.95', 'Cargo_Total_200.2', 'Cargo_Total_2000.2', 'Cargo_Total_2001', 'Cargo_Total_2001.5', 'Cargo_Total_2003.6', 'Cargo_Total_2006.1', 'Cargo_Total_2006.95', 'Cargo_Total_2007.25', 'Cargo_Total_2007.85', 'Cargo_Total_201', 'Cargo_Total_201.1', 'Cargo_Total_201.7', 'Cargo_Total_201.95', 'Cargo_Total_2010.55', 'Cargo_Total_2010.95', 'Cargo_Total_2011.4', 'Cargo_Total_2012.7', 'Cargo_Total_2015.35', 'Cargo_Total_2015.8', 'Cargo_Total_2016.3', 'Cargo_Total_2016.45', 'Cargo_Total_2018.1', 'Cargo_Total_2018.4', 'Cargo_Total_2019.8', 'Cargo_Total_202.15', 'Cargo_Total_202.25', 'Cargo_Total_202.3', 'Cargo_Total_202.9', 'Cargo_Total_2020.9', 'Cargo_Total_2021.2', 'Cargo_Total_2021.35', 'Cargo_Total_2023.55', 'Cargo_Total_2024.1', 'Cargo_Total_2025.1', 'Cargo_Total_2028.8', 'Cargo_Total_2029.05', 'Cargo_Total_203.95', 'Cargo_Total_2030.3', 'Cargo_Total_2030.75', 'Cargo_Total_2031.95', 'Cargo_Total_2032.3', 'Cargo_Total_2033.05', 'Cargo_Total_2033.85', 'Cargo_Total_2034.25', 'Cargo_Total_2036.55', 'Cargo_Total_2038.7', 'Cargo_Total_204.55', 'Cargo_Total_204.7', 'Cargo_Total_2042.05', 'Cargo_Total_2043.45', 'Cargo_Total_2044.75', 'Cargo_Total_2044.95', 'Cargo_Total_2045.55', 'Cargo_Total_2048.8', 'Cargo_Total_2049.05', 'Cargo_Total_205.05', 'Cargo_Total_2053.05', 'Cargo_Total_2054.4', 'Cargo_Total_2058.5', 'Cargo_Total_206.15', 'Cargo_Total_206.6', 'Cargo_Total_2062.15', 'Cargo_Total_2065.15', 'Cargo_Total_2065.4', 'Cargo_Total_2066', 'Cargo_Total_2067', 'Cargo_Total_2068.55', 'Cargo_Total_207.35', 'Cargo_Total_207.4', 'Cargo_Total_2070.05', 'Cargo_Total_2070.6', 'Cargo_Total_2070.75', 'Cargo_Total_2072.75', 'Cargo_Total_2075.1', 'Cargo_Total_2076.05', 'Cargo_Total_2076.2', 'Cargo_Total_2077.95', 'Cargo_Total_2078.55', 'Cargo_Total_2078.95', 'Cargo_Total_208', 'Cargo_Total_208.25', 'Cargo_Total_208.45', 'Cargo_Total_208.7', 'Cargo_Total_208.85', 'Cargo_Total_2080.1', 'Cargo_Total_2082.95', 'Cargo_Total_2083.1', 'Cargo_Total_2085.45', 'Cargo_Total_2088.05', 'Cargo_Total_2088.45', 'Cargo_Total_2088.75', 'Cargo_Total_2088.8', 'Cargo_Total_209.1', 'Cargo_Total_209.9', 'Cargo_Total_2090.25', 'Cargo_Total_2092.9', 'Cargo_Total_2093.4', 'Cargo_Total_2093.9', 'Cargo_Total_2094.65', 'Cargo_Total_2094.9', 'Cargo_Total_2095', 'Cargo_Total_2096.1', 'Cargo_Total_21', 'Cargo_Total_21.05', 'Cargo_Total_21.1', 'Cargo_Total_210.3', 'Cargo_Total_210.65', 'Cargo_Total_210.75', 'Cargo_Total_2104.55', 'Cargo_Total_2106.05', 'Cargo_Total_2106.3', 'Cargo_Total_2107.15', 'Cargo_Total_2108.35', 'Cargo_Total_2109.35', 'Cargo_Total_211.95', 'Cargo_Total_2110.15', 'Cargo_Total_2111.3', 'Cargo_Total_2111.45', 'Cargo_Total_2117.2', 'Cargo_Total_2117.25', 'Cargo_Total_2119.5', 'Cargo_Total_212.3', 'Cargo_Total_212.4', 'Cargo_Total_2122.05', 'Cargo_Total_2122.45', 'Cargo_Total_213.35', 'Cargo_Total_2130.45', 'Cargo_Total_2130.55', 'Cargo_Total_2134.3', 'Cargo_Total_2135.5', 'Cargo_Total_2136.9', 'Cargo_Total_2139.1', 'Cargo_Total_2139.2', 'Cargo_Total_214.4', 'Cargo_Total_214.55', 'Cargo_Total_214.75', 'Cargo_Total_2142.8', 'Cargo_Total_2145', 'Cargo_Total_2146.5', 'Cargo_Total_2149.05', 'Cargo_Total_215.2', 'Cargo_Total_215.25', 'Cargo_Total_215.8', 'Cargo_Total_2151.6', 'Cargo_Total_2156.25', 'Cargo_Total_2157.3', 'Cargo_Total_2157.5', 'Cargo_Total_2157.95', 'Cargo_Total_216.2', 'Cargo_Total_216.45', 'Cargo_Total_216.75', 'Cargo_Total_216.9', 'Cargo_Total_2162.6', 'Cargo_Total_2165.05', 'Cargo_Total_2168.15', 'Cargo_Total_2168.9', 'Cargo_Total_2169.4', 'Cargo_Total_2169.75', 'Cargo_Total_2169.8', 'Cargo_Total_217.1', 'Cargo_Total_217.45', 'Cargo_Total_217.5', 'Cargo_Total_217.55', 'Cargo_Total_2171.15', 'Cargo_Total_2172.05', 'Cargo_Total_2177.45', 'Cargo_Total_2178.6', 'Cargo_Total_218.5', 'Cargo_Total_218.55', 'Cargo_Total_2180.55', 'Cargo_Total_2181.55', 'Cargo_Total_2181.75', 'Cargo_Total_2184.35', 'Cargo_Total_2184.6', 'Cargo_Total_2184.85', 'Cargo_Total_2186.4', 'Cargo_Total_2187.15', 'Cargo_Total_2187.55', 'Cargo_Total_2188.45', 'Cargo_Total_2188.5', 'Cargo_Total_219', 'Cargo_Total_219.35', 'Cargo_Total_219.5', 'Cargo_Total_219.65', 'Cargo_Total_2191.15', 'Cargo_Total_2191.7', 'Cargo_Total_2192.9', 'Cargo_Total_2193', 'Cargo_Total_2193.2', 'Cargo_Total_2193.65', 'Cargo_Total_2196.15', 'Cargo_Total_2196.3', 'Cargo_Total_2196.45', 'Cargo_Total_2198.3', 'Cargo_Total_2198.9', 'Cargo_Total_2199.05', 'Cargo_Total_220.1', 'Cargo_Total_220.35', 'Cargo_Total_220.4', 'Cargo_Total_220.45', 'Cargo_Total_220.6', 'Cargo_Total_220.65', 'Cargo_Total_220.75', 'Cargo_Total_220.8', 'Cargo_Total_220.95', 'Cargo_Total_2200.25', 'Cargo_Total_2200.7', 'Cargo_Total_2201.75', 'Cargo_Total_2203.1', 'Cargo_Total_2203.65', 'Cargo_Total_2203.7', 'Cargo_Total_2204.35', 'Cargo_Total_2208.05', 'Cargo_Total_2208.75', 'Cargo_Total_2209.15', 'Cargo_Total_2209.75', 'Cargo_Total_221.1', 'Cargo_Total_221.35', 'Cargo_Total_221.7', 'Cargo_Total_221.9', 'Cargo_Total_2210.2', 'Cargo_Total_2211.8', 'Cargo_Total_2212.55', 'Cargo_Total_2215', 'Cargo_Total_2215.25', 'Cargo_Total_2215.4', 'Cargo_Total_2215.45', 'Cargo_Total_2217.15', 'Cargo_Total_222.3', 'Cargo_Total_222.65', 'Cargo_Total_2220.1', 'Cargo_Total_2221.55', 'Cargo_Total_2224.5', 'Cargo_Total_2227.1', 'Cargo_Total_2227.8', 'Cargo_Total_223.15', 'Cargo_Total_223.45', 'Cargo_Total_223.6', 'Cargo_Total_223.75', 'Cargo_Total_223.9', 'Cargo_Total_2230.85', 'Cargo_Total_2231.05', 'Cargo_Total_2234.55', 'Cargo_Total_2234.95', 'Cargo_Total_2236.2', 'Cargo_Total_2237.55', 'Cargo_Total_2238.5', 'Cargo_Total_2239.4', 'Cargo_Total_2239.65', 'Cargo_Total_224.05', 'Cargo_Total_224.5', 'Cargo_Total_224.85', 'Cargo_Total_2243.9', 'Cargo_Total_2244.95', 'Cargo_Total_2245.4', 'Cargo_Total_2248.05', 'Cargo_Total_2249.1', 'Cargo_Total_2249.95', 'Cargo_Total_225.55', 'Cargo_Total_225.6', 'Cargo_Total_225.65', 'Cargo_Total_225.75', 'Cargo_Total_225.85', 'Cargo_Total_2250.65', 'Cargo_Total_2254.2', 'Cargo_Total_2257.75', 'Cargo_Total_2258.25', 'Cargo_Total_2259.35', 'Cargo_Total_226.2', 'Cargo_Total_226.45', 'Cargo_Total_226.55', 'Cargo_Total_226.8', 'Cargo_Total_226.95', 'Cargo_Total_2263.4', 'Cargo_Total_2263.45', 'Cargo_Total_2264.05', 'Cargo_Total_2264.5', 'Cargo_Total_2265', 'Cargo_Total_2265.25', 'Cargo_Total_227.35', 'Cargo_Total_227.45', 'Cargo_Total_2271.85', 'Cargo_Total_2272.8', 'Cargo_Total_2274.1', 'Cargo_Total_2274.35', 'Cargo_Total_2274.9', 'Cargo_Total_2275.1', 'Cargo_Total_2276.1', 'Cargo_Total_2276.95', 'Cargo_Total_2277.65', 'Cargo_Total_2278.75', 'Cargo_Total_228', 'Cargo_Total_228.4', 'Cargo_Total_228.65', 'Cargo_Total_228.75', 'Cargo_Total_2281.6', 'Cargo_Total_2282.55', 'Cargo_Total_2282.95', 'Cargo_Total_2283.15', 'Cargo_Total_2283.3', 'Cargo_Total_2287.25', 'Cargo_Total_2288.7', 'Cargo_Total_2289.9', 'Cargo_Total_229.4', 'Cargo_Total_229.5', 'Cargo_Total_229.55', 'Cargo_Total_229.6', 'Cargo_Total_229.7', 'Cargo_Total_2291.2', 'Cargo_Total_2292.75', 'Cargo_Total_2293.6', 'Cargo_Total_2296.25', 'Cargo_Total_2298.55', 'Cargo_Total_2298.9', 'Cargo_Total_23.45', 'Cargo_Total_2301.15', 'Cargo_Total_2302.35', 'Cargo_Total_2303.35', 'Cargo_Total_2308.6', 'Cargo_Total_2309.55', 'Cargo_Total_231.45', 'Cargo_Total_231.8', 'Cargo_Total_2310.2', 'Cargo_Total_2312.55', 'Cargo_Total_2313.8', 'Cargo_Total_2316.85', 'Cargo_Total_2317.1', 'Cargo_Total_2319.8', 'Cargo_Total_232.1', 'Cargo_Total_232.35', 'Cargo_Total_232.4', 'Cargo_Total_232.5', 'Cargo_Total_232.55', 'Cargo_Total_2320.8', 'Cargo_Total_2322.85', 'Cargo_Total_2324.7', 'Cargo_Total_2326.05', 'Cargo_Total_233.55', 'Cargo_Total_233.65', 'Cargo_Total_233.7', 'Cargo_Total_233.9', 'Cargo_Total_2331.3', 'Cargo_Total_2333.05', 'Cargo_Total_2333.85', 'Cargo_Total_2335.3', 'Cargo_Total_2337.45', 'Cargo_Total_2338.35', 'Cargo_Total_2339.3', 'Cargo_Total_234.85', 'Cargo_Total_2341.5', 'Cargo_Total_2341.55', 'Cargo_Total_2342.2', 'Cargo_Total_2343.85', 'Cargo_Total_2344.5', 'Cargo_Total_2345.2', 'Cargo_Total_2345.55', 'Cargo_Total_2347.85', 'Cargo_Total_2347.9', 'Cargo_Total_2348.45', 'Cargo_Total_2349.8', 'Cargo_Total_235', 'Cargo_Total_235.05', 'Cargo_Total_235.1', 'Cargo_Total_235.2', 'Cargo_Total_235.5', 'Cargo_Total_235.65', 'Cargo_Total_235.8', 'Cargo_Total_2351.45', 'Cargo_Total_2351.8', 'Cargo_Total_2354.8', 'Cargo_Total_2356.75', 'Cargo_Total_2357.75', 'Cargo_Total_2361.8', 'Cargo_Total_2362.1', 'Cargo_Total_2364', 'Cargo_Total_2365.15', 'Cargo_Total_2368.4', 'Cargo_Total_2369.05', 'Cargo_Total_2369.3', 'Cargo_Total_2369.7', 'Cargo_Total_237.2', 'Cargo_Total_237.25', 'Cargo_Total_237.3', 'Cargo_Total_237.65', 'Cargo_Total_237.7', 'Cargo_Total_237.75', 'Cargo_Total_237.95', 'Cargo_Total_2375.2', 'Cargo_Total_2375.4', 'Cargo_Total_2379.1', 'Cargo_Total_238.1', 'Cargo_Total_238.15', 'Cargo_Total_238.5', 'Cargo_Total_2381.55', 'Cargo_Total_2383.6', 'Cargo_Total_2384.15', 'Cargo_Total_2386.85', 'Cargo_Total_2387.75', 'Cargo_Total_239', 'Cargo_Total_239.05', 'Cargo_Total_239.45', 'Cargo_Total_239.55', 'Cargo_Total_239.75', 'Cargo_Total_2390.45', 'Cargo_Total_2391.15', 'Cargo_Total_2391.8', 'Cargo_Total_2395.05', 'Cargo_Total_2395.7', 'Cargo_Total_2398.4', 'Cargo_Total_24', 'Cargo_Total_24.05', 'Cargo_Total_24.2', 'Cargo_Total_24.25', 'Cargo_Total_24.4', 'Cargo_Total_24.45', 'Cargo_Total_24.6', 'Cargo_Total_24.7', 'Cargo_Total_24.75', 'Cargo_Total_24.8', 'Cargo_Total_24.9', 'Cargo_Total_240.45', 'Cargo_Total_2401.05', 'Cargo_Total_2404.1', 'Cargo_Total_2404.15', 'Cargo_Total_2404.85', 'Cargo_Total_2405.05', 'Cargo_Total_2406.1', 'Cargo_Total_2407.3', 'Cargo_Total_2409.9', 'Cargo_Total_241.3', 'Cargo_Total_2413.05', 'Cargo_Total_2414.55', 'Cargo_Total_2415.95', 'Cargo_Total_2416.1', 'Cargo_Total_2416.55', 'Cargo_Total_2419', 'Cargo_Total_2419.55', 'Cargo_Total_242', 'Cargo_Total_242.05', 'Cargo_Total_242.4', 'Cargo_Total_242.8', 'Cargo_Total_242.95', 'Cargo_Total_2421.6', 'Cargo_Total_2421.75', 'Cargo_Total_2423.4', 'Cargo_Total_2424.05', 'Cargo_Total_2424.45', 'Cargo_Total_2424.5', 'Cargo_Total_2425.4', 'Cargo_Total_2427.1', 'Cargo_Total_2427.35', 'Cargo_Total_2429.1', 'Cargo_Total_243.65', 'Cargo_Total_2431.35', 'Cargo_Total_2431.95', 'Cargo_Total_2433.5', 'Cargo_Total_2433.9', 'Cargo_Total_2434.45', 'Cargo_Total_2435.15', 'Cargo_Total_2438.6', 'Cargo_Total_244.1', 'Cargo_Total_244.45', 'Cargo_Total_244.65', 'Cargo_Total_244.75', 'Cargo_Total_244.8', 'Cargo_Total_244.85', 'Cargo_Total_2440.15', 'Cargo_Total_2440.25', 'Cargo_Total_2441.7', 'Cargo_Total_2443.3', 'Cargo_Total_2444.25', 'Cargo_Total_2447.45', 'Cargo_Total_2447.95', 'Cargo_Total_2448.5', 'Cargo_Total_2448.75', 'Cargo_Total_245.15', 'Cargo_Total_245.2', 'Cargo_Total_2452.7', 'Cargo_Total_2453.3', 'Cargo_Total_2455.05', 'Cargo_Total_2459.8', 'Cargo_Total_246.25', 'Cargo_Total_246.3', 'Cargo_Total_246.5', 'Cargo_Total_246.6', 'Cargo_Total_246.7', 'Cargo_Total_2460.15', 'Cargo_Total_2460.35', 'Cargo_Total_2460.55', 'Cargo_Total_2462.55', 'Cargo_Total_2462.6', 'Cargo_Total_2467.1', 'Cargo_Total_2467.75', 'Cargo_Total_247', 'Cargo_Total_247.25', 'Cargo_Total_2470.1', 'Cargo_Total_2471.25', 'Cargo_Total_2471.6', 'Cargo_Total_2473.95', 'Cargo_Total_2475.35', 'Cargo_Total_2479.05', 'Cargo_Total_2479.25', 'Cargo_Total_248.4', 'Cargo_Total_248.95', 'Cargo_Total_2483.05', 'Cargo_Total_2483.5', 'Cargo_Total_2483.65', 'Cargo_Total_2484', 'Cargo_Total_249.4', 'Cargo_Total_249.55', 'Cargo_Total_249.95', 'Cargo_Total_2490.15', 'Cargo_Total_2492.25', 'Cargo_Total_2494.65', 'Cargo_Total_2495.15', 'Cargo_Total_2495.2', 'Cargo_Total_2496.7', 'Cargo_Total_2497.2', 'Cargo_Total_2497.35', 'Cargo_Total_2498.4', 'Cargo_Total_2499.3', 'Cargo_Total_25', 'Cargo_Total_25.05', 'Cargo_Total_25.1', 'Cargo_Total_25.15', 'Cargo_Total_25.2', 'Cargo_Total_25.25', 'Cargo_Total_25.3', 'Cargo_Total_25.35', 'Cargo_Total_25.4', 'Cargo_Total_25.7', 'Cargo_Total_25.75', 'Cargo_Total_25.8', 'Cargo_Total_25.85', 'Cargo_Total_250.05', 'Cargo_Total_250.1', 'Cargo_Total_250.8', 'Cargo_Total_2509.25', 'Cargo_Total_2509.95', 'Cargo_Total_251.25', 'Cargo_Total_251.6', 'Cargo_Total_251.65', 'Cargo_Total_251.75', 'Cargo_Total_2510.2', 'Cargo_Total_2510.7', 'Cargo_Total_2511.3', 'Cargo_Total_2511.55', 'Cargo_Total_2511.95', 'Cargo_Total_2513.5', 'Cargo_Total_2514.5', 'Cargo_Total_2515.3', 'Cargo_Total_2516.2', 'Cargo_Total_252', 'Cargo_Total_252.75', 'Cargo_Total_2522.4', 'Cargo_Total_2524.45', 'Cargo_Total_253', 'Cargo_Total_253.8', 'Cargo_Total_253.9', 'Cargo_Total_2530.4', 'Cargo_Total_2531.4', 'Cargo_Total_2531.8', 'Cargo_Total_2535.55', 'Cargo_Total_2536.55', 'Cargo_Total_2537', 'Cargo_Total_2538.05', 'Cargo_Total_2538.2', 'Cargo_Total_254.5', 'Cargo_Total_2540.1', 'Cargo_Total_2541.25', 'Cargo_Total_2542.45', 'Cargo_Total_2545.7', 'Cargo_Total_2545.75', 'Cargo_Total_2546.85', 'Cargo_Total_2548.55', 'Cargo_Total_2548.65', 'Cargo_Total_2549.1', 'Cargo_Total_255.25', 'Cargo_Total_255.35', 'Cargo_Total_255.5', 'Cargo_Total_255.55', 'Cargo_Total_255.6', 'Cargo_Total_2550.9', 'Cargo_Total_2552.9', 'Cargo_Total_2553.35', 'Cargo_Total_2553.7', 'Cargo_Total_2554', 'Cargo_Total_2555.05', 'Cargo_Total_2555.9', 'Cargo_Total_256.25', 'Cargo_Total_256.6', 'Cargo_Total_256.75', 'Cargo_Total_2560.1', 'Cargo_Total_2564.3', 'Cargo_Total_2564.95', 'Cargo_Total_2566.3', 'Cargo_Total_2566.5', 'Cargo_Total_2568.15', 'Cargo_Total_2568.55', 'Cargo_Total_257', 'Cargo_Total_257.05', 'Cargo_Total_257.6', 'Cargo_Total_2570', 'Cargo_Total_2570.2', 'Cargo_Total_2572.95', 'Cargo_Total_2575.45', 'Cargo_Total_2576.2', 'Cargo_Total_2576.8', 'Cargo_Total_258.35', 'Cargo_Total_2583.75', 'Cargo_Total_2585.95', 'Cargo_Total_2586', 'Cargo_Total_2587.7', 'Cargo_Total_2588.95', 'Cargo_Total_259.4', 'Cargo_Total_259.65', 'Cargo_Total_259.8', 'Cargo_Total_2595.25', 'Cargo_Total_2595.85', 'Cargo_Total_2596.15', 'Cargo_Total_2597.6', 'Cargo_Total_2598.95', 'Cargo_Total_2599.95', 'Cargo_Total_260.7', 'Cargo_Total_260.8', 'Cargo_Total_260.9', 'Cargo_Total_2602.9', 'Cargo_Total_2603.1', 'Cargo_Total_2603.3', 'Cargo_Total_2603.95', 'Cargo_Total_2606.35', 'Cargo_Total_2607.6', 'Cargo_Total_261.25', 'Cargo_Total_261.3', 'Cargo_Total_261.65', 'Cargo_Total_2610.65', 'Cargo_Total_2613.4', 'Cargo_Total_2614.1', 'Cargo_Total_2618.3', 'Cargo_Total_2619.15', 'Cargo_Total_2619.25', 'Cargo_Total_262.05', 'Cargo_Total_262.3', 'Cargo_Total_2621.75', 'Cargo_Total_2623.65', 'Cargo_Total_2624.25', 'Cargo_Total_2625.25', 'Cargo_Total_2625.55', 'Cargo_Total_2626.15', 'Cargo_Total_2627.2', 'Cargo_Total_2627.35', 'Cargo_Total_2628.6', 'Cargo_Total_263.05', 'Cargo_Total_263.65', 'Cargo_Total_2633.3', 'Cargo_Total_2633.4', 'Cargo_Total_2633.95', 'Cargo_Total_2635', 'Cargo_Total_2636.05', 'Cargo_Total_2638.1', 'Cargo_Total_264.55', 'Cargo_Total_264.8', 'Cargo_Total_264.85', 'Cargo_Total_2640.55', 'Cargo_Total_2642.05', 'Cargo_Total_2647.1', 'Cargo_Total_2647.2', 'Cargo_Total_2649.15', 'Cargo_Total_265.3', 'Cargo_Total_265.35', 'Cargo_Total_265.45', 'Cargo_Total_265.75', 'Cargo_Total_265.8', 'Cargo_Total_2651.1', 'Cargo_Total_2651.2', 'Cargo_Total_2653.65', 'Cargo_Total_2654.05', 'Cargo_Total_2655.25', 'Cargo_Total_2656.3', 'Cargo_Total_2656.5', 'Cargo_Total_2656.7', 'Cargo_Total_2657.55', 'Cargo_Total_2658.4', 'Cargo_Total_2658.8', 'Cargo_Total_2659.4', 'Cargo_Total_2659.45', 'Cargo_Total_266.6', 'Cargo_Total_266.8', 'Cargo_Total_266.9', 'Cargo_Total_266.95', 'Cargo_Total_2660.2', 'Cargo_Total_2661.1', 'Cargo_Total_2664.3', 'Cargo_Total_2665', 'Cargo_Total_2666.75', 'Cargo_Total_2669.45', 'Cargo_Total_267', 'Cargo_Total_267.35', 'Cargo_Total_267.4', 'Cargo_Total_267.6', 'Cargo_Total_2673.45', 'Cargo_Total_2674.15', 'Cargo_Total_2679.7', 'Cargo_Total_268.35', 'Cargo_Total_268.4', 'Cargo_Total_268.45', 'Cargo_Total_2680.15', 'Cargo_Total_2681.15', 'Cargo_Total_2683.2', 'Cargo_Total_2684.35', 'Cargo_Total_2684.85', 'Cargo_Total_2686.05', 'Cargo_Total_2688.45', 'Cargo_Total_2688.85', 'Cargo_Total_2689.35', 'Cargo_Total_269.65', 'Cargo_Total_2692.75', 'Cargo_Total_2696.55', 'Cargo_Total_2697.4', 'Cargo_Total_2698.35', 'Cargo_Total_27.55', 'Cargo_Total_270.15', 'Cargo_Total_270.2', 'Cargo_Total_270.6', 'Cargo_Total_270.7', 'Cargo_Total_270.8', 'Cargo_Total_270.95', 'Cargo_Total_2708.2', 'Cargo_Total_2710.25', 'Cargo_Total_2715.3', 'Cargo_Total_2716.3', 'Cargo_Total_2718.3', 'Cargo_Total_2719.2', 'Cargo_Total_272', 'Cargo_Total_272.15', 'Cargo_Total_272.2', 'Cargo_Total_272.35', 'Cargo_Total_272.95', 'Cargo_Total_2722.2', 'Cargo_Total_2723.15', 'Cargo_Total_2723.4', 'Cargo_Total_2723.75', 'Cargo_Total_2724.25', 'Cargo_Total_2724.6', 'Cargo_Total_2727.3', 'Cargo_Total_2727.8', 'Cargo_Total_2728.6', 'Cargo_Total_273', 'Cargo_Total_273.2', 'Cargo_Total_273.25', 'Cargo_Total_273.4', 'Cargo_Total_273.75', 'Cargo_Total_2730.85', 'Cargo_Total_2731', 'Cargo_Total_2737.05', 'Cargo_Total_274.35', 'Cargo_Total_274.7', 'Cargo_Total_2743.45', 'Cargo_Total_2745.2', 'Cargo_Total_2745.7', 'Cargo_Total_2747.2', 'Cargo_Total_2748.7', 'Cargo_Total_275.4', 'Cargo_Total_275.7', 'Cargo_Total_275.9', 'Cargo_Total_2751', 'Cargo_Total_2753.8', 'Cargo_Total_2754', 'Cargo_Total_2754.45', 'Cargo_Total_2755.35', 'Cargo_Total_2757.85', 'Cargo_Total_2758.15', 'Cargo_Total_276.5', 'Cargo_Total_2762.75', 'Cargo_Total_2763', 'Cargo_Total_2763.35', 'Cargo_Total_2766.4', 'Cargo_Total_2768.35', 'Cargo_Total_2768.65', 'Cargo_Total_2773.9', 'Cargo_Total_2774.55', 'Cargo_Total_2779.5', 'Cargo_Total_278.4', 'Cargo_Total_278.85', 'Cargo_Total_2780.6', 'Cargo_Total_2781.85', 'Cargo_Total_2782.4', 'Cargo_Total_2789.7', 'Cargo_Total_279.2', 'Cargo_Total_279.25', 'Cargo_Total_279.3', 'Cargo_Total_279.5', 'Cargo_Total_279.55', 'Cargo_Total_2790.65', 'Cargo_Total_2791.5', 'Cargo_Total_2793.55', 'Cargo_Total_2796.35', 'Cargo_Total_2796.45', 'Cargo_Total_2799', 'Cargo_Total_2799.75', 'Cargo_Total_28.3', 'Cargo_Total_280', 'Cargo_Total_280.35', 'Cargo_Total_280.4', 'Cargo_Total_280.85', 'Cargo_Total_2802.3', 'Cargo_Total_2804.45', 'Cargo_Total_2806.9', 'Cargo_Total_2807.1', 'Cargo_Total_2807.65', 'Cargo_Total_2809.05', 'Cargo_Total_281', 'Cargo_Total_2812.2', 'Cargo_Total_2813.05', 'Cargo_Total_2815.25', 'Cargo_Total_2816.65', 'Cargo_Total_2820.65', 'Cargo_Total_2823', 'Cargo_Total_283.75', 'Cargo_Total_283.95', 'Cargo_Total_2830.45', 'Cargo_Total_2832.75', 'Cargo_Total_2835.5', 'Cargo_Total_2835.9', 'Cargo_Total_2838.55', 'Cargo_Total_2838.7', 'Cargo_Total_2839.45', 'Cargo_Total_2839.65', 'Cargo_Total_2839.95', 'Cargo_Total_284.3', 'Cargo_Total_284.35', 'Cargo_Total_284.9', 'Cargo_Total_2841.55', 'Cargo_Total_2845.15', 'Cargo_Total_2847.2', 'Cargo_Total_2847.4', 'Cargo_Total_2848.45', 'Cargo_Total_285.2', 'Cargo_Total_2852.4', 'Cargo_Total_2854.55', 'Cargo_Total_2854.95', 'Cargo_Total_2857.6', 'Cargo_Total_286.8', 'Cargo_Total_2861.45', 'Cargo_Total_2862.55', 'Cargo_Total_2862.75', 'Cargo_Total_2866.45', 'Cargo_Total_2867.75', 'Cargo_Total_2868.05', 'Cargo_Total_2868.15', 'Cargo_Total_2869.85', 'Cargo_Total_287.4', 'Cargo_Total_287.85', 'Cargo_Total_2871.5', 'Cargo_Total_2874.15', 'Cargo_Total_2874.45', 'Cargo_Total_2877.05', 'Cargo_Total_2877.95', 'Cargo_Total_2878.55', 'Cargo_Total_2878.75', 'Cargo_Total_2879.2', 'Cargo_Total_2879.9', 'Cargo_Total_288.05', 'Cargo_Total_288.35', 'Cargo_Total_2882.25', 'Cargo_Total_2884.9', 'Cargo_Total_2888.7', 'Cargo_Total_289.1', 'Cargo_Total_289.3', 'Cargo_Total_2890.65', 'Cargo_Total_2893.4', 'Cargo_Total_2894.55', 'Cargo_Total_2896.4', 'Cargo_Total_2896.55', 'Cargo_Total_2896.6', 'Cargo_Total_2897.95', 'Cargo_Total_2898.95', 'Cargo_Total_29.15', 'Cargo_Total_29.7', 'Cargo_Total_29.85', 'Cargo_Total_29.9', 'Cargo_Total_29.95', 'Cargo_Total_290.55', 'Cargo_Total_2901.8', 'Cargo_Total_2907.35', 'Cargo_Total_2907.55', 'Cargo_Total_2908.2', 'Cargo_Total_2909.95', 'Cargo_Total_291.4', 'Cargo_Total_291.45', 'Cargo_Total_291.9', 'Cargo_Total_2911.3', 'Cargo_Total_2911.5', 'Cargo_Total_2911.8', 'Cargo_Total_2917.5', 'Cargo_Total_2917.65', 'Cargo_Total_2919.85', 'Cargo_Total_292.4', 'Cargo_Total_292.8', 'Cargo_Total_292.85', 'Cargo_Total_2921.75', 'Cargo_Total_2924.05', 'Cargo_Total_2928.5', 'Cargo_Total_2929.75', 'Cargo_Total_293.15', 'Cargo_Total_293.3', 'Cargo_Total_293.65', 'Cargo_Total_293.85', 'Cargo_Total_2931', 'Cargo_Total_2933.2', 'Cargo_Total_2933.95', 'Cargo_Total_2934.3', 'Cargo_Total_2936.25', 'Cargo_Total_2937.65', 'Cargo_Total_2939.8', 'Cargo_Total_294.2', 'Cargo_Total_294.45', 'Cargo_Total_294.5', 'Cargo_Total_294.9', 'Cargo_Total_294.95', 'Cargo_Total_2948.6', 'Cargo_Total_295.55', 'Cargo_Total_295.65', 'Cargo_Total_295.95', 'Cargo_Total_2952.85', 'Cargo_Total_2954.5', 'Cargo_Total_2958.95', 'Cargo_Total_2959.8', 'Cargo_Total_296.1', 'Cargo_Total_296.15', 'Cargo_Total_2960.1', 'Cargo_Total_2961.4', 'Cargo_Total_2962', 'Cargo_Total_2964', 'Cargo_Total_2964.05', 'Cargo_Total_2964.8', 'Cargo_Total_2965.75', 'Cargo_Total_2966.95', 'Cargo_Total_2967.35', 'Cargo_Total_297.3', 'Cargo_Total_297.35', 'Cargo_Total_2970.3', 'Cargo_Total_2970.8', 'Cargo_Total_2971.7', 'Cargo_Total_2974.5', 'Cargo_Total_2976.95', 'Cargo_Total_2978.3', 'Cargo_Total_2979.2', 'Cargo_Total_2979.3', 'Cargo_Total_2979.5', 'Cargo_Total_298.35', 'Cargo_Total_298.45', 'Cargo_Total_298.7', 'Cargo_Total_2983.65', 'Cargo_Total_2983.8', 'Cargo_Total_2985.25', 'Cargo_Total_2989.6', 'Cargo_Total_299.05', 'Cargo_Total_299.2', 'Cargo_Total_299.3', 'Cargo_Total_299.4', 'Cargo_Total_299.7', 'Cargo_Total_299.75', 'Cargo_Total_2995.45', 'Cargo_Total_2997.45', 'Cargo_Total_2998', 'Cargo_Total_30.2', 'Cargo_Total_30.5', 'Cargo_Total_30.55', 'Cargo_Total_300.4', 'Cargo_Total_300.7', 'Cargo_Total_300.8', 'Cargo_Total_3000.25', 'Cargo_Total_3001.2', 'Cargo_Total_3003.55', 'Cargo_Total_3004.15', 'Cargo_Total_3005.8', 'Cargo_Total_3007.25', 'Cargo_Total_3008.15', 'Cargo_Total_3008.55', 'Cargo_Total_3009.5', 'Cargo_Total_301.4', 'Cargo_Total_301.55', 'Cargo_Total_301.9', 'Cargo_Total_3011.65', 'Cargo_Total_3013.05', 'Cargo_Total_3014.65', 'Cargo_Total_3015.75', 'Cargo_Total_3017.65', 'Cargo_Total_3019.1', 'Cargo_Total_3019.25', 'Cargo_Total_3019.5', 'Cargo_Total_3019.7', 'Cargo_Total_302.35', 'Cargo_Total_302.45', 'Cargo_Total_302.6', 'Cargo_Total_302.75', 'Cargo_Total_3021.3', 'Cargo_Total_3021.45', 'Cargo_Total_3021.6', 'Cargo_Total_3023.55', 'Cargo_Total_3023.65', 'Cargo_Total_3023.85', 'Cargo_Total_3024.15', 'Cargo_Total_3027.25', 'Cargo_Total_3027.4', 'Cargo_Total_3027.65', 'Cargo_Total_3029.1', 'Cargo_Total_303.15', 'Cargo_Total_303.7', 'Cargo_Total_3030.6', 'Cargo_Total_3035.35', 'Cargo_Total_3035.8', 'Cargo_Total_3036.75', 'Cargo_Total_3038.55', 'Cargo_Total_304.6', 'Cargo_Total_3042.25', 'Cargo_Total_3043.6', 'Cargo_Total_3043.7', 'Cargo_Total_3045.75', 'Cargo_Total_3046.05', 'Cargo_Total_3046.15', 'Cargo_Total_3046.4', 'Cargo_Total_3047.15', 'Cargo_Total_305.1', 'Cargo_Total_305.55', 'Cargo_Total_305.95', 'Cargo_Total_3050.15', 'Cargo_Total_3053', 'Cargo_Total_3055.5', 'Cargo_Total_3058.15', 'Cargo_Total_3058.3', 'Cargo_Total_3058.65', 'Cargo_Total_306.05', 'Cargo_Total_306.6', 'Cargo_Total_3062.45', 'Cargo_Total_3066.45', 'Cargo_Total_3067.2', 'Cargo_Total_3068.6', 'Cargo_Total_3069.45', 'Cargo_Total_307', 'Cargo_Total_307.4', 'Cargo_Total_307.6', 'Cargo_Total_3077', 'Cargo_Total_3078.1', 'Cargo_Total_308.05', 'Cargo_Total_308.1', 'Cargo_Total_308.25', 'Cargo_Total_308.7', 'Cargo_Total_3082.1', 'Cargo_Total_3084.9', 'Cargo_Total_3085.35', 'Cargo_Total_3088.25', 'Cargo_Total_3088.75', 'Cargo_Total_3089.1', 'Cargo_Total_3089.6', 'Cargo_Total_309.1', 'Cargo_Total_309.25', 'Cargo_Total_309.35', 'Cargo_Total_309.4', 'Cargo_Total_3090.05', 'Cargo_Total_3090.65', 'Cargo_Total_3091.75', 'Cargo_Total_3092', 'Cargo_Total_3092.65', 'Cargo_Total_3094.05', 'Cargo_Total_3094.65', 'Cargo_Total_3096.9', 'Cargo_Total_3097', 'Cargo_Total_3097.2', 'Cargo_Total_31.2', 'Cargo_Total_31.35', 'Cargo_Total_31.55', 'Cargo_Total_31.9', 'Cargo_Total_310.6', 'Cargo_Total_3103.25', 'Cargo_Total_3105.55', 'Cargo_Total_3107.3', 'Cargo_Total_3109.9', 'Cargo_Total_311.6', 'Cargo_Total_3110.1', 'Cargo_Total_3112.05', 'Cargo_Total_3116.15', 'Cargo_Total_3119.9', 'Cargo_Total_312.7', 'Cargo_Total_3121.1', 'Cargo_Total_3121.4', 'Cargo_Total_3121.45', 'Cargo_Total_3122.4', 'Cargo_Total_3124.5', 'Cargo_Total_3126.45', 'Cargo_Total_3126.85', 'Cargo_Total_3128.8', 'Cargo_Total_313', 'Cargo_Total_313.4', 'Cargo_Total_313.45', 'Cargo_Total_313.6', 'Cargo_Total_3131.55', 'Cargo_Total_3131.8', 'Cargo_Total_3132.75', 'Cargo_Total_3134.7', 'Cargo_Total_3139.8', 'Cargo_Total_314.45', 'Cargo_Total_314.55', 'Cargo_Total_314.6', 'Cargo_Total_314.95', 'Cargo_Total_3141.7', 'Cargo_Total_3143.65', 'Cargo_Total_3145.15', 'Cargo_Total_3145.9', 'Cargo_Total_3147.15', 'Cargo_Total_3147.5', 'Cargo_Total_315.3', 'Cargo_Total_3152.5', 'Cargo_Total_3157', 'Cargo_Total_316.2', 'Cargo_Total_316.9', 'Cargo_Total_3160.55', 'Cargo_Total_3161.2', 'Cargo_Total_3161.4', 'Cargo_Total_3161.6', 'Cargo_Total_3162.65', 'Cargo_Total_3165.6', 'Cargo_Total_3166.9', 'Cargo_Total_3168', 'Cargo_Total_3168.75', 'Cargo_Total_3169.55', 'Cargo_Total_317.25', 'Cargo_Total_317.75', 'Cargo_Total_3171.15', 'Cargo_Total_3171.6', 'Cargo_Total_3173.35', 'Cargo_Total_3175.85', 'Cargo_Total_3177.25', 'Cargo_Total_318.1', 'Cargo_Total_318.5', 'Cargo_Total_318.6', 'Cargo_Total_318.9', 'Cargo_Total_3180.5', 'Cargo_Total_3181.8', 'Cargo_Total_3182.95', 'Cargo_Total_3183.4', 'Cargo_Total_3184.25', 'Cargo_Total_3186.65', 'Cargo_Total_3186.7', 'Cargo_Total_3187.65', 'Cargo_Total_319.15', 'Cargo_Total_319.6', 'Cargo_Total_319.85', 'Cargo_Total_3190.25', 'Cargo_Total_3190.65', 'Cargo_Total_3196', 'Cargo_Total_3198.6', 'Cargo_Total_3199', 'Cargo_Total_32.7', 'Cargo_Total_320.4', 'Cargo_Total_320.45', 'Cargo_Total_3201.55', 'Cargo_Total_3204.4', 'Cargo_Total_3204.65', 'Cargo_Total_3205.6', 'Cargo_Total_3207.55', 'Cargo_Total_3208.65', 'Cargo_Total_321.05', 'Cargo_Total_321.4', 'Cargo_Total_321.65', 'Cargo_Total_321.7', 'Cargo_Total_321.75', 'Cargo_Total_321.9', 'Cargo_Total_3210.35', 'Cargo_Total_3211.2', 'Cargo_Total_3211.9', 'Cargo_Total_3213.75', 'Cargo_Total_3217.55', 'Cargo_Total_3217.65', 'Cargo_Total_3219.75', 'Cargo_Total_322.5', 'Cargo_Total_322.9', 'Cargo_Total_3221.25', 'Cargo_Total_3229.4', 'Cargo_Total_3229.65', 'Cargo_Total_323.15', 'Cargo_Total_323.25', 'Cargo_Total_323.45', 'Cargo_Total_3231.05', 'Cargo_Total_3233.6', 'Cargo_Total_3233.85', 'Cargo_Total_3236.35', 'Cargo_Total_3237.05', 'Cargo_Total_3238.4', 'Cargo_Total_324.15', 'Cargo_Total_324.2', 'Cargo_Total_324.25', 'Cargo_Total_324.3', 'Cargo_Total_324.6', 'Cargo_Total_324.8', 'Cargo_Total_3242.5', 'Cargo_Total_3243.45', 'Cargo_Total_3244.4', 'Cargo_Total_3246.45', 'Cargo_Total_3247.55', 'Cargo_Total_3249.4', 'Cargo_Total_325.45', 'Cargo_Total_3250.45', 'Cargo_Total_3251.3', 'Cargo_Total_3251.85', 'Cargo_Total_3252', 'Cargo_Total_3254.35', 'Cargo_Total_3255.35', 'Cargo_Total_326.65', 'Cargo_Total_326.8', 'Cargo_Total_3260.1', 'Cargo_Total_3263.6', 'Cargo_Total_3263.9', 'Cargo_Total_3264.45', 'Cargo_Total_3264.5', 'Cargo_Total_3265.95', 'Cargo_Total_3266', 'Cargo_Total_3268.05', 'Cargo_Total_327.45', 'Cargo_Total_3270.25', 'Cargo_Total_3273.55', 'Cargo_Total_3273.8', 'Cargo_Total_3273.95', 'Cargo_Total_3274.35', 'Cargo_Total_3275.15', 'Cargo_Total_328.95', 'Cargo_Total_3281.65', 'Cargo_Total_3282.75', 'Cargo_Total_3283.05', 'Cargo_Total_329.75', 'Cargo_Total_329.8', 'Cargo_Total_329.95', 'Cargo_Total_3292.3', 'Cargo_Total_3297', 'Cargo_Total_33.2', 'Cargo_Total_33.6', 'Cargo_Total_33.7', 'Cargo_Total_330.05', 'Cargo_Total_330.15', 'Cargo_Total_330.25', 'Cargo_Total_330.6', 'Cargo_Total_330.8', 'Cargo_Total_3301.05', 'Cargo_Total_3303.05', 'Cargo_Total_3306.85', 'Cargo_Total_3309.25', 'Cargo_Total_331.3', 'Cargo_Total_331.35', 'Cargo_Total_331.6', 'Cargo_Total_331.85', 'Cargo_Total_331.9', 'Cargo_Total_3313.4', 'Cargo_Total_3314.15', 'Cargo_Total_3316.1', 'Cargo_Total_332.45', 'Cargo_Total_332.5', 'Cargo_Total_332.65', 'Cargo_Total_3320.6', 'Cargo_Total_3320.75', 'Cargo_Total_3321.35', 'Cargo_Total_3326.2', 'Cargo_Total_3327.05', 'Cargo_Total_333.55', 'Cargo_Total_333.6', 'Cargo_Total_333.65', 'Cargo_Total_3330.1', 'Cargo_Total_3334.9', 'Cargo_Total_3334.95', 'Cargo_Total_3339.05', 'Cargo_Total_334.65', 'Cargo_Total_334.8', 'Cargo_Total_3340.55', 'Cargo_Total_3342', 'Cargo_Total_3342.45', 'Cargo_Total_3343.15', 'Cargo_Total_3344.1', 'Cargo_Total_3346.8', 'Cargo_Total_3348.1', 'Cargo_Total_3349.1', 'Cargo_Total_335.4', 'Cargo_Total_335.65', 'Cargo_Total_335.75', 'Cargo_Total_335.95', 'Cargo_Total_3351.55', 'Cargo_Total_3353.4', 'Cargo_Total_3355.65', 'Cargo_Total_3357.9', 'Cargo_Total_3358.65', 'Cargo_Total_336.15', 'Cargo_Total_336.7', 'Cargo_Total_3361.05', 'Cargo_Total_3363.8', 'Cargo_Total_3364.55', 'Cargo_Total_3365.4', 'Cargo_Total_3365.85', 'Cargo_Total_3366.05', 'Cargo_Total_3369.05', 'Cargo_Total_3369.25', 'Cargo_Total_337.9', 'Cargo_Total_3370.2', 'Cargo_Total_3371', 'Cargo_Total_3371.75', 'Cargo_Total_3373.4', 'Cargo_Total_3375.9', 'Cargo_Total_3377.8', 'Cargo_Total_3379.25', 'Cargo_Total_338.1', 'Cargo_Total_338.9', 'Cargo_Total_3382.3', 'Cargo_Total_3384', 'Cargo_Total_3389.25', 'Cargo_Total_339.9', 'Cargo_Total_3395.8', 'Cargo_Total_3398.9', 'Cargo_Total_3399.85', 'Cargo_Total_34.7', 'Cargo_Total_34.75', 'Cargo_Total_34.8', 'Cargo_Total_340.25', 'Cargo_Total_340.35', 'Cargo_Total_340.4', 'Cargo_Total_340.85', 'Cargo_Total_3403.4', 'Cargo_Total_3409.1', 'Cargo_Total_3409.6', 'Cargo_Total_341.35', 'Cargo_Total_341.45', 'Cargo_Total_341.6', 'Cargo_Total_3410', 'Cargo_Total_3410.6', 'Cargo_Total_3413.25', 'Cargo_Total_3414.65', 'Cargo_Total_3415.25', 'Cargo_Total_3416.85', 'Cargo_Total_3418.2', 'Cargo_Total_3419.3', 'Cargo_Total_3419.5', 'Cargo_Total_342.3', 'Cargo_Total_342.4', 'Cargo_Total_3420.5', 'Cargo_Total_3423.5', 'Cargo_Total_3425.35', 'Cargo_Total_343.45', 'Cargo_Total_343.6', 'Cargo_Total_343.95', 'Cargo_Total_3431.75', 'Cargo_Total_3432.9', 'Cargo_Total_3435.6', 'Cargo_Total_3436.1', 'Cargo_Total_3437.45', 'Cargo_Total_3437.5', 'Cargo_Total_3439', 'Cargo_Total_344.2', 'Cargo_Total_344.5', 'Cargo_Total_3440.25', 'Cargo_Total_3442.15', 'Cargo_Total_3442.8', 'Cargo_Total_3444.85', 'Cargo_Total_345.5', 'Cargo_Total_345.9', 'Cargo_Total_3450.15', 'Cargo_Total_3452.55', 'Cargo_Total_3454.6', 'Cargo_Total_3457.45', 'Cargo_Total_3457.9', 'Cargo_Total_346.2', 'Cargo_Total_346.4', 'Cargo_Total_346.45', 'Cargo_Total_3460.3', 'Cargo_Total_3460.95', 'Cargo_Total_3462.1', 'Cargo_Total_3465.05', 'Cargo_Total_3465.7', 'Cargo_Total_3467', 'Cargo_Total_347.25', 'Cargo_Total_347.4', 'Cargo_Total_347.65', 'Cargo_Total_3470.8', 'Cargo_Total_3471.1', 'Cargo_Total_3472.05', 'Cargo_Total_3473.4', 'Cargo_Total_3474.05', 'Cargo_Total_3474.2', 'Cargo_Total_3474.45', 'Cargo_Total_3475.55', 'Cargo_Total_3478.15', 'Cargo_Total_3478.75', 'Cargo_Total_3479.05', 'Cargo_Total_348.15', 'Cargo_Total_348.8', 'Cargo_Total_3480', 'Cargo_Total_3480.35', 'Cargo_Total_3482.85', 'Cargo_Total_3483.45', 'Cargo_Total_3486.65', 'Cargo_Total_3487.95', 'Cargo_Total_3488.15', 'Cargo_Total_349.65', 'Cargo_Total_349.8', 'Cargo_Total_3491.55', 'Cargo_Total_3496.3', 'Cargo_Total_35', 'Cargo_Total_35.05', 'Cargo_Total_35.1', 'Cargo_Total_35.25', 'Cargo_Total_35.45', 'Cargo_Total_35.55', 'Cargo_Total_35.75', 'Cargo_Total_35.85', 'Cargo_Total_35.9', 'Cargo_Total_350.1', 'Cargo_Total_350.3', 'Cargo_Total_350.35', 'Cargo_Total_3503.5', 'Cargo_Total_3505.1', 'Cargo_Total_3509.4', 'Cargo_Total_351.5', 'Cargo_Total_351.55', 'Cargo_Total_3510.3', 'Cargo_Total_3512.15', 'Cargo_Total_3512.5', 'Cargo_Total_3512.9', 'Cargo_Total_3515.25', 'Cargo_Total_3517.9', 'Cargo_Total_352.65', 'Cargo_Total_3520.75', 'Cargo_Total_3521.7', 'Cargo_Total_3522.65', 'Cargo_Total_3527', 'Cargo_Total_3527.3', 'Cargo_Total_3527.6', 'Cargo_Total_3529.95', 'Cargo_Total_353.65', 'Cargo_Total_3532', 'Cargo_Total_3532.25', 'Cargo_Total_3532.85', 'Cargo_Total_3533.6', 'Cargo_Total_3539.25', 'Cargo_Total_354.05', 'Cargo_Total_3540.65', 'Cargo_Total_3541.1', 'Cargo_Total_3541.35', 'Cargo_Total_3541.4', 'Cargo_Total_3545.05', 'Cargo_Total_3545.1', 'Cargo_Total_3545.35', 'Cargo_Total_3548.3', 'Cargo_Total_3549.25', 'Cargo_Total_355.1', 'Cargo_Total_355.2', 'Cargo_Total_355.9', 'Cargo_Total_3551.65', 'Cargo_Total_3554.6', 'Cargo_Total_3557.7', 'Cargo_Total_356.1', 'Cargo_Total_356.15', 'Cargo_Total_356.65', 'Cargo_Total_3561.15', 'Cargo_Total_3562.5', 'Cargo_Total_3563.8', 'Cargo_Total_3565.65', 'Cargo_Total_3566.6', 'Cargo_Total_3566.7', 'Cargo_Total_357', 'Cargo_Total_357.15', 'Cargo_Total_357.6', 'Cargo_Total_357.7', 'Cargo_Total_357.75', 'Cargo_Total_3571.6', 'Cargo_Total_3574.5', 'Cargo_Total_3579.15', 'Cargo_Total_358.05', 'Cargo_Total_358.15', 'Cargo_Total_358.5', 'Cargo_Total_3580.3', 'Cargo_Total_3580.95', 'Cargo_Total_3581.4', 'Cargo_Total_3581.6', 'Cargo_Total_3582.4', 'Cargo_Total_3587.25', 'Cargo_Total_3588.4', 'Cargo_Total_359.4', 'Cargo_Total_3590.2', 'Cargo_Total_3591.25', 'Cargo_Total_3593.8', 'Cargo_Total_3597.5', 'Cargo_Total_36.45', 'Cargo_Total_36.55', 'Cargo_Total_36.8', 'Cargo_Total_360.1', 'Cargo_Total_360.35', 'Cargo_Total_360.55', 'Cargo_Total_3600.65', 'Cargo_Total_3603.45', 'Cargo_Total_3605.2', 'Cargo_Total_3605.6', 'Cargo_Total_3608', 'Cargo_Total_3615.6', 'Cargo_Total_3616.25', 'Cargo_Total_3617.1', 'Cargo_Total_3618.7', 'Cargo_Total_362.2', 'Cargo_Total_362.6', 'Cargo_Total_3623.95', 'Cargo_Total_3624.3', 'Cargo_Total_3624.35', 'Cargo_Total_3625.2', 'Cargo_Total_3626.1', 'Cargo_Total_3626.35', 'Cargo_Total_3627.3', 'Cargo_Total_3629.2', 'Cargo_Total_363.15', 'Cargo_Total_3632', 'Cargo_Total_3634.8', 'Cargo_Total_3635.15', 'Cargo_Total_3638.25', 'Cargo_Total_364.55', 'Cargo_Total_3640.45', 'Cargo_Total_3641.5', 'Cargo_Total_3645.05', 'Cargo_Total_3645.5', 'Cargo_Total_3645.6', 'Cargo_Total_3645.75', 'Cargo_Total_3646.8', 'Cargo_Total_3649.6', 'Cargo_Total_365.35', 'Cargo_Total_365.4', 'Cargo_Total_365.55', 'Cargo_Total_365.65', 'Cargo_Total_365.8', 'Cargo_Total_3650.35', 'Cargo_Total_3653', 'Cargo_Total_3653.35', 'Cargo_Total_3655.45', 'Cargo_Total_3656.25', 'Cargo_Total_3662.25', 'Cargo_Total_3665.55', 'Cargo_Total_367.55', 'Cargo_Total_367.95', 'Cargo_Total_3670.5', 'Cargo_Total_3673.15', 'Cargo_Total_3673.6', 'Cargo_Total_3674.95', 'Cargo_Total_3678.3', 'Cargo_Total_368.1', 'Cargo_Total_368.85', 'Cargo_Total_3682.45', 'Cargo_Total_3684.95', 'Cargo_Total_3686.05', 'Cargo_Total_3687.75', 'Cargo_Total_3687.85', 'Cargo_Total_3688.6', 'Cargo_Total_369.05', 'Cargo_Total_369.1', 'Cargo_Total_369.15', 'Cargo_Total_369.25', 'Cargo_Total_369.3', 'Cargo_Total_369.6', 'Cargo_Total_3691.2', 'Cargo_Total_3692.85', 'Cargo_Total_3694.45', 'Cargo_Total_3694.7', 'Cargo_Total_37.2', 'Cargo_Total_370.25', 'Cargo_Total_370.4', 'Cargo_Total_370.5', 'Cargo_Total_370.65', 'Cargo_Total_3704.15', 'Cargo_Total_3706.95', 'Cargo_Total_3707.6', 'Cargo_Total_3708.4', 'Cargo_Total_371.4', 'Cargo_Total_371.6', 'Cargo_Total_371.65', 'Cargo_Total_371.9', 'Cargo_Total_3713.95', 'Cargo_Total_3715.65', 'Cargo_Total_372.45', 'Cargo_Total_3720.35', 'Cargo_Total_3721.9', 'Cargo_Total_3723.65', 'Cargo_Total_3725.5', 'Cargo_Total_3726.15', 'Cargo_Total_3729.6', 'Cargo_Total_3729.75', 'Cargo_Total_373', 'Cargo_Total_373.5', 'Cargo_Total_3734.25', 'Cargo_Total_3735.45', 'Cargo_Total_3739.8', 'Cargo_Total_374', 'Cargo_Total_374.5', 'Cargo_Total_374.8', 'Cargo_Total_3741.85', 'Cargo_Total_3744.05', 'Cargo_Total_375.25', 'Cargo_Total_3751.15', 'Cargo_Total_3753.2', 'Cargo_Total_3754.6', 'Cargo_Total_3756.4', 'Cargo_Total_3756.45', 'Cargo_Total_3759.05', 'Cargo_Total_3762', 'Cargo_Total_3765.05', 'Cargo_Total_3766.2', 'Cargo_Total_3767.4', 'Cargo_Total_3769.7', 'Cargo_Total_377.55', 'Cargo_Total_377.85', 'Cargo_Total_3770', 'Cargo_Total_3771.5', 'Cargo_Total_3772.5', 'Cargo_Total_3772.65', 'Cargo_Total_3775.85', 'Cargo_Total_3777.15', 'Cargo_Total_3778', 'Cargo_Total_3778.1', 'Cargo_Total_3778.2', 'Cargo_Total_3778.85', 'Cargo_Total_378.4', 'Cargo_Total_378.6', 'Cargo_Total_3782.4', 'Cargo_Total_3784', 'Cargo_Total_3789.2', 'Cargo_Total_3791.6', 'Cargo_Total_3794.5', 'Cargo_Total_3795.45', 'Cargo_Total_38', 'Cargo_Total_38.15', 'Cargo_Total_38.25', 'Cargo_Total_38.45', 'Cargo_Total_38.7', 'Cargo_Total_38.8', 'Cargo_Total_3801.3', 'Cargo_Total_3801.7', 'Cargo_Total_3804.4', 'Cargo_Total_3807.35', 'Cargo_Total_3808', 'Cargo_Total_3808.2', 'Cargo_Total_381.2', 'Cargo_Total_381.3', 'Cargo_Total_3810.55', 'Cargo_Total_3810.8', 'Cargo_Total_3815.4', 'Cargo_Total_382.2', 'Cargo_Total_382.8', 'Cargo_Total_3822.45', 'Cargo_Total_3824.2', 'Cargo_Total_3825.85', 'Cargo_Total_3827.9', 'Cargo_Total_3829.75', 'Cargo_Total_383.55', 'Cargo_Total_383.65', 'Cargo_Total_3833.95', 'Cargo_Total_3834.4', 'Cargo_Total_3835.55', 'Cargo_Total_3836.3', 'Cargo_Total_3838.2', 'Cargo_Total_3838.75', 'Cargo_Total_384.25', 'Cargo_Total_384.5', 'Cargo_Total_3842.6', 'Cargo_Total_3845.45', 'Cargo_Total_3846.35', 'Cargo_Total_3846.75', 'Cargo_Total_3847.6', 'Cargo_Total_3848', 'Cargo_Total_3848.8', 'Cargo_Total_385', 'Cargo_Total_385.55', 'Cargo_Total_385.9', 'Cargo_Total_3851.45', 'Cargo_Total_3856.75', 'Cargo_Total_3857.1', 'Cargo_Total_3858.05', 'Cargo_Total_386.5', 'Cargo_Total_3861.45', 'Cargo_Total_3862.55', 'Cargo_Total_3865.45', 'Cargo_Total_3865.6', 'Cargo_Total_387.2', 'Cargo_Total_387.4', 'Cargo_Total_387.7', 'Cargo_Total_387.9', 'Cargo_Total_3870', 'Cargo_Total_3870.3', 'Cargo_Total_3871.85', 'Cargo_Total_3874.1', 'Cargo_Total_3875.4', 'Cargo_Total_3876.2', 'Cargo_Total_3877.65', 'Cargo_Total_3877.95', 'Cargo_Total_388.6', 'Cargo_Total_3880.05', 'Cargo_Total_3882.3', 'Cargo_Total_3883.3', 'Cargo_Total_3886.05', 'Cargo_Total_3886.45', 'Cargo_Total_3886.85', 'Cargo_Total_3887.25', 'Cargo_Total_3887.85', 'Cargo_Total_3888.65', 'Cargo_Total_389.1', 'Cargo_Total_389.25', 'Cargo_Total_389.6', 'Cargo_Total_389.8', 'Cargo_Total_389.95', 'Cargo_Total_3893.6', 'Cargo_Total_3894.4', 'Cargo_Total_3895.35', 'Cargo_Total_3899.05', 'Cargo_Total_39.25', 'Cargo_Total_39.3', 'Cargo_Total_39.65', 'Cargo_Total_39.8', 'Cargo_Total_39.85', 'Cargo_Total_390.4', 'Cargo_Total_390.85', 'Cargo_Total_3901.25', 'Cargo_Total_3902.45', 'Cargo_Total_3902.6', 'Cargo_Total_3906.7', 'Cargo_Total_391.7', 'Cargo_Total_3912.9', 'Cargo_Total_3913.3', 'Cargo_Total_3914.05', 'Cargo_Total_3915.4', 'Cargo_Total_3919.15', 'Cargo_Total_392.5', 'Cargo_Total_392.65', 'Cargo_Total_3921.1', 'Cargo_Total_3921.3', 'Cargo_Total_3923.8', 'Cargo_Total_3928.3', 'Cargo_Total_393.15', 'Cargo_Total_393.45', 'Cargo_Total_3930.55', 'Cargo_Total_3930.6', 'Cargo_Total_3937.45', 'Cargo_Total_394.1', 'Cargo_Total_394.85', 'Cargo_Total_3941.7', 'Cargo_Total_3942.45', 'Cargo_Total_3944.5', 'Cargo_Total_3946.9', 'Cargo_Total_3948.45', 'Cargo_Total_3949.15', 'Cargo_Total_395.6', 'Cargo_Total_3950.85', 'Cargo_Total_3952.45', 'Cargo_Total_3952.65', 'Cargo_Total_3953.15', 'Cargo_Total_3953.7', 'Cargo_Total_3954.1', 'Cargo_Total_3956.7', 'Cargo_Total_3958.2', 'Cargo_Total_3958.25', 'Cargo_Total_3958.85', 'Cargo_Total_3959.15', 'Cargo_Total_3959.35', 'Cargo_Total_396.1', 'Cargo_Total_396.3', 'Cargo_Total_3965.05', 'Cargo_Total_3966.3', 'Cargo_Total_3969.35', 'Cargo_Total_3969.4', 'Cargo_Total_397', 'Cargo_Total_3970.4', 'Cargo_Total_3972.25', 'Cargo_Total_3973.2', 'Cargo_Total_3974.15', 'Cargo_Total_3974.7', 'Cargo_Total_3975.7', 'Cargo_Total_3975.9', 'Cargo_Total_398.55', 'Cargo_Total_3983.6', 'Cargo_Total_3985.35', 'Cargo_Total_3988.5', 'Cargo_Total_399.25', 'Cargo_Total_399.45', 'Cargo_Total_399.6', 'Cargo_Total_3990.6', 'Cargo_Total_3990.75', 'Cargo_Total_3994.05', 'Cargo_Total_3994.45', 'Cargo_Total_3996.8', 'Cargo_Total_40.1', 'Cargo_Total_40.2', 'Cargo_Total_40.25', 'Cargo_Total_40.9', 'Cargo_Total_400', 'Cargo_Total_400.3', 'Cargo_Total_4003', 'Cargo_Total_4003.85', 'Cargo_Total_4009.2', 'Cargo_Total_401.1', 'Cargo_Total_401.3', 'Cargo_Total_401.5', 'Cargo_Total_401.85', 'Cargo_Total_401.95', 'Cargo_Total_4013.8', 'Cargo_Total_4014', 'Cargo_Total_4014.2', 'Cargo_Total_4014.6', 'Cargo_Total_4016.2', 'Cargo_Total_4016.3', 'Cargo_Total_4016.75', 'Cargo_Total_4016.85', 'Cargo_Total_4017.45', 'Cargo_Total_4018.05', 'Cargo_Total_4018.35', 'Cargo_Total_4018.55', 'Cargo_Total_402.5', 'Cargo_Total_402.6', 'Cargo_Total_402.85', 'Cargo_Total_4024.2', 'Cargo_Total_4025.5', 'Cargo_Total_4025.6', 'Cargo_Total_4026.4', 'Cargo_Total_4029.95', 'Cargo_Total_403.15', 'Cargo_Total_403.35', 'Cargo_Total_4036', 'Cargo_Total_4036.85', 'Cargo_Total_4039', 'Cargo_Total_4039.3', 'Cargo_Total_4039.5', 'Cargo_Total_404.2', 'Cargo_Total_404.35', 'Cargo_Total_4040.2', 'Cargo_Total_4040.65', 'Cargo_Total_4042.2', 'Cargo_Total_4042.3', 'Cargo_Total_4045.65', 'Cargo_Total_4048.95', 'Cargo_Total_405.6', 'Cargo_Total_405.7', 'Cargo_Total_4052.4', 'Cargo_Total_4054.2', 'Cargo_Total_4055.5', 'Cargo_Total_4056.75', 'Cargo_Total_4059.35', 'Cargo_Total_4059.85', 'Cargo_Total_406.05', 'Cargo_Total_406.95', 'Cargo_Total_4060.55', 'Cargo_Total_4060.9', 'Cargo_Total_4062.2', 'Cargo_Total_4063', 'Cargo_Total_4065', 'Cargo_Total_4068', 'Cargo_Total_4069.9', 'Cargo_Total_407.05', 'Cargo_Total_4070.95', 'Cargo_Total_4079.55', 'Cargo_Total_408.25', 'Cargo_Total_408.5', 'Cargo_Total_4084.35', 'Cargo_Total_4085.75', 'Cargo_Total_4086.3', 'Cargo_Total_4089.45', 'Cargo_Total_409.9', 'Cargo_Total_4092.85', 'Cargo_Total_4096.9', 'Cargo_Total_4097.05', 'Cargo_Total_41.2', 'Cargo_Total_41.85', 'Cargo_Total_4103.9', 'Cargo_Total_4107.25', 'Cargo_Total_4107.3', 'Cargo_Total_4108.15', 'Cargo_Total_4109', 'Cargo_Total_411.15', 'Cargo_Total_411.25', 'Cargo_Total_411.45', 'Cargo_Total_411.6', 'Cargo_Total_411.75', 'Cargo_Total_4111.35', 'Cargo_Total_4113.1', 'Cargo_Total_4113.15', 'Cargo_Total_4113.7', 'Cargo_Total_4116.15', 'Cargo_Total_4116.8', 'Cargo_Total_4116.9', 'Cargo_Total_4119.4', 'Cargo_Total_412.1', 'Cargo_Total_412.5', 'Cargo_Total_412.55', 'Cargo_Total_412.6', 'Cargo_Total_4122.65', 'Cargo_Total_4122.9', 'Cargo_Total_4124.65', 'Cargo_Total_4126.2', 'Cargo_Total_4126.35', 'Cargo_Total_413', 'Cargo_Total_413.25', 'Cargo_Total_413.65', 'Cargo_Total_4131.2', 'Cargo_Total_4131.95', 'Cargo_Total_4133.95', 'Cargo_Total_4134.7', 'Cargo_Total_4134.85', 'Cargo_Total_4135', 'Cargo_Total_4136.4', 'Cargo_Total_4137.2', 'Cargo_Total_4138.05', 'Cargo_Total_4138.7', 'Cargo_Total_4138.9', 'Cargo_Total_414.1', 'Cargo_Total_414.95', 'Cargo_Total_4140.1', 'Cargo_Total_4144.8', 'Cargo_Total_4144.9', 'Cargo_Total_4145.25', 'Cargo_Total_4145.9', 'Cargo_Total_4146.05', 'Cargo_Total_4149.45', 'Cargo_Total_415.05', 'Cargo_Total_415.1', 'Cargo_Total_415.4', 'Cargo_Total_415.55', 'Cargo_Total_415.9', 'Cargo_Total_415.95', 'Cargo_Total_4154.55', 'Cargo_Total_4154.8', 'Cargo_Total_4155.95', 'Cargo_Total_4156.8', 'Cargo_Total_4158.25', 'Cargo_Total_4159.45', 'Cargo_Total_416.3', 'Cargo_Total_416.4', 'Cargo_Total_416.45', 'Cargo_Total_4162.05', 'Cargo_Total_4164.4', 'Cargo_Total_4166.35', 'Cargo_Total_417', 'Cargo_Total_417.5', 'Cargo_Total_417.65', 'Cargo_Total_417.7', 'Cargo_Total_417.75', 'Cargo_Total_4174.35', 'Cargo_Total_4176.7', 'Cargo_Total_4178.65', 'Cargo_Total_4179.1', 'Cargo_Total_4179.2', 'Cargo_Total_418.25', 'Cargo_Total_418.3', 'Cargo_Total_418.4', 'Cargo_Total_418.8', 'Cargo_Total_4186.3', 'Cargo_Total_4187.75', 'Cargo_Total_4188.4', 'Cargo_Total_4189.7', 'Cargo_Total_419.35', 'Cargo_Total_419.4', 'Cargo_Total_419.7', 'Cargo_Total_419.9', 'Cargo_Total_4191.45', 'Cargo_Total_4192.15', 'Cargo_Total_4193.4', 'Cargo_Total_4194.85', 'Cargo_Total_42.45', 'Cargo_Total_42.7', 'Cargo_Total_42.9', 'Cargo_Total_420.2', 'Cargo_Total_420.45', 'Cargo_Total_4200.25', 'Cargo_Total_4209.95', 'Cargo_Total_4211.55', 'Cargo_Total_4213.35', 'Cargo_Total_4213.9', 'Cargo_Total_4214.25', 'Cargo_Total_4217.8', 'Cargo_Total_422.3', 'Cargo_Total_422.4', 'Cargo_Total_422.5', 'Cargo_Total_422.6', 'Cargo_Total_422.7', 'Cargo_Total_4220.35', 'Cargo_Total_4222.95', 'Cargo_Total_4224.7', 'Cargo_Total_4226.7', 'Cargo_Total_4228.55', 'Cargo_Total_4230.25', 'Cargo_Total_4233.95', 'Cargo_Total_4234.15', 'Cargo_Total_4236.6', 'Cargo_Total_4237.5', 'Cargo_Total_4238.45', 'Cargo_Total_424.15', 'Cargo_Total_424.45', 'Cargo_Total_424.5', 'Cargo_Total_424.75', 'Cargo_Total_4242.35', 'Cargo_Total_4245.55', 'Cargo_Total_425.1', 'Cargo_Total_425.9', 'Cargo_Total_4250.1', 'Cargo_Total_4254.1', 'Cargo_Total_4254.85', 'Cargo_Total_4259.3', 'Cargo_Total_426.35', 'Cargo_Total_426.65', 'Cargo_Total_4261.2', 'Cargo_Total_4263.4', 'Cargo_Total_4263.45', 'Cargo_Total_4264', 'Cargo_Total_4264.25', 'Cargo_Total_4264.6', 'Cargo_Total_4265', 'Cargo_Total_4266.4', 'Cargo_Total_4267.15', 'Cargo_Total_4273.45', 'Cargo_Total_4275.75', 'Cargo_Total_428.45', 'Cargo_Total_428.7', 'Cargo_Total_4282.4', 'Cargo_Total_4284.2', 'Cargo_Total_4284.65', 'Cargo_Total_4284.8', 'Cargo_Total_4285.8', 'Cargo_Total_4287.2', 'Cargo_Total_429.55', 'Cargo_Total_4295.35', 'Cargo_Total_4297.6', 'Cargo_Total_4297.95', 'Cargo_Total_4298.45', 'Cargo_Total_4299.2', 'Cargo_Total_4299.75', 'Cargo_Total_4299.95', 'Cargo_Total_43.15', 'Cargo_Total_43.3', 'Cargo_Total_43.8', 'Cargo_Total_43.85', 'Cargo_Total_43.95', 'Cargo_Total_4300.45', 'Cargo_Total_4300.8', 'Cargo_Total_4303.65', 'Cargo_Total_4304', 'Cargo_Total_4304.5', 'Cargo_Total_4307.1', 'Cargo_Total_4308.25', 'Cargo_Total_4309.55', 'Cargo_Total_431', 'Cargo_Total_4310.35', 'Cargo_Total_4312.5', 'Cargo_Total_4317.35', 'Cargo_Total_4318.35', 'Cargo_Total_432.25', 'Cargo_Total_432.5', 'Cargo_Total_4322.85', 'Cargo_Total_4323.35', 'Cargo_Total_4323.45', 'Cargo_Total_4326.25', 'Cargo_Total_4326.8', 'Cargo_Total_4327.5', 'Cargo_Total_433.5', 'Cargo_Total_433.75', 'Cargo_Total_433.95', 'Cargo_Total_4331.4', 'Cargo_Total_4335.2', 'Cargo_Total_4338.6', 'Cargo_Total_434.1', 'Cargo_Total_434.5', 'Cargo_Total_434.8', 'Cargo_Total_4345', 'Cargo_Total_4346.4', 'Cargo_Total_4348.1', 'Cargo_Total_4348.65', 'Cargo_Total_435', 'Cargo_Total_435.25', 'Cargo_Total_435.4', 'Cargo_Total_435.45', 'Cargo_Total_4350.1', 'Cargo_Total_4354.45', 'Cargo_Total_436.2', 'Cargo_Total_436.6', 'Cargo_Total_436.9', 'Cargo_Total_4361.55', 'Cargo_Total_4362.05', 'Cargo_Total_4364.1', 'Cargo_Total_4367.35', 'Cargo_Total_4368.85', 'Cargo_Total_4368.95', 'Cargo_Total_4370.25', 'Cargo_Total_4370.75', 'Cargo_Total_4374.55', 'Cargo_Total_4375.8', 'Cargo_Total_4378.35', 'Cargo_Total_4378.8', 'Cargo_Total_4378.9', 'Cargo_Total_438', 'Cargo_Total_438.05', 'Cargo_Total_438.25', 'Cargo_Total_438.4', 'Cargo_Total_438.9', 'Cargo_Total_4385.05', 'Cargo_Total_4386.2', 'Cargo_Total_4388.4', 'Cargo_Total_439.2', 'Cargo_Total_439.75', 'Cargo_Total_4390.25', 'Cargo_Total_4391.25', 'Cargo_Total_4391.45', 'Cargo_Total_4392.5', 'Cargo_Total_4398.15', 'Cargo_Total_4399.5', 'Cargo_Total_44', 'Cargo_Total_44.05', 'Cargo_Total_44.1', 'Cargo_Total_44.15', 'Cargo_Total_44.2', 'Cargo_Total_44.3', 'Cargo_Total_44.35', 'Cargo_Total_44.4', 'Cargo_Total_44.45', 'Cargo_Total_44.55', 'Cargo_Total_44.6', 'Cargo_Total_44.65', 'Cargo_Total_44.7', 'Cargo_Total_44.75', 'Cargo_Total_44.8', 'Cargo_Total_44.9', 'Cargo_Total_44.95', 'Cargo_Total_440.2', 'Cargo_Total_4400.75', 'Cargo_Total_4408.45', 'Cargo_Total_4414.3', 'Cargo_Total_4415.75', 'Cargo_Total_442.2', 'Cargo_Total_442.45', 'Cargo_Total_442.6', 'Cargo_Total_442.85', 'Cargo_Total_4421.95', 'Cargo_Total_4422.95', 'Cargo_Total_4424.2', 'Cargo_Total_4428.45', 'Cargo_Total_4428.6', 'Cargo_Total_443.9', 'Cargo_Total_4433.3', 'Cargo_Total_4438.2', 'Cargo_Total_444.75', 'Cargo_Total_4442.75', 'Cargo_Total_4443.45', 'Cargo_Total_4445.3', 'Cargo_Total_4447.55', 'Cargo_Total_4447.75', 'Cargo_Total_4448.8', 'Cargo_Total_4449.75', 'Cargo_Total_445.3', 'Cargo_Total_445.85', 'Cargo_Total_445.95', 'Cargo_Total_4451.85', 'Cargo_Total_4453.3', 'Cargo_Total_4454.25', 'Cargo_Total_4456.35', 'Cargo_Total_4456.65', 'Cargo_Total_4458.15', 'Cargo_Total_4459.15', 'Cargo_Total_4459.8', 'Cargo_Total_446.05', 'Cargo_Total_446.1', 'Cargo_Total_446.8', 'Cargo_Total_4461.85', 'Cargo_Total_4464.8', 'Cargo_Total_4469.1', 'Cargo_Total_447.75', 'Cargo_Total_447.9', 'Cargo_Total_4473', 'Cargo_Total_4473.45', 'Cargo_Total_4475.9', 'Cargo_Total_4478.85', 'Cargo_Total_4479.2', 'Cargo_Total_4480.7', 'Cargo_Total_4481', 'Cargo_Total_4483.95', 'Cargo_Total_4484.05', 'Cargo_Total_4487.3', 'Cargo_Total_449.3', 'Cargo_Total_449.75', 'Cargo_Total_4492.9', 'Cargo_Total_4494.65', 'Cargo_Total_4495.65', 'Cargo_Total_45', 'Cargo_Total_45.05', 'Cargo_Total_45.1', 'Cargo_Total_45.15', 'Cargo_Total_45.2', 'Cargo_Total_45.25', 'Cargo_Total_45.3', 'Cargo_Total_45.35', 'Cargo_Total_45.4', 'Cargo_Total_45.55', 'Cargo_Total_45.6', 'Cargo_Total_45.65', 'Cargo_Total_45.7', 'Cargo_Total_45.75', 'Cargo_Total_45.8', 'Cargo_Total_45.85', 'Cargo_Total_45.95', 'Cargo_Total_450.4', 'Cargo_Total_450.65', 'Cargo_Total_450.8', 'Cargo_Total_450.9', 'Cargo_Total_4504.55', 'Cargo_Total_4504.9', 'Cargo_Total_4507.15', 'Cargo_Total_4508.65', 'Cargo_Total_4509.5', 'Cargo_Total_451.1', 'Cargo_Total_451.55', 'Cargo_Total_4510.8', 'Cargo_Total_4512.7', 'Cargo_Total_4513.65', 'Cargo_Total_4515.85', 'Cargo_Total_4517.25', 'Cargo_Total_4519.5', 'Cargo_Total_452.2', 'Cargo_Total_452.35', 'Cargo_Total_452.55', 'Cargo_Total_452.7', 'Cargo_Total_452.8', 'Cargo_Total_4520.15', 'Cargo_Total_4523.25', 'Cargo_Total_4524.05', 'Cargo_Total_4525.8', 'Cargo_Total_4526.85', 'Cargo_Total_4527.45', 'Cargo_Total_4528', 'Cargo_Total_453.4', 'Cargo_Total_453.75', 'Cargo_Total_4532.3', 'Cargo_Total_4533.7', 'Cargo_Total_4533.9', 'Cargo_Total_4534.45', 'Cargo_Total_4534.9', 'Cargo_Total_4535.85', 'Cargo_Total_4539.35', 'Cargo_Total_4539.6', 'Cargo_Total_454', 'Cargo_Total_454.05', 'Cargo_Total_454.15', 'Cargo_Total_454.65', 'Cargo_Total_4541.2', 'Cargo_Total_4541.9', 'Cargo_Total_4542.35', 'Cargo_Total_4543.15', 'Cargo_Total_4543.95', 'Cargo_Total_4546', 'Cargo_Total_4547.25', 'Cargo_Total_4549.05', 'Cargo_Total_4549.45', 'Cargo_Total_455.3', 'Cargo_Total_455.5', 'Cargo_Total_4551.5', 'Cargo_Total_4554.85', 'Cargo_Total_4555.2', 'Cargo_Total_4557.5', 'Cargo_Total_456.85', 'Cargo_Total_4563', 'Cargo_Total_4564.9', 'Cargo_Total_4566.5', 'Cargo_Total_457.1', 'Cargo_Total_457.3', 'Cargo_Total_4575.35', 'Cargo_Total_4576.3', 'Cargo_Total_4577.75', 'Cargo_Total_4577.9', 'Cargo_Total_458.1', 'Cargo_Total_4586.15', 'Cargo_Total_4589.85', 'Cargo_Total_459.6', 'Cargo_Total_459.95', 'Cargo_Total_4590.35', 'Cargo_Total_4594.65', 'Cargo_Total_4594.95', 'Cargo_Total_4599.15', 'Cargo_Total_46', 'Cargo_Total_46.2', 'Cargo_Total_46.3', 'Cargo_Total_46.35', 'Cargo_Total_46.4', 'Cargo_Total_460.2', 'Cargo_Total_460.25', 'Cargo_Total_4600.7', 'Cargo_Total_4600.95', 'Cargo_Total_461.3', 'Cargo_Total_461.7', 'Cargo_Total_4613.95', 'Cargo_Total_4614.55', 'Cargo_Total_4615.25', 'Cargo_Total_4615.9', 'Cargo_Total_4616.05', 'Cargo_Total_4616.1', 'Cargo_Total_4619.55', 'Cargo_Total_462.8', 'Cargo_Total_4620.4', 'Cargo_Total_4627.65', 'Cargo_Total_4627.8', 'Cargo_Total_4627.85', 'Cargo_Total_463.05', 'Cargo_Total_463.6', 'Cargo_Total_4630.2', 'Cargo_Total_4631.7', 'Cargo_Total_4634.35', 'Cargo_Total_4639.45', 'Cargo_Total_4641.1', 'Cargo_Total_465.05', 'Cargo_Total_465.45', 'Cargo_Total_465.7', 'Cargo_Total_465.85', 'Cargo_Total_4652.4', 'Cargo_Total_4653.25', 'Cargo_Total_4653.85', 'Cargo_Total_4657.95', 'Cargo_Total_466.6', 'Cargo_Total_4663.4', 'Cargo_Total_4664.15', 'Cargo_Total_4664.2', 'Cargo_Total_4664.5', 'Cargo_Total_4667', 'Cargo_Total_4669.2', 'Cargo_Total_467.15', 'Cargo_Total_467.5', 'Cargo_Total_467.55', 'Cargo_Total_467.7', 'Cargo_Total_467.85', 'Cargo_Total_4671.65', 'Cargo_Total_4671.7', 'Cargo_Total_4674.4', 'Cargo_Total_4674.55', 'Cargo_Total_4676.7', 'Cargo_Total_4677.1', 'Cargo_Total_468.35', 'Cargo_Total_4680.05', 'Cargo_Total_4681.75', 'Cargo_Total_4684.3', 'Cargo_Total_4685.55', 'Cargo_Total_4687.9', 'Cargo_Total_4688.65', 'Cargo_Total_4689.15', 'Cargo_Total_4689.5', 'Cargo_Total_469.25', 'Cargo_Total_469.65', 'Cargo_Total_469.8', 'Cargo_Total_469.85', 'Cargo_Total_4690.65', 'Cargo_Total_4692.55', 'Cargo_Total_4692.95', 'Cargo_Total_4693.2', 'Cargo_Total_4698.05', 'Cargo_Total_47.5', 'Cargo_Total_47.7', 'Cargo_Total_47.95', 'Cargo_Total_470', 'Cargo_Total_470.2', 'Cargo_Total_470.6', 'Cargo_Total_470.95', 'Cargo_Total_4707.1', 'Cargo_Total_4707.85', 'Cargo_Total_471.35', 'Cargo_Total_471.55', 'Cargo_Total_471.7', 'Cargo_Total_471.85', 'Cargo_Total_4713.4', 'Cargo_Total_4718.25', 'Cargo_Total_4719.75', 'Cargo_Total_472.25', 'Cargo_Total_472.65', 'Cargo_Total_4720', 'Cargo_Total_4729.3', 'Cargo_Total_4729.75', 'Cargo_Total_473.9', 'Cargo_Total_4730.6', 'Cargo_Total_4730.9', 'Cargo_Total_4732.35', 'Cargo_Total_4733.1', 'Cargo_Total_4735.2', 'Cargo_Total_4735.35', 'Cargo_Total_4738.3', 'Cargo_Total_4738.85', 'Cargo_Total_474.8', 'Cargo_Total_474.9', 'Cargo_Total_4740', 'Cargo_Total_4741.45', 'Cargo_Total_4744.35', 'Cargo_Total_4746.05', 'Cargo_Total_4747.2', 'Cargo_Total_4747.5', 'Cargo_Total_4747.65', 'Cargo_Total_4747.85', 'Cargo_Total_4748.7', 'Cargo_Total_4749.15', 'Cargo_Total_475', 'Cargo_Total_475.1', 'Cargo_Total_475.2', 'Cargo_Total_475.25', 'Cargo_Total_475.7', 'Cargo_Total_4750.95', 'Cargo_Total_4753.85', 'Cargo_Total_4754.3', 'Cargo_Total_4758.8', 'Cargo_Total_4759.55', 'Cargo_Total_4759.75', 'Cargo_Total_4759.85', 'Cargo_Total_476.8', 'Cargo_Total_4760.3', 'Cargo_Total_4764', 'Cargo_Total_4765', 'Cargo_Total_477.05', 'Cargo_Total_477.55', 'Cargo_Total_477.6', 'Cargo_Total_477.7', 'Cargo_Total_4779.45', 'Cargo_Total_478.1', 'Cargo_Total_478.75', 'Cargo_Total_4783.5', 'Cargo_Total_4784.45', 'Cargo_Total_4786.1', 'Cargo_Total_4786.15', 'Cargo_Total_4793.8', 'Cargo_Total_4798.4', 'Cargo_Total_48.35', 'Cargo_Total_48.45', 'Cargo_Total_48.55', 'Cargo_Total_48.6', 'Cargo_Total_48.75', 'Cargo_Total_48.95', 'Cargo_Total_480.6', 'Cargo_Total_480.75', 'Cargo_Total_4801.1', 'Cargo_Total_4804.65', 'Cargo_Total_4804.75', 'Cargo_Total_4805.3', 'Cargo_Total_4805.65', 'Cargo_Total_4807.35', 'Cargo_Total_4807.45', 'Cargo_Total_4808.7', 'Cargo_Total_481.1', 'Cargo_Total_4811.6', 'Cargo_Total_4812.75', 'Cargo_Total_4816.7', 'Cargo_Total_4818.8', 'Cargo_Total_4819.75', 'Cargo_Total_482.25', 'Cargo_Total_482.8', 'Cargo_Total_4820.15', 'Cargo_Total_4820.55', 'Cargo_Total_4822.85', 'Cargo_Total_4824.45', 'Cargo_Total_4828.05', 'Cargo_Total_483.15', 'Cargo_Total_483.3', 'Cargo_Total_483.7', 'Cargo_Total_4830.25', 'Cargo_Total_4834', 'Cargo_Total_4837.6', 'Cargo_Total_4839.15', 'Cargo_Total_484.05', 'Cargo_Total_4845.4', 'Cargo_Total_4847.05', 'Cargo_Total_4847.35', 'Cargo_Total_4849.1', 'Cargo_Total_485.2', 'Cargo_Total_485.25', 'Cargo_Total_485.9', 'Cargo_Total_4853.75', 'Cargo_Total_4854.3', 'Cargo_Total_4855.35', 'Cargo_Total_4858.7', 'Cargo_Total_4859.1', 'Cargo_Total_4859.25', 'Cargo_Total_4859.95', 'Cargo_Total_486.05', 'Cargo_Total_486.2', 'Cargo_Total_486.85', 'Cargo_Total_4860.35', 'Cargo_Total_4860.85', 'Cargo_Total_4861.45', 'Cargo_Total_4862.5', 'Cargo_Total_4863.85', 'Cargo_Total_4867.95', 'Cargo_Total_4868.4', 'Cargo_Total_4869.35', 'Cargo_Total_4869.5', 'Cargo_Total_487.05', 'Cargo_Total_487.75', 'Cargo_Total_487.95', 'Cargo_Total_4871.05', 'Cargo_Total_4871.45', 'Cargo_Total_4872.2', 'Cargo_Total_4872.35', 'Cargo_Total_4872.45', 'Cargo_Total_4874.7', 'Cargo_Total_4874.8', 'Cargo_Total_488.25', 'Cargo_Total_488.65', 'Cargo_Total_4882.8', 'Cargo_Total_4884.85', 'Cargo_Total_4885.85', 'Cargo_Total_4888.2', 'Cargo_Total_4888.7', 'Cargo_Total_4889.2', 'Cargo_Total_4889.3', 'Cargo_Total_489.45', 'Cargo_Total_4890.5', 'Cargo_Total_4891.5', 'Cargo_Total_4895.1', 'Cargo_Total_4896.35', 'Cargo_Total_49', 'Cargo_Total_49.05', 'Cargo_Total_49.25', 'Cargo_Total_49.3', 'Cargo_Total_49.5', 'Cargo_Total_49.55', 'Cargo_Total_49.65', 'Cargo_Total_49.7', 'Cargo_Total_49.75', 'Cargo_Total_49.8', 'Cargo_Total_49.85', 'Cargo_Total_49.9', 'Cargo_Total_49.95', 'Cargo_Total_490.55', 'Cargo_Total_490.65', 'Cargo_Total_4900.65', 'Cargo_Total_4902.8', 'Cargo_Total_4903.15', 'Cargo_Total_4903.2', 'Cargo_Total_4904.2', 'Cargo_Total_4904.25', 'Cargo_Total_4904.85', 'Cargo_Total_4905.75', 'Cargo_Total_4908.25', 'Cargo_Total_4911.05', 'Cargo_Total_4911.35', 'Cargo_Total_4913.3', 'Cargo_Total_4914.8', 'Cargo_Total_4914.9', 'Cargo_Total_4915.15', 'Cargo_Total_4916.4', 'Cargo_Total_4916.95', 'Cargo_Total_4917.75', 'Cargo_Total_4917.9', 'Cargo_Total_4919.7', 'Cargo_Total_492', 'Cargo_Total_492.1', 'Cargo_Total_492.55', 'Cargo_Total_4920.55', 'Cargo_Total_4920.8', 'Cargo_Total_4921.2', 'Cargo_Total_4922.4', 'Cargo_Total_4925.35', 'Cargo_Total_4929.55', 'Cargo_Total_493.4', 'Cargo_Total_493.65', 'Cargo_Total_493.95', 'Cargo_Total_4931.8', 'Cargo_Total_4932.5', 'Cargo_Total_4939.25', 'Cargo_Total_494.05', 'Cargo_Total_494.9', 'Cargo_Total_494.95', 'Cargo_Total_4941.8', 'Cargo_Total_4946.05', 'Cargo_Total_4946.7', 'Cargo_Total_4947.55', 'Cargo_Total_4949.1', 'Cargo_Total_495.15', 'Cargo_Total_4952.95', 'Cargo_Total_4953.25', 'Cargo_Total_4959.15', 'Cargo_Total_4959.6', 'Cargo_Total_496.9', 'Cargo_Total_4964.7', 'Cargo_Total_4965', 'Cargo_Total_4965.1', 'Cargo_Total_4968', 'Cargo_Total_497.3', 'Cargo_Total_497.55', 'Cargo_Total_497.6', 'Cargo_Total_4972.1', 'Cargo_Total_4973.4', 'Cargo_Total_4976.15', 'Cargo_Total_4977.2', 'Cargo_Total_498.1', 'Cargo_Total_498.25', 'Cargo_Total_4981.15', 'Cargo_Total_4982.5', 'Cargo_Total_4983.05', 'Cargo_Total_4984.85', 'Cargo_Total_4985.9', 'Cargo_Total_499.4', 'Cargo_Total_4990.25', 'Cargo_Total_4991.5', 'Cargo_Total_4993.4', 'Cargo_Total_4995.35', 'Cargo_Total_4997.5', 'Cargo_Total_50.05', 'Cargo_Total_50.1', 'Cargo_Total_50.15', 'Cargo_Total_50.35', 'Cargo_Total_50.45', 'Cargo_Total_50.5', 'Cargo_Total_50.55', 'Cargo_Total_50.6', 'Cargo_Total_50.65', 'Cargo_Total_50.7', 'Cargo_Total_50.75', 'Cargo_Total_50.8', 'Cargo_Total_50.9', 'Cargo_Total_500.1', 'Cargo_Total_5000.05', 'Cargo_Total_5000.2', 'Cargo_Total_501', 'Cargo_Total_501.2', 'Cargo_Total_501.35', 'Cargo_Total_5011.15', 'Cargo_Total_5012.1', 'Cargo_Total_5012.35', 'Cargo_Total_5013', 'Cargo_Total_5016.25', 'Cargo_Total_5016.65', 'Cargo_Total_5017.7', 'Cargo_Total_5017.9', 'Cargo_Total_502.6', 'Cargo_Total_502.85', 'Cargo_Total_5023', 'Cargo_Total_5025', 'Cargo_Total_5025.8', 'Cargo_Total_5025.85', 'Cargo_Total_5029.05', 'Cargo_Total_5029.2', 'Cargo_Total_503.25', 'Cargo_Total_503.6', 'Cargo_Total_5031', 'Cargo_Total_5031.85', 'Cargo_Total_5032.25', 'Cargo_Total_5034.05', 'Cargo_Total_5036.3', 'Cargo_Total_5036.9', 'Cargo_Total_5037.55', 'Cargo_Total_5038.15', 'Cargo_Total_5038.45', 'Cargo_Total_504.05', 'Cargo_Total_504.2', 'Cargo_Total_5040.2', 'Cargo_Total_5042.75', 'Cargo_Total_5043.2', 'Cargo_Total_5044.8', 'Cargo_Total_505.45', 'Cargo_Total_505.9', 'Cargo_Total_505.95', 'Cargo_Total_5059.75', 'Cargo_Total_506.9', 'Cargo_Total_5060.85', 'Cargo_Total_5060.9', 'Cargo_Total_5064.45', 'Cargo_Total_5064.85', 'Cargo_Total_5067.45', 'Cargo_Total_5068.05', 'Cargo_Total_5069.65', 'Cargo_Total_507.4', 'Cargo_Total_507.9', 'Cargo_Total_5070.4', 'Cargo_Total_5071.05', 'Cargo_Total_5071.9', 'Cargo_Total_5073.1', 'Cargo_Total_5082.8', 'Cargo_Total_5083.55', 'Cargo_Total_5084.65', 'Cargo_Total_5088.4', 'Cargo_Total_509.3', 'Cargo_Total_5099.15', 'Cargo_Total_51.15', 'Cargo_Total_51.2', 'Cargo_Total_51.25', 'Cargo_Total_51.6', 'Cargo_Total_510.8', 'Cargo_Total_5102.35', 'Cargo_Total_511.25', 'Cargo_Total_5116.6', 'Cargo_Total_5118.95', 'Cargo_Total_512.25', 'Cargo_Total_512.45', 'Cargo_Total_5121.3', 'Cargo_Total_5121.75', 'Cargo_Total_5124.55', 'Cargo_Total_5124.6', 'Cargo_Total_5125.5', 'Cargo_Total_5125.75', 'Cargo_Total_5127.95', 'Cargo_Total_5129.3', 'Cargo_Total_5129.45', 'Cargo_Total_5135.15', 'Cargo_Total_5135.35', 'Cargo_Total_5138.1', 'Cargo_Total_5139.65', 'Cargo_Total_514', 'Cargo_Total_514.6', 'Cargo_Total_514.75', 'Cargo_Total_5149.5', 'Cargo_Total_515.45', 'Cargo_Total_515.75', 'Cargo_Total_5150.55', 'Cargo_Total_5153.5', 'Cargo_Total_5154.5', 'Cargo_Total_5154.6', 'Cargo_Total_516.15', 'Cargo_Total_516.3', 'Cargo_Total_5163', 'Cargo_Total_5163.3', 'Cargo_Total_5165.7', 'Cargo_Total_5166.2', 'Cargo_Total_5168.1', 'Cargo_Total_5174.35', 'Cargo_Total_5175.3', 'Cargo_Total_518.3', 'Cargo_Total_518.75', 'Cargo_Total_518.9', 'Cargo_Total_5186', 'Cargo_Total_5189.75', 'Cargo_Total_519.15', 'Cargo_Total_5193.2', 'Cargo_Total_5194.05', 'Cargo_Total_5196.1', 'Cargo_Total_5199.8', 'Cargo_Total_52', 'Cargo_Total_52.05', 'Cargo_Total_52.2', 'Cargo_Total_520', 'Cargo_Total_520.1', 'Cargo_Total_520.55', 'Cargo_Total_520.95', 'Cargo_Total_5200.8', 'Cargo_Total_5206.55', 'Cargo_Total_521', 'Cargo_Total_521.1', 'Cargo_Total_521.3', 'Cargo_Total_521.35', 'Cargo_Total_521.8', 'Cargo_Total_521.9', 'Cargo_Total_5212.65', 'Cargo_Total_5215.1', 'Cargo_Total_5215.25', 'Cargo_Total_5219.65', 'Cargo_Total_522.35', 'Cargo_Total_522.95', 'Cargo_Total_5222.3', 'Cargo_Total_5222.35', 'Cargo_Total_5224.35', 'Cargo_Total_5224.5', 'Cargo_Total_5224.95', 'Cargo_Total_5229.45', 'Cargo_Total_5229.8', 'Cargo_Total_523.1', 'Cargo_Total_523.15', 'Cargo_Total_523.5', 'Cargo_Total_5231.2', 'Cargo_Total_5231.3', 'Cargo_Total_5232.9', 'Cargo_Total_5233.25', 'Cargo_Total_5234.95', 'Cargo_Total_5236.4', 'Cargo_Total_5237.4', 'Cargo_Total_5238.9', 'Cargo_Total_524.35', 'Cargo_Total_524.5', 'Cargo_Total_5243.05', 'Cargo_Total_5244.45', 'Cargo_Total_525', 'Cargo_Total_525.55', 'Cargo_Total_5251.75', 'Cargo_Total_5253.95', 'Cargo_Total_526.7', 'Cargo_Total_526.95', 'Cargo_Total_5264.25', 'Cargo_Total_5264.3', 'Cargo_Total_5264.5', 'Cargo_Total_5265.1', 'Cargo_Total_5265.2', 'Cargo_Total_5265.5', 'Cargo_Total_5265.55', 'Cargo_Total_527.35', 'Cargo_Total_527.5', 'Cargo_Total_527.9', 'Cargo_Total_5270.6', 'Cargo_Total_5275.8', 'Cargo_Total_5276.1', 'Cargo_Total_5278.15', 'Cargo_Total_528.35', 'Cargo_Total_528.45', 'Cargo_Total_5283.95', 'Cargo_Total_5289.05', 'Cargo_Total_5289.8', 'Cargo_Total_529.5', 'Cargo_Total_529.8', 'Cargo_Total_5290.45', 'Cargo_Total_5293.2', 'Cargo_Total_5293.4', 'Cargo_Total_5293.95', 'Cargo_Total_5294.6', 'Cargo_Total_5295.7', 'Cargo_Total_5299.65', 'Cargo_Total_53.05', 'Cargo_Total_53.15', 'Cargo_Total_53.5', 'Cargo_Total_53.55', 'Cargo_Total_53.95', 'Cargo_Total_530.05', 'Cargo_Total_5301.1', 'Cargo_Total_5305.05', 'Cargo_Total_5308.7', 'Cargo_Total_5309.5', 'Cargo_Total_531', 'Cargo_Total_531.15', 'Cargo_Total_531.55', 'Cargo_Total_531.6', 'Cargo_Total_5311.85', 'Cargo_Total_5315.1', 'Cargo_Total_5315.8', 'Cargo_Total_5317.8', 'Cargo_Total_532.1', 'Cargo_Total_5321.25', 'Cargo_Total_5324.5', 'Cargo_Total_5327.25', 'Cargo_Total_5329', 'Cargo_Total_5329.55', 'Cargo_Total_533.05', 'Cargo_Total_533.5', 'Cargo_Total_533.6', 'Cargo_Total_533.9', 'Cargo_Total_5330.2', 'Cargo_Total_5333.35', 'Cargo_Total_5336.35', 'Cargo_Total_534.7', 'Cargo_Total_5341.8', 'Cargo_Total_5347.95', 'Cargo_Total_5348.65', 'Cargo_Total_535.05', 'Cargo_Total_535.35', 'Cargo_Total_535.55', 'Cargo_Total_5356.45', 'Cargo_Total_5357.75', 'Cargo_Total_536.35', 'Cargo_Total_536.4', 'Cargo_Total_5360.75', 'Cargo_Total_5364.8', 'Cargo_Total_537.35', 'Cargo_Total_5373.1', 'Cargo_Total_5375.15', 'Cargo_Total_5376.4', 'Cargo_Total_5377.8', 'Cargo_Total_538.2', 'Cargo_Total_538.5', 'Cargo_Total_5386.5', 'Cargo_Total_5388.15', 'Cargo_Total_539.85', 'Cargo_Total_5396.25', 'Cargo_Total_5398.6', 'Cargo_Total_54.3', 'Cargo_Total_54.35', 'Cargo_Total_54.5', 'Cargo_Total_54.65', 'Cargo_Total_54.7', 'Cargo_Total_54.75', 'Cargo_Total_54.9', 'Cargo_Total_540.05', 'Cargo_Total_540.95', 'Cargo_Total_5401.9', 'Cargo_Total_5405.8', 'Cargo_Total_5409.75', 'Cargo_Total_541.15', 'Cargo_Total_541.5', 'Cargo_Total_541.9', 'Cargo_Total_5411.4', 'Cargo_Total_5411.65', 'Cargo_Total_542.4', 'Cargo_Total_5420.65', 'Cargo_Total_5424.25', 'Cargo_Total_5426.85', 'Cargo_Total_5427.05', 'Cargo_Total_543', 'Cargo_Total_543.8', 'Cargo_Total_5430.35', 'Cargo_Total_5430.65', 'Cargo_Total_5431.4', 'Cargo_Total_5431.9', 'Cargo_Total_5432.2', 'Cargo_Total_5435', 'Cargo_Total_5435.6', 'Cargo_Total_5436.45', 'Cargo_Total_5437.1', 'Cargo_Total_5437.75', 'Cargo_Total_5438.9', 'Cargo_Total_5438.95', 'Cargo_Total_544.55', 'Cargo_Total_5440.9', 'Cargo_Total_5442.05', 'Cargo_Total_5443.65', 'Cargo_Total_5445.95', 'Cargo_Total_5448.6', 'Cargo_Total_545.15', 'Cargo_Total_545.2', 'Cargo_Total_5450.7', 'Cargo_Total_5453.4', 'Cargo_Total_5458.8', 'Cargo_Total_5459.2', 'Cargo_Total_546.45', 'Cargo_Total_546.85', 'Cargo_Total_546.95', 'Cargo_Total_5460.2', 'Cargo_Total_5461.45', 'Cargo_Total_5464.65', 'Cargo_Total_5468.45', 'Cargo_Total_5468.95', 'Cargo_Total_547.65', 'Cargo_Total_547.8', 'Cargo_Total_5471.75', 'Cargo_Total_5475.9', 'Cargo_Total_548.8', 'Cargo_Total_548.9', 'Cargo_Total_5480.25', 'Cargo_Total_5481.25', 'Cargo_Total_5483.9', 'Cargo_Total_5484.4', 'Cargo_Total_5485.5', 'Cargo_Total_5487', 'Cargo_Total_5496.9', 'Cargo_Total_5497.05', 'Cargo_Total_5498.2', 'Cargo_Total_5498.8', 'Cargo_Total_55', 'Cargo_Total_55.05', 'Cargo_Total_55.2', 'Cargo_Total_55.25', 'Cargo_Total_55.3', 'Cargo_Total_55.4', 'Cargo_Total_55.45', 'Cargo_Total_55.55', 'Cargo_Total_55.7', 'Cargo_Total_55.8', 'Cargo_Total_550.1', 'Cargo_Total_550.35', 'Cargo_Total_550.6', 'Cargo_Total_5500.6', 'Cargo_Total_5502.55', 'Cargo_Total_5508.35', 'Cargo_Total_5509.3', 'Cargo_Total_551.3', 'Cargo_Total_551.35', 'Cargo_Total_551.95', 'Cargo_Total_5510.65', 'Cargo_Total_5511.65', 'Cargo_Total_5514.95', 'Cargo_Total_5515.45', 'Cargo_Total_5515.8', 'Cargo_Total_552.1', 'Cargo_Total_552.65', 'Cargo_Total_552.7', 'Cargo_Total_552.9', 'Cargo_Total_552.95', 'Cargo_Total_5522.7', 'Cargo_Total_5526.75', 'Cargo_Total_5528.9', 'Cargo_Total_553', 'Cargo_Total_553.4', 'Cargo_Total_5535.8', 'Cargo_Total_5536.5', 'Cargo_Total_5538.35', 'Cargo_Total_5538.8', 'Cargo_Total_554.05', 'Cargo_Total_554.25', 'Cargo_Total_554.45', 'Cargo_Total_5542.55', 'Cargo_Total_5549.4', 'Cargo_Total_555.4', 'Cargo_Total_5550.1', 'Cargo_Total_5551.15', 'Cargo_Total_5552.05', 'Cargo_Total_5552.5', 'Cargo_Total_5553.25', 'Cargo_Total_5555.3', 'Cargo_Total_556.35', 'Cargo_Total_5560', 'Cargo_Total_5563.65', 'Cargo_Total_5564.85', 'Cargo_Total_5566.4', 'Cargo_Total_5567.45', 'Cargo_Total_5567.55', 'Cargo_Total_5568.35', 'Cargo_Total_5574.35', 'Cargo_Total_5574.75', 'Cargo_Total_5576.3', 'Cargo_Total_558.8', 'Cargo_Total_5580.8', 'Cargo_Total_5581.05', 'Cargo_Total_5585.4', 'Cargo_Total_5586.45', 'Cargo_Total_5588.8', 'Cargo_Total_5589.3', 'Cargo_Total_5589.45', 'Cargo_Total_559.2', 'Cargo_Total_5594', 'Cargo_Total_5595.3', 'Cargo_Total_5597.65', 'Cargo_Total_5598', 'Cargo_Total_5598.3', 'Cargo_Total_56', 'Cargo_Total_56.25', 'Cargo_Total_56.35', 'Cargo_Total_560.6', 'Cargo_Total_560.85', 'Cargo_Total_5600.15', 'Cargo_Total_5601.4', 'Cargo_Total_5602.25', 'Cargo_Total_5607.75', 'Cargo_Total_5608.4', 'Cargo_Total_561.15', 'Cargo_Total_5610.15', 'Cargo_Total_5610.25', 'Cargo_Total_5610.7', 'Cargo_Total_5611.7', 'Cargo_Total_5611.75', 'Cargo_Total_5614.45', 'Cargo_Total_5617.75', 'Cargo_Total_5617.95', 'Cargo_Total_5618.3', 'Cargo_Total_562.6', 'Cargo_Total_562.7', 'Cargo_Total_5621.85', 'Cargo_Total_5623.7', 'Cargo_Total_5624.85', 'Cargo_Total_5625.55', 'Cargo_Total_5629.15', 'Cargo_Total_5629.55', 'Cargo_Total_563.05', 'Cargo_Total_563.5', 'Cargo_Total_563.65', 'Cargo_Total_5632.55', 'Cargo_Total_5637.85', 'Cargo_Total_5638.3', 'Cargo_Total_5639.05', 'Cargo_Total_564.35', 'Cargo_Total_564.4', 'Cargo_Total_564.65', 'Cargo_Total_5643.4', 'Cargo_Total_5645.8', 'Cargo_Total_5646.6', 'Cargo_Total_5647.95', 'Cargo_Total_565.35', 'Cargo_Total_565.75', 'Cargo_Total_5655.45', 'Cargo_Total_5656.75', 'Cargo_Total_566.1', 'Cargo_Total_566.5', 'Cargo_Total_5661.7', 'Cargo_Total_5662.25', 'Cargo_Total_5669.5', 'Cargo_Total_567.45', 'Cargo_Total_567.8', 'Cargo_Total_5673.7', 'Cargo_Total_5676', 'Cargo_Total_5676.65', 'Cargo_Total_568.2', 'Cargo_Total_568.85', 'Cargo_Total_5680.9', 'Cargo_Total_5681.1', 'Cargo_Total_5682.25', 'Cargo_Total_5683.6', 'Cargo_Total_5685.8', 'Cargo_Total_5686.4', 'Cargo_Total_5688.05', 'Cargo_Total_5688.45', 'Cargo_Total_5692.65', 'Cargo_Total_5696.6', 'Cargo_Total_57.2', 'Cargo_Total_57.4', 'Cargo_Total_57.5', 'Cargo_Total_5703', 'Cargo_Total_5703.25', 'Cargo_Total_5705.05', 'Cargo_Total_5706.2', 'Cargo_Total_5706.3', 'Cargo_Total_5708.2', 'Cargo_Total_571.05', 'Cargo_Total_571.15', 'Cargo_Total_571.45', 'Cargo_Total_571.75', 'Cargo_Total_5711.05', 'Cargo_Total_5714.2', 'Cargo_Total_5714.25', 'Cargo_Total_5717.85', 'Cargo_Total_5718.2', 'Cargo_Total_572.2', 'Cargo_Total_572.45', 'Cargo_Total_572.85', 'Cargo_Total_5720.35', 'Cargo_Total_5720.95', 'Cargo_Total_5727.15', 'Cargo_Total_5727.45', 'Cargo_Total_5728.55', 'Cargo_Total_573.05', 'Cargo_Total_573.15', 'Cargo_Total_573.3', 'Cargo_Total_573.75', 'Cargo_Total_5730.15', 'Cargo_Total_5730.7', 'Cargo_Total_5731.4', 'Cargo_Total_5731.45', 'Cargo_Total_5731.85', 'Cargo_Total_5733.4', 'Cargo_Total_5737.6', 'Cargo_Total_574.35', 'Cargo_Total_574.5', 'Cargo_Total_5742.9', 'Cargo_Total_5743.05', 'Cargo_Total_5743.3', 'Cargo_Total_5744.35', 'Cargo_Total_5746.15', 'Cargo_Total_5746.75', 'Cargo_Total_5749.8', 'Cargo_Total_575.45', 'Cargo_Total_5750', 'Cargo_Total_5753.25', 'Cargo_Total_5755.8', 'Cargo_Total_5757.2', 'Cargo_Total_576.65', 'Cargo_Total_576.7', 'Cargo_Total_576.95', 'Cargo_Total_5760.65', 'Cargo_Total_5762.95', 'Cargo_Total_5763.15', 'Cargo_Total_5763.3', 'Cargo_Total_5764.7', 'Cargo_Total_5769.6', 'Cargo_Total_5769.75', 'Cargo_Total_577.15', 'Cargo_Total_577.6', 'Cargo_Total_5774.55', 'Cargo_Total_5776.45', 'Cargo_Total_5779.6', 'Cargo_Total_578.5', 'Cargo_Total_5780.7', 'Cargo_Total_5784.3', 'Cargo_Total_5785.5', 'Cargo_Total_5785.65', 'Cargo_Total_579', 'Cargo_Total_579.4', 'Cargo_Total_5791.1', 'Cargo_Total_5791.85', 'Cargo_Total_5794.45', 'Cargo_Total_5794.65', 'Cargo_Total_5798.3', 'Cargo_Total_58', 'Cargo_Total_58.15', 'Cargo_Total_58.3', 'Cargo_Total_58.85', 'Cargo_Total_58.9', 'Cargo_Total_580.1', 'Cargo_Total_580.8', 'Cargo_Total_5809.75', 'Cargo_Total_581.7', 'Cargo_Total_581.85', 'Cargo_Total_5810.9', 'Cargo_Total_5811.8', 'Cargo_Total_5812', 'Cargo_Total_5812.6', 'Cargo_Total_5815.15', 'Cargo_Total_5817', 'Cargo_Total_5817.45', 'Cargo_Total_5817.7', 'Cargo_Total_582.5', 'Cargo_Total_5822.3', 'Cargo_Total_5824.75', 'Cargo_Total_5825.5', 'Cargo_Total_5826.65', 'Cargo_Total_583', 'Cargo_Total_583.3', 'Cargo_Total_583.45', 'Cargo_Total_5831.2', 'Cargo_Total_5832', 'Cargo_Total_5832.65', 'Cargo_Total_5835.5', 'Cargo_Total_5839.3', 'Cargo_Total_5841.35', 'Cargo_Total_5844.65', 'Cargo_Total_5846.65', 'Cargo_Total_5848.6', 'Cargo_Total_585.95', 'Cargo_Total_586.05', 'Cargo_Total_5860.7', 'Cargo_Total_5861.75', 'Cargo_Total_5867', 'Cargo_Total_5869.4', 'Cargo_Total_587.1', 'Cargo_Total_587.4', 'Cargo_Total_587.45', 'Cargo_Total_587.7', 'Cargo_Total_5873.75', 'Cargo_Total_5878.9', 'Cargo_Total_5882.75', 'Cargo_Total_5883.85', 'Cargo_Total_5885.4', 'Cargo_Total_5886.85', 'Cargo_Total_589.25', 'Cargo_Total_5890', 'Cargo_Total_5893.15', 'Cargo_Total_5893.9', 'Cargo_Total_5893.95', 'Cargo_Total_5894.5', 'Cargo_Total_5895.45', 'Cargo_Total_5897.4', 'Cargo_Total_5898.6', 'Cargo_Total_5899.85', 'Cargo_Total_59.05', 'Cargo_Total_59.2', 'Cargo_Total_59.25', 'Cargo_Total_59.55', 'Cargo_Total_59.75', 'Cargo_Total_59.85', 'Cargo_Total_590.35', 'Cargo_Total_5903.15', 'Cargo_Total_5913.95', 'Cargo_Total_5914.4', 'Cargo_Total_5916.45', 'Cargo_Total_5916.95', 'Cargo_Total_5917.55', 'Cargo_Total_5918.8', 'Cargo_Total_5919.35', 'Cargo_Total_592.65', 'Cargo_Total_592.75', 'Cargo_Total_5921.35', 'Cargo_Total_5924.4', 'Cargo_Total_5925.75', 'Cargo_Total_593.05', 'Cargo_Total_593.2', 'Cargo_Total_593.3', 'Cargo_Total_593.45', 'Cargo_Total_593.75', 'Cargo_Total_593.85', 'Cargo_Total_5930.05', 'Cargo_Total_5931', 'Cargo_Total_5931.75', 'Cargo_Total_5935.1', 'Cargo_Total_5936.55', 'Cargo_Total_5940.85', 'Cargo_Total_5941.05', 'Cargo_Total_5943.65', 'Cargo_Total_5948.7', 'Cargo_Total_595.05', 'Cargo_Total_595.5', 'Cargo_Total_5950.2', 'Cargo_Total_5953', 'Cargo_Total_5956.85', 'Cargo_Total_5957.9', 'Cargo_Total_5958.85', 'Cargo_Total_5959.3', 'Cargo_Total_5960.5', 'Cargo_Total_5961.1', 'Cargo_Total_5963.95', 'Cargo_Total_5965.95', 'Cargo_Total_5968.4', 'Cargo_Total_5969.3', 'Cargo_Total_5969.85', 'Cargo_Total_5969.95', 'Cargo_Total_597', 'Cargo_Total_597.9', 'Cargo_Total_5971.25', 'Cargo_Total_5974.3', 'Cargo_Total_5976.9', 'Cargo_Total_5979.7', 'Cargo_Total_5980.55', 'Cargo_Total_5980.75', 'Cargo_Total_5981.65', 'Cargo_Total_5985', 'Cargo_Total_5985.75', 'Cargo_Total_5986.45', 'Cargo_Total_5986.55', 'Cargo_Total_599.25', 'Cargo_Total_599.3', 'Cargo_Total_5991.05', 'Cargo_Total_5997.1', 'Cargo_Total_5999.85', 'Cargo_Total_60', 'Cargo_Total_60.1', 'Cargo_Total_60.15', 'Cargo_Total_60.65', 'Cargo_Total_600', 'Cargo_Total_600.15', 'Cargo_Total_600.25', 'Cargo_Total_6000.1', 'Cargo_Total_6001.45', 'Cargo_Total_6004.85', 'Cargo_Total_601.25', 'Cargo_Total_601.55', 'Cargo_Total_601.6', 'Cargo_Total_6010.05', 'Cargo_Total_6014.85', 'Cargo_Total_6017.65', 'Cargo_Total_6017.9', 'Cargo_Total_6018.65', 'Cargo_Total_6019.35', 'Cargo_Total_602.55', 'Cargo_Total_602.9', 'Cargo_Total_6028.95', 'Cargo_Total_6029', 'Cargo_Total_6029.9', 'Cargo_Total_603', 'Cargo_Total_6033.1', 'Cargo_Total_6033.3', 'Cargo_Total_6034.85', 'Cargo_Total_6038.55', 'Cargo_Total_6039.9', 'Cargo_Total_604.7', 'Cargo_Total_6042.7', 'Cargo_Total_6045.9', 'Cargo_Total_6046.1', 'Cargo_Total_6049.5', 'Cargo_Total_605.25', 'Cargo_Total_605.45', 'Cargo_Total_605.75', 'Cargo_Total_605.9', 'Cargo_Total_6052.25', 'Cargo_Total_6055.55', 'Cargo_Total_6056.15', 'Cargo_Total_6056.9', 'Cargo_Total_6058.95', 'Cargo_Total_606.25', 'Cargo_Total_606.55', 'Cargo_Total_6065.3', 'Cargo_Total_6066.55', 'Cargo_Total_6067.4', 'Cargo_Total_6068.65', 'Cargo_Total_6069.25', 'Cargo_Total_607.3', 'Cargo_Total_607.7', 'Cargo_Total_6075.9', 'Cargo_Total_6077.75', 'Cargo_Total_6078.75', 'Cargo_Total_6079', 'Cargo_Total_608', 'Cargo_Total_608.15', 'Cargo_Total_608.5', 'Cargo_Total_608.8', 'Cargo_Total_6081.4', 'Cargo_Total_6083.1', 'Cargo_Total_609.05', 'Cargo_Total_609.1', 'Cargo_Total_609.65', 'Cargo_Total_609.9', 'Cargo_Total_6093.3', 'Cargo_Total_6094.25', 'Cargo_Total_6096.45', 'Cargo_Total_6096.9', 'Cargo_Total_61.05', 'Cargo_Total_61.15', 'Cargo_Total_61.35', 'Cargo_Total_61.45', 'Cargo_Total_61.7', 'Cargo_Total_610.2', 'Cargo_Total_610.75', 'Cargo_Total_6109.65', 'Cargo_Total_6109.75', 'Cargo_Total_611.45', 'Cargo_Total_611.65', 'Cargo_Total_6110.2', 'Cargo_Total_6110.75', 'Cargo_Total_6118.95', 'Cargo_Total_612.1', 'Cargo_Total_612.95', 'Cargo_Total_6125.4', 'Cargo_Total_6126.1', 'Cargo_Total_6126.15', 'Cargo_Total_6127.6', 'Cargo_Total_6129.2', 'Cargo_Total_6129.65', 'Cargo_Total_613.4', 'Cargo_Total_613.95', 'Cargo_Total_6130.85', 'Cargo_Total_6130.95', 'Cargo_Total_6132.7', 'Cargo_Total_6137', 'Cargo_Total_6139.5', 'Cargo_Total_614.45', 'Cargo_Total_6140.85', 'Cargo_Total_6141.65', 'Cargo_Total_6143.15', 'Cargo_Total_6144.55', 'Cargo_Total_6145.2', 'Cargo_Total_6145.85', 'Cargo_Total_6148.45', 'Cargo_Total_615.35', 'Cargo_Total_6151.9', 'Cargo_Total_6152.3', 'Cargo_Total_6152.4', 'Cargo_Total_6153.85', 'Cargo_Total_6155.4', 'Cargo_Total_6157.6', 'Cargo_Total_616.9', 'Cargo_Total_6161.9', 'Cargo_Total_6164.7', 'Cargo_Total_617.15', 'Cargo_Total_617.35', 'Cargo_Total_617.65', 'Cargo_Total_617.85', 'Cargo_Total_6171.2', 'Cargo_Total_6172', 'Cargo_Total_6176.6', 'Cargo_Total_6179.35', 'Cargo_Total_6185.15', 'Cargo_Total_6185.8', 'Cargo_Total_6194.1', 'Cargo_Total_62', 'Cargo_Total_62.05', 'Cargo_Total_62.25', 'Cargo_Total_62.8', 'Cargo_Total_62.9', 'Cargo_Total_620.35', 'Cargo_Total_620.55', 'Cargo_Total_620.75', 'Cargo_Total_6201.95', 'Cargo_Total_6205.5', 'Cargo_Total_6215.35', 'Cargo_Total_6218.45', 'Cargo_Total_6219.6', 'Cargo_Total_622.9', 'Cargo_Total_6223.3', 'Cargo_Total_6223.8', 'Cargo_Total_6224.8', 'Cargo_Total_6225.4', 'Cargo_Total_6227.5', 'Cargo_Total_6230.1', 'Cargo_Total_6236.75', 'Cargo_Total_6237.05', 'Cargo_Total_6239.05', 'Cargo_Total_624.15', 'Cargo_Total_624.6', 'Cargo_Total_6241.35', 'Cargo_Total_625.05', 'Cargo_Total_625.65', 'Cargo_Total_6252.7', 'Cargo_Total_6252.9', 'Cargo_Total_6253', 'Cargo_Total_6254.2', 'Cargo_Total_6254.45', 'Cargo_Total_6256.2', 'Cargo_Total_6263.8', 'Cargo_Total_627.4', 'Cargo_Total_6273.4', 'Cargo_Total_628.65', 'Cargo_Total_6281.45', 'Cargo_Total_6283.3', 'Cargo_Total_6287.25', 'Cargo_Total_6287.3', 'Cargo_Total_629.35', 'Cargo_Total_629.55', 'Cargo_Total_6292.7', 'Cargo_Total_6293.2', 'Cargo_Total_6293.45', 'Cargo_Total_6293.75', 'Cargo_Total_6296.75', 'Cargo_Total_6297.65', 'Cargo_Total_63', 'Cargo_Total_63.15', 'Cargo_Total_63.6', 'Cargo_Total_63.75', 'Cargo_Total_630.6', 'Cargo_Total_6300.15', 'Cargo_Total_6300.85', 'Cargo_Total_6301.7', 'Cargo_Total_6302.8', 'Cargo_Total_6302.85', 'Cargo_Total_6306.5', 'Cargo_Total_6309.65', 'Cargo_Total_631.4', 'Cargo_Total_631.85', 'Cargo_Total_6310.9', 'Cargo_Total_6311.2', 'Cargo_Total_6312.9', 'Cargo_Total_6314.35', 'Cargo_Total_6316.2', 'Cargo_Total_632.2', 'Cargo_Total_632.95', 'Cargo_Total_6322.1', 'Cargo_Total_6325.25', 'Cargo_Total_6328.7', 'Cargo_Total_633.3', 'Cargo_Total_633.4', 'Cargo_Total_633.45', 'Cargo_Total_633.85', 'Cargo_Total_6330.4', 'Cargo_Total_6332.75', 'Cargo_Total_6333.4', 'Cargo_Total_6333.8', 'Cargo_Total_6339.3', 'Cargo_Total_6339.45', 'Cargo_Total_6341.45', 'Cargo_Total_6342.7', 'Cargo_Total_6347.55', 'Cargo_Total_635.6', 'Cargo_Total_635.9', 'Cargo_Total_6350.5', 'Cargo_Total_6352.4', 'Cargo_Total_6362.35', 'Cargo_Total_6363.45', 'Cargo_Total_6365.35', 'Cargo_Total_6367.2', 'Cargo_Total_6368.2', 'Cargo_Total_6369.45', 'Cargo_Total_637.4', 'Cargo_Total_637.55', 'Cargo_Total_6373.1', 'Cargo_Total_6375.2', 'Cargo_Total_6375.8', 'Cargo_Total_6376.55', 'Cargo_Total_638', 'Cargo_Total_638.55', 'Cargo_Total_638.95', 'Cargo_Total_6382', 'Cargo_Total_6382.55', 'Cargo_Total_6383.35', 'Cargo_Total_6383.9', 'Cargo_Total_6385.95', 'Cargo_Total_6388.65', 'Cargo_Total_639.45', 'Cargo_Total_639.65', 'Cargo_Total_639.7', 'Cargo_Total_6392.85', 'Cargo_Total_6393.65', 'Cargo_Total_6396.45', 'Cargo_Total_6397.6', 'Cargo_Total_6398.05', 'Cargo_Total_64.55', 'Cargo_Total_6401.25', 'Cargo_Total_6404', 'Cargo_Total_6405', 'Cargo_Total_641.15', 'Cargo_Total_641.25', 'Cargo_Total_641.35', 'Cargo_Total_6411.25', 'Cargo_Total_6413.65', 'Cargo_Total_6416.7', 'Cargo_Total_6418.9', 'Cargo_Total_6423', 'Cargo_Total_6424.25', 'Cargo_Total_6424.7', 'Cargo_Total_6425.65', 'Cargo_Total_6428.4', 'Cargo_Total_6430.9', 'Cargo_Total_6431.05', 'Cargo_Total_6435.25', 'Cargo_Total_644.35', 'Cargo_Total_644.5', 'Cargo_Total_6440.25', 'Cargo_Total_6441.4', 'Cargo_Total_6441.85', 'Cargo_Total_6444.05', 'Cargo_Total_6448.05', 'Cargo_Total_6448.85', 'Cargo_Total_6449.15', 'Cargo_Total_645.8', 'Cargo_Total_6457.15', 'Cargo_Total_646.05', 'Cargo_Total_646.85', 'Cargo_Total_6460.55', 'Cargo_Total_6463.15', 'Cargo_Total_6465', 'Cargo_Total_6468.6', 'Cargo_Total_647.5', 'Cargo_Total_6470.1', 'Cargo_Total_6471.85', 'Cargo_Total_6474.4', 'Cargo_Total_6474.45', 'Cargo_Total_6479.4', 'Cargo_Total_648.65', 'Cargo_Total_6480.9', 'Cargo_Total_6487.2', 'Cargo_Total_649.4', 'Cargo_Total_649.65', 'Cargo_Total_6496.15', 'Cargo_Total_65.95', 'Cargo_Total_6501.35', 'Cargo_Total_6503.2', 'Cargo_Total_6506.15', 'Cargo_Total_651.4', 'Cargo_Total_651.5', 'Cargo_Total_651.55', 'Cargo_Total_6510.45', 'Cargo_Total_6511.25', 'Cargo_Total_6511.8', 'Cargo_Total_6518.35', 'Cargo_Total_6519.75', 'Cargo_Total_6520.8', 'Cargo_Total_6521.9', 'Cargo_Total_6526.65', 'Cargo_Total_6529.25', 'Cargo_Total_653.15', 'Cargo_Total_653.25', 'Cargo_Total_653.9', 'Cargo_Total_653.95', 'Cargo_Total_6536.5', 'Cargo_Total_6538.45', 'Cargo_Total_654.5', 'Cargo_Total_654.55', 'Cargo_Total_654.85', 'Cargo_Total_6547.7', 'Cargo_Total_6548.65', 'Cargo_Total_6549.45', 'Cargo_Total_655.3', 'Cargo_Total_655.5', 'Cargo_Total_655.85', 'Cargo_Total_655.9', 'Cargo_Total_6555.2', 'Cargo_Total_6557.75', 'Cargo_Total_6561.25', 'Cargo_Total_6562.9', 'Cargo_Total_6563.4', 'Cargo_Total_6565.85', 'Cargo_Total_6567.9', 'Cargo_Total_657.5', 'Cargo_Total_6572.85', 'Cargo_Total_6578.55', 'Cargo_Total_6579.05', 'Cargo_Total_658.1', 'Cargo_Total_658.95', 'Cargo_Total_6581.9', 'Cargo_Total_6585.2', 'Cargo_Total_6585.35', 'Cargo_Total_6586.85', 'Cargo_Total_6588.95', 'Cargo_Total_6589.6', 'Cargo_Total_659.35', 'Cargo_Total_659.45', 'Cargo_Total_659.65', 'Cargo_Total_6590.5', 'Cargo_Total_6590.8', 'Cargo_Total_6595', 'Cargo_Total_6595.9', 'Cargo_Total_6597.25', 'Cargo_Total_66.95', 'Cargo_Total_660.05', 'Cargo_Total_660.9', 'Cargo_Total_6602.9', 'Cargo_Total_6603', 'Cargo_Total_6603.8', 'Cargo_Total_6605.55', 'Cargo_Total_661.25', 'Cargo_Total_661.55', 'Cargo_Total_6613.65', 'Cargo_Total_6614.9', 'Cargo_Total_6615.15', 'Cargo_Total_662.65', 'Cargo_Total_662.95', 'Cargo_Total_663.05', 'Cargo_Total_663.55', 'Cargo_Total_6631.85', 'Cargo_Total_6632.75', 'Cargo_Total_6637.9', 'Cargo_Total_6638.35', 'Cargo_Total_664.4', 'Cargo_Total_6640.7', 'Cargo_Total_6643.5', 'Cargo_Total_665.45', 'Cargo_Total_6652.45', 'Cargo_Total_6654.1', 'Cargo_Total_666', 'Cargo_Total_666.75', 'Cargo_Total_6668', 'Cargo_Total_6668.05', 'Cargo_Total_6668.35', 'Cargo_Total_6669.05', 'Cargo_Total_6669.45', 'Cargo_Total_667.7', 'Cargo_Total_6671.7', 'Cargo_Total_6674.65', 'Cargo_Total_668.4', 'Cargo_Total_668.85', 'Cargo_Total_6683.4', 'Cargo_Total_6687.85', 'Cargo_Total_6688.1', 'Cargo_Total_6688.95', 'Cargo_Total_6689', 'Cargo_Total_669', 'Cargo_Total_669.45', 'Cargo_Total_669.85', 'Cargo_Total_6690.75', 'Cargo_Total_6692.65', 'Cargo_Total_6697.2', 'Cargo_Total_6697.35', 'Cargo_Total_67.1', 'Cargo_Total_67.55', 'Cargo_Total_670.35', 'Cargo_Total_670.65', 'Cargo_Total_6700.05', 'Cargo_Total_6703.5', 'Cargo_Total_6705.7', 'Cargo_Total_6707.15', 'Cargo_Total_6710.5', 'Cargo_Total_6713.2', 'Cargo_Total_6716.45', 'Cargo_Total_6717.9', 'Cargo_Total_6719.9', 'Cargo_Total_672.2', 'Cargo_Total_672.55', 'Cargo_Total_672.7', 'Cargo_Total_6721.6', 'Cargo_Total_6725.3', 'Cargo_Total_6725.5', 'Cargo_Total_673.1', 'Cargo_Total_673.2', 'Cargo_Total_673.25', 'Cargo_Total_6733', 'Cargo_Total_6733.15', 'Cargo_Total_6735.05', 'Cargo_Total_674.55', 'Cargo_Total_6741.15', 'Cargo_Total_6743.55', 'Cargo_Total_6744.2', 'Cargo_Total_6744.25', 'Cargo_Total_6747.35', 'Cargo_Total_675.6', 'Cargo_Total_6751.35', 'Cargo_Total_6754.35', 'Cargo_Total_6758.45', 'Cargo_Total_676.15', 'Cargo_Total_676.35', 'Cargo_Total_676.7', 'Cargo_Total_6766.95', 'Cargo_Total_6767.1', 'Cargo_Total_677.05', 'Cargo_Total_677.9', 'Cargo_Total_6770.5', 'Cargo_Total_6770.85', 'Cargo_Total_6779.05', 'Cargo_Total_678.2', 'Cargo_Total_678.45', 'Cargo_Total_678.75', 'Cargo_Total_678.8', 'Cargo_Total_6780.1', 'Cargo_Total_6782.15', 'Cargo_Total_6786.1', 'Cargo_Total_6786.4', 'Cargo_Total_679', 'Cargo_Total_679.3', 'Cargo_Total_679.55', 'Cargo_Total_679.8', 'Cargo_Total_679.85', 'Cargo_Total_6792.45', 'Cargo_Total_6794.75', 'Cargo_Total_68.2', 'Cargo_Total_68.35', 'Cargo_Total_68.45', 'Cargo_Total_68.5', 'Cargo_Total_68.65', 'Cargo_Total_68.75', 'Cargo_Total_68.8', 'Cargo_Total_68.95', 'Cargo_Total_680.05', 'Cargo_Total_681.4', 'Cargo_Total_6812.95', 'Cargo_Total_6816.95', 'Cargo_Total_6819.45', 'Cargo_Total_682.1', 'Cargo_Total_682.15', 'Cargo_Total_6822.15', 'Cargo_Total_6823.4', 'Cargo_Total_6825.65', 'Cargo_Total_6827.5', 'Cargo_Total_683.25', 'Cargo_Total_683.75', 'Cargo_Total_6838.6', 'Cargo_Total_684.05', 'Cargo_Total_684.4', 'Cargo_Total_684.85', 'Cargo_Total_6840.95', 'Cargo_Total_6841.05', 'Cargo_Total_6841.3', 'Cargo_Total_6841.4', 'Cargo_Total_6841.45', 'Cargo_Total_6843.15', 'Cargo_Total_6844.5', 'Cargo_Total_6849.4', 'Cargo_Total_6849.75', 'Cargo_Total_685.55', 'Cargo_Total_6851.65', 'Cargo_Total_6856.45', 'Cargo_Total_6856.95', 'Cargo_Total_6858.9', 'Cargo_Total_6859.05', 'Cargo_Total_6859.5', 'Cargo_Total_686.95', 'Cargo_Total_6860.6', 'Cargo_Total_6869.7', 'Cargo_Total_6871.7', 'Cargo_Total_6871.9', 'Cargo_Total_6873.75', 'Cargo_Total_6875.35', 'Cargo_Total_6876.05', 'Cargo_Total_688', 'Cargo_Total_688.2', 'Cargo_Total_688.5', 'Cargo_Total_688.65', 'Cargo_Total_6880.85', 'Cargo_Total_6885.75', 'Cargo_Total_6886.25', 'Cargo_Total_6889.8', 'Cargo_Total_689', 'Cargo_Total_689.35', 'Cargo_Total_689.75', 'Cargo_Total_6890', 'Cargo_Total_6891.4', 'Cargo_Total_6891.45', 'Cargo_Total_6895.5', 'Cargo_Total_69.1', 'Cargo_Total_69.15', 'Cargo_Total_69.2', 'Cargo_Total_69.25', 'Cargo_Total_69.35', 'Cargo_Total_69.4', 'Cargo_Total_69.5', 'Cargo_Total_69.55', 'Cargo_Total_69.6', 'Cargo_Total_69.65', 'Cargo_Total_69.7', 'Cargo_Total_69.75', 'Cargo_Total_69.8', 'Cargo_Total_69.85', 'Cargo_Total_69.9', 'Cargo_Total_69.95', 'Cargo_Total_690.25', 'Cargo_Total_690.5', 'Cargo_Total_6903.1', 'Cargo_Total_6910.3', 'Cargo_Total_6912.7', 'Cargo_Total_6914.95', 'Cargo_Total_692.1', 'Cargo_Total_692.35', 'Cargo_Total_692.55', 'Cargo_Total_6921.7', 'Cargo_Total_6925.9', 'Cargo_Total_6929.4', 'Cargo_Total_693.3', 'Cargo_Total_693.45', 'Cargo_Total_6936.85', 'Cargo_Total_6937.95', 'Cargo_Total_6941.2', 'Cargo_Total_6944.5', 'Cargo_Total_695.05', 'Cargo_Total_695.75', 'Cargo_Total_695.85', 'Cargo_Total_6951.15', 'Cargo_Total_6953.4', 'Cargo_Total_6954.15', 'Cargo_Total_696.35', 'Cargo_Total_696.8', 'Cargo_Total_6962.85', 'Cargo_Total_697.25', 'Cargo_Total_697.65', 'Cargo_Total_697.7', 'Cargo_Total_6975.25', 'Cargo_Total_6976.75', 'Cargo_Total_6979.8', 'Cargo_Total_6981.35', 'Cargo_Total_6982.5', 'Cargo_Total_6985.65', 'Cargo_Total_6989.45', 'Cargo_Total_6989.7', 'Cargo_Total_6991.6', 'Cargo_Total_6991.9', 'Cargo_Total_6993.65', 'Cargo_Total_6994.6', 'Cargo_Total_6994.8', 'Cargo_Total_6997.3', 'Cargo_Total_6998.95', 'Cargo_Total_70', 'Cargo_Total_70.05', 'Cargo_Total_70.1', 'Cargo_Total_70.15', 'Cargo_Total_70.2', 'Cargo_Total_70.25', 'Cargo_Total_70.3', 'Cargo_Total_70.35', 'Cargo_Total_70.4', 'Cargo_Total_70.45', 'Cargo_Total_70.5', 'Cargo_Total_70.55', 'Cargo_Total_70.6', 'Cargo_Total_70.65', 'Cargo_Total_70.7', 'Cargo_Total_70.75', 'Cargo_Total_70.8', 'Cargo_Total_70.85', 'Cargo_Total_70.9', 'Cargo_Total_700.45', 'Cargo_Total_700.85', 'Cargo_Total_7002.95', 'Cargo_Total_7007.6', 'Cargo_Total_7008.15', 'Cargo_Total_7009.5', 'Cargo_Total_701.05', 'Cargo_Total_701.3', 'Cargo_Total_7015.9', 'Cargo_Total_702', 'Cargo_Total_702.05', 'Cargo_Total_702.9', 'Cargo_Total_7028.5', 'Cargo_Total_703.55', 'Cargo_Total_7030.65', 'Cargo_Total_7031.3', 'Cargo_Total_7031.45', 'Cargo_Total_7035.6', 'Cargo_Total_7039.05', 'Cargo_Total_7039.45', 'Cargo_Total_704.3', 'Cargo_Total_7040.85', 'Cargo_Total_7047.5', 'Cargo_Total_7049.5', 'Cargo_Total_7049.75', 'Cargo_Total_705.45', 'Cargo_Total_7051.95', 'Cargo_Total_7053.35', 'Cargo_Total_706.6', 'Cargo_Total_706.85', 'Cargo_Total_7061.65', 'Cargo_Total_7069.25', 'Cargo_Total_7069.3', 'Cargo_Total_707.5', 'Cargo_Total_7074.4', 'Cargo_Total_7076.35', 'Cargo_Total_708.2', 'Cargo_Total_708.8', 'Cargo_Total_7082.45', 'Cargo_Total_7082.5', 'Cargo_Total_7082.85', 'Cargo_Total_7085.5', 'Cargo_Total_709.5', 'Cargo_Total_7099', 'Cargo_Total_71', 'Cargo_Total_71.1', 'Cargo_Total_71.15', 'Cargo_Total_71.2', 'Cargo_Total_71.25', 'Cargo_Total_71.35', 'Cargo_Total_71.55', 'Cargo_Total_71.65', 'Cargo_Total_710.05', 'Cargo_Total_7101.5', 'Cargo_Total_7104.2', 'Cargo_Total_7107', 'Cargo_Total_7108.2', 'Cargo_Total_711.15', 'Cargo_Total_711.9', 'Cargo_Total_711.95', 'Cargo_Total_7110.75', 'Cargo_Total_7111.3', 'Cargo_Total_7112.15', 'Cargo_Total_7113.75', 'Cargo_Total_7114.25', 'Cargo_Total_7118.9', 'Cargo_Total_712.25', 'Cargo_Total_712.75', 'Cargo_Total_712.85', 'Cargo_Total_7129.45', 'Cargo_Total_713', 'Cargo_Total_713.1', 'Cargo_Total_713.6', 'Cargo_Total_713.75', 'Cargo_Total_7132.15', 'Cargo_Total_7133.1', 'Cargo_Total_7133.25', 'Cargo_Total_7133.45', 'Cargo_Total_7138.65', 'Cargo_Total_714.15', 'Cargo_Total_7142.5', 'Cargo_Total_7149.35', 'Cargo_Total_715', 'Cargo_Total_7156.2', 'Cargo_Total_7159.05', 'Cargo_Total_7159.7', 'Cargo_Total_716.1', 'Cargo_Total_716.4', 'Cargo_Total_7168.25', 'Cargo_Total_717.3', 'Cargo_Total_717.5', 'Cargo_Total_717.95', 'Cargo_Total_7171.7', 'Cargo_Total_7173.15', 'Cargo_Total_7176.55', 'Cargo_Total_718.1', 'Cargo_Total_718.55', 'Cargo_Total_7181.25', 'Cargo_Total_7181.95', 'Cargo_Total_7188.5', 'Cargo_Total_7195.35', 'Cargo_Total_72', 'Cargo_Total_72.1', 'Cargo_Total_72.4', 'Cargo_Total_720.05', 'Cargo_Total_720.1', 'Cargo_Total_720.45', 'Cargo_Total_7209', 'Cargo_Total_7210.85', 'Cargo_Total_7213.75', 'Cargo_Total_7220.35', 'Cargo_Total_7222.75', 'Cargo_Total_7227.45', 'Cargo_Total_723.3', 'Cargo_Total_723.35', 'Cargo_Total_723.4', 'Cargo_Total_7234.8', 'Cargo_Total_7238.6', 'Cargo_Total_724.65', 'Cargo_Total_7240.65', 'Cargo_Total_7244.7', 'Cargo_Total_7245.9', 'Cargo_Total_7246.15', 'Cargo_Total_7250.15', 'Cargo_Total_7251.7', 'Cargo_Total_7251.9', 'Cargo_Total_726.1', 'Cargo_Total_7261.25', 'Cargo_Total_7261.75', 'Cargo_Total_7262', 'Cargo_Total_7266.95', 'Cargo_Total_727.8', 'Cargo_Total_727.85', 'Cargo_Total_7279.35', 'Cargo_Total_7281.6', 'Cargo_Total_7283.25', 'Cargo_Total_7285.7', 'Cargo_Total_7288.4', 'Cargo_Total_729.95', 'Cargo_Total_7291.75', 'Cargo_Total_7297.75', 'Cargo_Total_7299.65', 'Cargo_Total_73', 'Cargo_Total_73.05', 'Cargo_Total_73.1', 'Cargo_Total_73.45', 'Cargo_Total_73.5', 'Cargo_Total_73.55', 'Cargo_Total_73.6', 'Cargo_Total_73.65', 'Cargo_Total_730.1', 'Cargo_Total_730.4', 'Cargo_Total_7303.05', 'Cargo_Total_7308.95', 'Cargo_Total_731.3', 'Cargo_Total_7317.1', 'Cargo_Total_7318.2', 'Cargo_Total_732.5', 'Cargo_Total_7320.9', 'Cargo_Total_7321.05', 'Cargo_Total_7322.5', 'Cargo_Total_7323.15', 'Cargo_Total_7325.1', 'Cargo_Total_733.35', 'Cargo_Total_733.55', 'Cargo_Total_733.95', 'Cargo_Total_7332.4', 'Cargo_Total_7334.05', 'Cargo_Total_7337.55', 'Cargo_Total_734.35', 'Cargo_Total_734.6', 'Cargo_Total_7344.45', 'Cargo_Total_7346.2', 'Cargo_Total_7348.8', 'Cargo_Total_7349.35', 'Cargo_Total_735.5', 'Cargo_Total_735.9', 'Cargo_Total_736.8', 'Cargo_Total_7362.9', 'Cargo_Total_7365.3', 'Cargo_Total_7365.7', 'Cargo_Total_7372.65', 'Cargo_Total_7379.8', 'Cargo_Total_738.2', 'Cargo_Total_7382.25', 'Cargo_Total_7382.85', 'Cargo_Total_7383.7', 'Cargo_Total_7386.05', 'Cargo_Total_7388.45', 'Cargo_Total_739.35', 'Cargo_Total_739.9', 'Cargo_Total_7396.15', 'Cargo_Total_7397', 'Cargo_Total_74', 'Cargo_Total_74.1', 'Cargo_Total_74.2', 'Cargo_Total_74.25', 'Cargo_Total_74.3', 'Cargo_Total_74.35', 'Cargo_Total_74.4', 'Cargo_Total_74.45', 'Cargo_Total_74.5', 'Cargo_Total_74.6', 'Cargo_Total_74.7', 'Cargo_Total_74.9', 'Cargo_Total_74.95', 'Cargo_Total_740', 'Cargo_Total_740.3', 'Cargo_Total_740.55', 'Cargo_Total_740.8', 'Cargo_Total_7405.5', 'Cargo_Total_741', 'Cargo_Total_741.4', 'Cargo_Total_741.5', 'Cargo_Total_741.7', 'Cargo_Total_7412.25', 'Cargo_Total_7413.55', 'Cargo_Total_742.9', 'Cargo_Total_742.95', 'Cargo_Total_7422.1', 'Cargo_Total_743.05', 'Cargo_Total_743.3', 'Cargo_Total_743.5', 'Cargo_Total_743.75', 'Cargo_Total_7430.75', 'Cargo_Total_7432.05', 'Cargo_Total_7446.9', 'Cargo_Total_7447.7', 'Cargo_Total_745.3', 'Cargo_Total_7455.45', 'Cargo_Total_7459', 'Cargo_Total_7459.05', 'Cargo_Total_746.05', 'Cargo_Total_746.5', 'Cargo_Total_746.75', 'Cargo_Total_7467.5', 'Cargo_Total_7467.55', 'Cargo_Total_747.2', 'Cargo_Total_7470.1', 'Cargo_Total_7472.15', 'Cargo_Total_7475.1', 'Cargo_Total_7475.85', 'Cargo_Total_7482.1', 'Cargo_Total_749.25', 'Cargo_Total_749.35', 'Cargo_Total_7491.75', 'Cargo_Total_7493.05', 'Cargo_Total_75.05', 'Cargo_Total_75.1', 'Cargo_Total_75.3', 'Cargo_Total_75.35', 'Cargo_Total_75.45', 'Cargo_Total_75.5', 'Cargo_Total_75.55', 'Cargo_Total_75.6', 'Cargo_Total_75.7', 'Cargo_Total_75.75', 'Cargo_Total_75.8', 'Cargo_Total_75.9', 'Cargo_Total_750.1', 'Cargo_Total_7508.55', 'Cargo_Total_751.65', 'Cargo_Total_7511.3', 'Cargo_Total_7511.65', 'Cargo_Total_7511.9', 'Cargo_Total_7517.7', 'Cargo_Total_7521.95', 'Cargo_Total_7530.8', 'Cargo_Total_7532.15', 'Cargo_Total_7534.65', 'Cargo_Total_7537.5', 'Cargo_Total_754', 'Cargo_Total_754.5', 'Cargo_Total_754.65', 'Cargo_Total_7542.25', 'Cargo_Total_7544', 'Cargo_Total_7544.3', 'Cargo_Total_7548.1', 'Cargo_Total_7548.6', 'Cargo_Total_755.4', 'Cargo_Total_755.5', 'Cargo_Total_755.6', 'Cargo_Total_7550.3', 'Cargo_Total_7553.6', 'Cargo_Total_7554.05', 'Cargo_Total_7555', 'Cargo_Total_7556.9', 'Cargo_Total_7559.55', 'Cargo_Total_756.4', 'Cargo_Total_7565.35', 'Cargo_Total_7567.2', 'Cargo_Total_757.1', 'Cargo_Total_757.95', 'Cargo_Total_7576.7', 'Cargo_Total_7578.05', 'Cargo_Total_758.6', 'Cargo_Total_7581.5', 'Cargo_Total_7589.8', 'Cargo_Total_759.35', 'Cargo_Total_759.55', 'Cargo_Total_76', 'Cargo_Total_76.2', 'Cargo_Total_76.35', 'Cargo_Total_76.4', 'Cargo_Total_76.45', 'Cargo_Total_76.65', 'Cargo_Total_76.95', 'Cargo_Total_760.05', 'Cargo_Total_7609.75', 'Cargo_Total_761.85', 'Cargo_Total_761.95', 'Cargo_Total_7610.1', 'Cargo_Total_7611.55', 'Cargo_Total_7611.85', 'Cargo_Total_7616', 'Cargo_Total_762.1', 'Cargo_Total_762.25', 'Cargo_Total_762.45', 'Cargo_Total_762.5', 'Cargo_Total_7623.2', 'Cargo_Total_7624.2', 'Cargo_Total_7629.85', 'Cargo_Total_763.1', 'Cargo_Total_7634.25', 'Cargo_Total_7634.8', 'Cargo_Total_764.55', 'Cargo_Total_764.95', 'Cargo_Total_765.15', 'Cargo_Total_765.45', 'Cargo_Total_765.5', 'Cargo_Total_7657.4', 'Cargo_Total_7658.3', 'Cargo_Total_7661.8', 'Cargo_Total_7665.8', 'Cargo_Total_767.55', 'Cargo_Total_767.9', 'Cargo_Total_7674.55', 'Cargo_Total_7677.4', 'Cargo_Total_7679.65', 'Cargo_Total_768.05', 'Cargo_Total_768.45', 'Cargo_Total_7689.8', 'Cargo_Total_7689.95', 'Cargo_Total_769.1', 'Cargo_Total_7690.9', 'Cargo_Total_77.15', 'Cargo_Total_77.5', 'Cargo_Total_77.6', 'Cargo_Total_77.75', 'Cargo_Total_770.4', 'Cargo_Total_770.5', 'Cargo_Total_770.6', 'Cargo_Total_7707.7', 'Cargo_Total_771.95', 'Cargo_Total_7711.25', 'Cargo_Total_7711.45', 'Cargo_Total_7713.55', 'Cargo_Total_7714.65', 'Cargo_Total_7719.5', 'Cargo_Total_772.4', 'Cargo_Total_772.85', 'Cargo_Total_7723.7', 'Cargo_Total_7723.9', 'Cargo_Total_7726.35', 'Cargo_Total_773.2', 'Cargo_Total_773.65', 'Cargo_Total_7732.65', 'Cargo_Total_7737.55', 'Cargo_Total_7746.7', 'Cargo_Total_7748.75', 'Cargo_Total_775.3', 'Cargo_Total_775.6', 'Cargo_Total_7751.7', 'Cargo_Total_7752.05', 'Cargo_Total_7752.3', 'Cargo_Total_7758.9', 'Cargo_Total_776.25', 'Cargo_Total_7767.25', 'Cargo_Total_777.3', 'Cargo_Total_777.35', 'Cargo_Total_7774.05', 'Cargo_Total_778.1', 'Cargo_Total_7782.85', 'Cargo_Total_7789.6', 'Cargo_Total_779.2', 'Cargo_Total_779.25', 'Cargo_Total_7795.95', 'Cargo_Total_78.05', 'Cargo_Total_78.25', 'Cargo_Total_78.3', 'Cargo_Total_78.45', 'Cargo_Total_78.65', 'Cargo_Total_78.8', 'Cargo_Total_78.9', 'Cargo_Total_78.95', 'Cargo_Total_780.1', 'Cargo_Total_780.15', 'Cargo_Total_780.2', 'Cargo_Total_780.25', 'Cargo_Total_780.5', 'Cargo_Total_780.85', 'Cargo_Total_7804.15', 'Cargo_Total_7806.5', 'Cargo_Total_7806.6', 'Cargo_Total_781.25', 'Cargo_Total_781.4', 'Cargo_Total_7839.85', 'Cargo_Total_784.25', 'Cargo_Total_784.45', 'Cargo_Total_7840.6', 'Cargo_Total_7842.3', 'Cargo_Total_7843.55', 'Cargo_Total_7845.8', 'Cargo_Total_7848.5', 'Cargo_Total_7849.85', 'Cargo_Total_785.75', 'Cargo_Total_7852.4', 'Cargo_Total_7853.7', 'Cargo_Total_7854.15', 'Cargo_Total_7854.9', 'Cargo_Total_7856', 'Cargo_Total_786.3', 'Cargo_Total_786.5', 'Cargo_Total_7862.25', 'Cargo_Total_7869.05', 'Cargo_Total_7875', 'Cargo_Total_7878.3', 'Cargo_Total_788.05', 'Cargo_Total_788.35', 'Cargo_Total_788.55', 'Cargo_Total_788.6', 'Cargo_Total_788.8', 'Cargo_Total_7880.25', 'Cargo_Total_7881.2', 'Cargo_Total_7882.25', 'Cargo_Total_7882.5', 'Cargo_Total_7887.25', 'Cargo_Total_789.2', 'Cargo_Total_789.55', 'Cargo_Total_7895.15', 'Cargo_Total_7898.45', 'Cargo_Total_79.05', 'Cargo_Total_79.1', 'Cargo_Total_79.15', 'Cargo_Total_79.2', 'Cargo_Total_79.25', 'Cargo_Total_79.35', 'Cargo_Total_79.45', 'Cargo_Total_79.5', 'Cargo_Total_79.55', 'Cargo_Total_79.6', 'Cargo_Total_79.65', 'Cargo_Total_79.7', 'Cargo_Total_79.8', 'Cargo_Total_79.9', 'Cargo_Total_79.95', 'Cargo_Total_790', 'Cargo_Total_790.15', 'Cargo_Total_790.7', 'Cargo_Total_7904.25', 'Cargo_Total_791.15', 'Cargo_Total_791.7', 'Cargo_Total_791.75', 'Cargo_Total_7919.8', 'Cargo_Total_792.15', 'Cargo_Total_7920.7', 'Cargo_Total_7922.75', 'Cargo_Total_793.55', 'Cargo_Total_7930.55', 'Cargo_Total_7932.5', 'Cargo_Total_7939.25', 'Cargo_Total_794.25', 'Cargo_Total_7942.15', 'Cargo_Total_7943.45', 'Cargo_Total_795.15', 'Cargo_Total_795.65', 'Cargo_Total_7953.25', 'Cargo_Total_7962.2', 'Cargo_Total_7965.95', 'Cargo_Total_7966.9', 'Cargo_Total_7968.85', 'Cargo_Total_797.1', 'Cargo_Total_797.25', 'Cargo_Total_798.2', 'Cargo_Total_7982.5', 'Cargo_Total_7984.15', 'Cargo_Total_7985.9', 'Cargo_Total_7987.6', 'Cargo_Total_799', 'Cargo_Total_799.65', 'Cargo_Total_7990.05', 'Cargo_Total_7993.3', 'Cargo_Total_7998.8', 'Cargo_Total_80', 'Cargo_Total_80.05', 'Cargo_Total_80.15', 'Cargo_Total_80.2', 'Cargo_Total_80.25', 'Cargo_Total_80.3', 'Cargo_Total_80.35', 'Cargo_Total_80.5', 'Cargo_Total_80.55', 'Cargo_Total_80.8', 'Cargo_Total_80.85', 'Cargo_Total_80.95', 'Cargo_Total_800.3', 'Cargo_Total_8003.8', 'Cargo_Total_801.3', 'Cargo_Total_8012.75', 'Cargo_Total_8013.55', 'Cargo_Total_8016.6', 'Cargo_Total_802.35', 'Cargo_Total_8022.85', 'Cargo_Total_803.3', 'Cargo_Total_8033.1', 'Cargo_Total_8035.95', 'Cargo_Total_804.25', 'Cargo_Total_804.85', 'Cargo_Total_8041.65', 'Cargo_Total_8046.85', 'Cargo_Total_805.1', 'Cargo_Total_805.2', 'Cargo_Total_8058.55', 'Cargo_Total_8058.85', 'Cargo_Total_806.95', 'Cargo_Total_8061.5', 'Cargo_Total_8065.65', 'Cargo_Total_8071.05', 'Cargo_Total_8075.35', 'Cargo_Total_8078.1', 'Cargo_Total_808.95', 'Cargo_Total_8086.4', 'Cargo_Total_809.25', 'Cargo_Total_809.75', 'Cargo_Total_8093.15', 'Cargo_Total_81', 'Cargo_Total_81.05', 'Cargo_Total_81.1', 'Cargo_Total_81.25', 'Cargo_Total_81.7', 'Cargo_Total_81.95', 'Cargo_Total_810.2', 'Cargo_Total_810.3', 'Cargo_Total_810.45', 'Cargo_Total_810.7', 'Cargo_Total_810.85', 'Cargo_Total_8100.25', 'Cargo_Total_8100.55', 'Cargo_Total_8109.8', 'Cargo_Total_811.65', 'Cargo_Total_811.8', 'Cargo_Total_812.4', 'Cargo_Total_812.5', 'Cargo_Total_8124.2', 'Cargo_Total_8126.65', 'Cargo_Total_8127.6', 'Cargo_Total_8129.3', 'Cargo_Total_813.3', 'Cargo_Total_813.45', 'Cargo_Total_813.85', 'Cargo_Total_814.75', 'Cargo_Total_815.5', 'Cargo_Total_815.55', 'Cargo_Total_8152.3', 'Cargo_Total_816.8', 'Cargo_Total_8164.1', 'Cargo_Total_8165.1', 'Cargo_Total_8166.8', 'Cargo_Total_817.95', 'Cargo_Total_8175.9', 'Cargo_Total_818.05', 'Cargo_Total_818.45', 'Cargo_Total_8182.75', 'Cargo_Total_8182.85', 'Cargo_Total_819.4', 'Cargo_Total_819.55', 'Cargo_Total_819.95', 'Cargo_Total_8192.6', 'Cargo_Total_8196.4', 'Cargo_Total_82.15', 'Cargo_Total_82.3', 'Cargo_Total_82.7', 'Cargo_Total_82.85', 'Cargo_Total_82.9', 'Cargo_Total_820.5', 'Cargo_Total_821.6', 'Cargo_Total_8220.4', 'Cargo_Total_824.75', 'Cargo_Total_824.85', 'Cargo_Total_8240.85', 'Cargo_Total_8244.3', 'Cargo_Total_8248.5', 'Cargo_Total_825.1', 'Cargo_Total_825.4', 'Cargo_Total_825.7', 'Cargo_Total_8250', 'Cargo_Total_826', 'Cargo_Total_826.1', 'Cargo_Total_827.05', 'Cargo_Total_827.3', 'Cargo_Total_827.45', 'Cargo_Total_827.7', 'Cargo_Total_8277.05', 'Cargo_Total_828.05', 'Cargo_Total_828.2', 'Cargo_Total_828.85', 'Cargo_Total_8289.2', 'Cargo_Total_829.1', 'Cargo_Total_829.3', 'Cargo_Total_829.55', 'Cargo_Total_8297.5', 'Cargo_Total_83.3', 'Cargo_Total_83.4', 'Cargo_Total_83.75', 'Cargo_Total_830.25', 'Cargo_Total_830.7', 'Cargo_Total_830.8', 'Cargo_Total_830.85', 'Cargo_Total_8306.05', 'Cargo_Total_8308.9', 'Cargo_Total_8309.55', 'Cargo_Total_831.75', 'Cargo_Total_8310.55', 'Cargo_Total_8312.4', 'Cargo_Total_8312.75', 'Cargo_Total_8317.95', 'Cargo_Total_832.05', 'Cargo_Total_832.3', 'Cargo_Total_832.35', 'Cargo_Total_833.55', 'Cargo_Total_8331.95', 'Cargo_Total_8332.15', 'Cargo_Total_8333.95', 'Cargo_Total_8337.45', 'Cargo_Total_834.1', 'Cargo_Total_834.15', 'Cargo_Total_834.2', 'Cargo_Total_834.7', 'Cargo_Total_8349.45', 'Cargo_Total_8349.7', 'Cargo_Total_835.15', 'Cargo_Total_835.5', 'Cargo_Total_836.35', 'Cargo_Total_837.5', 'Cargo_Total_837.95', 'Cargo_Total_8375.05', 'Cargo_Total_838.5', 'Cargo_Total_838.7', 'Cargo_Total_839.4', 'Cargo_Total_839.65', 'Cargo_Total_8399.15', 'Cargo_Total_84.2', 'Cargo_Total_84.3', 'Cargo_Total_84.4', 'Cargo_Total_84.5', 'Cargo_Total_84.6', 'Cargo_Total_84.65', 'Cargo_Total_84.75', 'Cargo_Total_84.8', 'Cargo_Total_84.85', 'Cargo_Total_840.1', 'Cargo_Total_8404.9', 'Cargo_Total_8405', 'Cargo_Total_842.25', 'Cargo_Total_842.9', 'Cargo_Total_8424.9', 'Cargo_Total_8425.15', 'Cargo_Total_8425.3', 'Cargo_Total_8436.25', 'Cargo_Total_844.45', 'Cargo_Total_8443.7', 'Cargo_Total_845.25', 'Cargo_Total_845.6', 'Cargo_Total_8456.75', 'Cargo_Total_846', 'Cargo_Total_846.8', 'Cargo_Total_8468.2', 'Cargo_Total_847.25', 'Cargo_Total_847.3', 'Cargo_Total_847.8', 'Cargo_Total_8476.5', 'Cargo_Total_8477.6', 'Cargo_Total_8477.7', 'Cargo_Total_849.1', 'Cargo_Total_849.9', 'Cargo_Total_8496.7', 'Cargo_Total_85', 'Cargo_Total_85.05', 'Cargo_Total_85.1', 'Cargo_Total_85.15', 'Cargo_Total_85.45', 'Cargo_Total_85.5', 'Cargo_Total_85.55', 'Cargo_Total_85.7', 'Cargo_Total_85.8', 'Cargo_Total_851.2', 'Cargo_Total_851.75', 'Cargo_Total_851.8', 'Cargo_Total_852.7', 'Cargo_Total_8529.5', 'Cargo_Total_853', 'Cargo_Total_853.1', 'Cargo_Total_854.45', 'Cargo_Total_854.8', 'Cargo_Total_854.9', 'Cargo_Total_8543.25', 'Cargo_Total_8547.15', 'Cargo_Total_855.1', 'Cargo_Total_855.3', 'Cargo_Total_856.35', 'Cargo_Total_856.5', 'Cargo_Total_856.65', 'Cargo_Total_8564.75', 'Cargo_Total_857.2', 'Cargo_Total_857.25', 'Cargo_Total_857.75', 'Cargo_Total_857.8', 'Cargo_Total_858.6', 'Cargo_Total_8594.4', 'Cargo_Total_86', 'Cargo_Total_86.05', 'Cargo_Total_86.35', 'Cargo_Total_86.6', 'Cargo_Total_860.85', 'Cargo_Total_861.85', 'Cargo_Total_862.4', 'Cargo_Total_863.1', 'Cargo_Total_864.2', 'Cargo_Total_864.55', 'Cargo_Total_864.85', 'Cargo_Total_865', 'Cargo_Total_865.05', 'Cargo_Total_865.1', 'Cargo_Total_865.55', 'Cargo_Total_865.75', 'Cargo_Total_865.8', 'Cargo_Total_865.85', 'Cargo_Total_866.4', 'Cargo_Total_866.45', 'Cargo_Total_867.1', 'Cargo_Total_867.3', 'Cargo_Total_8670.1', 'Cargo_Total_8672.45', 'Cargo_Total_868.1', 'Cargo_Total_868.5', 'Cargo_Total_8684.8', 'Cargo_Total_869.9', 'Cargo_Total_87.3', 'Cargo_Total_87.9', 'Cargo_Total_870.25', 'Cargo_Total_871.4', 'Cargo_Total_872.65', 'Cargo_Total_873.4', 'Cargo_Total_874.2', 'Cargo_Total_874.8', 'Cargo_Total_875.35', 'Cargo_Total_875.55', 'Cargo_Total_876.15', 'Cargo_Total_876.75', 'Cargo_Total_877.35', 'Cargo_Total_878.35', 'Cargo_Total_879.8', 'Cargo_Total_88.35', 'Cargo_Total_88.8', 'Cargo_Total_880.05', 'Cargo_Total_880.2', 'Cargo_Total_882.55', 'Cargo_Total_883.35', 'Cargo_Total_886.4', 'Cargo_Total_886.7', 'Cargo_Total_887.35', 'Cargo_Total_888.65', 'Cargo_Total_888.75', 'Cargo_Total_889', 'Cargo_Total_889.9', 'Cargo_Total_89.05', 'Cargo_Total_89.1', 'Cargo_Total_89.15', 'Cargo_Total_89.25', 'Cargo_Total_89.3', 'Cargo_Total_89.35', 'Cargo_Total_89.5', 'Cargo_Total_89.55', 'Cargo_Total_89.75', 'Cargo_Total_89.9', 'Cargo_Total_890.35', 'Cargo_Total_890.5', 'Cargo_Total_890.6', 'Cargo_Total_892.15', 'Cargo_Total_892.65', 'Cargo_Total_892.7', 'Cargo_Total_893', 'Cargo_Total_893.2', 'Cargo_Total_893.55', 'Cargo_Total_894.3', 'Cargo_Total_896.75', 'Cargo_Total_896.9', 'Cargo_Total_897.75', 'Cargo_Total_898.35', 'Cargo_Total_899.45', 'Cargo_Total_899.8', 'Cargo_Total_90.05', 'Cargo_Total_90.1', 'Cargo_Total_90.35', 'Cargo_Total_90.55', 'Cargo_Total_90.6', 'Cargo_Total_90.75', 'Cargo_Total_90.85', 'Cargo_Total_900.5', 'Cargo_Total_900.9', 'Cargo_Total_901.25', 'Cargo_Total_902', 'Cargo_Total_902.25', 'Cargo_Total_903.6', 'Cargo_Total_903.7', 'Cargo_Total_903.8', 'Cargo_Total_905.55', 'Cargo_Total_906.85', 'Cargo_Total_907.05', 'Cargo_Total_908.15', 'Cargo_Total_908.55', 'Cargo_Total_908.75', 'Cargo_Total_909.25', 'Cargo_Total_91.1', 'Cargo_Total_91.3', 'Cargo_Total_91.4', 'Cargo_Total_91.45', 'Cargo_Total_91.7', 'Cargo_Total_910.45', 'Cargo_Total_911.6', 'Cargo_Total_912', 'Cargo_Total_913.3', 'Cargo_Total_914', 'Cargo_Total_914.3', 'Cargo_Total_914.4', 'Cargo_Total_914.6', 'Cargo_Total_916', 'Cargo_Total_916.15', 'Cargo_Total_916.75', 'Cargo_Total_916.9', 'Cargo_Total_917.15', 'Cargo_Total_917.45', 'Cargo_Total_918.6', 'Cargo_Total_918.7', 'Cargo_Total_918.75', 'Cargo_Total_919.4', 'Cargo_Total_92.05', 'Cargo_Total_92.25', 'Cargo_Total_92.45', 'Cargo_Total_92.5', 'Cargo_Total_92.65', 'Cargo_Total_92.75', 'Cargo_Total_920.5', 'Cargo_Total_921.3', 'Cargo_Total_921.4', 'Cargo_Total_921.55', 'Cargo_Total_923.1', 'Cargo_Total_923.5', 'Cargo_Total_923.85', 'Cargo_Total_926', 'Cargo_Total_926.2', 'Cargo_Total_926.25', 'Cargo_Total_927.1', 'Cargo_Total_927.15', 'Cargo_Total_927.35', 'Cargo_Total_927.65', 'Cargo_Total_928.4', 'Cargo_Total_929.2', 'Cargo_Total_929.3', 'Cargo_Total_929.45', 'Cargo_Total_93.3', 'Cargo_Total_93.4', 'Cargo_Total_93.45', 'Cargo_Total_93.55', 'Cargo_Total_93.7', 'Cargo_Total_93.85', 'Cargo_Total_930.05', 'Cargo_Total_930.4', 'Cargo_Total_930.45', 'Cargo_Total_930.9', 'Cargo_Total_930.95', 'Cargo_Total_931.55', 'Cargo_Total_931.75', 'Cargo_Total_931.9', 'Cargo_Total_933.3', 'Cargo_Total_934.1', 'Cargo_Total_934.15', 'Cargo_Total_934.8', 'Cargo_Total_935.9', 'Cargo_Total_936.7', 'Cargo_Total_936.85', 'Cargo_Total_937.1', 'Cargo_Total_937.5', 'Cargo_Total_937.6', 'Cargo_Total_938.65', 'Cargo_Total_938.95', 'Cargo_Total_939.7', 'Cargo_Total_939.8', 'Cargo_Total_94', 'Cargo_Total_94.15', 'Cargo_Total_94.4', 'Cargo_Total_94.45', 'Cargo_Total_94.5', 'Cargo_Total_94.55', 'Cargo_Total_94.6', 'Cargo_Total_940.35', 'Cargo_Total_941', 'Cargo_Total_942.95', 'Cargo_Total_943', 'Cargo_Total_943.1', 'Cargo_Total_943.85', 'Cargo_Total_944.65', 'Cargo_Total_945.7', 'Cargo_Total_946.95', 'Cargo_Total_947.3', 'Cargo_Total_947.4', 'Cargo_Total_947.75', 'Cargo_Total_948.9', 'Cargo_Total_949.8', 'Cargo_Total_949.85', 'Cargo_Total_95', 'Cargo_Total_95.05', 'Cargo_Total_95.1', 'Cargo_Total_95.45', 'Cargo_Total_95.55', 'Cargo_Total_95.6', 'Cargo_Total_95.65', 'Cargo_Total_95.85', 'Cargo_Total_950.2', 'Cargo_Total_950.75', 'Cargo_Total_951.55', 'Cargo_Total_952.3', 'Cargo_Total_953.45', 'Cargo_Total_953.65', 'Cargo_Total_954.9', 'Cargo_Total_955.15', 'Cargo_Total_955.6', 'Cargo_Total_955.75', 'Cargo_Total_956.65', 'Cargo_Total_957.1', 'Cargo_Total_958.1', 'Cargo_Total_958.15', 'Cargo_Total_958.25', 'Cargo_Total_958.45', 'Cargo_Total_959.9', 'Cargo_Total_96.05', 'Cargo_Total_96.1', 'Cargo_Total_96.45', 'Cargo_Total_96.8', 'Cargo_Total_96.85', 'Cargo_Total_961.4', 'Cargo_Total_962.25', 'Cargo_Total_962.9', 'Cargo_Total_963.95', 'Cargo_Total_964.35', 'Cargo_Total_964.9', 'Cargo_Total_966.25', 'Cargo_Total_966.55', 'Cargo_Total_967.85', 'Cargo_Total_967.9', 'Cargo_Total_969.85', 'Cargo_Total_97', 'Cargo_Total_97.1', 'Cargo_Total_97.5', 'Cargo_Total_970.4', 'Cargo_Total_970.45', 'Cargo_Total_970.55', 'Cargo_Total_970.85', 'Cargo_Total_971.3', 'Cargo_Total_973.1', 'Cargo_Total_973.25', 'Cargo_Total_973.35', 'Cargo_Total_973.45', 'Cargo_Total_973.55', 'Cargo_Total_973.65', 'Cargo_Total_973.95', 'Cargo_Total_978', 'Cargo_Total_978.6', 'Cargo_Total_979.05', 'Cargo_Total_979.5', 'Cargo_Total_98.35', 'Cargo_Total_98.5', 'Cargo_Total_980.35', 'Cargo_Total_981.45', 'Cargo_Total_982.95', 'Cargo_Total_985.05', 'Cargo_Total_987.95', 'Cargo_Total_989.05', 'Cargo_Total_989.45', 'Cargo_Total_99.45', 'Cargo_Total_99.6', 'Cargo_Total_99.75', 'Cargo_Total_99.95', 'Cargo_Total_990.3', 'Cargo_Total_990.45', 'Cargo_Total_990.85', 'Cargo_Total_990.9', 'Cargo_Total_992.7', 'Cargo_Total_993.15', 'Cargo_Total_994.55', 'Cargo_Total_994.8', 'Cargo_Total_995.35', 'Cargo_Total_996.45', 'Cargo_Total_996.85', 'Cargo_Total_996.95', 'Cargo_Total_997.65', 'Cargo_Total_997.75', 'Cargo_Total_998.1', 'Cargo_Total_999.45', 'Cargo_Total_999.8', 'Cargo_Total_999.9']\n"
          ]
        },
        {
          "output_type": "execute_result",
          "data": {
            "text/plain": [
              "   Churn  customer.SeniorCitizen  customer.tenure  Factura_Electronica  \\\n",
              "0      0                       0                9                    1   \n",
              "1      0                       0                9                    0   \n",
              "2      1                       0                4                    1   \n",
              "3      1                       1               13                    1   \n",
              "4      1                       1                3                    1   \n",
              "\n",
              "   Cargo_Mensual  customer.gender_Male  customer.Partner_Yes  \\\n",
              "0           65.6                 False                  True   \n",
              "1           59.9                  True                 False   \n",
              "2           73.9                  True                 False   \n",
              "3           98.0                  True                  True   \n",
              "4           83.9                 False                  True   \n",
              "\n",
              "   customer.Dependents_Yes  phone.PhoneService_Yes  \\\n",
              "0                     True                    True   \n",
              "1                    False                    True   \n",
              "2                    False                    True   \n",
              "3                    False                    True   \n",
              "4                    False                    True   \n",
              "\n",
              "   phone.MultipleLines_No phone service  ...  Cargo_Total_995.35  \\\n",
              "0                                 False  ...               False   \n",
              "1                                 False  ...               False   \n",
              "2                                 False  ...               False   \n",
              "3                                 False  ...               False   \n",
              "4                                 False  ...               False   \n",
              "\n",
              "   Cargo_Total_996.45  Cargo_Total_996.85  Cargo_Total_996.95  \\\n",
              "0               False               False               False   \n",
              "1               False               False               False   \n",
              "2               False               False               False   \n",
              "3               False               False               False   \n",
              "4               False               False               False   \n",
              "\n",
              "   Cargo_Total_997.65  Cargo_Total_997.75  Cargo_Total_998.1  \\\n",
              "0               False               False              False   \n",
              "1               False               False              False   \n",
              "2               False               False              False   \n",
              "3               False               False              False   \n",
              "4               False               False              False   \n",
              "\n",
              "   Cargo_Total_999.45  Cargo_Total_999.8  Cargo_Total_999.9  \n",
              "0               False              False              False  \n",
              "1               False              False              False  \n",
              "2               False              False              False  \n",
              "3               False              False              False  \n",
              "4               False              False              False  \n",
              "\n",
              "[5 rows x 6560 columns]"
            ],
            "text/html": [
              "\n",
              "  <div id=\"df-6c0bf1cb-a0ea-4752-b017-e85386f1f0e4\" class=\"colab-df-container\">\n",
              "    <div>\n",
              "<style scoped>\n",
              "    .dataframe tbody tr th:only-of-type {\n",
              "        vertical-align: middle;\n",
              "    }\n",
              "\n",
              "    .dataframe tbody tr th {\n",
              "        vertical-align: top;\n",
              "    }\n",
              "\n",
              "    .dataframe thead th {\n",
              "        text-align: right;\n",
              "    }\n",
              "</style>\n",
              "<table border=\"1\" class=\"dataframe\">\n",
              "  <thead>\n",
              "    <tr style=\"text-align: right;\">\n",
              "      <th></th>\n",
              "      <th>Churn</th>\n",
              "      <th>customer.SeniorCitizen</th>\n",
              "      <th>customer.tenure</th>\n",
              "      <th>Factura_Electronica</th>\n",
              "      <th>Cargo_Mensual</th>\n",
              "      <th>customer.gender_Male</th>\n",
              "      <th>customer.Partner_Yes</th>\n",
              "      <th>customer.Dependents_Yes</th>\n",
              "      <th>phone.PhoneService_Yes</th>\n",
              "      <th>phone.MultipleLines_No phone service</th>\n",
              "      <th>...</th>\n",
              "      <th>Cargo_Total_995.35</th>\n",
              "      <th>Cargo_Total_996.45</th>\n",
              "      <th>Cargo_Total_996.85</th>\n",
              "      <th>Cargo_Total_996.95</th>\n",
              "      <th>Cargo_Total_997.65</th>\n",
              "      <th>Cargo_Total_997.75</th>\n",
              "      <th>Cargo_Total_998.1</th>\n",
              "      <th>Cargo_Total_999.45</th>\n",
              "      <th>Cargo_Total_999.8</th>\n",
              "      <th>Cargo_Total_999.9</th>\n",
              "    </tr>\n",
              "  </thead>\n",
              "  <tbody>\n",
              "    <tr>\n",
              "      <th>0</th>\n",
              "      <td>0</td>\n",
              "      <td>0</td>\n",
              "      <td>9</td>\n",
              "      <td>1</td>\n",
              "      <td>65.6</td>\n",
              "      <td>False</td>\n",
              "      <td>True</td>\n",
              "      <td>True</td>\n",
              "      <td>True</td>\n",
              "      <td>False</td>\n",
              "      <td>...</td>\n",
              "      <td>False</td>\n",
              "      <td>False</td>\n",
              "      <td>False</td>\n",
              "      <td>False</td>\n",
              "      <td>False</td>\n",
              "      <td>False</td>\n",
              "      <td>False</td>\n",
              "      <td>False</td>\n",
              "      <td>False</td>\n",
              "      <td>False</td>\n",
              "    </tr>\n",
              "    <tr>\n",
              "      <th>1</th>\n",
              "      <td>0</td>\n",
              "      <td>0</td>\n",
              "      <td>9</td>\n",
              "      <td>0</td>\n",
              "      <td>59.9</td>\n",
              "      <td>True</td>\n",
              "      <td>False</td>\n",
              "      <td>False</td>\n",
              "      <td>True</td>\n",
              "      <td>False</td>\n",
              "      <td>...</td>\n",
              "      <td>False</td>\n",
              "      <td>False</td>\n",
              "      <td>False</td>\n",
              "      <td>False</td>\n",
              "      <td>False</td>\n",
              "      <td>False</td>\n",
              "      <td>False</td>\n",
              "      <td>False</td>\n",
              "      <td>False</td>\n",
              "      <td>False</td>\n",
              "    </tr>\n",
              "    <tr>\n",
              "      <th>2</th>\n",
              "      <td>1</td>\n",
              "      <td>0</td>\n",
              "      <td>4</td>\n",
              "      <td>1</td>\n",
              "      <td>73.9</td>\n",
              "      <td>True</td>\n",
              "      <td>False</td>\n",
              "      <td>False</td>\n",
              "      <td>True</td>\n",
              "      <td>False</td>\n",
              "      <td>...</td>\n",
              "      <td>False</td>\n",
              "      <td>False</td>\n",
              "      <td>False</td>\n",
              "      <td>False</td>\n",
              "      <td>False</td>\n",
              "      <td>False</td>\n",
              "      <td>False</td>\n",
              "      <td>False</td>\n",
              "      <td>False</td>\n",
              "      <td>False</td>\n",
              "    </tr>\n",
              "    <tr>\n",
              "      <th>3</th>\n",
              "      <td>1</td>\n",
              "      <td>1</td>\n",
              "      <td>13</td>\n",
              "      <td>1</td>\n",
              "      <td>98.0</td>\n",
              "      <td>True</td>\n",
              "      <td>True</td>\n",
              "      <td>False</td>\n",
              "      <td>True</td>\n",
              "      <td>False</td>\n",
              "      <td>...</td>\n",
              "      <td>False</td>\n",
              "      <td>False</td>\n",
              "      <td>False</td>\n",
              "      <td>False</td>\n",
              "      <td>False</td>\n",
              "      <td>False</td>\n",
              "      <td>False</td>\n",
              "      <td>False</td>\n",
              "      <td>False</td>\n",
              "      <td>False</td>\n",
              "    </tr>\n",
              "    <tr>\n",
              "      <th>4</th>\n",
              "      <td>1</td>\n",
              "      <td>1</td>\n",
              "      <td>3</td>\n",
              "      <td>1</td>\n",
              "      <td>83.9</td>\n",
              "      <td>False</td>\n",
              "      <td>True</td>\n",
              "      <td>False</td>\n",
              "      <td>True</td>\n",
              "      <td>False</td>\n",
              "      <td>...</td>\n",
              "      <td>False</td>\n",
              "      <td>False</td>\n",
              "      <td>False</td>\n",
              "      <td>False</td>\n",
              "      <td>False</td>\n",
              "      <td>False</td>\n",
              "      <td>False</td>\n",
              "      <td>False</td>\n",
              "      <td>False</td>\n",
              "      <td>False</td>\n",
              "    </tr>\n",
              "  </tbody>\n",
              "</table>\n",
              "<p>5 rows × 6560 columns</p>\n",
              "</div>\n",
              "    <div class=\"colab-df-buttons\">\n",
              "\n",
              "  <div class=\"colab-df-container\">\n",
              "    <button class=\"colab-df-convert\" onclick=\"convertToInteractive('df-6c0bf1cb-a0ea-4752-b017-e85386f1f0e4')\"\n",
              "            title=\"Convert this dataframe to an interactive table.\"\n",
              "            style=\"display:none;\">\n",
              "\n",
              "  <svg xmlns=\"http://www.w3.org/2000/svg\" height=\"24px\" viewBox=\"0 -960 960 960\">\n",
              "    <path d=\"M120-120v-720h720v720H120Zm60-500h600v-160H180v160Zm220 220h160v-160H400v160Zm0 220h160v-160H400v160ZM180-400h160v-160H180v160Zm440 0h160v-160H620v160ZM180-180h160v-160H180v160Zm440 0h160v-160H620v160Z\"/>\n",
              "  </svg>\n",
              "    </button>\n",
              "\n",
              "  <style>\n",
              "    .colab-df-container {\n",
              "      display:flex;\n",
              "      gap: 12px;\n",
              "    }\n",
              "\n",
              "    .colab-df-convert {\n",
              "      background-color: #E8F0FE;\n",
              "      border: none;\n",
              "      border-radius: 50%;\n",
              "      cursor: pointer;\n",
              "      display: none;\n",
              "      fill: #1967D2;\n",
              "      height: 32px;\n",
              "      padding: 0 0 0 0;\n",
              "      width: 32px;\n",
              "    }\n",
              "\n",
              "    .colab-df-convert:hover {\n",
              "      background-color: #E2EBFA;\n",
              "      box-shadow: 0px 1px 2px rgba(60, 64, 67, 0.3), 0px 1px 3px 1px rgba(60, 64, 67, 0.15);\n",
              "      fill: #174EA6;\n",
              "    }\n",
              "\n",
              "    .colab-df-buttons div {\n",
              "      margin-bottom: 4px;\n",
              "    }\n",
              "\n",
              "    [theme=dark] .colab-df-convert {\n",
              "      background-color: #3B4455;\n",
              "      fill: #D2E3FC;\n",
              "    }\n",
              "\n",
              "    [theme=dark] .colab-df-convert:hover {\n",
              "      background-color: #434B5C;\n",
              "      box-shadow: 0px 1px 3px 1px rgba(0, 0, 0, 0.15);\n",
              "      filter: drop-shadow(0px 1px 2px rgba(0, 0, 0, 0.3));\n",
              "      fill: #FFFFFF;\n",
              "    }\n",
              "  </style>\n",
              "\n",
              "    <script>\n",
              "      const buttonEl =\n",
              "        document.querySelector('#df-6c0bf1cb-a0ea-4752-b017-e85386f1f0e4 button.colab-df-convert');\n",
              "      buttonEl.style.display =\n",
              "        google.colab.kernel.accessAllowed ? 'block' : 'none';\n",
              "\n",
              "      async function convertToInteractive(key) {\n",
              "        const element = document.querySelector('#df-6c0bf1cb-a0ea-4752-b017-e85386f1f0e4');\n",
              "        const dataTable =\n",
              "          await google.colab.kernel.invokeFunction('convertToInteractive',\n",
              "                                                    [key], {});\n",
              "        if (!dataTable) return;\n",
              "\n",
              "        const docLinkHtml = 'Like what you see? Visit the ' +\n",
              "          '<a target=\"_blank\" href=https://colab.research.google.com/notebooks/data_table.ipynb>data table notebook</a>'\n",
              "          + ' to learn more about interactive tables.';\n",
              "        element.innerHTML = '';\n",
              "        dataTable['output_type'] = 'display_data';\n",
              "        await google.colab.output.renderOutput(dataTable, element);\n",
              "        const docLink = document.createElement('div');\n",
              "        docLink.innerHTML = docLinkHtml;\n",
              "        element.appendChild(docLink);\n",
              "      }\n",
              "    </script>\n",
              "  </div>\n",
              "\n",
              "\n",
              "    <div id=\"df-c6311224-2fa4-427c-b239-f9ada87d7706\">\n",
              "      <button class=\"colab-df-quickchart\" onclick=\"quickchart('df-c6311224-2fa4-427c-b239-f9ada87d7706')\"\n",
              "                title=\"Suggest charts\"\n",
              "                style=\"display:none;\">\n",
              "\n",
              "<svg xmlns=\"http://www.w3.org/2000/svg\" height=\"24px\"viewBox=\"0 0 24 24\"\n",
              "     width=\"24px\">\n",
              "    <g>\n",
              "        <path d=\"M19 3H5c-1.1 0-2 .9-2 2v14c0 1.1.9 2 2 2h14c1.1 0 2-.9 2-2V5c0-1.1-.9-2-2-2zM9 17H7v-7h2v7zm4 0h-2V7h2v10zm4 0h-2v-4h2v4z\"/>\n",
              "    </g>\n",
              "</svg>\n",
              "      </button>\n",
              "\n",
              "<style>\n",
              "  .colab-df-quickchart {\n",
              "      --bg-color: #E8F0FE;\n",
              "      --fill-color: #1967D2;\n",
              "      --hover-bg-color: #E2EBFA;\n",
              "      --hover-fill-color: #174EA6;\n",
              "      --disabled-fill-color: #AAA;\n",
              "      --disabled-bg-color: #DDD;\n",
              "  }\n",
              "\n",
              "  [theme=dark] .colab-df-quickchart {\n",
              "      --bg-color: #3B4455;\n",
              "      --fill-color: #D2E3FC;\n",
              "      --hover-bg-color: #434B5C;\n",
              "      --hover-fill-color: #FFFFFF;\n",
              "      --disabled-bg-color: #3B4455;\n",
              "      --disabled-fill-color: #666;\n",
              "  }\n",
              "\n",
              "  .colab-df-quickchart {\n",
              "    background-color: var(--bg-color);\n",
              "    border: none;\n",
              "    border-radius: 50%;\n",
              "    cursor: pointer;\n",
              "    display: none;\n",
              "    fill: var(--fill-color);\n",
              "    height: 32px;\n",
              "    padding: 0;\n",
              "    width: 32px;\n",
              "  }\n",
              "\n",
              "  .colab-df-quickchart:hover {\n",
              "    background-color: var(--hover-bg-color);\n",
              "    box-shadow: 0 1px 2px rgba(60, 64, 67, 0.3), 0 1px 3px 1px rgba(60, 64, 67, 0.15);\n",
              "    fill: var(--button-hover-fill-color);\n",
              "  }\n",
              "\n",
              "  .colab-df-quickchart-complete:disabled,\n",
              "  .colab-df-quickchart-complete:disabled:hover {\n",
              "    background-color: var(--disabled-bg-color);\n",
              "    fill: var(--disabled-fill-color);\n",
              "    box-shadow: none;\n",
              "  }\n",
              "\n",
              "  .colab-df-spinner {\n",
              "    border: 2px solid var(--fill-color);\n",
              "    border-color: transparent;\n",
              "    border-bottom-color: var(--fill-color);\n",
              "    animation:\n",
              "      spin 1s steps(1) infinite;\n",
              "  }\n",
              "\n",
              "  @keyframes spin {\n",
              "    0% {\n",
              "      border-color: transparent;\n",
              "      border-bottom-color: var(--fill-color);\n",
              "      border-left-color: var(--fill-color);\n",
              "    }\n",
              "    20% {\n",
              "      border-color: transparent;\n",
              "      border-left-color: var(--fill-color);\n",
              "      border-top-color: var(--fill-color);\n",
              "    }\n",
              "    30% {\n",
              "      border-color: transparent;\n",
              "      border-left-color: var(--fill-color);\n",
              "      border-top-color: var(--fill-color);\n",
              "      border-right-color: var(--fill-color);\n",
              "    }\n",
              "    40% {\n",
              "      border-color: transparent;\n",
              "      border-right-color: var(--fill-color);\n",
              "      border-top-color: var(--fill-color);\n",
              "    }\n",
              "    60% {\n",
              "      border-color: transparent;\n",
              "      border-right-color: var(--fill-color);\n",
              "    }\n",
              "    80% {\n",
              "      border-color: transparent;\n",
              "      border-right-color: var(--fill-color);\n",
              "      border-bottom-color: var(--fill-color);\n",
              "    }\n",
              "    90% {\n",
              "      border-color: transparent;\n",
              "      border-bottom-color: var(--fill-color);\n",
              "    }\n",
              "  }\n",
              "</style>\n",
              "\n",
              "      <script>\n",
              "        async function quickchart(key) {\n",
              "          const quickchartButtonEl =\n",
              "            document.querySelector('#' + key + ' button');\n",
              "          quickchartButtonEl.disabled = true;  // To prevent multiple clicks.\n",
              "          quickchartButtonEl.classList.add('colab-df-spinner');\n",
              "          try {\n",
              "            const charts = await google.colab.kernel.invokeFunction(\n",
              "                'suggestCharts', [key], {});\n",
              "          } catch (error) {\n",
              "            console.error('Error during call to suggestCharts:', error);\n",
              "          }\n",
              "          quickchartButtonEl.classList.remove('colab-df-spinner');\n",
              "          quickchartButtonEl.classList.add('colab-df-quickchart-complete');\n",
              "        }\n",
              "        (() => {\n",
              "          let quickchartButtonEl =\n",
              "            document.querySelector('#df-c6311224-2fa4-427c-b239-f9ada87d7706 button');\n",
              "          quickchartButtonEl.style.display =\n",
              "            google.colab.kernel.accessAllowed ? 'block' : 'none';\n",
              "        })();\n",
              "      </script>\n",
              "    </div>\n",
              "\n",
              "    </div>\n",
              "  </div>\n"
            ],
            "application/vnd.google.colaboratory.intrinsic+json": {
              "type": "dataframe",
              "variable_name": "df_encoded"
            }
          },
          "metadata": {},
          "execution_count": 67
        }
      ]
    },
    {
      "cell_type": "code",
      "source": [
        "df = pd.get_dummies(df, drop_first=True)\n"
      ],
      "metadata": {
        "id": "I4MeoY1hBo6j"
      },
      "execution_count": 68,
      "outputs": []
    },
    {
      "cell_type": "code",
      "source": [],
      "metadata": {
        "id": "0f_jIGOyBrVF"
      },
      "execution_count": null,
      "outputs": []
    },
    {
      "cell_type": "markdown",
      "source": [
        "##Verifir de la Proporción de Cancelación (Churn)"
      ],
      "metadata": {
        "id": "igkaJLwBB0rV"
      }
    },
    {
      "cell_type": "code",
      "source": [
        "# Contar cuántos clientes cancelaron y cuántos no\n",
        "print(df[\"Churn\"].value_counts())\n"
      ],
      "metadata": {
        "id": "1C4nVQqTB6IW",
        "outputId": "9994591f-07a4-4f6c-9543-1f93611e3dd0",
        "colab": {
          "base_uri": "https://localhost:8080/"
        }
      },
      "execution_count": 69,
      "outputs": [
        {
          "output_type": "stream",
          "name": "stdout",
          "text": [
            "Churn\n",
            "0    5398\n",
            "1    1869\n",
            "Name: count, dtype: int64\n"
          ]
        }
      ]
    },
    {
      "cell_type": "code",
      "source": [
        "# Calcular proporción en porcentaje\n",
        "print(df[\"Churn\"].value_counts(normalize=True))\n"
      ],
      "metadata": {
        "id": "2ov3gRB6CFW_",
        "outputId": "b76bda40-ba7e-46f7-92ec-470dd547a396",
        "colab": {
          "base_uri": "https://localhost:8080/"
        }
      },
      "execution_count": 70,
      "outputs": [
        {
          "output_type": "stream",
          "name": "stdout",
          "text": [
            "Churn\n",
            "0    0.74281\n",
            "1    0.25719\n",
            "Name: proportion, dtype: float64\n"
          ]
        }
      ]
    },
    {
      "cell_type": "code",
      "source": [],
      "metadata": {
        "id": "q1htzA_hCJlz"
      },
      "execution_count": null,
      "outputs": []
    },
    {
      "cell_type": "markdown",
      "source": [
        "##Balancear Clases (opcional)"
      ],
      "metadata": {
        "id": "kynqnYwSCZ54"
      }
    },
    {
      "cell_type": "code",
      "source": [
        "df[\"Churn\"].value_counts(normalize=True)\n"
      ],
      "metadata": {
        "id": "SKJawhr7CczC",
        "outputId": "eb8f5751-3050-4a43-ad39-96d18efe19ec",
        "colab": {
          "base_uri": "https://localhost:8080/",
          "height": 178
        }
      },
      "execution_count": 71,
      "outputs": [
        {
          "output_type": "execute_result",
          "data": {
            "text/plain": [
              "Churn\n",
              "0    0.74281\n",
              "1    0.25719\n",
              "Name: proportion, dtype: float64"
            ],
            "text/html": [
              "<div>\n",
              "<style scoped>\n",
              "    .dataframe tbody tr th:only-of-type {\n",
              "        vertical-align: middle;\n",
              "    }\n",
              "\n",
              "    .dataframe tbody tr th {\n",
              "        vertical-align: top;\n",
              "    }\n",
              "\n",
              "    .dataframe thead th {\n",
              "        text-align: right;\n",
              "    }\n",
              "</style>\n",
              "<table border=\"1\" class=\"dataframe\">\n",
              "  <thead>\n",
              "    <tr style=\"text-align: right;\">\n",
              "      <th></th>\n",
              "      <th>proportion</th>\n",
              "    </tr>\n",
              "    <tr>\n",
              "      <th>Churn</th>\n",
              "      <th></th>\n",
              "    </tr>\n",
              "  </thead>\n",
              "  <tbody>\n",
              "    <tr>\n",
              "      <th>0</th>\n",
              "      <td>0.74281</td>\n",
              "    </tr>\n",
              "    <tr>\n",
              "      <th>1</th>\n",
              "      <td>0.25719</td>\n",
              "    </tr>\n",
              "  </tbody>\n",
              "</table>\n",
              "</div><br><label><b>dtype:</b> float64</label>"
            ]
          },
          "metadata": {},
          "execution_count": 71
        }
      ]
    },
    {
      "cell_type": "code",
      "source": [
        "!pip install imbalanced-learn\n"
      ],
      "metadata": {
        "id": "FFldVCd5CoPi",
        "outputId": "de2c3d0f-c728-4562-8405-7796240b5b0d",
        "colab": {
          "base_uri": "https://localhost:8080/"
        }
      },
      "execution_count": 72,
      "outputs": [
        {
          "output_type": "stream",
          "name": "stdout",
          "text": [
            "Requirement already satisfied: imbalanced-learn in /usr/local/lib/python3.11/dist-packages (0.13.0)\n",
            "Requirement already satisfied: numpy<3,>=1.24.3 in /usr/local/lib/python3.11/dist-packages (from imbalanced-learn) (2.0.2)\n",
            "Requirement already satisfied: scipy<2,>=1.10.1 in /usr/local/lib/python3.11/dist-packages (from imbalanced-learn) (1.16.1)\n",
            "Requirement already satisfied: scikit-learn<2,>=1.3.2 in /usr/local/lib/python3.11/dist-packages (from imbalanced-learn) (1.6.1)\n",
            "Requirement already satisfied: sklearn-compat<1,>=0.1 in /usr/local/lib/python3.11/dist-packages (from imbalanced-learn) (0.1.3)\n",
            "Requirement already satisfied: joblib<2,>=1.1.1 in /usr/local/lib/python3.11/dist-packages (from imbalanced-learn) (1.5.1)\n",
            "Requirement already satisfied: threadpoolctl<4,>=2.0.0 in /usr/local/lib/python3.11/dist-packages (from imbalanced-learn) (3.6.0)\n"
          ]
        }
      ]
    },
    {
      "cell_type": "code",
      "source": [
        "from imblearn.over_sampling import RandomOverSampler\n",
        "\n",
        "# Definir X (features) e y (target)\n",
        "X = df.drop(\"Churn\", axis=1)\n",
        "y = df[\"Churn\"]\n",
        "\n",
        "# Aplicar oversampling\n",
        "ros = RandomOverSampler(random_state=42)\n",
        "X_resampled, y_resampled = ros.fit_resample(X, y)\n",
        "\n",
        "# Revisar proporciones después\n",
        "print(y_resampled.value_counts(normalize=True))\n"
      ],
      "metadata": {
        "id": "jFe9Na4lCtK8",
        "outputId": "3a828557-541b-4e70-f452-1ae697c8f8f1",
        "colab": {
          "base_uri": "https://localhost:8080/"
        }
      },
      "execution_count": 73,
      "outputs": [
        {
          "output_type": "stream",
          "name": "stdout",
          "text": [
            "Churn\n",
            "0    0.5\n",
            "1    0.5\n",
            "Name: proportion, dtype: float64\n"
          ]
        }
      ]
    },
    {
      "cell_type": "markdown",
      "source": [
        "##Normalizar o Estandarizar (si es necesario)"
      ],
      "metadata": {
        "id": "jHtD6DcMC7Py"
      }
    },
    {
      "cell_type": "code",
      "source": [
        "import pandas as pd\n",
        "import numpy as np\n",
        "\n",
        "# 1) QUITAR columnas que no ayudan (IDs, derivados)\n",
        "df = df.drop(columns=[\"customerID\", \"Cargo_Diario\"], errors=\"ignore\")\n",
        "\n",
        "# 2) ASEGURAR que la columna objetivo exista y sea 0/1\n",
        "#    Ajusta el nombre si tu target fuera distinto a \"Churn\"\n",
        "y = df[\"Churn\"].copy()\n",
        "\n",
        "# Si está como texto, lo mapeamos a 0/1\n",
        "if y.dtype == \"O\":\n",
        "    y = y.replace({\n",
        "        \"Yes\": 1, \"No\": 0,\n",
        "        \"Se fue\": 1, \"No se fue\": 0,\n",
        "        \"Canceló\": 1, \"Activo\": 0\n",
        "    })\n",
        "\n",
        "# Por si quedan valores raros, intentamos convertir a número\n",
        "y = pd.to_numeric(y, errors=\"coerce\")\n",
        "# Quitamos filas sin target válido\n",
        "mask = ~y.isna()\n",
        "df = df.loc[mask].reset_index(drop=True)\n",
        "y  = y.loc[mask].astype(int).reset_index(drop=True)\n",
        "\n",
        "print(\"Balance de clases (conteo):\")\n",
        "print(y.value_counts())\n",
        "print(\"\\nBalance de clases (proporción):\")\n",
        "print(y.value_counts(normalize=True).round(3))\n"
      ],
      "metadata": {
        "id": "IFKOyh_UDBFz",
        "outputId": "a8e29da4-4e3b-41fd-a33e-74ad7947a8f8",
        "colab": {
          "base_uri": "https://localhost:8080/"
        }
      },
      "execution_count": 74,
      "outputs": [
        {
          "output_type": "stream",
          "name": "stdout",
          "text": [
            "Balance de clases (conteo):\n",
            "Churn\n",
            "0    5398\n",
            "1    1869\n",
            "Name: count, dtype: int64\n",
            "\n",
            "Balance de clases (proporción):\n",
            "Churn\n",
            "0    0.743\n",
            "1    0.257\n",
            "Name: proportion, dtype: float64\n"
          ]
        }
      ]
    },
    {
      "cell_type": "code",
      "source": [
        "# Separamos features (X) de la etiqueta (y)\n",
        "X = df.drop(columns=[\"Churn\"])\n",
        "\n",
        "# One-hot encoding para TODAS las categóricas de X\n",
        "X = pd.get_dummies(X, drop_first=True)\n",
        "\n",
        "print(\"Dimensiones de X e y:\", X.shape, y.shape)\n",
        "X.head(3)\n"
      ],
      "metadata": {
        "id": "fGxO_NFKERoD",
        "outputId": "0b8ce54e-736c-4416-f291-5f0b24c1dce6",
        "colab": {
          "base_uri": "https://localhost:8080/",
          "height": 228
        }
      },
      "execution_count": 75,
      "outputs": [
        {
          "output_type": "stream",
          "name": "stdout",
          "text": [
            "Dimensiones de X e y: (7267, 6559) (7267,)\n"
          ]
        },
        {
          "output_type": "execute_result",
          "data": {
            "text/plain": [
              "   customer.SeniorCitizen  customer.tenure  Factura_Electronica  \\\n",
              "0                       0                9                    1   \n",
              "1                       0                9                    0   \n",
              "2                       0                4                    1   \n",
              "\n",
              "   Cargo_Mensual  customer.gender_Male  customer.Partner_Yes  \\\n",
              "0           65.6                 False                  True   \n",
              "1           59.9                  True                 False   \n",
              "2           73.9                  True                 False   \n",
              "\n",
              "   customer.Dependents_Yes  phone.PhoneService_Yes  \\\n",
              "0                     True                    True   \n",
              "1                    False                    True   \n",
              "2                    False                    True   \n",
              "\n",
              "   phone.MultipleLines_No phone service  phone.MultipleLines_Yes  ...  \\\n",
              "0                                 False                    False  ...   \n",
              "1                                 False                     True  ...   \n",
              "2                                 False                    False  ...   \n",
              "\n",
              "   Cargo_Total_995.35  Cargo_Total_996.45  Cargo_Total_996.85  \\\n",
              "0               False               False               False   \n",
              "1               False               False               False   \n",
              "2               False               False               False   \n",
              "\n",
              "   Cargo_Total_996.95  Cargo_Total_997.65  Cargo_Total_997.75  \\\n",
              "0               False               False               False   \n",
              "1               False               False               False   \n",
              "2               False               False               False   \n",
              "\n",
              "   Cargo_Total_998.1  Cargo_Total_999.45  Cargo_Total_999.8  Cargo_Total_999.9  \n",
              "0              False               False              False              False  \n",
              "1              False               False              False              False  \n",
              "2              False               False              False              False  \n",
              "\n",
              "[3 rows x 6559 columns]"
            ],
            "text/html": [
              "\n",
              "  <div id=\"df-146e7bed-206f-45ba-9157-2a81548aa7a7\" class=\"colab-df-container\">\n",
              "    <div>\n",
              "<style scoped>\n",
              "    .dataframe tbody tr th:only-of-type {\n",
              "        vertical-align: middle;\n",
              "    }\n",
              "\n",
              "    .dataframe tbody tr th {\n",
              "        vertical-align: top;\n",
              "    }\n",
              "\n",
              "    .dataframe thead th {\n",
              "        text-align: right;\n",
              "    }\n",
              "</style>\n",
              "<table border=\"1\" class=\"dataframe\">\n",
              "  <thead>\n",
              "    <tr style=\"text-align: right;\">\n",
              "      <th></th>\n",
              "      <th>customer.SeniorCitizen</th>\n",
              "      <th>customer.tenure</th>\n",
              "      <th>Factura_Electronica</th>\n",
              "      <th>Cargo_Mensual</th>\n",
              "      <th>customer.gender_Male</th>\n",
              "      <th>customer.Partner_Yes</th>\n",
              "      <th>customer.Dependents_Yes</th>\n",
              "      <th>phone.PhoneService_Yes</th>\n",
              "      <th>phone.MultipleLines_No phone service</th>\n",
              "      <th>phone.MultipleLines_Yes</th>\n",
              "      <th>...</th>\n",
              "      <th>Cargo_Total_995.35</th>\n",
              "      <th>Cargo_Total_996.45</th>\n",
              "      <th>Cargo_Total_996.85</th>\n",
              "      <th>Cargo_Total_996.95</th>\n",
              "      <th>Cargo_Total_997.65</th>\n",
              "      <th>Cargo_Total_997.75</th>\n",
              "      <th>Cargo_Total_998.1</th>\n",
              "      <th>Cargo_Total_999.45</th>\n",
              "      <th>Cargo_Total_999.8</th>\n",
              "      <th>Cargo_Total_999.9</th>\n",
              "    </tr>\n",
              "  </thead>\n",
              "  <tbody>\n",
              "    <tr>\n",
              "      <th>0</th>\n",
              "      <td>0</td>\n",
              "      <td>9</td>\n",
              "      <td>1</td>\n",
              "      <td>65.6</td>\n",
              "      <td>False</td>\n",
              "      <td>True</td>\n",
              "      <td>True</td>\n",
              "      <td>True</td>\n",
              "      <td>False</td>\n",
              "      <td>False</td>\n",
              "      <td>...</td>\n",
              "      <td>False</td>\n",
              "      <td>False</td>\n",
              "      <td>False</td>\n",
              "      <td>False</td>\n",
              "      <td>False</td>\n",
              "      <td>False</td>\n",
              "      <td>False</td>\n",
              "      <td>False</td>\n",
              "      <td>False</td>\n",
              "      <td>False</td>\n",
              "    </tr>\n",
              "    <tr>\n",
              "      <th>1</th>\n",
              "      <td>0</td>\n",
              "      <td>9</td>\n",
              "      <td>0</td>\n",
              "      <td>59.9</td>\n",
              "      <td>True</td>\n",
              "      <td>False</td>\n",
              "      <td>False</td>\n",
              "      <td>True</td>\n",
              "      <td>False</td>\n",
              "      <td>True</td>\n",
              "      <td>...</td>\n",
              "      <td>False</td>\n",
              "      <td>False</td>\n",
              "      <td>False</td>\n",
              "      <td>False</td>\n",
              "      <td>False</td>\n",
              "      <td>False</td>\n",
              "      <td>False</td>\n",
              "      <td>False</td>\n",
              "      <td>False</td>\n",
              "      <td>False</td>\n",
              "    </tr>\n",
              "    <tr>\n",
              "      <th>2</th>\n",
              "      <td>0</td>\n",
              "      <td>4</td>\n",
              "      <td>1</td>\n",
              "      <td>73.9</td>\n",
              "      <td>True</td>\n",
              "      <td>False</td>\n",
              "      <td>False</td>\n",
              "      <td>True</td>\n",
              "      <td>False</td>\n",
              "      <td>False</td>\n",
              "      <td>...</td>\n",
              "      <td>False</td>\n",
              "      <td>False</td>\n",
              "      <td>False</td>\n",
              "      <td>False</td>\n",
              "      <td>False</td>\n",
              "      <td>False</td>\n",
              "      <td>False</td>\n",
              "      <td>False</td>\n",
              "      <td>False</td>\n",
              "      <td>False</td>\n",
              "    </tr>\n",
              "  </tbody>\n",
              "</table>\n",
              "<p>3 rows × 6559 columns</p>\n",
              "</div>\n",
              "    <div class=\"colab-df-buttons\">\n",
              "\n",
              "  <div class=\"colab-df-container\">\n",
              "    <button class=\"colab-df-convert\" onclick=\"convertToInteractive('df-146e7bed-206f-45ba-9157-2a81548aa7a7')\"\n",
              "            title=\"Convert this dataframe to an interactive table.\"\n",
              "            style=\"display:none;\">\n",
              "\n",
              "  <svg xmlns=\"http://www.w3.org/2000/svg\" height=\"24px\" viewBox=\"0 -960 960 960\">\n",
              "    <path d=\"M120-120v-720h720v720H120Zm60-500h600v-160H180v160Zm220 220h160v-160H400v160Zm0 220h160v-160H400v160ZM180-400h160v-160H180v160Zm440 0h160v-160H620v160ZM180-180h160v-160H180v160Zm440 0h160v-160H620v160Z\"/>\n",
              "  </svg>\n",
              "    </button>\n",
              "\n",
              "  <style>\n",
              "    .colab-df-container {\n",
              "      display:flex;\n",
              "      gap: 12px;\n",
              "    }\n",
              "\n",
              "    .colab-df-convert {\n",
              "      background-color: #E8F0FE;\n",
              "      border: none;\n",
              "      border-radius: 50%;\n",
              "      cursor: pointer;\n",
              "      display: none;\n",
              "      fill: #1967D2;\n",
              "      height: 32px;\n",
              "      padding: 0 0 0 0;\n",
              "      width: 32px;\n",
              "    }\n",
              "\n",
              "    .colab-df-convert:hover {\n",
              "      background-color: #E2EBFA;\n",
              "      box-shadow: 0px 1px 2px rgba(60, 64, 67, 0.3), 0px 1px 3px 1px rgba(60, 64, 67, 0.15);\n",
              "      fill: #174EA6;\n",
              "    }\n",
              "\n",
              "    .colab-df-buttons div {\n",
              "      margin-bottom: 4px;\n",
              "    }\n",
              "\n",
              "    [theme=dark] .colab-df-convert {\n",
              "      background-color: #3B4455;\n",
              "      fill: #D2E3FC;\n",
              "    }\n",
              "\n",
              "    [theme=dark] .colab-df-convert:hover {\n",
              "      background-color: #434B5C;\n",
              "      box-shadow: 0px 1px 3px 1px rgba(0, 0, 0, 0.15);\n",
              "      filter: drop-shadow(0px 1px 2px rgba(0, 0, 0, 0.3));\n",
              "      fill: #FFFFFF;\n",
              "    }\n",
              "  </style>\n",
              "\n",
              "    <script>\n",
              "      const buttonEl =\n",
              "        document.querySelector('#df-146e7bed-206f-45ba-9157-2a81548aa7a7 button.colab-df-convert');\n",
              "      buttonEl.style.display =\n",
              "        google.colab.kernel.accessAllowed ? 'block' : 'none';\n",
              "\n",
              "      async function convertToInteractive(key) {\n",
              "        const element = document.querySelector('#df-146e7bed-206f-45ba-9157-2a81548aa7a7');\n",
              "        const dataTable =\n",
              "          await google.colab.kernel.invokeFunction('convertToInteractive',\n",
              "                                                    [key], {});\n",
              "        if (!dataTable) return;\n",
              "\n",
              "        const docLinkHtml = 'Like what you see? Visit the ' +\n",
              "          '<a target=\"_blank\" href=https://colab.research.google.com/notebooks/data_table.ipynb>data table notebook</a>'\n",
              "          + ' to learn more about interactive tables.';\n",
              "        element.innerHTML = '';\n",
              "        dataTable['output_type'] = 'display_data';\n",
              "        await google.colab.output.renderOutput(dataTable, element);\n",
              "        const docLink = document.createElement('div');\n",
              "        docLink.innerHTML = docLinkHtml;\n",
              "        element.appendChild(docLink);\n",
              "      }\n",
              "    </script>\n",
              "  </div>\n",
              "\n",
              "\n",
              "    <div id=\"df-fcf42f3a-4e98-4551-9016-f657ef20ff3b\">\n",
              "      <button class=\"colab-df-quickchart\" onclick=\"quickchart('df-fcf42f3a-4e98-4551-9016-f657ef20ff3b')\"\n",
              "                title=\"Suggest charts\"\n",
              "                style=\"display:none;\">\n",
              "\n",
              "<svg xmlns=\"http://www.w3.org/2000/svg\" height=\"24px\"viewBox=\"0 0 24 24\"\n",
              "     width=\"24px\">\n",
              "    <g>\n",
              "        <path d=\"M19 3H5c-1.1 0-2 .9-2 2v14c0 1.1.9 2 2 2h14c1.1 0 2-.9 2-2V5c0-1.1-.9-2-2-2zM9 17H7v-7h2v7zm4 0h-2V7h2v10zm4 0h-2v-4h2v4z\"/>\n",
              "    </g>\n",
              "</svg>\n",
              "      </button>\n",
              "\n",
              "<style>\n",
              "  .colab-df-quickchart {\n",
              "      --bg-color: #E8F0FE;\n",
              "      --fill-color: #1967D2;\n",
              "      --hover-bg-color: #E2EBFA;\n",
              "      --hover-fill-color: #174EA6;\n",
              "      --disabled-fill-color: #AAA;\n",
              "      --disabled-bg-color: #DDD;\n",
              "  }\n",
              "\n",
              "  [theme=dark] .colab-df-quickchart {\n",
              "      --bg-color: #3B4455;\n",
              "      --fill-color: #D2E3FC;\n",
              "      --hover-bg-color: #434B5C;\n",
              "      --hover-fill-color: #FFFFFF;\n",
              "      --disabled-bg-color: #3B4455;\n",
              "      --disabled-fill-color: #666;\n",
              "  }\n",
              "\n",
              "  .colab-df-quickchart {\n",
              "    background-color: var(--bg-color);\n",
              "    border: none;\n",
              "    border-radius: 50%;\n",
              "    cursor: pointer;\n",
              "    display: none;\n",
              "    fill: var(--fill-color);\n",
              "    height: 32px;\n",
              "    padding: 0;\n",
              "    width: 32px;\n",
              "  }\n",
              "\n",
              "  .colab-df-quickchart:hover {\n",
              "    background-color: var(--hover-bg-color);\n",
              "    box-shadow: 0 1px 2px rgba(60, 64, 67, 0.3), 0 1px 3px 1px rgba(60, 64, 67, 0.15);\n",
              "    fill: var(--button-hover-fill-color);\n",
              "  }\n",
              "\n",
              "  .colab-df-quickchart-complete:disabled,\n",
              "  .colab-df-quickchart-complete:disabled:hover {\n",
              "    background-color: var(--disabled-bg-color);\n",
              "    fill: var(--disabled-fill-color);\n",
              "    box-shadow: none;\n",
              "  }\n",
              "\n",
              "  .colab-df-spinner {\n",
              "    border: 2px solid var(--fill-color);\n",
              "    border-color: transparent;\n",
              "    border-bottom-color: var(--fill-color);\n",
              "    animation:\n",
              "      spin 1s steps(1) infinite;\n",
              "  }\n",
              "\n",
              "  @keyframes spin {\n",
              "    0% {\n",
              "      border-color: transparent;\n",
              "      border-bottom-color: var(--fill-color);\n",
              "      border-left-color: var(--fill-color);\n",
              "    }\n",
              "    20% {\n",
              "      border-color: transparent;\n",
              "      border-left-color: var(--fill-color);\n",
              "      border-top-color: var(--fill-color);\n",
              "    }\n",
              "    30% {\n",
              "      border-color: transparent;\n",
              "      border-left-color: var(--fill-color);\n",
              "      border-top-color: var(--fill-color);\n",
              "      border-right-color: var(--fill-color);\n",
              "    }\n",
              "    40% {\n",
              "      border-color: transparent;\n",
              "      border-right-color: var(--fill-color);\n",
              "      border-top-color: var(--fill-color);\n",
              "    }\n",
              "    60% {\n",
              "      border-color: transparent;\n",
              "      border-right-color: var(--fill-color);\n",
              "    }\n",
              "    80% {\n",
              "      border-color: transparent;\n",
              "      border-right-color: var(--fill-color);\n",
              "      border-bottom-color: var(--fill-color);\n",
              "    }\n",
              "    90% {\n",
              "      border-color: transparent;\n",
              "      border-bottom-color: var(--fill-color);\n",
              "    }\n",
              "  }\n",
              "</style>\n",
              "\n",
              "      <script>\n",
              "        async function quickchart(key) {\n",
              "          const quickchartButtonEl =\n",
              "            document.querySelector('#' + key + ' button');\n",
              "          quickchartButtonEl.disabled = true;  // To prevent multiple clicks.\n",
              "          quickchartButtonEl.classList.add('colab-df-spinner');\n",
              "          try {\n",
              "            const charts = await google.colab.kernel.invokeFunction(\n",
              "                'suggestCharts', [key], {});\n",
              "          } catch (error) {\n",
              "            console.error('Error during call to suggestCharts:', error);\n",
              "          }\n",
              "          quickchartButtonEl.classList.remove('colab-df-spinner');\n",
              "          quickchartButtonEl.classList.add('colab-df-quickchart-complete');\n",
              "        }\n",
              "        (() => {\n",
              "          let quickchartButtonEl =\n",
              "            document.querySelector('#df-fcf42f3a-4e98-4551-9016-f657ef20ff3b button');\n",
              "          quickchartButtonEl.style.display =\n",
              "            google.colab.kernel.accessAllowed ? 'block' : 'none';\n",
              "        })();\n",
              "      </script>\n",
              "    </div>\n",
              "\n",
              "    </div>\n",
              "  </div>\n"
            ],
            "application/vnd.google.colaboratory.intrinsic+json": {
              "type": "dataframe",
              "variable_name": "X"
            }
          },
          "metadata": {},
          "execution_count": 75
        }
      ]
    },
    {
      "cell_type": "code",
      "source": [
        "from sklearn.model_selection import train_test_split\n",
        "\n",
        "X_train, X_test, y_train, y_test = train_test_split(\n",
        "    X, y, test_size=0.30, random_state=42, stratify=y\n",
        ")\n",
        "\n",
        "X_train.shape, X_test.shape\n"
      ],
      "metadata": {
        "id": "wMXwtMM2EXAx",
        "outputId": "3afaea22-57d2-46c3-ac26-f97476f60ae9",
        "colab": {
          "base_uri": "https://localhost:8080/"
        }
      },
      "execution_count": 76,
      "outputs": [
        {
          "output_type": "execute_result",
          "data": {
            "text/plain": [
              "((5086, 6559), (2181, 6559))"
            ]
          },
          "metadata": {},
          "execution_count": 76
        }
      ]
    },
    {
      "cell_type": "code",
      "source": [
        "from sklearn.tree import DecisionTreeClassifier\n",
        "from sklearn.metrics import classification_report, confusion_matrix, roc_auc_score\n",
        "\n",
        "tree = DecisionTreeClassifier(\n",
        "    random_state=42,  # reproducible\n",
        "    # max_depth= None (por defecto). Si ves sobreajuste, prueba max_depth=4..10\n",
        ")\n",
        "tree.fit(X_train, y_train)\n",
        "\n",
        "y_pred_tree = tree.predict(X_test)\n",
        "y_prob_tree = tree.predict_proba(X_test)[:, 1]\n",
        "\n",
        "print(\"=== Decision Tree ===\")\n",
        "print(\"MATRIZ DE CONFUSIÓN\\n\", confusion_matrix(y_test, y_pred_tree))\n",
        "print(\"\\nREPORTE DE CLASIFICACIÓN\\n\", classification_report(y_test, y_pred_tree, digits=3))\n",
        "print(\"ROC-AUC:\", roc_auc_score(y_test, y_prob_tree).round(3))\n"
      ],
      "metadata": {
        "id": "cl2xWZoAEkoF",
        "outputId": "c0d89e0e-546e-44c8-fd4a-1e762a35823b",
        "colab": {
          "base_uri": "https://localhost:8080/"
        }
      },
      "execution_count": 77,
      "outputs": [
        {
          "output_type": "stream",
          "name": "stdout",
          "text": [
            "=== Decision Tree ===\n",
            "MATRIZ DE CONFUSIÓN\n",
            " [[1393  227]\n",
            " [ 300  261]]\n",
            "\n",
            "REPORTE DE CLASIFICACIÓN\n",
            "               precision    recall  f1-score   support\n",
            "\n",
            "           0      0.823     0.860     0.841      1620\n",
            "           1      0.535     0.465     0.498       561\n",
            "\n",
            "    accuracy                          0.758      2181\n",
            "   macro avg      0.679     0.663     0.669      2181\n",
            "weighted avg      0.749     0.758     0.753      2181\n",
            "\n",
            "ROC-AUC: 0.665\n"
          ]
        }
      ]
    },
    {
      "cell_type": "code",
      "source": [
        "from sklearn.ensemble import RandomForestClassifier\n",
        "\n",
        "rf = RandomForestClassifier(\n",
        "    n_estimators=300,\n",
        "    random_state=42,\n",
        "    n_jobs=-1,\n",
        "    class_weight=\"balanced_subsample\"  # ayuda si hay desbalance\n",
        ")\n",
        "rf.fit(X_train, y_train)\n",
        "\n",
        "y_pred_rf = rf.predict(X_test)\n",
        "y_prob_rf = rf.predict_proba(X_test)[:, 1]\n",
        "\n",
        "print(\"=== Random Forest ===\")\n",
        "print(\"MATRIZ DE CONFUSIÓN\\n\", confusion_matrix(y_test, y_pred_rf))\n",
        "print(\"\\nREPORTE DE CLASIFICACIÓN\\n\", classification_report(y_test, y_pred_rf, digits=3))\n",
        "print(\"ROC-AUC:\", roc_auc_score(y_test, y_prob_rf).round(3))\n"
      ],
      "metadata": {
        "id": "kJrY2GdkEnPQ",
        "outputId": "29395a23-75d8-4b7a-b8a0-79fdd056446a",
        "colab": {
          "base_uri": "https://localhost:8080/"
        }
      },
      "execution_count": 78,
      "outputs": [
        {
          "output_type": "stream",
          "name": "stdout",
          "text": [
            "=== Random Forest ===\n",
            "MATRIZ DE CONFUSIÓN\n",
            " [[1462  158]\n",
            " [ 308  253]]\n",
            "\n",
            "REPORTE DE CLASIFICACIÓN\n",
            "               precision    recall  f1-score   support\n",
            "\n",
            "           0      0.826     0.902     0.863      1620\n",
            "           1      0.616     0.451     0.521       561\n",
            "\n",
            "    accuracy                          0.786      2181\n",
            "   macro avg      0.721     0.677     0.692      2181\n",
            "weighted avg      0.772     0.786     0.775      2181\n",
            "\n",
            "ROC-AUC: 0.825\n"
          ]
        }
      ]
    },
    {
      "cell_type": "code",
      "source": [
        "# Agregar XGBoost:\n",
        "!pip install -q xgboost\n"
      ],
      "metadata": {
        "id": "kUKptb0TEqiJ"
      },
      "execution_count": 80,
      "outputs": []
    },
    {
      "cell_type": "code",
      "source": [
        "from xgboost import XGBClassifier\n",
        "\n",
        "xgb = XGBClassifier(\n",
        "    n_estimators=300,\n",
        "    learning_rate=0.1,\n",
        "    max_depth=4,\n",
        "    subsample=0.9,\n",
        "    colsample_bytree=0.9,\n",
        "    random_state=42,\n",
        "    n_jobs=-1,\n",
        "    eval_metric=\"logloss\"  # evita warnings\n",
        ")\n",
        "xgb.fit(X_train, y_train)\n",
        "\n",
        "y_pred_xgb = xgb.predict(X_test)\n",
        "y_prob_xgb = xgb.predict_proba(X_test)[:, 1]\n",
        "\n",
        "print(\"=== XGBoost ===\")\n",
        "print(\"MATRIZ DE CONFUSIÓN\\n\", confusion_matrix(y_test, y_pred_xgb))\n",
        "print(\"\\nREPORTE DE CLASIFICACIÓN\\n\", classification_report(y_test, y_pred_xgb, digits=3))\n",
        "print(\"ROC-AUC:\", roc_auc_score(y_test, y_prob_xgb).round(3))\n"
      ],
      "metadata": {
        "id": "rNfKRGEOE7Jz",
        "outputId": "9dfcd260-efa7-45a9-b51d-b24236cf7b75",
        "colab": {
          "base_uri": "https://localhost:8080/"
        }
      },
      "execution_count": 81,
      "outputs": [
        {
          "output_type": "stream",
          "name": "stdout",
          "text": [
            "=== XGBoost ===\n",
            "MATRIZ DE CONFUSIÓN\n",
            " [[1442  178]\n",
            " [ 284  277]]\n",
            "\n",
            "REPORTE DE CLASIFICACIÓN\n",
            "               precision    recall  f1-score   support\n",
            "\n",
            "           0      0.835     0.890     0.862      1620\n",
            "           1      0.609     0.494     0.545       561\n",
            "\n",
            "    accuracy                          0.788      2181\n",
            "   macro avg      0.722     0.692     0.704      2181\n",
            "weighted avg      0.777     0.788     0.780      2181\n",
            "\n",
            "ROC-AUC: 0.831\n"
          ]
        }
      ]
    },
    {
      "cell_type": "code",
      "source": [
        "from sklearn.metrics import precision_score, recall_score, f1_score, accuracy_score\n",
        "\n",
        "def resumen(nombre, y_test, y_pred, y_prob):\n",
        "    return {\n",
        "        \"modelo\": nombre,\n",
        "        \"accuracy\": accuracy_score(y_test, y_pred),\n",
        "        \"precision\": precision_score(y_test, y_pred, zero_division=0),\n",
        "        \"recall\": recall_score(y_test, y_pred, zero_division=0),\n",
        "        \"f1\": f1_score(y_test, y_pred, zero_division=0),\n",
        "        \"roc_auc\": roc_auc_score(y_test, y_prob),\n",
        "    }\n",
        "\n",
        "tabla = []\n",
        "tabla.append(resumen(\"Decision Tree\", y_test, y_pred_tree, y_prob_tree))\n",
        "tabla.append(resumen(\"Random Forest\", y_test, y_pred_rf, y_prob_rf))\n",
        "tabla.append(resumen(\"XGBoost\",       y_test, y_pred_xgb, y_prob_xgb))\n",
        "\n",
        "pd.DataFrame(tabla).round(3).sort_values(\"roc_auc\", ascending=False)\n"
      ],
      "metadata": {
        "id": "14CskfDYFGLW",
        "outputId": "b3b4ce31-94e7-44d1-b555-bb96740c904b",
        "colab": {
          "base_uri": "https://localhost:8080/",
          "height": 143
        }
      },
      "execution_count": 82,
      "outputs": [
        {
          "output_type": "execute_result",
          "data": {
            "text/plain": [
              "          modelo  accuracy  precision  recall     f1  roc_auc\n",
              "2        XGBoost     0.788      0.609   0.494  0.545    0.831\n",
              "1  Random Forest     0.786      0.616   0.451  0.521    0.825\n",
              "0  Decision Tree     0.758      0.535   0.465  0.498    0.665"
            ],
            "text/html": [
              "\n",
              "  <div id=\"df-97b0599f-ac15-402c-8ed6-48b1d58acf0a\" class=\"colab-df-container\">\n",
              "    <div>\n",
              "<style scoped>\n",
              "    .dataframe tbody tr th:only-of-type {\n",
              "        vertical-align: middle;\n",
              "    }\n",
              "\n",
              "    .dataframe tbody tr th {\n",
              "        vertical-align: top;\n",
              "    }\n",
              "\n",
              "    .dataframe thead th {\n",
              "        text-align: right;\n",
              "    }\n",
              "</style>\n",
              "<table border=\"1\" class=\"dataframe\">\n",
              "  <thead>\n",
              "    <tr style=\"text-align: right;\">\n",
              "      <th></th>\n",
              "      <th>modelo</th>\n",
              "      <th>accuracy</th>\n",
              "      <th>precision</th>\n",
              "      <th>recall</th>\n",
              "      <th>f1</th>\n",
              "      <th>roc_auc</th>\n",
              "    </tr>\n",
              "  </thead>\n",
              "  <tbody>\n",
              "    <tr>\n",
              "      <th>2</th>\n",
              "      <td>XGBoost</td>\n",
              "      <td>0.788</td>\n",
              "      <td>0.609</td>\n",
              "      <td>0.494</td>\n",
              "      <td>0.545</td>\n",
              "      <td>0.831</td>\n",
              "    </tr>\n",
              "    <tr>\n",
              "      <th>1</th>\n",
              "      <td>Random Forest</td>\n",
              "      <td>0.786</td>\n",
              "      <td>0.616</td>\n",
              "      <td>0.451</td>\n",
              "      <td>0.521</td>\n",
              "      <td>0.825</td>\n",
              "    </tr>\n",
              "    <tr>\n",
              "      <th>0</th>\n",
              "      <td>Decision Tree</td>\n",
              "      <td>0.758</td>\n",
              "      <td>0.535</td>\n",
              "      <td>0.465</td>\n",
              "      <td>0.498</td>\n",
              "      <td>0.665</td>\n",
              "    </tr>\n",
              "  </tbody>\n",
              "</table>\n",
              "</div>\n",
              "    <div class=\"colab-df-buttons\">\n",
              "\n",
              "  <div class=\"colab-df-container\">\n",
              "    <button class=\"colab-df-convert\" onclick=\"convertToInteractive('df-97b0599f-ac15-402c-8ed6-48b1d58acf0a')\"\n",
              "            title=\"Convert this dataframe to an interactive table.\"\n",
              "            style=\"display:none;\">\n",
              "\n",
              "  <svg xmlns=\"http://www.w3.org/2000/svg\" height=\"24px\" viewBox=\"0 -960 960 960\">\n",
              "    <path d=\"M120-120v-720h720v720H120Zm60-500h600v-160H180v160Zm220 220h160v-160H400v160Zm0 220h160v-160H400v160ZM180-400h160v-160H180v160Zm440 0h160v-160H620v160ZM180-180h160v-160H180v160Zm440 0h160v-160H620v160Z\"/>\n",
              "  </svg>\n",
              "    </button>\n",
              "\n",
              "  <style>\n",
              "    .colab-df-container {\n",
              "      display:flex;\n",
              "      gap: 12px;\n",
              "    }\n",
              "\n",
              "    .colab-df-convert {\n",
              "      background-color: #E8F0FE;\n",
              "      border: none;\n",
              "      border-radius: 50%;\n",
              "      cursor: pointer;\n",
              "      display: none;\n",
              "      fill: #1967D2;\n",
              "      height: 32px;\n",
              "      padding: 0 0 0 0;\n",
              "      width: 32px;\n",
              "    }\n",
              "\n",
              "    .colab-df-convert:hover {\n",
              "      background-color: #E2EBFA;\n",
              "      box-shadow: 0px 1px 2px rgba(60, 64, 67, 0.3), 0px 1px 3px 1px rgba(60, 64, 67, 0.15);\n",
              "      fill: #174EA6;\n",
              "    }\n",
              "\n",
              "    .colab-df-buttons div {\n",
              "      margin-bottom: 4px;\n",
              "    }\n",
              "\n",
              "    [theme=dark] .colab-df-convert {\n",
              "      background-color: #3B4455;\n",
              "      fill: #D2E3FC;\n",
              "    }\n",
              "\n",
              "    [theme=dark] .colab-df-convert:hover {\n",
              "      background-color: #434B5C;\n",
              "      box-shadow: 0px 1px 3px 1px rgba(0, 0, 0, 0.15);\n",
              "      filter: drop-shadow(0px 1px 2px rgba(0, 0, 0, 0.3));\n",
              "      fill: #FFFFFF;\n",
              "    }\n",
              "  </style>\n",
              "\n",
              "    <script>\n",
              "      const buttonEl =\n",
              "        document.querySelector('#df-97b0599f-ac15-402c-8ed6-48b1d58acf0a button.colab-df-convert');\n",
              "      buttonEl.style.display =\n",
              "        google.colab.kernel.accessAllowed ? 'block' : 'none';\n",
              "\n",
              "      async function convertToInteractive(key) {\n",
              "        const element = document.querySelector('#df-97b0599f-ac15-402c-8ed6-48b1d58acf0a');\n",
              "        const dataTable =\n",
              "          await google.colab.kernel.invokeFunction('convertToInteractive',\n",
              "                                                    [key], {});\n",
              "        if (!dataTable) return;\n",
              "\n",
              "        const docLinkHtml = 'Like what you see? Visit the ' +\n",
              "          '<a target=\"_blank\" href=https://colab.research.google.com/notebooks/data_table.ipynb>data table notebook</a>'\n",
              "          + ' to learn more about interactive tables.';\n",
              "        element.innerHTML = '';\n",
              "        dataTable['output_type'] = 'display_data';\n",
              "        await google.colab.output.renderOutput(dataTable, element);\n",
              "        const docLink = document.createElement('div');\n",
              "        docLink.innerHTML = docLinkHtml;\n",
              "        element.appendChild(docLink);\n",
              "      }\n",
              "    </script>\n",
              "  </div>\n",
              "\n",
              "\n",
              "    <div id=\"df-358b3b6e-7552-4416-b9df-b89f7ae76949\">\n",
              "      <button class=\"colab-df-quickchart\" onclick=\"quickchart('df-358b3b6e-7552-4416-b9df-b89f7ae76949')\"\n",
              "                title=\"Suggest charts\"\n",
              "                style=\"display:none;\">\n",
              "\n",
              "<svg xmlns=\"http://www.w3.org/2000/svg\" height=\"24px\"viewBox=\"0 0 24 24\"\n",
              "     width=\"24px\">\n",
              "    <g>\n",
              "        <path d=\"M19 3H5c-1.1 0-2 .9-2 2v14c0 1.1.9 2 2 2h14c1.1 0 2-.9 2-2V5c0-1.1-.9-2-2-2zM9 17H7v-7h2v7zm4 0h-2V7h2v10zm4 0h-2v-4h2v4z\"/>\n",
              "    </g>\n",
              "</svg>\n",
              "      </button>\n",
              "\n",
              "<style>\n",
              "  .colab-df-quickchart {\n",
              "      --bg-color: #E8F0FE;\n",
              "      --fill-color: #1967D2;\n",
              "      --hover-bg-color: #E2EBFA;\n",
              "      --hover-fill-color: #174EA6;\n",
              "      --disabled-fill-color: #AAA;\n",
              "      --disabled-bg-color: #DDD;\n",
              "  }\n",
              "\n",
              "  [theme=dark] .colab-df-quickchart {\n",
              "      --bg-color: #3B4455;\n",
              "      --fill-color: #D2E3FC;\n",
              "      --hover-bg-color: #434B5C;\n",
              "      --hover-fill-color: #FFFFFF;\n",
              "      --disabled-bg-color: #3B4455;\n",
              "      --disabled-fill-color: #666;\n",
              "  }\n",
              "\n",
              "  .colab-df-quickchart {\n",
              "    background-color: var(--bg-color);\n",
              "    border: none;\n",
              "    border-radius: 50%;\n",
              "    cursor: pointer;\n",
              "    display: none;\n",
              "    fill: var(--fill-color);\n",
              "    height: 32px;\n",
              "    padding: 0;\n",
              "    width: 32px;\n",
              "  }\n",
              "\n",
              "  .colab-df-quickchart:hover {\n",
              "    background-color: var(--hover-bg-color);\n",
              "    box-shadow: 0 1px 2px rgba(60, 64, 67, 0.3), 0 1px 3px 1px rgba(60, 64, 67, 0.15);\n",
              "    fill: var(--button-hover-fill-color);\n",
              "  }\n",
              "\n",
              "  .colab-df-quickchart-complete:disabled,\n",
              "  .colab-df-quickchart-complete:disabled:hover {\n",
              "    background-color: var(--disabled-bg-color);\n",
              "    fill: var(--disabled-fill-color);\n",
              "    box-shadow: none;\n",
              "  }\n",
              "\n",
              "  .colab-df-spinner {\n",
              "    border: 2px solid var(--fill-color);\n",
              "    border-color: transparent;\n",
              "    border-bottom-color: var(--fill-color);\n",
              "    animation:\n",
              "      spin 1s steps(1) infinite;\n",
              "  }\n",
              "\n",
              "  @keyframes spin {\n",
              "    0% {\n",
              "      border-color: transparent;\n",
              "      border-bottom-color: var(--fill-color);\n",
              "      border-left-color: var(--fill-color);\n",
              "    }\n",
              "    20% {\n",
              "      border-color: transparent;\n",
              "      border-left-color: var(--fill-color);\n",
              "      border-top-color: var(--fill-color);\n",
              "    }\n",
              "    30% {\n",
              "      border-color: transparent;\n",
              "      border-left-color: var(--fill-color);\n",
              "      border-top-color: var(--fill-color);\n",
              "      border-right-color: var(--fill-color);\n",
              "    }\n",
              "    40% {\n",
              "      border-color: transparent;\n",
              "      border-right-color: var(--fill-color);\n",
              "      border-top-color: var(--fill-color);\n",
              "    }\n",
              "    60% {\n",
              "      border-color: transparent;\n",
              "      border-right-color: var(--fill-color);\n",
              "    }\n",
              "    80% {\n",
              "      border-color: transparent;\n",
              "      border-right-color: var(--fill-color);\n",
              "      border-bottom-color: var(--fill-color);\n",
              "    }\n",
              "    90% {\n",
              "      border-color: transparent;\n",
              "      border-bottom-color: var(--fill-color);\n",
              "    }\n",
              "  }\n",
              "</style>\n",
              "\n",
              "      <script>\n",
              "        async function quickchart(key) {\n",
              "          const quickchartButtonEl =\n",
              "            document.querySelector('#' + key + ' button');\n",
              "          quickchartButtonEl.disabled = true;  // To prevent multiple clicks.\n",
              "          quickchartButtonEl.classList.add('colab-df-spinner');\n",
              "          try {\n",
              "            const charts = await google.colab.kernel.invokeFunction(\n",
              "                'suggestCharts', [key], {});\n",
              "          } catch (error) {\n",
              "            console.error('Error during call to suggestCharts:', error);\n",
              "          }\n",
              "          quickchartButtonEl.classList.remove('colab-df-spinner');\n",
              "          quickchartButtonEl.classList.add('colab-df-quickchart-complete');\n",
              "        }\n",
              "        (() => {\n",
              "          let quickchartButtonEl =\n",
              "            document.querySelector('#df-358b3b6e-7552-4416-b9df-b89f7ae76949 button');\n",
              "          quickchartButtonEl.style.display =\n",
              "            google.colab.kernel.accessAllowed ? 'block' : 'none';\n",
              "        })();\n",
              "      </script>\n",
              "    </div>\n",
              "\n",
              "    </div>\n",
              "  </div>\n"
            ],
            "application/vnd.google.colaboratory.intrinsic+json": {
              "type": "dataframe",
              "summary": "{\n  \"name\": \"pd\",\n  \"rows\": 3,\n  \"fields\": [\n    {\n      \"column\": \"modelo\",\n      \"properties\": {\n        \"dtype\": \"string\",\n        \"num_unique_values\": 3,\n        \"samples\": [\n          \"XGBoost\",\n          \"Random Forest\",\n          \"Decision Tree\"\n        ],\n        \"semantic_type\": \"\",\n        \"description\": \"\"\n      }\n    },\n    {\n      \"column\": \"accuracy\",\n      \"properties\": {\n        \"dtype\": \"number\",\n        \"std\": 0.01677299416721218,\n        \"min\": 0.758,\n        \"max\": 0.788,\n        \"num_unique_values\": 3,\n        \"samples\": [\n          0.788,\n          0.786,\n          0.758\n        ],\n        \"semantic_type\": \"\",\n        \"description\": \"\"\n      }\n    },\n    {\n      \"column\": \"precision\",\n      \"properties\": {\n        \"dtype\": \"number\",\n        \"std\": 0.04488132499529544,\n        \"min\": 0.535,\n        \"max\": 0.616,\n        \"num_unique_values\": 3,\n        \"samples\": [\n          0.609,\n          0.616,\n          0.535\n        ],\n        \"semantic_type\": \"\",\n        \"description\": \"\"\n      }\n    },\n    {\n      \"column\": \"recall\",\n      \"properties\": {\n        \"dtype\": \"number\",\n        \"std\": 0.021931712199461297,\n        \"min\": 0.451,\n        \"max\": 0.494,\n        \"num_unique_values\": 3,\n        \"samples\": [\n          0.494,\n          0.451,\n          0.465\n        ],\n        \"semantic_type\": \"\",\n        \"description\": \"\"\n      }\n    },\n    {\n      \"column\": \"f1\",\n      \"properties\": {\n        \"dtype\": \"number\",\n        \"std\": 0.023501772982763118,\n        \"min\": 0.498,\n        \"max\": 0.545,\n        \"num_unique_values\": 3,\n        \"samples\": [\n          0.545,\n          0.521,\n          0.498\n        ],\n        \"semantic_type\": \"\",\n        \"description\": \"\"\n      }\n    },\n    {\n      \"column\": \"roc_auc\",\n      \"properties\": {\n        \"dtype\": \"number\",\n        \"std\": 0.09415589908940027,\n        \"min\": 0.665,\n        \"max\": 0.831,\n        \"num_unique_values\": 3,\n        \"samples\": [\n          0.831,\n          0.825,\n          0.665\n        ],\n        \"semantic_type\": \"\",\n        \"description\": \"\"\n      }\n    }\n  ]\n}"
            }
          },
          "metadata": {},
          "execution_count": 82
        }
      ]
    },
    {
      "cell_type": "markdown",
      "source": [
        "##Correlación y Selección de Variables"
      ],
      "metadata": {
        "id": "oHei0ZFKFQqp"
      }
    },
    {
      "cell_type": "markdown",
      "source": [
        "##Análisis de Correlación"
      ],
      "metadata": {
        "id": "cgzrfgKeFf5l"
      }
    },
    {
      "cell_type": "code",
      "source": [],
      "metadata": {
        "id": "LsYMDL9EFgnD"
      },
      "execution_count": null,
      "outputs": []
    },
    {
      "cell_type": "code",
      "source": [
        "# Seleccionar solo las columnas numéricas\n",
        "df_num = df.select_dtypes(include=[\"int64\", \"float64\"])\n",
        "\n",
        "# Mostrar las primeras columnas numéricas\n",
        "print(\"Columnas numéricas:\", df_num.columns.tolist())\n",
        "df_num.head()\n"
      ],
      "metadata": {
        "id": "qFv_hFg4FiQG",
        "outputId": "63be40d5-7ba8-466f-d27d-f6725f13d7a1",
        "colab": {
          "base_uri": "https://localhost:8080/",
          "height": 224
        }
      },
      "execution_count": 83,
      "outputs": [
        {
          "output_type": "stream",
          "name": "stdout",
          "text": [
            "Columnas numéricas: ['Churn', 'customer.SeniorCitizen', 'customer.tenure', 'Factura_Electronica', 'Cargo_Mensual']\n"
          ]
        },
        {
          "output_type": "execute_result",
          "data": {
            "text/plain": [
              "   Churn  customer.SeniorCitizen  customer.tenure  Factura_Electronica  \\\n",
              "0      0                       0                9                    1   \n",
              "1      0                       0                9                    0   \n",
              "2      1                       0                4                    1   \n",
              "3      1                       1               13                    1   \n",
              "4      1                       1                3                    1   \n",
              "\n",
              "   Cargo_Mensual  \n",
              "0           65.6  \n",
              "1           59.9  \n",
              "2           73.9  \n",
              "3           98.0  \n",
              "4           83.9  "
            ],
            "text/html": [
              "\n",
              "  <div id=\"df-82553279-59ba-4361-885b-462b6b6c7dd1\" class=\"colab-df-container\">\n",
              "    <div>\n",
              "<style scoped>\n",
              "    .dataframe tbody tr th:only-of-type {\n",
              "        vertical-align: middle;\n",
              "    }\n",
              "\n",
              "    .dataframe tbody tr th {\n",
              "        vertical-align: top;\n",
              "    }\n",
              "\n",
              "    .dataframe thead th {\n",
              "        text-align: right;\n",
              "    }\n",
              "</style>\n",
              "<table border=\"1\" class=\"dataframe\">\n",
              "  <thead>\n",
              "    <tr style=\"text-align: right;\">\n",
              "      <th></th>\n",
              "      <th>Churn</th>\n",
              "      <th>customer.SeniorCitizen</th>\n",
              "      <th>customer.tenure</th>\n",
              "      <th>Factura_Electronica</th>\n",
              "      <th>Cargo_Mensual</th>\n",
              "    </tr>\n",
              "  </thead>\n",
              "  <tbody>\n",
              "    <tr>\n",
              "      <th>0</th>\n",
              "      <td>0</td>\n",
              "      <td>0</td>\n",
              "      <td>9</td>\n",
              "      <td>1</td>\n",
              "      <td>65.6</td>\n",
              "    </tr>\n",
              "    <tr>\n",
              "      <th>1</th>\n",
              "      <td>0</td>\n",
              "      <td>0</td>\n",
              "      <td>9</td>\n",
              "      <td>0</td>\n",
              "      <td>59.9</td>\n",
              "    </tr>\n",
              "    <tr>\n",
              "      <th>2</th>\n",
              "      <td>1</td>\n",
              "      <td>0</td>\n",
              "      <td>4</td>\n",
              "      <td>1</td>\n",
              "      <td>73.9</td>\n",
              "    </tr>\n",
              "    <tr>\n",
              "      <th>3</th>\n",
              "      <td>1</td>\n",
              "      <td>1</td>\n",
              "      <td>13</td>\n",
              "      <td>1</td>\n",
              "      <td>98.0</td>\n",
              "    </tr>\n",
              "    <tr>\n",
              "      <th>4</th>\n",
              "      <td>1</td>\n",
              "      <td>1</td>\n",
              "      <td>3</td>\n",
              "      <td>1</td>\n",
              "      <td>83.9</td>\n",
              "    </tr>\n",
              "  </tbody>\n",
              "</table>\n",
              "</div>\n",
              "    <div class=\"colab-df-buttons\">\n",
              "\n",
              "  <div class=\"colab-df-container\">\n",
              "    <button class=\"colab-df-convert\" onclick=\"convertToInteractive('df-82553279-59ba-4361-885b-462b6b6c7dd1')\"\n",
              "            title=\"Convert this dataframe to an interactive table.\"\n",
              "            style=\"display:none;\">\n",
              "\n",
              "  <svg xmlns=\"http://www.w3.org/2000/svg\" height=\"24px\" viewBox=\"0 -960 960 960\">\n",
              "    <path d=\"M120-120v-720h720v720H120Zm60-500h600v-160H180v160Zm220 220h160v-160H400v160Zm0 220h160v-160H400v160ZM180-400h160v-160H180v160Zm440 0h160v-160H620v160ZM180-180h160v-160H180v160Zm440 0h160v-160H620v160Z\"/>\n",
              "  </svg>\n",
              "    </button>\n",
              "\n",
              "  <style>\n",
              "    .colab-df-container {\n",
              "      display:flex;\n",
              "      gap: 12px;\n",
              "    }\n",
              "\n",
              "    .colab-df-convert {\n",
              "      background-color: #E8F0FE;\n",
              "      border: none;\n",
              "      border-radius: 50%;\n",
              "      cursor: pointer;\n",
              "      display: none;\n",
              "      fill: #1967D2;\n",
              "      height: 32px;\n",
              "      padding: 0 0 0 0;\n",
              "      width: 32px;\n",
              "    }\n",
              "\n",
              "    .colab-df-convert:hover {\n",
              "      background-color: #E2EBFA;\n",
              "      box-shadow: 0px 1px 2px rgba(60, 64, 67, 0.3), 0px 1px 3px 1px rgba(60, 64, 67, 0.15);\n",
              "      fill: #174EA6;\n",
              "    }\n",
              "\n",
              "    .colab-df-buttons div {\n",
              "      margin-bottom: 4px;\n",
              "    }\n",
              "\n",
              "    [theme=dark] .colab-df-convert {\n",
              "      background-color: #3B4455;\n",
              "      fill: #D2E3FC;\n",
              "    }\n",
              "\n",
              "    [theme=dark] .colab-df-convert:hover {\n",
              "      background-color: #434B5C;\n",
              "      box-shadow: 0px 1px 3px 1px rgba(0, 0, 0, 0.15);\n",
              "      filter: drop-shadow(0px 1px 2px rgba(0, 0, 0, 0.3));\n",
              "      fill: #FFFFFF;\n",
              "    }\n",
              "  </style>\n",
              "\n",
              "    <script>\n",
              "      const buttonEl =\n",
              "        document.querySelector('#df-82553279-59ba-4361-885b-462b6b6c7dd1 button.colab-df-convert');\n",
              "      buttonEl.style.display =\n",
              "        google.colab.kernel.accessAllowed ? 'block' : 'none';\n",
              "\n",
              "      async function convertToInteractive(key) {\n",
              "        const element = document.querySelector('#df-82553279-59ba-4361-885b-462b6b6c7dd1');\n",
              "        const dataTable =\n",
              "          await google.colab.kernel.invokeFunction('convertToInteractive',\n",
              "                                                    [key], {});\n",
              "        if (!dataTable) return;\n",
              "\n",
              "        const docLinkHtml = 'Like what you see? Visit the ' +\n",
              "          '<a target=\"_blank\" href=https://colab.research.google.com/notebooks/data_table.ipynb>data table notebook</a>'\n",
              "          + ' to learn more about interactive tables.';\n",
              "        element.innerHTML = '';\n",
              "        dataTable['output_type'] = 'display_data';\n",
              "        await google.colab.output.renderOutput(dataTable, element);\n",
              "        const docLink = document.createElement('div');\n",
              "        docLink.innerHTML = docLinkHtml;\n",
              "        element.appendChild(docLink);\n",
              "      }\n",
              "    </script>\n",
              "  </div>\n",
              "\n",
              "\n",
              "    <div id=\"df-73266dbf-f4a3-42b6-bf60-b3daca91f1b1\">\n",
              "      <button class=\"colab-df-quickchart\" onclick=\"quickchart('df-73266dbf-f4a3-42b6-bf60-b3daca91f1b1')\"\n",
              "                title=\"Suggest charts\"\n",
              "                style=\"display:none;\">\n",
              "\n",
              "<svg xmlns=\"http://www.w3.org/2000/svg\" height=\"24px\"viewBox=\"0 0 24 24\"\n",
              "     width=\"24px\">\n",
              "    <g>\n",
              "        <path d=\"M19 3H5c-1.1 0-2 .9-2 2v14c0 1.1.9 2 2 2h14c1.1 0 2-.9 2-2V5c0-1.1-.9-2-2-2zM9 17H7v-7h2v7zm4 0h-2V7h2v10zm4 0h-2v-4h2v4z\"/>\n",
              "    </g>\n",
              "</svg>\n",
              "      </button>\n",
              "\n",
              "<style>\n",
              "  .colab-df-quickchart {\n",
              "      --bg-color: #E8F0FE;\n",
              "      --fill-color: #1967D2;\n",
              "      --hover-bg-color: #E2EBFA;\n",
              "      --hover-fill-color: #174EA6;\n",
              "      --disabled-fill-color: #AAA;\n",
              "      --disabled-bg-color: #DDD;\n",
              "  }\n",
              "\n",
              "  [theme=dark] .colab-df-quickchart {\n",
              "      --bg-color: #3B4455;\n",
              "      --fill-color: #D2E3FC;\n",
              "      --hover-bg-color: #434B5C;\n",
              "      --hover-fill-color: #FFFFFF;\n",
              "      --disabled-bg-color: #3B4455;\n",
              "      --disabled-fill-color: #666;\n",
              "  }\n",
              "\n",
              "  .colab-df-quickchart {\n",
              "    background-color: var(--bg-color);\n",
              "    border: none;\n",
              "    border-radius: 50%;\n",
              "    cursor: pointer;\n",
              "    display: none;\n",
              "    fill: var(--fill-color);\n",
              "    height: 32px;\n",
              "    padding: 0;\n",
              "    width: 32px;\n",
              "  }\n",
              "\n",
              "  .colab-df-quickchart:hover {\n",
              "    background-color: var(--hover-bg-color);\n",
              "    box-shadow: 0 1px 2px rgba(60, 64, 67, 0.3), 0 1px 3px 1px rgba(60, 64, 67, 0.15);\n",
              "    fill: var(--button-hover-fill-color);\n",
              "  }\n",
              "\n",
              "  .colab-df-quickchart-complete:disabled,\n",
              "  .colab-df-quickchart-complete:disabled:hover {\n",
              "    background-color: var(--disabled-bg-color);\n",
              "    fill: var(--disabled-fill-color);\n",
              "    box-shadow: none;\n",
              "  }\n",
              "\n",
              "  .colab-df-spinner {\n",
              "    border: 2px solid var(--fill-color);\n",
              "    border-color: transparent;\n",
              "    border-bottom-color: var(--fill-color);\n",
              "    animation:\n",
              "      spin 1s steps(1) infinite;\n",
              "  }\n",
              "\n",
              "  @keyframes spin {\n",
              "    0% {\n",
              "      border-color: transparent;\n",
              "      border-bottom-color: var(--fill-color);\n",
              "      border-left-color: var(--fill-color);\n",
              "    }\n",
              "    20% {\n",
              "      border-color: transparent;\n",
              "      border-left-color: var(--fill-color);\n",
              "      border-top-color: var(--fill-color);\n",
              "    }\n",
              "    30% {\n",
              "      border-color: transparent;\n",
              "      border-left-color: var(--fill-color);\n",
              "      border-top-color: var(--fill-color);\n",
              "      border-right-color: var(--fill-color);\n",
              "    }\n",
              "    40% {\n",
              "      border-color: transparent;\n",
              "      border-right-color: var(--fill-color);\n",
              "      border-top-color: var(--fill-color);\n",
              "    }\n",
              "    60% {\n",
              "      border-color: transparent;\n",
              "      border-right-color: var(--fill-color);\n",
              "    }\n",
              "    80% {\n",
              "      border-color: transparent;\n",
              "      border-right-color: var(--fill-color);\n",
              "      border-bottom-color: var(--fill-color);\n",
              "    }\n",
              "    90% {\n",
              "      border-color: transparent;\n",
              "      border-bottom-color: var(--fill-color);\n",
              "    }\n",
              "  }\n",
              "</style>\n",
              "\n",
              "      <script>\n",
              "        async function quickchart(key) {\n",
              "          const quickchartButtonEl =\n",
              "            document.querySelector('#' + key + ' button');\n",
              "          quickchartButtonEl.disabled = true;  // To prevent multiple clicks.\n",
              "          quickchartButtonEl.classList.add('colab-df-spinner');\n",
              "          try {\n",
              "            const charts = await google.colab.kernel.invokeFunction(\n",
              "                'suggestCharts', [key], {});\n",
              "          } catch (error) {\n",
              "            console.error('Error during call to suggestCharts:', error);\n",
              "          }\n",
              "          quickchartButtonEl.classList.remove('colab-df-spinner');\n",
              "          quickchartButtonEl.classList.add('colab-df-quickchart-complete');\n",
              "        }\n",
              "        (() => {\n",
              "          let quickchartButtonEl =\n",
              "            document.querySelector('#df-73266dbf-f4a3-42b6-bf60-b3daca91f1b1 button');\n",
              "          quickchartButtonEl.style.display =\n",
              "            google.colab.kernel.accessAllowed ? 'block' : 'none';\n",
              "        })();\n",
              "      </script>\n",
              "    </div>\n",
              "\n",
              "    </div>\n",
              "  </div>\n"
            ],
            "application/vnd.google.colaboratory.intrinsic+json": {
              "type": "dataframe",
              "variable_name": "df_num",
              "summary": "{\n  \"name\": \"df_num\",\n  \"rows\": 7267,\n  \"fields\": [\n    {\n      \"column\": \"Churn\",\n      \"properties\": {\n        \"dtype\": \"number\",\n        \"std\": 0,\n        \"min\": 0,\n        \"max\": 1,\n        \"num_unique_values\": 2,\n        \"samples\": [\n          1,\n          0\n        ],\n        \"semantic_type\": \"\",\n        \"description\": \"\"\n      }\n    },\n    {\n      \"column\": \"customer.SeniorCitizen\",\n      \"properties\": {\n        \"dtype\": \"number\",\n        \"std\": 0,\n        \"min\": 0,\n        \"max\": 1,\n        \"num_unique_values\": 2,\n        \"samples\": [\n          1,\n          0\n        ],\n        \"semantic_type\": \"\",\n        \"description\": \"\"\n      }\n    },\n    {\n      \"column\": \"customer.tenure\",\n      \"properties\": {\n        \"dtype\": \"number\",\n        \"std\": 24,\n        \"min\": 0,\n        \"max\": 72,\n        \"num_unique_values\": 73,\n        \"samples\": [\n          71,\n          53\n        ],\n        \"semantic_type\": \"\",\n        \"description\": \"\"\n      }\n    },\n    {\n      \"column\": \"Factura_Electronica\",\n      \"properties\": {\n        \"dtype\": \"number\",\n        \"std\": 0,\n        \"min\": 0,\n        \"max\": 1,\n        \"num_unique_values\": 2,\n        \"samples\": [\n          0,\n          1\n        ],\n        \"semantic_type\": \"\",\n        \"description\": \"\"\n      }\n    },\n    {\n      \"column\": \"Cargo_Mensual\",\n      \"properties\": {\n        \"dtype\": \"number\",\n        \"std\": 30.12957188566699,\n        \"min\": 18.25,\n        \"max\": 118.75,\n        \"num_unique_values\": 1585,\n        \"samples\": [\n          100.85,\n          91.8\n        ],\n        \"semantic_type\": \"\",\n        \"description\": \"\"\n      }\n    }\n  ]\n}"
            }
          },
          "metadata": {},
          "execution_count": 83
        }
      ]
    },
    {
      "cell_type": "code",
      "source": [
        "# Calcular la matriz de correlación\n",
        "corr = df_num.corr()\n",
        "\n",
        "# Mostrar la correlación de todas las variables con Churn\n",
        "print(\"Correlación con Churn:\")\n",
        "print(corr[\"Churn\"].sort_values(ascending=False))\n"
      ],
      "metadata": {
        "id": "mA8BCjSfFwqZ",
        "outputId": "df9e2bda-e9b3-4653-b74e-863fa006a0f0",
        "colab": {
          "base_uri": "https://localhost:8080/"
        }
      },
      "execution_count": 84,
      "outputs": [
        {
          "output_type": "stream",
          "name": "stdout",
          "text": [
            "Correlación con Churn:\n",
            "Churn                     1.000000\n",
            "Cargo_Mensual             0.189866\n",
            "Factura_Electronica       0.186666\n",
            "customer.SeniorCitizen    0.146733\n",
            "customer.tenure          -0.344079\n",
            "Name: Churn, dtype: float64\n"
          ]
        }
      ]
    },
    {
      "cell_type": "code",
      "source": [
        "import matplotlib.pyplot as plt\n",
        "import seaborn as sns\n",
        "\n",
        "plt.figure(figsize=(12,8))\n",
        "sns.heatmap(corr, annot=True, cmap=\"coolwarm\", fmt=\".2f\")\n",
        "plt.title(\"Matriz de correlación - Variables numéricas\")\n",
        "plt.show()\n"
      ],
      "metadata": {
        "id": "59JL7WLtFzad",
        "outputId": "7d174887-daa4-4d38-da87-63a80aa4ef4c",
        "colab": {
          "base_uri": "https://localhost:8080/",
          "height": 699
        }
      },
      "execution_count": 85,
      "outputs": [
        {
          "output_type": "display_data",
          "data": {
            "text/plain": [
              "<Figure size 1200x800 with 2 Axes>"
            ],
            "image/png": "[encoded data removed]"
          },
          "metadata": {}
        }
      ]
    },
    {
      "cell_type": "markdown",
      "source": [
        "##Análisis Dirigido"
      ],
      "metadata": {
        "id": "ZdXxvYeFF7gB"
      }
    },
    {
      "cell_type": "code",
      "source": [
        "df[\"Churn\"] = df[\"Churn\"].map({\"Yes\":1, \"No\":0, \"Se fue\":1, \"No se fue\":0})\n"
      ],
      "metadata": {
        "id": "CFx_NxV0GG8U"
      },
      "execution_count": 87,
      "outputs": []
    },
    {
      "cell_type": "code",
      "source": [
        "import matplotlib.pyplot as plt\n",
        "import seaborn as sns\n",
        "\n",
        "plt.figure(figsize=(8,5))\n",
        "sns.boxplot(x=\"Churn\", y=\"customer.tenure\", data=df)\n",
        "plt.title(\"Tiempo de contrato vs Cancelación\")\n",
        "plt.xlabel(\"Churn (0 = No canceló, 1 = Canceló)\")\n",
        "plt.ylabel(\"Meses de contrato (tenure)\")\n",
        "plt.show()\n"
      ],
      "metadata": {
        "id": "jrsqOTx5GKHq",
        "outputId": "d922bb39-fb99-42ca-cfd2-b4e2b9b5b624",
        "colab": {
          "base_uri": "https://localhost:8080/",
          "height": 835
        }
      },
      "execution_count": 88,
      "outputs": [
        {
          "output_type": "error",
          "ename": "ValueError",
          "evalue": "List of boxplot statistics and `positions` values must have same the length",
          "traceback": [
            "\u001b[0;31m---------------------------------------------------------------------------\u001b[0m",
            "\u001b[0;31mValueError\u001b[0m                                Traceback (most recent call last)",
            "\u001b[0;32m/tmp/ipython-input-4015943063.py\u001b[0m in \u001b[0;36m<cell line: 0>\u001b[0;34m()\u001b[0m\n\u001b[1;32m      3\u001b[0m \u001b[0;34m\u001b[0m\u001b[0m\n\u001b[1;32m      4\u001b[0m \u001b[0mplt\u001b[0m\u001b[0;34m.\u001b[0m\u001b[0mfigure\u001b[0m\u001b[0;34m(\u001b[0m\u001b[0mfigsize\u001b[0m\u001b[0;34m=\u001b[0m\u001b[0;34m(\u001b[0m\u001b[0;36m8\u001b[0m\u001b[0;34m,\u001b[0m\u001b[0;36m5\u001b[0m\u001b[0;34m)\u001b[0m\u001b[0;34m)\u001b[0m\u001b[0;34m\u001b[0m\u001b[0;34m\u001b[0m\u001b[0m\n\u001b[0;32m----> 5\u001b[0;31m \u001b[0msns\u001b[0m\u001b[0;34m.\u001b[0m\u001b[0mboxplot\u001b[0m\u001b[0;34m(\u001b[0m\u001b[0mx\u001b[0m\u001b[0;34m=\u001b[0m\u001b[0;34m\"Churn\"\u001b[0m\u001b[0;34m,\u001b[0m \u001b[0my\u001b[0m\u001b[0;34m=\u001b[0m\u001b[0;34m\"customer.tenure\"\u001b[0m\u001b[0;34m,\u001b[0m \u001b[0mdata\u001b[0m\u001b[0;34m=\u001b[0m\u001b[0mdf\u001b[0m\u001b[0;34m)\u001b[0m\u001b[0;34m\u001b[0m\u001b[0;34m\u001b[0m\u001b[0m\n\u001b[0m\u001b[1;32m      6\u001b[0m \u001b[0mplt\u001b[0m\u001b[0;34m.\u001b[0m\u001b[0mtitle\u001b[0m\u001b[0;34m(\u001b[0m\u001b[0;34m\"Tiempo de contrato vs Cancelación\"\u001b[0m\u001b[0;34m)\u001b[0m\u001b[0;34m\u001b[0m\u001b[0;34m\u001b[0m\u001b[0m\n\u001b[1;32m      7\u001b[0m \u001b[0mplt\u001b[0m\u001b[0;34m.\u001b[0m\u001b[0mxlabel\u001b[0m\u001b[0;34m(\u001b[0m\u001b[0;34m\"Churn (0 = No canceló, 1 = Canceló)\"\u001b[0m\u001b[0;34m)\u001b[0m\u001b[0;34m\u001b[0m\u001b[0;34m\u001b[0m\u001b[0m\n",
            "\u001b[0;32m/usr/local/lib/python3.11/dist-packages/seaborn/categorical.py\u001b[0m in \u001b[0;36mboxplot\u001b[0;34m(data, x, y, hue, order, hue_order, orient, color, palette, saturation, fill, dodge, width, gap, whis, linecolor, linewidth, fliersize, hue_norm, native_scale, log_scale, formatter, legend, ax, **kwargs)\u001b[0m\n\u001b[1;32m   1632\u001b[0m     \u001b[0mlinecolor\u001b[0m \u001b[0;34m=\u001b[0m \u001b[0mp\u001b[0m\u001b[0;34m.\u001b[0m\u001b[0m_complement_color\u001b[0m\u001b[0;34m(\u001b[0m\u001b[0mlinecolor\u001b[0m\u001b[0;34m,\u001b[0m \u001b[0mcolor\u001b[0m\u001b[0;34m,\u001b[0m \u001b[0mp\u001b[0m\u001b[0;34m.\u001b[0m\u001b[0m_hue_map\u001b[0m\u001b[0;34m)\u001b[0m\u001b[0;34m\u001b[0m\u001b[0;34m\u001b[0m\u001b[0m\n\u001b[1;32m   1633\u001b[0m \u001b[0;34m\u001b[0m\u001b[0m\n\u001b[0;32m-> 1634\u001b[0;31m     p.plot_boxes(\n\u001b[0m\u001b[1;32m   1635\u001b[0m         \u001b[0mwidth\u001b[0m\u001b[0;34m=\u001b[0m\u001b[0mwidth\u001b[0m\u001b[0;34m,\u001b[0m\u001b[0;34m\u001b[0m\u001b[0;34m\u001b[0m\u001b[0m\n\u001b[1;32m   1636\u001b[0m         \u001b[0mdodge\u001b[0m\u001b[0;34m=\u001b[0m\u001b[0mdodge\u001b[0m\u001b[0;34m,\u001b[0m\u001b[0;34m\u001b[0m\u001b[0;34m\u001b[0m\u001b[0m\n",
            "\u001b[0;32m/usr/local/lib/python3.11/dist-packages/seaborn/categorical.py\u001b[0m in \u001b[0;36mplot_boxes\u001b[0;34m(self, width, dodge, gap, fill, whis, color, linecolor, linewidth, fliersize, plot_kws)\u001b[0m\n\u001b[1;32m    698\u001b[0m             )\n\u001b[1;32m    699\u001b[0m             \u001b[0mboxplot_kws\u001b[0m \u001b[0;34m=\u001b[0m \u001b[0;34m{\u001b[0m\u001b[0;34m**\u001b[0m\u001b[0mdefault_kws\u001b[0m\u001b[0;34m,\u001b[0m \u001b[0;34m**\u001b[0m\u001b[0mplot_kws\u001b[0m\u001b[0;34m}\u001b[0m\u001b[0;34m\u001b[0m\u001b[0;34m\u001b[0m\u001b[0m\n\u001b[0;32m--> 700\u001b[0;31m             \u001b[0martists\u001b[0m \u001b[0;34m=\u001b[0m \u001b[0max\u001b[0m\u001b[0;34m.\u001b[0m\u001b[0mbxp\u001b[0m\u001b[0;34m(\u001b[0m\u001b[0;34m**\u001b[0m\u001b[0mboxplot_kws\u001b[0m\u001b[0;34m)\u001b[0m\u001b[0;34m\u001b[0m\u001b[0;34m\u001b[0m\u001b[0m\n\u001b[0m\u001b[1;32m    701\u001b[0m \u001b[0;34m\u001b[0m\u001b[0m\n\u001b[1;32m    702\u001b[0m             \u001b[0;31m# Reset artist widths after adding so everything stays positive\u001b[0m\u001b[0;34m\u001b[0m\u001b[0;34m\u001b[0m\u001b[0m\n",
            "\u001b[0;32m/usr/local/lib/python3.11/dist-packages/matplotlib/_api/deprecation.py\u001b[0m in \u001b[0;36mwrapper\u001b[0;34m(*args, **kwargs)\u001b[0m\n\u001b[1;32m    451\u001b[0m                 \u001b[0;34m\"parameter will become keyword-only in %(removal)s.\"\u001b[0m\u001b[0;34m,\u001b[0m\u001b[0;34m\u001b[0m\u001b[0;34m\u001b[0m\u001b[0m\n\u001b[1;32m    452\u001b[0m                 name=name, obj_type=f\"parameter of {func.__name__}()\")\n\u001b[0;32m--> 453\u001b[0;31m         \u001b[0;32mreturn\u001b[0m \u001b[0mfunc\u001b[0m\u001b[0;34m(\u001b[0m\u001b[0;34m*\u001b[0m\u001b[0margs\u001b[0m\u001b[0;34m,\u001b[0m \u001b[0;34m**\u001b[0m\u001b[0mkwargs\u001b[0m\u001b[0;34m)\u001b[0m\u001b[0;34m\u001b[0m\u001b[0;34m\u001b[0m\u001b[0m\n\u001b[0m\u001b[1;32m    454\u001b[0m \u001b[0;34m\u001b[0m\u001b[0m\n\u001b[1;32m    455\u001b[0m     \u001b[0;31m# Don't modify *func*'s signature, as boilerplate.py needs it.\u001b[0m\u001b[0;34m\u001b[0m\u001b[0;34m\u001b[0m\u001b[0m\n",
            "\u001b[0;32m/usr/local/lib/python3.11/dist-packages/matplotlib/axes/_axes.py\u001b[0m in \u001b[0;36mbxp\u001b[0;34m(self, bxpstats, positions, widths, vert, orientation, patch_artist, shownotches, showmeans, showcaps, showbox, showfliers, boxprops, whiskerprops, flierprops, medianprops, capprops, meanprops, meanline, manage_ticks, zorder, capwidths, label)\u001b[0m\n\u001b[1;32m   4455\u001b[0m             \u001b[0mpositions\u001b[0m \u001b[0;34m=\u001b[0m \u001b[0mlist\u001b[0m\u001b[0;34m(\u001b[0m\u001b[0mrange\u001b[0m\u001b[0;34m(\u001b[0m\u001b[0;36m1\u001b[0m\u001b[0;34m,\u001b[0m \u001b[0mN\u001b[0m \u001b[0;34m+\u001b[0m \u001b[0;36m1\u001b[0m\u001b[0;34m)\u001b[0m\u001b[0;34m)\u001b[0m\u001b[0;34m\u001b[0m\u001b[0;34m\u001b[0m\u001b[0m\n\u001b[1;32m   4456\u001b[0m         \u001b[0;32melif\u001b[0m \u001b[0mlen\u001b[0m\u001b[0;34m(\u001b[0m\u001b[0mpositions\u001b[0m\u001b[0;34m)\u001b[0m \u001b[0;34m!=\u001b[0m \u001b[0mN\u001b[0m\u001b[0;34m:\u001b[0m\u001b[0;34m\u001b[0m\u001b[0;34m\u001b[0m\u001b[0m\n\u001b[0;32m-> 4457\u001b[0;31m             \u001b[0;32mraise\u001b[0m \u001b[0mValueError\u001b[0m\u001b[0;34m(\u001b[0m\u001b[0mdatashape_message\u001b[0m\u001b[0;34m.\u001b[0m\u001b[0mformat\u001b[0m\u001b[0;34m(\u001b[0m\u001b[0;34m\"positions\"\u001b[0m\u001b[0;34m)\u001b[0m\u001b[0;34m)\u001b[0m\u001b[0;34m\u001b[0m\u001b[0;34m\u001b[0m\u001b[0m\n\u001b[0m\u001b[1;32m   4458\u001b[0m \u001b[0;34m\u001b[0m\u001b[0m\n\u001b[1;32m   4459\u001b[0m         \u001b[0mpositions\u001b[0m \u001b[0;34m=\u001b[0m \u001b[0mnp\u001b[0m\u001b[0;34m.\u001b[0m\u001b[0marray\u001b[0m\u001b[0;34m(\u001b[0m\u001b[0mpositions\u001b[0m\u001b[0;34m)\u001b[0m\u001b[0;34m\u001b[0m\u001b[0;34m\u001b[0m\u001b[0m\n",
            "\u001b[0;31mValueError\u001b[0m: List of boxplot statistics and `positions` values must have same the length"
          ]
        },
        {
          "output_type": "display_data",
          "data": {
            "text/plain": [
              "<Figure size 800x500 with 1 Axes>"
            ],
            "image/png": "[encoded data removed]"
          },
          "metadata": {}
        }
      ]
    },
    {
      "cell_type": "code",
      "source": [
        "# Contar cuántos valores vacíos hay en cada columna\n",
        "print(df.isna().sum())\n"
      ],
      "metadata": {
        "id": "g-nRgmomGN2K",
        "outputId": "099be036-946b-4a42-9637-2f3f004c59ff",
        "colab": {
          "base_uri": "https://localhost:8080/"
        }
      },
      "execution_count": 89,
      "outputs": [
        {
          "output_type": "stream",
          "name": "stdout",
          "text": [
            "Churn                     7267\n",
            "customer.SeniorCitizen       0\n",
            "customer.tenure              0\n",
            "Factura_Electronica          0\n",
            "Cargo_Mensual                0\n",
            "                          ... \n",
            "Cargo_Total_997.75           0\n",
            "Cargo_Total_998.1            0\n",
            "Cargo_Total_999.45           0\n",
            "Cargo_Total_999.8            0\n",
            "Cargo_Total_999.9            0\n",
            "Length: 6560, dtype: int64\n"
          ]
        }
      ]
    },
    {
      "cell_type": "code",
      "source": [
        "df[\"Churn\"] = df[\"Churn\"].fillna(\"No\")\n"
      ],
      "metadata": {
        "id": "ZMWIIL3EGdol"
      },
      "execution_count": 90,
      "outputs": []
    },
    {
      "cell_type": "code",
      "source": [
        "df[\"Churn\"] = df[\"Churn\"].map({\"Yes\":1, \"No\":0, \"Se fue\":1, \"No se fue\":0})\n"
      ],
      "metadata": {
        "id": "dqz18eagGrlG"
      },
      "execution_count": 91,
      "outputs": []
    },
    {
      "cell_type": "code",
      "source": [
        "sns.boxplot(x=\"Churn\", y=\"customer.tenure\", data=df)\n"
      ],
      "metadata": {
        "id": "d2USd6LgGtbV",
        "outputId": "f643d68c-4457-44f3-8353-e1ad2c0a0f88",
        "colab": {
          "base_uri": "https://localhost:8080/",
          "height": 467
        }
      },
      "execution_count": 92,
      "outputs": [
        {
          "output_type": "execute_result",
          "data": {
            "text/plain": [
              "<Axes: xlabel='Churn', ylabel='customer.tenure'>"
            ]
          },
          "metadata": {},
          "execution_count": 92
        },
        {
          "output_type": "display_data",
          "data": {
            "text/plain": [
              "<Figure size 640x480 with 1 Axes>"
            ],
            "image/png": "[encoded data removed]"
          },
          "metadata": {}
        }
      ]
    },
    {
      "cell_type": "markdown",
      "source": [
        "##**Modelo Predictivo**"
      ],
      "metadata": {
        "id": "NNyQDiEUG58f"
      }
    },
    {
      "cell_type": "markdown",
      "source": [
        "##Separar Datos"
      ],
      "metadata": {
        "id": "N86FypjRHAXo"
      }
    },
    {
      "cell_type": "code",
      "source": [
        "# Features (todas menos la variable target)\n",
        "X = df.drop(\"Churn\", axis=1)\n",
        "\n",
        "# Target (lo que queremos predecir)\n",
        "y = df[\"Churn\"]\n"
      ],
      "metadata": {
        "id": "AGvMR9HMG86z"
      },
      "execution_count": 93,
      "outputs": []
    },
    {
      "cell_type": "code",
      "source": [
        "from sklearn.model_selection import train_test_split\n",
        "\n",
        "# Dividir el dataset\n",
        "X_train, X_test, y_train, y_test = train_test_split(\n",
        "    X, y, test_size=0.3, random_state=42, stratify=y\n",
        ")\n",
        "\n",
        "print(\"Tamaño del dataset total:\", X.shape)\n",
        "print(\"Tamaño de entrenamiento:\", X_train.shape)\n",
        "print(\"Tamaño de prueba:\", X_test.shape)\n"
      ],
      "metadata": {
        "id": "ilhzQTnPHOZQ",
        "outputId": "58a9e74d-3cbe-45b4-ba4d-5e78fd7b4658",
        "colab": {
          "base_uri": "https://localhost:8080/"
        }
      },
      "execution_count": 94,
      "outputs": [
        {
          "output_type": "stream",
          "name": "stdout",
          "text": [
            "Tamaño del dataset total: (7267, 6559)\n",
            "Tamaño de entrenamiento: (5086, 6559)\n",
            "Tamaño de prueba: (2181, 6559)\n"
          ]
        }
      ]
    },
    {
      "cell_type": "markdown",
      "source": [
        "##Creación de Modelos"
      ],
      "metadata": {
        "id": "MREZ7iVqHX3p"
      }
    },
    {
      "cell_type": "code",
      "source": [
        "#Normalizar datos\n",
        "from sklearn.preprocessing import StandardScaler\n",
        "\n",
        "# Hacer copia para no modificar X\n",
        "X_scaled = X.copy()\n",
        "\n",
        "# Normalizar solo las variables numéricas\n",
        "num_cols = X.select_dtypes(include=[\"int64\",\"float64\"]).columns\n",
        "scaler = StandardScaler()\n",
        "X_scaled[num_cols] = scaler.fit_transform(X_scaled[num_cols])\n"
      ],
      "metadata": {
        "id": "QE3PtKkXHYri"
      },
      "execution_count": 96,
      "outputs": []
    },
    {
      "cell_type": "code",
      "source": [
        "# Usar Regresion Logistica\n",
        "from sklearn.linear_model import LogisticRegression\n",
        "from sklearn.metrics import accuracy_score, classification_report\n",
        "\n",
        "# Usar datos normalizados\n",
        "X_train_scaled, X_test_scaled, y_train, y_test = train_test_split(\n",
        "    X_scaled, y, test_size=0.3, random_state=42, stratify=y\n",
        ")\n",
        "\n",
        "# Entrenamiento\n",
        "log_model = LogisticRegression(max_iter=1000)\n",
        "log_model.fit(X_train_scaled, y_train)\n",
        "\n",
        "# Predicciones\n",
        "y_pred_log = log_model.predict(X_test_scaled)\n",
        "\n",
        "print(\"📊 Regresión Logística\")\n",
        "print(\"Accuracy:\", accuracy_score(y_test, y_pred_log))\n",
        "print(classification_report(y_test, y_pred_log))\n"
      ],
      "metadata": {
        "id": "fBXvvnrmHqBZ",
        "outputId": "1daba6d1-3421-48b7-df4d-668dab909f49",
        "colab": {
          "base_uri": "https://localhost:8080/",
          "height": 371
        }
      },
      "execution_count": 97,
      "outputs": [
        {
          "output_type": "error",
          "ename": "ValueError",
          "evalue": "This solver needs samples of at least 2 classes in the data, but the data contains only one class: np.int64(0)",
          "traceback": [
            "\u001b[0;31m---------------------------------------------------------------------------\u001b[0m",
            "\u001b[0;31mValueError\u001b[0m                                Traceback (most recent call last)",
            "\u001b[0;32m/tmp/ipython-input-3753858331.py\u001b[0m in \u001b[0;36m<cell line: 0>\u001b[0;34m()\u001b[0m\n\u001b[1;32m     10\u001b[0m \u001b[0;31m# Entrenamiento\u001b[0m\u001b[0;34m\u001b[0m\u001b[0;34m\u001b[0m\u001b[0m\n\u001b[1;32m     11\u001b[0m \u001b[0mlog_model\u001b[0m \u001b[0;34m=\u001b[0m \u001b[0mLogisticRegression\u001b[0m\u001b[0;34m(\u001b[0m\u001b[0mmax_iter\u001b[0m\u001b[0;34m=\u001b[0m\u001b[0;36m1000\u001b[0m\u001b[0;34m)\u001b[0m\u001b[0;34m\u001b[0m\u001b[0;34m\u001b[0m\u001b[0m\n\u001b[0;32m---> 12\u001b[0;31m \u001b[0mlog_model\u001b[0m\u001b[0;34m.\u001b[0m\u001b[0mfit\u001b[0m\u001b[0;34m(\u001b[0m\u001b[0mX_train_scaled\u001b[0m\u001b[0;34m,\u001b[0m \u001b[0my_train\u001b[0m\u001b[0;34m)\u001b[0m\u001b[0;34m\u001b[0m\u001b[0;34m\u001b[0m\u001b[0m\n\u001b[0m\u001b[1;32m     13\u001b[0m \u001b[0;34m\u001b[0m\u001b[0m\n\u001b[1;32m     14\u001b[0m \u001b[0;31m# Predicciones\u001b[0m\u001b[0;34m\u001b[0m\u001b[0;34m\u001b[0m\u001b[0m\n",
            "\u001b[0;32m/usr/local/lib/python3.11/dist-packages/sklearn/base.py\u001b[0m in \u001b[0;36mwrapper\u001b[0;34m(estimator, *args, **kwargs)\u001b[0m\n\u001b[1;32m   1387\u001b[0m                 )\n\u001b[1;32m   1388\u001b[0m             ):\n\u001b[0;32m-> 1389\u001b[0;31m                 \u001b[0;32mreturn\u001b[0m \u001b[0mfit_method\u001b[0m\u001b[0;34m(\u001b[0m\u001b[0mestimator\u001b[0m\u001b[0;34m,\u001b[0m \u001b[0;34m*\u001b[0m\u001b[0margs\u001b[0m\u001b[0;34m,\u001b[0m \u001b[0;34m**\u001b[0m\u001b[0mkwargs\u001b[0m\u001b[0;34m)\u001b[0m\u001b[0;34m\u001b[0m\u001b[0;34m\u001b[0m\u001b[0m\n\u001b[0m\u001b[1;32m   1390\u001b[0m \u001b[0;34m\u001b[0m\u001b[0m\n\u001b[1;32m   1391\u001b[0m         \u001b[0;32mreturn\u001b[0m \u001b[0mwrapper\u001b[0m\u001b[0;34m\u001b[0m\u001b[0;34m\u001b[0m\u001b[0m\n",
            "\u001b[0;32m/usr/local/lib/python3.11/dist-packages/sklearn/linear_model/_logistic.py\u001b[0m in \u001b[0;36mfit\u001b[0;34m(self, X, y, sample_weight)\u001b[0m\n\u001b[1;32m   1299\u001b[0m         \u001b[0mclasses_\u001b[0m \u001b[0;34m=\u001b[0m \u001b[0mself\u001b[0m\u001b[0;34m.\u001b[0m\u001b[0mclasses_\u001b[0m\u001b[0;34m\u001b[0m\u001b[0;34m\u001b[0m\u001b[0m\n\u001b[1;32m   1300\u001b[0m         \u001b[0;32mif\u001b[0m \u001b[0mn_classes\u001b[0m \u001b[0;34m<\u001b[0m \u001b[0;36m2\u001b[0m\u001b[0;34m:\u001b[0m\u001b[0;34m\u001b[0m\u001b[0;34m\u001b[0m\u001b[0m\n\u001b[0;32m-> 1301\u001b[0;31m             raise ValueError(\n\u001b[0m\u001b[1;32m   1302\u001b[0m                 \u001b[0;34m\"This solver needs samples of at least 2 classes\"\u001b[0m\u001b[0;34m\u001b[0m\u001b[0;34m\u001b[0m\u001b[0m\n\u001b[1;32m   1303\u001b[0m                 \u001b[0;34m\" in the data, but the data contains only one\"\u001b[0m\u001b[0;34m\u001b[0m\u001b[0;34m\u001b[0m\u001b[0m\n",
            "\u001b[0;31mValueError\u001b[0m: This solver needs samples of at least 2 classes in the data, but the data contains only one class: np.int64(0)"
          ]
        }
      ]
    },
    {
      "cell_type": "code",
      "source": [
        "print(\"Distribución en todo el dataset:\")\n",
        "print(y.value_counts())\n"
      ],
      "metadata": {
        "id": "enQbJs2BH0tt",
        "outputId": "9940ef15-e86e-48f3-cc70-a427e9d661b9",
        "colab": {
          "base_uri": "https://localhost:8080/"
        }
      },
      "execution_count": 98,
      "outputs": [
        {
          "output_type": "stream",
          "name": "stdout",
          "text": [
            "Distribución en todo el dataset:\n",
            "Churn\n",
            "0    7267\n",
            "Name: count, dtype: int64\n"
          ]
        }
      ]
    },
    {
      "cell_type": "code",
      "source": [
        "print(\"Distribución en entrenamiento:\")\n",
        "print(y_train.value_counts())\n",
        "\n",
        "print(\"Distribución en prueba:\")\n",
        "print(y_test.value_counts())\n"
      ],
      "metadata": {
        "id": "QfZ3rObtID7v",
        "outputId": "f8000d5e-5bf8-40fc-df6d-9f24c7205133",
        "colab": {
          "base_uri": "https://localhost:8080/"
        }
      },
      "execution_count": 99,
      "outputs": [
        {
          "output_type": "stream",
          "name": "stdout",
          "text": [
            "Distribución en entrenamiento:\n",
            "Churn\n",
            "0    5086\n",
            "Name: count, dtype: int64\n",
            "Distribución en prueba:\n",
            "Churn\n",
            "0    2181\n",
            "Name: count, dtype: int64\n"
          ]
        }
      ]
    },
    {
      "cell_type": "code",
      "source": [
        "print(df[\"Churn\"].unique()[:20])\n",
        "print(y.value_counts(dropna=False))\n"
      ],
      "metadata": {
        "id": "wsPARcmEIHUN",
        "outputId": "641572d6-6759-477f-e64c-643829188238",
        "colab": {
          "base_uri": "https://localhost:8080/"
        }
      },
      "execution_count": 100,
      "outputs": [
        {
          "output_type": "stream",
          "name": "stdout",
          "text": [
            "[0]\n",
            "Churn\n",
            "0    7267\n",
            "Name: count, dtype: int64\n"
          ]
        }
      ]
    },
    {
      "cell_type": "code",
      "source": [
        "print(df[\"Churn\"].unique())\n"
      ],
      "metadata": {
        "id": "pilTDNX8JMhV",
        "outputId": "1bab404e-3fa3-4859-dadd-31694b7ecaa6",
        "colab": {
          "base_uri": "https://localhost:8080/"
        }
      },
      "execution_count": 101,
      "outputs": [
        {
          "output_type": "stream",
          "name": "stdout",
          "text": [
            "[0]\n"
          ]
        }
      ]
    },
    {
      "cell_type": "code",
      "source": [
        "# ¿Hay columnas relacionadas con churn creadas por get_dummies?\n",
        "cands = [c for c in df.columns if \"churn\" in c.lower()]\n",
        "print(cands)\n"
      ],
      "metadata": {
        "id": "07x3hD2QJXMF",
        "outputId": "d7ea0a79-8f27-4444-ed49-233244fbb6c3",
        "colab": {
          "base_uri": "https://localhost:8080/"
        }
      },
      "execution_count": 102,
      "outputs": [
        {
          "output_type": "stream",
          "name": "stdout",
          "text": [
            "['Churn']\n"
          ]
        }
      ]
    },
    {
      "cell_type": "code",
      "source": [
        "# Revisamos valores únicos originales\n",
        "print(df[\"Churn\"].unique()[:20])\n",
        "\n",
        "# Intentamos mapear a binario\n",
        "df[\"Churn\"] = df[\"Churn\"].astype(str).str.strip()  # limpiamos espacios\n",
        "\n",
        "df[\"Churn_bin\"] = df[\"Churn\"].replace({\n",
        "    \"Yes\": 1, \"No\": 0,\n",
        "    \"Se fue\": 1, \"No se fue\": 0,\n",
        "    \"True\": 1, \"False\": 0,\n",
        "    \"1\": 1, \"0\": 0\n",
        "})\n",
        "\n",
        "print(\"Distribución después del mapeo:\")\n",
        "print(df[\"Churn_bin\"].value_counts(dropna=False))\n"
      ],
      "metadata": {
        "id": "3RA6vT6FLQFl",
        "outputId": "524f3846-08ee-482f-d2a7-c790d3c10c06",
        "colab": {
          "base_uri": "https://localhost:8080/"
        }
      },
      "execution_count": 103,
      "outputs": [
        {
          "output_type": "stream",
          "name": "stdout",
          "text": [
            "[0]\n",
            "Distribución después del mapeo:\n",
            "Churn_bin\n",
            "0    7267\n",
            "Name: count, dtype: int64\n"
          ]
        },
        {
          "output_type": "stream",
          "name": "stderr",
          "text": [
            "/tmp/ipython-input-3117147192.py:7: FutureWarning: Downcasting behavior in `replace` is deprecated and will be removed in a future version. To retain the old behavior, explicitly call `result.infer_objects(copy=False)`. To opt-in to the future behavior, set `pd.set_option('future.no_silent_downcasting', True)`\n",
            "  df[\"Churn_bin\"] = df[\"Churn\"].replace({\n"
          ]
        }
      ]
    },
    {
      "cell_type": "code",
      "source": [
        "y = df[\"Churn_bin\"].astype(int)\n"
      ],
      "metadata": {
        "id": "ClbaDHw0LP--"
      },
      "execution_count": 104,
      "outputs": []
    },
    {
      "cell_type": "code",
      "source": [
        "import pandas as pd\n",
        "\n",
        "# Cargar directamente desde GitHub\n",
        "url = \"https://raw.githubusercontent.com/MadridVP/Challenge_Telecom-X-Parte-2-Predicci-n-de-Cancelaci-n-Churn-/main/TelecomX_Data.json\"\n",
        "\n",
        "df = pd.read_json(url)\n"
      ],
      "metadata": {
        "id": "rsBypvrJMk2L",
        "outputId": "8434bdc4-0cec-4372-bc16-21b0fd37990d",
        "colab": {
          "base_uri": "https://localhost:8080/",
          "height": 334
        }
      },
      "execution_count": 108,
      "outputs": [
        {
          "output_type": "error",
          "ename": "HTTPError",
          "evalue": "HTTP Error 404: Not Found",
          "traceback": [
            "\u001b[0;31m---------------------------------------------------------------------------\u001b[0m",
            "\u001b[0;31mHTTPError\u001b[0m                                 Traceback (most recent call last)",
            "\u001b[0;32m/tmp/ipython-input-3408268866.py\u001b[0m in \u001b[0;36m<cell line: 0>\u001b[0;34m()\u001b[0m\n\u001b[1;32m      4\u001b[0m \u001b[0murl\u001b[0m \u001b[0;34m=\u001b[0m \u001b[0;34m\"https://raw.githubusercontent.com/MadridVP/Challenge_Telecom-X-Parte-2-Predicci-n-de-Cancelaci-n-Churn-/main/TelecomX_Data.json\"\u001b[0m\u001b[0;34m\u001b[0m\u001b[0;34m\u001b[0m\u001b[0m\n\u001b[1;32m      5\u001b[0m \u001b[0;34m\u001b[0m\u001b[0m\n\u001b[0;32m----> 6\u001b[0;31m \u001b[0mdf\u001b[0m \u001b[0;34m=\u001b[0m \u001b[0mpd\u001b[0m\u001b[0;34m.\u001b[0m\u001b[0mread_json\u001b[0m\u001b[0;34m(\u001b[0m\u001b[0murl\u001b[0m\u001b[0;34m)\u001b[0m\u001b[0;34m\u001b[0m\u001b[0;34m\u001b[0m\u001b[0m\n\u001b[0m",
            "\u001b[0;32m/usr/local/lib/python3.11/dist-packages/pandas/io/json/_json.py\u001b[0m in \u001b[0;36mread_json\u001b[0;34m(path_or_buf, orient, typ, dtype, convert_axes, convert_dates, keep_default_dates, precise_float, date_unit, encoding, encoding_errors, lines, chunksize, compression, nrows, storage_options, dtype_backend, engine)\u001b[0m\n\u001b[1;32m    789\u001b[0m         \u001b[0mconvert_axes\u001b[0m \u001b[0;34m=\u001b[0m \u001b[0;32mTrue\u001b[0m\u001b[0;34m\u001b[0m\u001b[0;34m\u001b[0m\u001b[0m\n\u001b[1;32m    790\u001b[0m \u001b[0;34m\u001b[0m\u001b[0m\n\u001b[0;32m--> 791\u001b[0;31m     json_reader = JsonReader(\n\u001b[0m\u001b[1;32m    792\u001b[0m         \u001b[0mpath_or_buf\u001b[0m\u001b[0;34m,\u001b[0m\u001b[0;34m\u001b[0m\u001b[0;34m\u001b[0m\u001b[0m\n\u001b[1;32m    793\u001b[0m         \u001b[0morient\u001b[0m\u001b[0;34m=\u001b[0m\u001b[0morient\u001b[0m\u001b[0;34m,\u001b[0m\u001b[0;34m\u001b[0m\u001b[0;34m\u001b[0m\u001b[0m\n",
            "\u001b[0;32m/usr/local/lib/python3.11/dist-packages/pandas/io/json/_json.py\u001b[0m in \u001b[0;36m__init__\u001b[0;34m(self, filepath_or_buffer, orient, typ, dtype, convert_axes, convert_dates, keep_default_dates, precise_float, date_unit, encoding, lines, chunksize, compression, nrows, storage_options, encoding_errors, dtype_backend, engine)\u001b[0m\n\u001b[1;32m    902\u001b[0m             \u001b[0mself\u001b[0m\u001b[0;34m.\u001b[0m\u001b[0mdata\u001b[0m \u001b[0;34m=\u001b[0m \u001b[0mfilepath_or_buffer\u001b[0m\u001b[0;34m\u001b[0m\u001b[0;34m\u001b[0m\u001b[0m\n\u001b[1;32m    903\u001b[0m         \u001b[0;32melif\u001b[0m \u001b[0mself\u001b[0m\u001b[0;34m.\u001b[0m\u001b[0mengine\u001b[0m \u001b[0;34m==\u001b[0m \u001b[0;34m\"ujson\"\u001b[0m\u001b[0;34m:\u001b[0m\u001b[0;34m\u001b[0m\u001b[0;34m\u001b[0m\u001b[0m\n\u001b[0;32m--> 904\u001b[0;31m             \u001b[0mdata\u001b[0m \u001b[0;34m=\u001b[0m \u001b[0mself\u001b[0m\u001b[0;34m.\u001b[0m\u001b[0m_get_data_from_filepath\u001b[0m\u001b[0;34m(\u001b[0m\u001b[0mfilepath_or_buffer\u001b[0m\u001b[0;34m)\u001b[0m\u001b[0;34m\u001b[0m\u001b[0;34m\u001b[0m\u001b[0m\n\u001b[0m\u001b[1;32m    905\u001b[0m             \u001b[0mself\u001b[0m\u001b[0;34m.\u001b[0m\u001b[0mdata\u001b[0m \u001b[0;34m=\u001b[0m \u001b[0mself\u001b[0m\u001b[0;34m.\u001b[0m\u001b[0m_preprocess_data\u001b[0m\u001b[0;34m(\u001b[0m\u001b[0mdata\u001b[0m\u001b[0;34m)\u001b[0m\u001b[0;34m\u001b[0m\u001b[0;34m\u001b[0m\u001b[0m\n\u001b[1;32m    906\u001b[0m \u001b[0;34m\u001b[0m\u001b[0m\n",
            "\u001b[0;32m/usr/local/lib/python3.11/dist-packages/pandas/io/json/_json.py\u001b[0m in \u001b[0;36m_get_data_from_filepath\u001b[0;34m(self, filepath_or_buffer)\u001b[0m\n\u001b[1;32m    942\u001b[0m             \u001b[0;32mor\u001b[0m \u001b[0mfile_exists\u001b[0m\u001b[0;34m(\u001b[0m\u001b[0mfilepath_or_buffer\u001b[0m\u001b[0;34m)\u001b[0m\u001b[0;34m\u001b[0m\u001b[0;34m\u001b[0m\u001b[0m\n\u001b[1;32m    943\u001b[0m         ):\n\u001b[0;32m--> 944\u001b[0;31m             self.handles = get_handle(\n\u001b[0m\u001b[1;32m    945\u001b[0m                 \u001b[0mfilepath_or_buffer\u001b[0m\u001b[0;34m,\u001b[0m\u001b[0;34m\u001b[0m\u001b[0;34m\u001b[0m\u001b[0m\n\u001b[1;32m    946\u001b[0m                 \u001b[0;34m\"r\"\u001b[0m\u001b[0;34m,\u001b[0m\u001b[0;34m\u001b[0m\u001b[0;34m\u001b[0m\u001b[0m\n",
            "\u001b[0;32m/usr/local/lib/python3.11/dist-packages/pandas/io/common.py\u001b[0m in \u001b[0;36mget_handle\u001b[0;34m(path_or_buf, mode, encoding, compression, memory_map, is_text, errors, storage_options)\u001b[0m\n\u001b[1;32m    726\u001b[0m \u001b[0;34m\u001b[0m\u001b[0m\n\u001b[1;32m    727\u001b[0m     \u001b[0;31m# open URLs\u001b[0m\u001b[0;34m\u001b[0m\u001b[0;34m\u001b[0m\u001b[0m\n\u001b[0;32m--> 728\u001b[0;31m     ioargs = _get_filepath_or_buffer(\n\u001b[0m\u001b[1;32m    729\u001b[0m         \u001b[0mpath_or_buf\u001b[0m\u001b[0;34m,\u001b[0m\u001b[0;34m\u001b[0m\u001b[0;34m\u001b[0m\u001b[0m\n\u001b[1;32m    730\u001b[0m         \u001b[0mencoding\u001b[0m\u001b[0;34m=\u001b[0m\u001b[0mencoding\u001b[0m\u001b[0;34m,\u001b[0m\u001b[0;34m\u001b[0m\u001b[0;34m\u001b[0m\u001b[0m\n",
            "\u001b[0;32m/usr/local/lib/python3.11/dist-packages/pandas/io/common.py\u001b[0m in \u001b[0;36m_get_filepath_or_buffer\u001b[0;34m(filepath_or_buffer, encoding, compression, mode, storage_options)\u001b[0m\n\u001b[1;32m    382\u001b[0m         \u001b[0;31m# assuming storage_options is to be interpreted as headers\u001b[0m\u001b[0;34m\u001b[0m\u001b[0;34m\u001b[0m\u001b[0m\n\u001b[1;32m    383\u001b[0m         \u001b[0mreq_info\u001b[0m \u001b[0;34m=\u001b[0m \u001b[0murllib\u001b[0m\u001b[0;34m.\u001b[0m\u001b[0mrequest\u001b[0m\u001b[0;34m.\u001b[0m\u001b[0mRequest\u001b[0m\u001b[0;34m(\u001b[0m\u001b[0mfilepath_or_buffer\u001b[0m\u001b[0;34m,\u001b[0m \u001b[0mheaders\u001b[0m\u001b[0;34m=\u001b[0m\u001b[0mstorage_options\u001b[0m\u001b[0;34m)\u001b[0m\u001b[0;34m\u001b[0m\u001b[0;34m\u001b[0m\u001b[0m\n\u001b[0;32m--> 384\u001b[0;31m         \u001b[0;32mwith\u001b[0m \u001b[0murlopen\u001b[0m\u001b[0;34m(\u001b[0m\u001b[0mreq_info\u001b[0m\u001b[0;34m)\u001b[0m \u001b[0;32mas\u001b[0m \u001b[0mreq\u001b[0m\u001b[0;34m:\u001b[0m\u001b[0;34m\u001b[0m\u001b[0;34m\u001b[0m\u001b[0m\n\u001b[0m\u001b[1;32m    385\u001b[0m             \u001b[0mcontent_encoding\u001b[0m \u001b[0;34m=\u001b[0m \u001b[0mreq\u001b[0m\u001b[0;34m.\u001b[0m\u001b[0mheaders\u001b[0m\u001b[0;34m.\u001b[0m\u001b[0mget\u001b[0m\u001b[0;34m(\u001b[0m\u001b[0;34m\"Content-Encoding\"\u001b[0m\u001b[0;34m,\u001b[0m \u001b[0;32mNone\u001b[0m\u001b[0;34m)\u001b[0m\u001b[0;34m\u001b[0m\u001b[0;34m\u001b[0m\u001b[0m\n\u001b[1;32m    386\u001b[0m             \u001b[0;32mif\u001b[0m \u001b[0mcontent_encoding\u001b[0m \u001b[0;34m==\u001b[0m \u001b[0;34m\"gzip\"\u001b[0m\u001b[0;34m:\u001b[0m\u001b[0;34m\u001b[0m\u001b[0;34m\u001b[0m\u001b[0m\n",
            "\u001b[0;32m/usr/local/lib/python3.11/dist-packages/pandas/io/common.py\u001b[0m in \u001b[0;36murlopen\u001b[0;34m(*args, **kwargs)\u001b[0m\n\u001b[1;32m    287\u001b[0m     \u001b[0;32mimport\u001b[0m \u001b[0murllib\u001b[0m\u001b[0;34m.\u001b[0m\u001b[0mrequest\u001b[0m\u001b[0;34m\u001b[0m\u001b[0;34m\u001b[0m\u001b[0m\n\u001b[1;32m    288\u001b[0m \u001b[0;34m\u001b[0m\u001b[0m\n\u001b[0;32m--> 289\u001b[0;31m     \u001b[0;32mreturn\u001b[0m \u001b[0murllib\u001b[0m\u001b[0;34m.\u001b[0m\u001b[0mrequest\u001b[0m\u001b[0;34m.\u001b[0m\u001b[0murlopen\u001b[0m\u001b[0;34m(\u001b[0m\u001b[0;34m*\u001b[0m\u001b[0margs\u001b[0m\u001b[0;34m,\u001b[0m \u001b[0;34m**\u001b[0m\u001b[0mkwargs\u001b[0m\u001b[0;34m)\u001b[0m\u001b[0;34m\u001b[0m\u001b[0;34m\u001b[0m\u001b[0m\n\u001b[0m\u001b[1;32m    290\u001b[0m \u001b[0;34m\u001b[0m\u001b[0m\n\u001b[1;32m    291\u001b[0m \u001b[0;34m\u001b[0m\u001b[0m\n",
            "\u001b[0;32m/usr/lib/python3.11/urllib/request.py\u001b[0m in \u001b[0;36murlopen\u001b[0;34m(url, data, timeout, cafile, capath, cadefault, context)\u001b[0m\n\u001b[1;32m    214\u001b[0m     \u001b[0;32melse\u001b[0m\u001b[0;34m:\u001b[0m\u001b[0;34m\u001b[0m\u001b[0;34m\u001b[0m\u001b[0m\n\u001b[1;32m    215\u001b[0m         \u001b[0mopener\u001b[0m \u001b[0;34m=\u001b[0m \u001b[0m_opener\u001b[0m\u001b[0;34m\u001b[0m\u001b[0;34m\u001b[0m\u001b[0m\n\u001b[0;32m--> 216\u001b[0;31m     \u001b[0;32mreturn\u001b[0m \u001b[0mopener\u001b[0m\u001b[0;34m.\u001b[0m\u001b[0mopen\u001b[0m\u001b[0;34m(\u001b[0m\u001b[0murl\u001b[0m\u001b[0;34m,\u001b[0m \u001b[0mdata\u001b[0m\u001b[0;34m,\u001b[0m \u001b[0mtimeout\u001b[0m\u001b[0;34m)\u001b[0m\u001b[0;34m\u001b[0m\u001b[0;34m\u001b[0m\u001b[0m\n\u001b[0m\u001b[1;32m    217\u001b[0m \u001b[0;34m\u001b[0m\u001b[0m\n\u001b[1;32m    218\u001b[0m \u001b[0;32mdef\u001b[0m \u001b[0minstall_opener\u001b[0m\u001b[0;34m(\u001b[0m\u001b[0mopener\u001b[0m\u001b[0;34m)\u001b[0m\u001b[0;34m:\u001b[0m\u001b[0;34m\u001b[0m\u001b[0;34m\u001b[0m\u001b[0m\n",
            "\u001b[0;32m/usr/lib/python3.11/urllib/request.py\u001b[0m in \u001b[0;36mopen\u001b[0;34m(self, fullurl, data, timeout)\u001b[0m\n\u001b[1;32m    523\u001b[0m         \u001b[0;32mfor\u001b[0m \u001b[0mprocessor\u001b[0m \u001b[0;32min\u001b[0m \u001b[0mself\u001b[0m\u001b[0;34m.\u001b[0m\u001b[0mprocess_response\u001b[0m\u001b[0;34m.\u001b[0m\u001b[0mget\u001b[0m\u001b[0;34m(\u001b[0m\u001b[0mprotocol\u001b[0m\u001b[0;34m,\u001b[0m \u001b[0;34m[\u001b[0m\u001b[0;34m]\u001b[0m\u001b[0;34m)\u001b[0m\u001b[0;34m:\u001b[0m\u001b[0;34m\u001b[0m\u001b[0;34m\u001b[0m\u001b[0m\n\u001b[1;32m    524\u001b[0m             \u001b[0mmeth\u001b[0m \u001b[0;34m=\u001b[0m \u001b[0mgetattr\u001b[0m\u001b[0;34m(\u001b[0m\u001b[0mprocessor\u001b[0m\u001b[0;34m,\u001b[0m \u001b[0mmeth_name\u001b[0m\u001b[0;34m)\u001b[0m\u001b[0;34m\u001b[0m\u001b[0;34m\u001b[0m\u001b[0m\n\u001b[0;32m--> 525\u001b[0;31m             \u001b[0mresponse\u001b[0m \u001b[0;34m=\u001b[0m \u001b[0mmeth\u001b[0m\u001b[0;34m(\u001b[0m\u001b[0mreq\u001b[0m\u001b[0;34m,\u001b[0m \u001b[0mresponse\u001b[0m\u001b[0;34m)\u001b[0m\u001b[0;34m\u001b[0m\u001b[0;34m\u001b[0m\u001b[0m\n\u001b[0m\u001b[1;32m    526\u001b[0m \u001b[0;34m\u001b[0m\u001b[0m\n\u001b[1;32m    527\u001b[0m         \u001b[0;32mreturn\u001b[0m \u001b[0mresponse\u001b[0m\u001b[0;34m\u001b[0m\u001b[0;34m\u001b[0m\u001b[0m\n",
            "\u001b[0;32m/usr/lib/python3.11/urllib/request.py\u001b[0m in \u001b[0;36mhttp_response\u001b[0;34m(self, request, response)\u001b[0m\n\u001b[1;32m    632\u001b[0m         \u001b[0;31m# request was successfully received, understood, and accepted.\u001b[0m\u001b[0;34m\u001b[0m\u001b[0;34m\u001b[0m\u001b[0m\n\u001b[1;32m    633\u001b[0m         \u001b[0;32mif\u001b[0m \u001b[0;32mnot\u001b[0m \u001b[0;34m(\u001b[0m\u001b[0;36m200\u001b[0m \u001b[0;34m<=\u001b[0m \u001b[0mcode\u001b[0m \u001b[0;34m<\u001b[0m \u001b[0;36m300\u001b[0m\u001b[0;34m)\u001b[0m\u001b[0;34m:\u001b[0m\u001b[0;34m\u001b[0m\u001b[0;34m\u001b[0m\u001b[0m\n\u001b[0;32m--> 634\u001b[0;31m             response = self.parent.error(\n\u001b[0m\u001b[1;32m    635\u001b[0m                 'http', request, response, code, msg, hdrs)\n\u001b[1;32m    636\u001b[0m \u001b[0;34m\u001b[0m\u001b[0m\n",
            "\u001b[0;32m/usr/lib/python3.11/urllib/request.py\u001b[0m in \u001b[0;36merror\u001b[0;34m(self, proto, *args)\u001b[0m\n\u001b[1;32m    561\u001b[0m         \u001b[0;32mif\u001b[0m \u001b[0mhttp_err\u001b[0m\u001b[0;34m:\u001b[0m\u001b[0;34m\u001b[0m\u001b[0;34m\u001b[0m\u001b[0m\n\u001b[1;32m    562\u001b[0m             \u001b[0margs\u001b[0m \u001b[0;34m=\u001b[0m \u001b[0;34m(\u001b[0m\u001b[0mdict\u001b[0m\u001b[0;34m,\u001b[0m \u001b[0;34m'default'\u001b[0m\u001b[0;34m,\u001b[0m \u001b[0;34m'http_error_default'\u001b[0m\u001b[0;34m)\u001b[0m \u001b[0;34m+\u001b[0m \u001b[0morig_args\u001b[0m\u001b[0;34m\u001b[0m\u001b[0;34m\u001b[0m\u001b[0m\n\u001b[0;32m--> 563\u001b[0;31m             \u001b[0;32mreturn\u001b[0m \u001b[0mself\u001b[0m\u001b[0;34m.\u001b[0m\u001b[0m_call_chain\u001b[0m\u001b[0;34m(\u001b[0m\u001b[0;34m*\u001b[0m\u001b[0margs\u001b[0m\u001b[0;34m)\u001b[0m\u001b[0;34m\u001b[0m\u001b[0;34m\u001b[0m\u001b[0m\n\u001b[0m\u001b[1;32m    564\u001b[0m \u001b[0;34m\u001b[0m\u001b[0m\n\u001b[1;32m    565\u001b[0m \u001b[0;31m# XXX probably also want an abstract factory that knows when it makes\u001b[0m\u001b[0;34m\u001b[0m\u001b[0;34m\u001b[0m\u001b[0m\n",
            "\u001b[0;32m/usr/lib/python3.11/urllib/request.py\u001b[0m in \u001b[0;36m_call_chain\u001b[0;34m(self, chain, kind, meth_name, *args)\u001b[0m\n\u001b[1;32m    494\u001b[0m         \u001b[0;32mfor\u001b[0m \u001b[0mhandler\u001b[0m \u001b[0;32min\u001b[0m \u001b[0mhandlers\u001b[0m\u001b[0;34m:\u001b[0m\u001b[0;34m\u001b[0m\u001b[0;34m\u001b[0m\u001b[0m\n\u001b[1;32m    495\u001b[0m             \u001b[0mfunc\u001b[0m \u001b[0;34m=\u001b[0m \u001b[0mgetattr\u001b[0m\u001b[0;34m(\u001b[0m\u001b[0mhandler\u001b[0m\u001b[0;34m,\u001b[0m \u001b[0mmeth_name\u001b[0m\u001b[0;34m)\u001b[0m\u001b[0;34m\u001b[0m\u001b[0;34m\u001b[0m\u001b[0m\n\u001b[0;32m--> 496\u001b[0;31m             \u001b[0mresult\u001b[0m \u001b[0;34m=\u001b[0m \u001b[0mfunc\u001b[0m\u001b[0;34m(\u001b[0m\u001b[0;34m*\u001b[0m\u001b[0margs\u001b[0m\u001b[0;34m)\u001b[0m\u001b[0;34m\u001b[0m\u001b[0;34m\u001b[0m\u001b[0m\n\u001b[0m\u001b[1;32m    497\u001b[0m             \u001b[0;32mif\u001b[0m \u001b[0mresult\u001b[0m \u001b[0;32mis\u001b[0m \u001b[0;32mnot\u001b[0m \u001b[0;32mNone\u001b[0m\u001b[0;34m:\u001b[0m\u001b[0;34m\u001b[0m\u001b[0;34m\u001b[0m\u001b[0m\n\u001b[1;32m    498\u001b[0m                 \u001b[0;32mreturn\u001b[0m \u001b[0mresult\u001b[0m\u001b[0;34m\u001b[0m\u001b[0;34m\u001b[0m\u001b[0m\n",
            "\u001b[0;32m/usr/lib/python3.11/urllib/request.py\u001b[0m in \u001b[0;36mhttp_error_default\u001b[0;34m(self, req, fp, code, msg, hdrs)\u001b[0m\n\u001b[1;32m    641\u001b[0m \u001b[0;32mclass\u001b[0m \u001b[0mHTTPDefaultErrorHandler\u001b[0m\u001b[0;34m(\u001b[0m\u001b[0mBaseHandler\u001b[0m\u001b[0;34m)\u001b[0m\u001b[0;34m:\u001b[0m\u001b[0;34m\u001b[0m\u001b[0;34m\u001b[0m\u001b[0m\n\u001b[1;32m    642\u001b[0m     \u001b[0;32mdef\u001b[0m \u001b[0mhttp_error_default\u001b[0m\u001b[0;34m(\u001b[0m\u001b[0mself\u001b[0m\u001b[0;34m,\u001b[0m \u001b[0mreq\u001b[0m\u001b[0;34m,\u001b[0m \u001b[0mfp\u001b[0m\u001b[0;34m,\u001b[0m \u001b[0mcode\u001b[0m\u001b[0;34m,\u001b[0m \u001b[0mmsg\u001b[0m\u001b[0;34m,\u001b[0m \u001b[0mhdrs\u001b[0m\u001b[0;34m)\u001b[0m\u001b[0;34m:\u001b[0m\u001b[0;34m\u001b[0m\u001b[0;34m\u001b[0m\u001b[0m\n\u001b[0;32m--> 643\u001b[0;31m         \u001b[0;32mraise\u001b[0m \u001b[0mHTTPError\u001b[0m\u001b[0;34m(\u001b[0m\u001b[0mreq\u001b[0m\u001b[0;34m.\u001b[0m\u001b[0mfull_url\u001b[0m\u001b[0;34m,\u001b[0m \u001b[0mcode\u001b[0m\u001b[0;34m,\u001b[0m \u001b[0mmsg\u001b[0m\u001b[0;34m,\u001b[0m \u001b[0mhdrs\u001b[0m\u001b[0;34m,\u001b[0m \u001b[0mfp\u001b[0m\u001b[0;34m)\u001b[0m\u001b[0;34m\u001b[0m\u001b[0;34m\u001b[0m\u001b[0m\n\u001b[0m\u001b[1;32m    644\u001b[0m \u001b[0;34m\u001b[0m\u001b[0m\n\u001b[1;32m    645\u001b[0m \u001b[0;32mclass\u001b[0m \u001b[0mHTTPRedirectHandler\u001b[0m\u001b[0;34m(\u001b[0m\u001b[0mBaseHandler\u001b[0m\u001b[0;34m)\u001b[0m\u001b[0;34m:\u001b[0m\u001b[0;34m\u001b[0m\u001b[0;34m\u001b[0m\u001b[0m\n",
            "\u001b[0;31mHTTPError\u001b[0m: HTTP Error 404: Not Found"
          ]
        }
      ]
    },
    {
      "cell_type": "code",
      "source": [
        "from google.colab import files\n",
        "uploaded = files.upload()\n",
        "\n",
        "df = pd.read_json(\"TelecomX_Data.json\")\n"
      ],
      "metadata": {
        "id": "C4amTVEYMqqP",
        "outputId": "c42546e3-1e54-40cb-b9fa-e45772408de7",
        "colab": {
          "base_uri": "https://localhost:8080/",
          "height": 38
        }
      },
      "execution_count": null,
      "outputs": [
        {
          "output_type": "display_data",
          "data": {
            "text/plain": [
              "<IPython.core.display.HTML object>"
            ],
            "text/html": [
              "\n",
              "     <input type=\"file\" id=\"files-0f20d0f0-6564-4f60-9215-590703fbc241\" name=\"files[]\" multiple disabled\n",
              "        style=\"border:none\" />\n",
              "     <output id=\"result-0f20d0f0-6564-4f60-9215-590703fbc241\">\n",
              "      Upload widget is only available when the cell has been executed in the\n",
              "      current browser session. Please rerun this cell to enable.\n",
              "      </output>\n",
              "      <script>// Copyright 2017 Google LLC\n",
              "//\n",
              "// Licensed under the Apache License, Version 2.0 (the \"License\");\n",
              "// you may not use this file except in compliance with the License.\n",
              "// You may obtain a copy of the License at\n",
              "//\n",
              "//      http://www.apache.org/licenses/LICENSE-2.0\n",
              "//\n",
              "// Unless required by applicable law or agreed to in writing, software\n",
              "// distributed under the License is distributed on an \"AS IS\" BASIS,\n",
              "// WITHOUT WARRANTIES OR CONDITIONS OF ANY KIND, either express or implied.\n",
              "// See the License for the specific language governing permissions and\n",
              "// limitations under the License.\n",
              "\n",
              "/**\n",
              " * @fileoverview Helpers for google.colab Python module.\n",
              " */\n",
              "(function(scope) {\n",
              "function span(text, styleAttributes = {}) {\n",
              "  const element = document.createElement('span');\n",
              "  element.textContent = text;\n",
              "  for (const key of Object.keys(styleAttributes)) {\n",
              "    element.style[key] = styleAttributes[key];\n",
              "  }\n",
              "  return element;\n",
              "}\n",
              "\n",
              "// Max number of bytes which will be uploaded at a time.\n",
              "const MAX_PAYLOAD_SIZE = 100 * 1024;\n",
              "\n",
              "function _uploadFiles(inputId, outputId) {\n",
              "  const steps = uploadFilesStep(inputId, outputId);\n",
              "  const outputElement = document.getElementById(outputId);\n",
              "  // Cache steps on the outputElement to make it available for the next call\n",
              "  // to uploadFilesContinue from Python.\n",
              "  outputElement.steps = steps;\n",
              "\n",
              "  return _uploadFilesContinue(outputId);\n",
              "}\n",
              "\n",
              "// This is roughly an async generator (not supported in the browser yet),\n",
              "// where there are multiple asynchronous steps and the Python side is going\n",
              "// to poll for completion of each step.\n",
              "// This uses a Promise to block the python side on completion of each step,\n",
              "// then passes the result of the previous step as the input to the next step.\n",
              "function _uploadFilesContinue(outputId) {\n",
              "  const outputElement = document.getElementById(outputId);\n",
              "  const steps = outputElement.steps;\n",
              "\n",
              "  const next = steps.next(outputElement.lastPromiseValue);\n",
              "  return Promise.resolve(next.value.promise).then((value) => {\n",
              "    // Cache the last promise value to make it available to the next\n",
              "    // step of the generator.\n",
              "    outputElement.lastPromiseValue = value;\n",
              "    return next.value.response;\n",
              "  });\n",
              "}\n",
              "\n",
              "/**\n",
              " * Generator function which is called between each async step of the upload\n",
              " * process.\n",
              " * @param {string} inputId Element ID of the input file picker element.\n",
              " * @param {string} outputId Element ID of the output display.\n",
              " * @return {!Iterable<!Object>} Iterable of next steps.\n",
              " */\n",
              "function* uploadFilesStep(inputId, outputId) {\n",
              "  const inputElement = document.getElementById(inputId);\n",
              "  inputElement.disabled = false;\n",
              "\n",
              "  const outputElement = document.getElementById(outputId);\n",
              "  outputElement.innerHTML = '';\n",
              "\n",
              "  const pickedPromise = new Promise((resolve) => {\n",
              "    inputElement.addEventListener('change', (e) => {\n",
              "      resolve(e.target.files);\n",
              "    });\n",
              "  });\n",
              "\n",
              "  const cancel = document.createElement('button');\n",
              "  inputElement.parentElement.appendChild(cancel);\n",
              "  cancel.textContent = 'Cancel upload';\n",
              "  const cancelPromise = new Promise((resolve) => {\n",
              "    cancel.onclick = () => {\n",
              "      resolve(null);\n",
              "    };\n",
              "  });\n",
              "\n",
              "  // Wait for the user to pick the files.\n",
              "  const files = yield {\n",
              "    promise: Promise.race([pickedPromise, cancelPromise]),\n",
              "    response: {\n",
              "      action: 'starting',\n",
              "    }\n",
              "  };\n",
              "\n",
              "  cancel.remove();\n",
              "\n",
              "  // Disable the input element since further picks are not allowed.\n",
              "  inputElement.disabled = true;\n",
              "\n",
              "  if (!files) {\n",
              "    return {\n",
              "      response: {\n",
              "        action: 'complete',\n",
              "      }\n",
              "    };\n",
              "  }\n",
              "\n",
              "  for (const file of files) {\n",
              "    const li = document.createElement('li');\n",
              "    li.append(span(file.name, {fontWeight: 'bold'}));\n",
              "    li.append(span(\n",
              "        `(${file.type || 'n/a'}) - ${file.size} bytes, ` +\n",
              "        `last modified: ${\n",
              "            file.lastModifiedDate ? file.lastModifiedDate.toLocaleDateString() :\n",
              "                                    'n/a'} - `));\n",
              "    const percent = span('0% done');\n",
              "    li.appendChild(percent);\n",
              "\n",
              "    outputElement.appendChild(li);\n",
              "\n",
              "    const fileDataPromise = new Promise((resolve) => {\n",
              "      const reader = new FileReader();\n",
              "      reader.onload = (e) => {\n",
              "        resolve(e.target.result);\n",
              "      };\n",
              "      reader.readAsArrayBuffer(file);\n",
              "    });\n",
              "    // Wait for the data to be ready.\n",
              "    let fileData = yield {\n",
              "      promise: fileDataPromise,\n",
              "      response: {\n",
              "        action: 'continue',\n",
              "      }\n",
              "    };\n",
              "\n",
              "    // Use a chunked sending to avoid message size limits. See b/62115660.\n",
              "    let position = 0;\n",
              "    do {\n",
              "      const length = Math.min(fileData.byteLength - position, MAX_PAYLOAD_SIZE);\n",
              "      const chunk = new Uint8Array(fileData, position, length);\n",
              "      position += length;\n",
              "\n",
              "      const base64 = btoa(String.fromCharCode.apply(null, chunk));\n",
              "      yield {\n",
              "        response: {\n",
              "          action: 'append',\n",
              "          file: file.name,\n",
              "          data: base64,\n",
              "        },\n",
              "      };\n",
              "\n",
              "      let percentDone = fileData.byteLength === 0 ?\n",
              "          100 :\n",
              "          Math.round((position / fileData.byteLength) * 100);\n",
              "      percent.textContent = `${percentDone}% done`;\n",
              "\n",
              "    } while (position < fileData.byteLength);\n",
              "  }\n",
              "\n",
              "  // All done.\n",
              "  yield {\n",
              "    response: {\n",
              "      action: 'complete',\n",
              "    }\n",
              "  };\n",
              "}\n",
              "\n",
              "scope.google = scope.google || {};\n",
              "scope.google.colab = scope.google.colab || {};\n",
              "scope.google.colab._files = {\n",
              "  _uploadFiles,\n",
              "  _uploadFilesContinue,\n",
              "};\n",
              "})(self);\n",
              "</script> "
            ]
          },
          "metadata": {}
        }
      ]
    },
    {
      "cell_type": "markdown",
      "source": [
        "##Evaluación de los Modelos"
      ],
      "metadata": {
        "id": "3y6fmp_nJ3UO"
      }
    },
    {
      "cell_type": "code",
      "source": [],
      "metadata": {
        "id": "lxX5Kf22J5F8"
      },
      "execution_count": null,
      "outputs": []
    }
  ]
}