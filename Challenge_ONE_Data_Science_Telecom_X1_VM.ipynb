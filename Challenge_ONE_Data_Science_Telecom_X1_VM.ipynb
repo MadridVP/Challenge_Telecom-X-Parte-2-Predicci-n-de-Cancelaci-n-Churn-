{
  "nbformat": 4,
  "nbformat_minor": 0,
  "metadata": {
    "colab": {
      "provenance": [],
      "authorship_tag": "ABX9TyP5/G+K7/D/gNm7uWgOtceS",
      "include_colab_link": true
    },
    "kernelspec": {
      "name": "python3",
      "display_name": "Python 3"
    },
    "language_info": {
      "name": "python"
    }
  },
  "cells": [
    {
      "cell_type": "markdown",
      "metadata": {
        "id": "view-in-github",
        "colab_type": "text"
      },
      "source": [
        "<a href=\"https://colab.research.google.com/github/MadridVP/Challenge_Telecom-X-Parte-2-Predicci-n-de-Cancelaci-n-Churn-/blob/main/Challenge_ONE_Data_Science_Telecom_X1_VM.ipynb\" target=\"_parent\"><img src=\"https://colab.research.google.com/assets/colab-badge.svg\" alt=\"Open In Colab\"/></a>"
      ]
    },
    {
      "cell_type": "code",
      "execution_count": null,
      "metadata": {
        "id": "wX88sQNAwmK7"
      },
      "outputs": [],
      "source": [
        "import pandas as pd\n",
        "\n",
        "# Cargar el archivo JSON en un DataFrame\n",
        "df = pd.read_json('/content/TelecomX_Data.json')\n",
        "df.head()\n"
      ]
    },
    {
      "cell_type": "code",
      "source": [],
      "metadata": {
        "id": "l1xsAIP4y8Vp"
      },
      "execution_count": null,
      "outputs": []
    },
    {
      "cell_type": "markdown",
      "source": [
        "## **Verificar si hay problemas en los datos**\n"
      ],
      "metadata": {
        "id": "8D2415YTzZP8"
      }
    },
    {
      "cell_type": "code",
      "source": [
        "df.isnull().sum()\n"
      ],
      "metadata": {
        "id": "g3ImVN9DzY6Y"
      },
      "execution_count": null,
      "outputs": []
    },
    {
      "cell_type": "code",
      "source": [
        "df.info()\n"
      ],
      "metadata": {
        "id": "tJB5-0No0OiC"
      },
      "execution_count": null,
      "outputs": []
    },
    {
      "cell_type": "code",
      "source": [
        "df.dtypes\n"
      ],
      "metadata": {
        "id": "i0kS4obh1AoO"
      },
      "execution_count": null,
      "outputs": []
    },
    {
      "cell_type": "code",
      "source": [
        "import pandas as pd\n",
        "from pandas import json_normalize\n",
        "\n",
        "# 1. ¿Qué columnas tienen dicts?\n",
        "cols_dict = [c for c in df.columns if df[c].apply(lambda x: isinstance(x, dict)).any()]\n",
        "print(\"Columnas con dict:\", cols_dict)\n",
        "\n",
        "# 2. Aplanar cada una\n",
        "for c in cols_dict:\n",
        "    expanded = json_normalize(df[c]).add_prefix(f\"{c}.\")\n",
        "    df = pd.concat([df.drop(columns=[c]), expanded], axis=1)\n",
        "\n",
        "df.info()  # revisa la nueva estructura\n"
      ],
      "metadata": {
        "id": "N6sPx9yJ1V4O"
      },
      "execution_count": null,
      "outputs": []
    },
    {
      "cell_type": "code",
      "source": [
        "df.duplicated().sum()\n"
      ],
      "metadata": {
        "id": "b1YXD0U71e2C"
      },
      "execution_count": null,
      "outputs": []
    },
    {
      "cell_type": "code",
      "source": [
        "df.duplicated(subset=[\"customerID\"]).sum()\n"
      ],
      "metadata": {
        "id": "Dj1OkR9M1hm5"
      },
      "execution_count": null,
      "outputs": []
    },
    {
      "cell_type": "code",
      "source": [
        "for col in [\"Churn\", \"internet.plan\", \"phone.contract\", \"account.tenure\"]:\n",
        "    if col in df.columns:\n",
        "        print(col, df[col].unique()[:20])\n"
      ],
      "metadata": {
        "id": "7d5n9Et_1pIQ"
      },
      "execution_count": null,
      "outputs": []
    },
    {
      "cell_type": "code",
      "source": [
        "df.shape\n"
      ],
      "metadata": {
        "id": "lMEn-y1T1sJw"
      },
      "execution_count": null,
      "outputs": []
    },
    {
      "cell_type": "code",
      "source": [
        "# Revisar valores únicos de la columna Churn\n",
        "df[\"Churn\"].unique()\n",
        "\n",
        "# Revisar valores únicos de varias columnas\n",
        "for col in df.columns:\n",
        "    print(f\"{col}: {df[col].unique()}\")\n"
      ],
      "metadata": {
        "id": "Yolb23bd13-0"
      },
      "execution_count": null,
      "outputs": []
    },
    {
      "cell_type": "code",
      "source": [
        "df.head(3)\n"
      ],
      "metadata": {
        "id": "FoIpneSA2_pR"
      },
      "execution_count": null,
      "outputs": []
    },
    {
      "cell_type": "code",
      "source": [
        "df[\"Churn\"] = df[\"Churn\"].str.strip().str.title()\n"
      ],
      "metadata": {
        "id": "pHdaj_DF3lSJ"
      },
      "execution_count": null,
      "outputs": []
    },
    {
      "cell_type": "code",
      "source": [
        "df[\"account.PaperlessBilling\"] = df[\"account.PaperlessBilling\"].str.strip().str.title()\n",
        "df[\"account.Contract\"] = df[\"account.Contract\"].str.strip().str.title()\n",
        "df[\"account.PaymentMethod\"] = df[\"account.PaymentMethod\"].str.strip().str.title()\n"
      ],
      "metadata": {
        "id": "GD7G1U3j4_yJ"
      },
      "execution_count": null,
      "outputs": []
    },
    {
      "cell_type": "code",
      "source": [
        "df[\"Churn\"].unique()\n",
        "df[\"account.PaperlessBilling\"].unique()\n",
        "df[\"account.Contract\"].unique()\n",
        "df[\"account.PaymentMethod\"].unique()\n"
      ],
      "metadata": {
        "id": "OXjnR0645C6Z"
      },
      "execution_count": null,
      "outputs": []
    },
    {
      "cell_type": "code",
      "source": [
        "print(\"Churn:\", df[\"Churn\"].unique())\n",
        "print(\"PaperlessBilling:\", df[\"account.PaperlessBilling\"].unique())\n",
        "print(\"Contract:\", df[\"account.Contract\"].unique())\n",
        "print(\"PaymentMethod:\", df[\"account.PaymentMethod\"].unique())\n"
      ],
      "metadata": {
        "id": "-ccOz5bf5GmM"
      },
      "execution_count": null,
      "outputs": []
    },
    {
      "cell_type": "code",
      "source": [
        "#Limpiar Vacios\n",
        "df[\"Churn\"] = df[\"Churn\"].replace({\"\": \"No\"})\n"
      ],
      "metadata": {
        "id": "rdXz8suV5WT_"
      },
      "execution_count": null,
      "outputs": []
    },
    {
      "cell_type": "code",
      "source": [
        "#Unificar\n",
        "df[\"account.Contract\"] = df[\"account.Contract\"].replace({\n",
        "    \"Month-To-Month\": \"Month-to-month\",\n",
        "    \"One Year\": \"One year\",\n",
        "    \"Two Year\": \"Two year\"\n",
        "})\n"
      ],
      "metadata": {
        "id": "uoV8-UlN536S"
      },
      "execution_count": null,
      "outputs": []
    },
    {
      "cell_type": "code",
      "source": [
        "#Unificar mayusculas con metodo de pago\n",
        "df[\"account.PaymentMethod\"] = df[\"account.PaymentMethod\"].replace({\n",
        "    \"Electronic Check\": \"Electronic check\",\n",
        "    \"Mailed Check\": \"Mailed check\",\n",
        "    \"Credit Card (Automatic)\": \"Credit card (automatic)\",\n",
        "    \"Bank Transfer (Automatic)\": \"Bank transfer (automatic)\"\n",
        "})\n"
      ],
      "metadata": {
        "id": "b8-Naj1156p_"
      },
      "execution_count": null,
      "outputs": []
    },
    {
      "cell_type": "code",
      "source": [
        "#Verificacion de los cambios\n",
        "print(\"Churn:\", df[\"Churn\"].unique())\n",
        "print(\"PaperlessBilling:\", df[\"account.PaperlessBilling\"].unique())\n",
        "print(\"Contract:\", df[\"account.Contract\"].unique())\n",
        "print(\"PaymentMethod:\", df[\"account.PaymentMethod\"].unique())\n"
      ],
      "metadata": {
        "id": "S9U2NeiT5_Az"
      },
      "execution_count": null,
      "outputs": []
    },
    {
      "cell_type": "code",
      "source": [
        "df[\"Cuentas_Diarias\"] = df[\"account.Charges.Monthly\"] / 30\n"
      ],
      "metadata": {
        "id": "P_fbGM556CiJ"
      },
      "execution_count": null,
      "outputs": []
    },
    {
      "cell_type": "code",
      "source": [
        "df[[\"account.Charges.Monthly\", \"Cuentas_Diarias\"]].head()\n"
      ],
      "metadata": {
        "id": "1eg81iDE66Eg"
      },
      "execution_count": null,
      "outputs": []
    },
    {
      "cell_type": "markdown",
      "source": [
        "#Estandarización y transformación de datos (opcional)\n"
      ],
      "metadata": {
        "id": "kEZ4gk-b7Im6"
      }
    },
    {
      "cell_type": "code",
      "source": [
        "df[\"Churn\"] = df[\"Churn\"].map({\"Yes\": 1, \"No\": 0})\n",
        "df[\"account.PaperlessBilling\"] = df[\"account.PaperlessBilling\"].map({\"Yes\": 1, \"No\": 0})\n"
      ],
      "metadata": {
        "id": "GaW7rFES7FV1"
      },
      "execution_count": null,
      "outputs": []
    },
    {
      "cell_type": "code",
      "source": [
        "df = df.rename(columns={\n",
        "    \"account.Charges.Monthly\": \"Cargo_Mensual\",\n",
        "    \"account.Charges.Total\": \"Cargo_Total\",\n",
        "    \"account.Contract\": \"Tipo_Contrato\",\n",
        "    \"account.PaperlessBilling\": \"Factura_Electronica\",\n",
        "    \"account.PaymentMethod\": \"Metodo_Pago\",\n",
        "    \"Cuentas_Diarias\": \"Cargo_Diario\"\n",
        "})\n"
      ],
      "metadata": {
        "id": "U4t8MR7D9GoM"
      },
      "execution_count": null,
      "outputs": []
    },
    {
      "cell_type": "code",
      "source": [
        "# Análisis descriptivo básico\n",
        "print(\"Resumen con describe():\")\n",
        "print(df.describe())\n",
        "\n",
        "# Media de cada columna numérica\n",
        "print(\"\\nMedia:\")\n",
        "print(df.mean(numeric_only=True))\n",
        "\n",
        "# Mediana de cada columna numérica\n",
        "print(\"\\nMediana:\")\n",
        "print(df.median(numeric_only=True))\n",
        "\n",
        "# Desviación estándar de cada columna numérica\n",
        "print(\"\\nDesviación estándar:\")\n",
        "print(df.std(numeric_only=True))\n"
      ],
      "metadata": {
        "id": "xF1x2mkX9JSo"
      },
      "execution_count": null,
      "outputs": []
    },
    {
      "cell_type": "markdown",
      "source": [
        "#Distribucion de Churn"
      ],
      "metadata": {
        "id": "_DACFZj85oK2"
      }
    },
    {
      "cell_type": "code",
      "source": [
        "import matplotlib.pyplot as plt\n",
        "import seaborn as sns"
      ],
      "metadata": {
        "id": "PBAuvH3X5qvh"
      },
      "execution_count": null,
      "outputs": []
    },
    {
      "cell_type": "code",
      "source": [
        "# Conteo de valores en la columna churn\n",
        "conteo_churn = df['churn'].value_counts()"
      ],
      "metadata": {
        "id": "iw6FiT1b6coa"
      },
      "execution_count": null,
      "outputs": []
    },
    {
      "cell_type": "code",
      "source": [
        "print(df.columns)\n"
      ],
      "metadata": {
        "id": "fzNO5EfR6i2E"
      },
      "execution_count": null,
      "outputs": []
    },
    {
      "cell_type": "code",
      "source": [
        "# Conteo de valores en la columna Churn\n",
        "conteo_churn = df['Churn'].value_counts()"
      ],
      "metadata": {
        "id": "S0St6Nm96v1S"
      },
      "execution_count": null,
      "outputs": []
    },
    {
      "cell_type": "code",
      "source": [
        "# Mostrar conteo numérico\n",
        "print(\"Conteo de Churn:\")\n",
        "print(conteo_churn)"
      ],
      "metadata": {
        "id": "JnyOAbsG684n"
      },
      "execution_count": null,
      "outputs": []
    },
    {
      "cell_type": "code",
      "source": [
        "# Gráfico de barras\n",
        "sns.countplot(x='Churn', data=df, palette='Set2')\n",
        "plt.title('Distribución de evasión (Churn)')\n",
        "plt.xlabel('Churn (No = se quedó, Yes = se fue)')\n",
        "plt.ylabel('Cantidad de clientes')\n",
        "plt.show()"
      ],
      "metadata": {
        "id": "ohCpyxG77Av9"
      },
      "execution_count": null,
      "outputs": []
    },
    {
      "cell_type": "code",
      "source": [
        "df['Churn'].value_counts()\n"
      ],
      "metadata": {
        "id": "OlJpcOPz7Io7"
      },
      "execution_count": null,
      "outputs": []
    },
    {
      "cell_type": "code",
      "source": [
        "df['Churn_Label'] = df['Churn'].map({0: 'No se fue', 1: 'Se fue'})"
      ],
      "metadata": {
        "id": "-mlUB84x7hXq"
      },
      "execution_count": null,
      "outputs": []
    },
    {
      "cell_type": "code",
      "source": [
        "# Conteo\n",
        "conteo_churn = df['Churn_Label'].value_counts()"
      ],
      "metadata": {
        "id": "La26WmXf7-Zl"
      },
      "execution_count": null,
      "outputs": []
    },
    {
      "cell_type": "code",
      "source": [
        "# Gráfico de barras\n",
        "sns.countplot(x='Churn_Label', data=df, palette=['#66b3ff', '#ff9999'])\n",
        "plt.title('Distribución de evasión (Churn)')\n",
        "plt.xlabel('Estado del cliente')\n",
        "plt.ylabel('Cantidad de clientes')\n",
        "plt.show()"
      ],
      "metadata": {
        "id": "SQGe-UfV8BY6"
      },
      "execution_count": null,
      "outputs": []
    },
    {
      "cell_type": "code",
      "source": [
        "# Crear una nueva columna con etiquetas\n",
        "df['Churn_Label'] = df['Churn'].map({0: 'No se fue', 1: 'Se fue'})\n",
        "\n",
        "# Conteo\n",
        "conteo_churn = df['Churn_Label'].value_counts()\n",
        "\n",
        "# Gráfico de barras con colores personalizados\n",
        "sns.countplot(x='Churn_Label', data=df, palette={'No se fue': 'green', 'Se fue': 'orange'})\n",
        "plt.title('Distribución de evasión (Churn)')\n",
        "plt.xlabel('Estado del cliente')\n",
        "plt.ylabel('Cantidad de clientes')\n",
        "plt.show()"
      ],
      "metadata": {
        "id": "ZjTJiZEx8DgC"
      },
      "execution_count": null,
      "outputs": []
    },
    {
      "cell_type": "code",
      "source": [
        "# Gráfico de pastel con colores personalizados\n",
        "plt.pie(conteo_churn, labels=conteo_churn.index, autopct='%1.1f%%', startangle=90, colors=['green', 'orange'])\n",
        "plt.title('Proporción de clientes')\n",
        "plt.show()"
      ],
      "metadata": {
        "id": "AEGSs44Y8RSQ"
      },
      "execution_count": null,
      "outputs": []
    },
    {
      "cell_type": "code",
      "source": [],
      "metadata": {
        "id": "AU3-JwmP8War"
      },
      "execution_count": null,
      "outputs": []
    },
    {
      "cell_type": "markdown",
      "source": [
        "#**Churn por variables categoricas**\n"
      ],
      "metadata": {
        "id": "zanXRFzp81Z0"
      }
    },
    {
      "cell_type": "code",
      "source": [
        "import matplotlib.pyplot as plt\n",
        "import seaborn as sns"
      ],
      "metadata": {
        "id": "_2gh-ohx87PB"
      },
      "execution_count": null,
      "outputs": []
    },
    {
      "cell_type": "code",
      "source": [
        "# Analizar las Variables categóricas\n",
        "variables = ['customer.gender', 'Tipo_Contrato', 'Metodo_Pago']\n"
      ],
      "metadata": {
        "id": "qNainhnl875W"
      },
      "execution_count": null,
      "outputs": []
    },
    {
      "cell_type": "code",
      "source": [
        "# Crear los gráficos\n",
        "for var in variables:\n",
        "    plt.figure(figsize=(6,4))\n",
        "    sns.countplot(x=var, hue='Churn_Label', data=df,\n",
        "                  palette={'No se fue': 'green', 'Se fue': 'orange'})\n",
        "    plt.title(f'Evasión según {var}')\n",
        "    plt.xlabel(var)\n",
        "    plt.ylabel('Cantidad de clientes')\n",
        "    plt.legend(title='Churn')\n",
        "    plt.xticks(rotation=15)\n",
        "    plt.show()"
      ],
      "metadata": {
        "id": "ca_8oSHg8-YK"
      },
      "execution_count": null,
      "outputs": []
    },
    {
      "cell_type": "code",
      "source": [
        "import matplotlib.pyplot as plt\n",
        "import seaborn as sns"
      ],
      "metadata": {
        "id": "v3PyVOKG9BQR"
      },
      "execution_count": null,
      "outputs": []
    },
    {
      "cell_type": "code",
      "source": [
        "# Analizar la Lista de variables numéricas\n",
        "variables_numericas = ['Cargo_Total', 'customer.tenure']\n"
      ],
      "metadata": {
        "id": "zKvehSUG_BWy"
      },
      "execution_count": null,
      "outputs": []
    },
    {
      "cell_type": "code",
      "source": [
        "for var in variables_numericas:\n",
        "    plt.figure(figsize=(6,4))\n",
        "    sns.boxplot(x='Churn_Label', y=var, data=df,\n",
        "                palette={'No se fue': 'green', 'Se fue': 'orange'})\n",
        "    plt.title(f'{var} según estado de Churn')\n",
        "    plt.xlabel('Estado del cliente')\n",
        "    plt.ylabel(var)\n",
        "    plt.show()"
      ],
      "metadata": {
        "id": "CcHimole_HTV"
      },
      "execution_count": null,
      "outputs": []
    },
    {
      "cell_type": "code",
      "source": [],
      "metadata": {
        "id": "FWK4Xcnd_Jww"
      },
      "execution_count": null,
      "outputs": []
    },
    {
      "cell_type": "markdown",
      "source": [
        "##**Informe Final**\n"
      ],
      "metadata": {
        "id": "M6TxaKOIAYqm"
      }
    },
    {
      "cell_type": "markdown",
      "source": [
        "### Introducción\n",
        "\n",
        "El presente análisis tiene como objetivo comprender los factores que influyen en la evasión de clientes (Churn) en una empresa de telecomunicaciones.\n",
        "El Churn representa a los clientes que han cancelado el servicio en un período determinado. Reducir esta tasa es crucial, ya que retener a un cliente existente es más rentable que adquirir uno nuevo.\n",
        "\n",
        "A través de este estudio, se identificaron patrones y variables asociadas a la evasión, con el fin de proponer estrategias efectivas para mejorar la retención."
      ],
      "metadata": {
        "id": "A62_Y8OgAisP"
      }
    },
    {
      "cell_type": "markdown",
      "source": [
        "###Limpieza y Tratamiento de Datos\n",
        "Importación de datos\n",
        "\n",
        "Los datos fueron importados desde un archivo JSON provisto, utilizando pandas para su carga y manipulación.\n",
        "\n",
        "Revisión de estructura\n",
        "\n",
        "Se inspeccionaron las columnas, tipos de datos y valores faltantes (df.info(), df.describe()).\n",
        "\n",
        "Creación de variables auxiliares\n",
        "\n",
        "Se creó la columna Churn_Label para mapear los valores de Churn (0 = No se fue, 1 = Se fue) con etiquetas descriptivas.\n",
        "\n",
        "Preparación para análisis\n",
        "\n",
        "Se identificaron variables categóricas (género, tipo de contrato, método de pago) y numéricas (Cargo_Total, customer.tenure).[link text](https://)"
      ],
      "metadata": {
        "id": "YJe74DqOAqUf"
      }
    },
    {
      "cell_type": "markdown",
      "source": [
        "##Análisis Exploratorio de Datos (EDA)"
      ],
      "metadata": {
        "id": "b8oz9g8NJK1o"
      }
    },
    {
      "cell_type": "markdown",
      "source": [
        "# 1. Distribución de Evasión General\n",
        "El 25,7% de los clientes se fueron, mientras que el 74,3% permanecieron.\n",
        "\n",
        "Esto indica una tasa de evasión moderada que merece atención.\n",
        "\n",
        "Gráfico de barras y pastel mostrando proporción de Churn."
      ],
      "metadata": {
        "id": "I-Sox0TjJIpd"
      }
    },
    {
      "cell_type": "markdown",
      "source": [
        "# 2. Evasión por Variables Categóricas\n",
        "\n",
        "**Género:** No presenta diferencias significativas entre hombres y mujeres.  \n",
        "\n",
        "**Tipo de Contrato:** Los contratos *Month-to-month* tienen la mayor tasa de evasión, mientras que *One year* y *Two year* retienen mejor a los clientes.  \n",
        "\n",
        "**Método de Pago:** El pago mediante *Electronic check* presenta la mayor evasión; métodos automáticos muestran menor tasa.\n",
        "\n",
        "_Gráficos comparativos por categoría._\n"
      ],
      "metadata": {
        "id": "HZPLElheIQV4"
      }
    },
    {
      "cell_type": "markdown",
      "source": [
        "#3. Evasión por Variables Numéricas\n",
        "Cargo_Total: Los clientes que se fueron tienen un gasto total medianamente mayor, lo que podría indicar sensibilidad a costos.\n",
        "\n",
        "Tiempo de Contrato (tenure): La evasión es más alta en clientes con menor tiempo de contrato; a mayor antigüedad, menor probabilidad de cancelación.\n",
        "\n",
        "Boxplots para comparar distribuciones."
      ],
      "metadata": {
        "id": "Czs8d-zAI-c9"
      }
    },
    {
      "cell_type": "markdown",
      "source": [
        "##**Conclusiones**"
      ],
      "metadata": {
        "id": "-PZL_FHeJ1Z5"
      }
    },
    {
      "cell_type": "markdown",
      "source": [
        "1- Tipo de contrato y método de pago son fuertes predictores de evasión.\n",
        "\n",
        "2- Los clientes que pagan mes a mes y con Electronic check tienen mayor probabilidad de cancelar.\n",
        "\n",
        "3- La permanencia corta está altamente asociada con la evasión.\n",
        "\n",
        "4- Aunque el gasto total es algo mayor en los que se van, no es un factor tan determinante como el tiempo de contrato."
      ],
      "metadata": {
        "id": "6K5iKNE6J5Y-"
      }
    },
    {
      "cell_type": "code",
      "source": [],
      "metadata": {
        "id": "2v1d7vOqJ6ys"
      },
      "execution_count": null,
      "outputs": []
    },
    {
      "cell_type": "markdown",
      "source": [
        "##**Recomendaciones Estrategicas**"
      ],
      "metadata": {
        "id": "upgU1h5AKSFn"
      }
    },
    {
      "cell_type": "markdown",
      "source": [
        "* Incentivar contratos anuales o bianuales con beneficios atractivos (descuentos, upgrades).\n",
        "\n",
        "* Promover métodos de pago automáticos para disminuir la evasión.\n",
        "\n",
        "Programas de fidelización enfocados en clientes con menos de 12 meses de antigüedad.\n",
        "\n",
        "* Monitoreo proactivo: Identificar clientes con perfiles de alto riesgo (contrato mensual + pago por Electronic check) y contactarlos con ofertas personalizadas.\n",
        "\n",
        "* Evaluar estructura de precios para clientes con gasto elevado que muestran señales de deserción."
      ],
      "metadata": {
        "id": "3gVcb3e6KWpo"
      }
    },
    {
      "cell_type": "code",
      "source": [
        "import seaborn as sns\n",
        "import matplotlib.pyplot as plt\n",
        "\n",
        "# Calcular la matriz de correlación solo para variables numéricas\n",
        "corr_matrix = df.corr(numeric_only=True)\n",
        "\n",
        "# Mostrar la correlación de cada variable con Churn (ordenada)\n",
        "corr_with_churn = corr_matrix['Churn'].sort_values(ascending=False)\n",
        "print(\"Correlaciones con Churn:\")\n",
        "print(corr_with_churn)\n"
      ],
      "metadata": {
        "id": "B2LSYgeZKYUk"
      },
      "execution_count": null,
      "outputs": []
    },
    {
      "cell_type": "code",
      "source": [
        "plt.figure(figsize=(10,6))\n",
        "sns.heatmap(corr_matrix, annot=True, cmap='coolwarm', fmt=\".2f\")\n",
        "plt.title(\"Matriz de correlación\")\n",
        "plt.show()\n"
      ],
      "metadata": {
        "id": "jxYKwhAlNawc"
      },
      "execution_count": null,
      "outputs": []
    },
    {
      "cell_type": "code",
      "source": [
        "sns.boxplot(x='Churn_Label', y='Cargo_Diario', data=df,\n",
        "            palette={'No se fue': 'green', 'Se fue': 'orange'})\n",
        "plt.title('Relación entre Cargo Diario y Churn')\n",
        "plt.show()\n"
      ],
      "metadata": {
        "id": "2wA3uIcANgDE"
      },
      "execution_count": null,
      "outputs": []
    },
    {
      "cell_type": "code",
      "source": [
        "# Lista de columnas de servicios\n",
        "servicios_cols = [\n",
        "    'phone.PhoneService', 'phone.MultipleLines',\n",
        "    'internet.InternetService', 'internet.OnlineSecurity',\n",
        "    'internet.OnlineBackup', 'internet.DeviceProtection',\n",
        "    'internet.TechSupport', 'internet.StreamingTV',\n",
        "    'internet.StreamingMovies'\n",
        "]\n",
        "\n",
        "# Contar cuántos servicios tiene cada cliente (No/Yes -> 0/1)\n",
        "df['Servicios_Contratados'] = df[servicios_cols].apply(lambda row: sum(row == 'Yes'), axis=1)\n",
        "\n",
        "# Gráfico\n",
        "sns.boxplot(x='Churn_Label', y='Servicios_Contratados', data=df,\n",
        "            palette={'No se fue': 'green', 'Se fue': 'orange'})\n",
        "plt.title('Servicios contratados vs Churn')\n",
        "plt.show()\n"
      ],
      "metadata": {
        "id": "dzd0mPFuNjDu"
      },
      "execution_count": null,
      "outputs": []
    },
    {
      "cell_type": "code",
      "source": [],
      "metadata": {
        "id": "t3I8ATOpNm72"
      },
      "execution_count": null,
      "outputs": []
    },
    {
      "cell_type": "markdown",
      "source": [
        "##**Extracción del Archivo Tratado_Challenge Telecom X_Parte_2**\n"
      ],
      "metadata": {
        "id": "M6xLRMok_cFw"
      }
    },
    {
      "cell_type": "code",
      "source": [
        "\n",
        "df.to_csv(\"datos_tratados.csv\", index=False)"
      ],
      "metadata": {
        "id": "xVKXUpnH_lUv"
      },
      "execution_count": null,
      "outputs": []
    },
    {
      "cell_type": "markdown",
      "source": [
        "##Eliminar Columnas Irrelevantes"
      ],
      "metadata": {
        "id": "eUHaW81-_sbY"
      }
    },
    {
      "cell_type": "code",
      "source": [
        "# Mostrar todas las columnas del dataset\n",
        "print(\"Columnas del dataset:\")\n",
        "print(df.columns.tolist())\n"
      ],
      "metadata": {
        "id": "mhQkic6l_x7u"
      },
      "execution_count": null,
      "outputs": []
    },
    {
      "cell_type": "code",
      "source": [
        "df = df.drop(columns=[\"customerID\", \"Cargo_Diario\"], errors=\"ignore\")\n",
        "\n",
        "print(\"Columnas finales:\")\n",
        "print(df.columns.tolist())\n"
      ],
      "metadata": {
        "id": "3nl5dfa4A_JN"
      },
      "execution_count": null,
      "outputs": []
    },
    {
      "cell_type": "markdown",
      "source": [
        "##Ecoding"
      ],
      "metadata": {
        "id": "vIVKAFHwBv4C"
      }
    },
    {
      "cell_type": "code",
      "source": [
        "# Aplicar one-hot encoding a las variables categóricas\n",
        "df_encoded = pd.get_dummies(df, drop_first=True)\n",
        "\n",
        "# Revisar cómo quedó\n",
        "print(\"Columnas después de la transformación:\")\n",
        "print(df_encoded.columns.tolist())\n",
        "df_encoded.head()\n"
      ],
      "metadata": {
        "id": "snwxbJ0MBPn6"
      },
      "execution_count": null,
      "outputs": []
    },
    {
      "cell_type": "code",
      "source": [
        "df = pd.get_dummies(df, drop_first=True)\n"
      ],
      "metadata": {
        "id": "I4MeoY1hBo6j"
      },
      "execution_count": null,
      "outputs": []
    },
    {
      "cell_type": "code",
      "source": [],
      "metadata": {
        "id": "0f_jIGOyBrVF"
      },
      "execution_count": null,
      "outputs": []
    },
    {
      "cell_type": "markdown",
      "source": [
        "##Verifir de la Proporción de Cancelación (Churn)"
      ],
      "metadata": {
        "id": "igkaJLwBB0rV"
      }
    },
    {
      "cell_type": "code",
      "source": [
        "# Contar cuántos clientes cancelaron y cuántos no\n",
        "print(df[\"Churn\"].value_counts())\n"
      ],
      "metadata": {
        "id": "1C4nVQqTB6IW"
      },
      "execution_count": null,
      "outputs": []
    },
    {
      "cell_type": "code",
      "source": [
        "# Calcular proporción en porcentaje\n",
        "print(df[\"Churn\"].value_counts(normalize=True))\n"
      ],
      "metadata": {
        "id": "2ov3gRB6CFW_"
      },
      "execution_count": null,
      "outputs": []
    },
    {
      "cell_type": "code",
      "source": [],
      "metadata": {
        "id": "q1htzA_hCJlz"
      },
      "execution_count": null,
      "outputs": []
    },
    {
      "cell_type": "markdown",
      "source": [
        "##Balancear Clases (opcional)"
      ],
      "metadata": {
        "id": "kynqnYwSCZ54"
      }
    },
    {
      "cell_type": "code",
      "source": [
        "df[\"Churn\"].value_counts(normalize=True)\n"
      ],
      "metadata": {
        "id": "SKJawhr7CczC"
      },
      "execution_count": null,
      "outputs": []
    },
    {
      "cell_type": "code",
      "source": [
        "!pip install imbalanced-learn\n"
      ],
      "metadata": {
        "id": "FFldVCd5CoPi"
      },
      "execution_count": null,
      "outputs": []
    },
    {
      "cell_type": "code",
      "source": [
        "from imblearn.over_sampling import RandomOverSampler\n",
        "\n",
        "# Definir X (features) e y (target)\n",
        "X = df.drop(\"Churn\", axis=1)\n",
        "y = df[\"Churn\"]\n",
        "\n",
        "# Aplicar oversampling\n",
        "ros = RandomOverSampler(random_state=42)\n",
        "X_resampled, y_resampled = ros.fit_resample(X, y)\n",
        "\n",
        "# Revisar proporciones después\n",
        "print(y_resampled.value_counts(normalize=True))\n"
      ],
      "metadata": {
        "id": "jFe9Na4lCtK8"
      },
      "execution_count": null,
      "outputs": []
    },
    {
      "cell_type": "markdown",
      "source": [
        "##Normalizar o Estandarizar (si es necesario)"
      ],
      "metadata": {
        "id": "jHtD6DcMC7Py"
      }
    },
    {
      "cell_type": "code",
      "source": [
        "import pandas as pd\n",
        "import numpy as np\n",
        "\n",
        "# 1) QUITAR columnas que no ayudan (IDs, derivados)\n",
        "df = df.drop(columns=[\"customerID\", \"Cargo_Diario\"], errors=\"ignore\")\n",
        "\n",
        "# 2) ASEGURAR que la columna objetivo exista y sea 0/1\n",
        "#    Ajusta el nombre si tu target fuera distinto a \"Churn\"\n",
        "y = df[\"Churn\"].copy()\n",
        "\n",
        "# Si está como texto, lo mapeamos a 0/1\n",
        "if y.dtype == \"O\":\n",
        "    y = y.replace({\n",
        "        \"Yes\": 1, \"No\": 0,\n",
        "        \"Se fue\": 1, \"No se fue\": 0,\n",
        "        \"Canceló\": 1, \"Activo\": 0\n",
        "    })\n",
        "\n",
        "# Por si quedan valores raros, intentamos convertir a número\n",
        "y = pd.to_numeric(y, errors=\"coerce\")\n",
        "# Quitamos filas sin target válido\n",
        "mask = ~y.isna()\n",
        "df = df.loc[mask].reset_index(drop=True)\n",
        "y  = y.loc[mask].astype(int).reset_index(drop=True)\n",
        "\n",
        "print(\"Balance de clases (conteo):\")\n",
        "print(y.value_counts())\n",
        "print(\"\\nBalance de clases (proporción):\")\n",
        "print(y.value_counts(normalize=True).round(3))\n"
      ],
      "metadata": {
        "id": "IFKOyh_UDBFz"
      },
      "execution_count": null,
      "outputs": []
    },
    {
      "cell_type": "code",
      "source": [
        "# Separamos features (X) de la etiqueta (y)\n",
        "X = df.drop(columns=[\"Churn\"])\n",
        "\n",
        "# One-hot encoding para TODAS las categóricas de X\n",
        "X = pd.get_dummies(X, drop_first=True)\n",
        "\n",
        "print(\"Dimensiones de X e y:\", X.shape, y.shape)\n",
        "X.head(3)\n"
      ],
      "metadata": {
        "id": "fGxO_NFKERoD"
      },
      "execution_count": null,
      "outputs": []
    },
    {
      "cell_type": "code",
      "source": [
        "from sklearn.model_selection import train_test_split\n",
        "\n",
        "X_train, X_test, y_train, y_test = train_test_split(\n",
        "    X, y, test_size=0.30, random_state=42, stratify=y\n",
        ")\n",
        "\n",
        "X_train.shape, X_test.shape\n"
      ],
      "metadata": {
        "id": "wMXwtMM2EXAx"
      },
      "execution_count": null,
      "outputs": []
    },
    {
      "cell_type": "code",
      "source": [
        "from sklearn.tree import DecisionTreeClassifier\n",
        "from sklearn.metrics import classification_report, confusion_matrix, roc_auc_score\n",
        "\n",
        "tree = DecisionTreeClassifier(\n",
        "    random_state=42,  # reproducible\n",
        "    # max_depth= None (por defecto). Si ves sobreajuste, prueba max_depth=4..10\n",
        ")\n",
        "tree.fit(X_train, y_train)\n",
        "\n",
        "y_pred_tree = tree.predict(X_test)\n",
        "y_prob_tree = tree.predict_proba(X_test)[:, 1]\n",
        "\n",
        "print(\"=== Decision Tree ===\")\n",
        "print(\"MATRIZ DE CONFUSIÓN\\n\", confusion_matrix(y_test, y_pred_tree))\n",
        "print(\"\\nREPORTE DE CLASIFICACIÓN\\n\", classification_report(y_test, y_pred_tree, digits=3))\n",
        "print(\"ROC-AUC:\", roc_auc_score(y_test, y_prob_tree).round(3))\n"
      ],
      "metadata": {
        "id": "cl2xWZoAEkoF"
      },
      "execution_count": null,
      "outputs": []
    },
    {
      "cell_type": "code",
      "source": [
        "from sklearn.ensemble import RandomForestClassifier\n",
        "\n",
        "rf = RandomForestClassifier(\n",
        "    n_estimators=300,\n",
        "    random_state=42,\n",
        "    n_jobs=-1,\n",
        "    class_weight=\"balanced_subsample\"  # ayuda si hay desbalance\n",
        ")\n",
        "rf.fit(X_train, y_train)\n",
        "\n",
        "y_pred_rf = rf.predict(X_test)\n",
        "y_prob_rf = rf.predict_proba(X_test)[:, 1]\n",
        "\n",
        "print(\"=== Random Forest ===\")\n",
        "print(\"MATRIZ DE CONFUSIÓN\\n\", confusion_matrix(y_test, y_pred_rf))\n",
        "print(\"\\nREPORTE DE CLASIFICACIÓN\\n\", classification_report(y_test, y_pred_rf, digits=3))\n",
        "print(\"ROC-AUC:\", roc_auc_score(y_test, y_prob_rf).round(3))\n"
      ],
      "metadata": {
        "id": "kJrY2GdkEnPQ"
      },
      "execution_count": null,
      "outputs": []
    },
    {
      "cell_type": "code",
      "source": [
        "# Agregar XGBoost:\n",
        "!pip install -q xgboost\n"
      ],
      "metadata": {
        "id": "kUKptb0TEqiJ"
      },
      "execution_count": null,
      "outputs": []
    },
    {
      "cell_type": "code",
      "source": [
        "from xgboost import XGBClassifier\n",
        "\n",
        "xgb = XGBClassifier(\n",
        "    n_estimators=300,\n",
        "    learning_rate=0.1,\n",
        "    max_depth=4,\n",
        "    subsample=0.9,\n",
        "    colsample_bytree=0.9,\n",
        "    random_state=42,\n",
        "    n_jobs=-1,\n",
        "    eval_metric=\"logloss\"  # evita warnings\n",
        ")\n",
        "xgb.fit(X_train, y_train)\n",
        "\n",
        "y_pred_xgb = xgb.predict(X_test)\n",
        "y_prob_xgb = xgb.predict_proba(X_test)[:, 1]\n",
        "\n",
        "print(\"=== XGBoost ===\")\n",
        "print(\"MATRIZ DE CONFUSIÓN\\n\", confusion_matrix(y_test, y_pred_xgb))\n",
        "print(\"\\nREPORTE DE CLASIFICACIÓN\\n\", classification_report(y_test, y_pred_xgb, digits=3))\n",
        "print(\"ROC-AUC:\", roc_auc_score(y_test, y_prob_xgb).round(3))\n"
      ],
      "metadata": {
        "id": "rNfKRGEOE7Jz"
      },
      "execution_count": null,
      "outputs": []
    },
    {
      "cell_type": "code",
      "source": [
        "from sklearn.metrics import precision_score, recall_score, f1_score, accuracy_score\n",
        "\n",
        "def resumen(nombre, y_test, y_pred, y_prob):\n",
        "    return {\n",
        "        \"modelo\": nombre,\n",
        "        \"accuracy\": accuracy_score(y_test, y_pred),\n",
        "        \"precision\": precision_score(y_test, y_pred, zero_division=0),\n",
        "        \"recall\": recall_score(y_test, y_pred, zero_division=0),\n",
        "        \"f1\": f1_score(y_test, y_pred, zero_division=0),\n",
        "        \"roc_auc\": roc_auc_score(y_test, y_prob),\n",
        "    }\n",
        "\n",
        "tabla = []\n",
        "tabla.append(resumen(\"Decision Tree\", y_test, y_pred_tree, y_prob_tree))\n",
        "tabla.append(resumen(\"Random Forest\", y_test, y_pred_rf, y_prob_rf))\n",
        "tabla.append(resumen(\"XGBoost\",       y_test, y_pred_xgb, y_prob_xgb))\n",
        "\n",
        "pd.DataFrame(tabla).round(3).sort_values(\"roc_auc\", ascending=False)\n"
      ],
      "metadata": {
        "id": "14CskfDYFGLW"
      },
      "execution_count": null,
      "outputs": []
    },
    {
      "cell_type": "markdown",
      "source": [
        "##Correlación y Selección de Variables"
      ],
      "metadata": {
        "id": "oHei0ZFKFQqp"
      }
    },
    {
      "cell_type": "markdown",
      "source": [
        "##Análisis de Correlación"
      ],
      "metadata": {
        "id": "cgzrfgKeFf5l"
      }
    },
    {
      "cell_type": "code",
      "source": [],
      "metadata": {
        "id": "LsYMDL9EFgnD"
      },
      "execution_count": null,
      "outputs": []
    },
    {
      "cell_type": "code",
      "source": [
        "# Seleccionar solo las columnas numéricas\n",
        "df_num = df.select_dtypes(include=[\"int64\", \"float64\"])\n",
        "\n",
        "# Mostrar las primeras columnas numéricas\n",
        "print(\"Columnas numéricas:\", df_num.columns.tolist())\n",
        "df_num.head()\n"
      ],
      "metadata": {
        "id": "qFv_hFg4FiQG"
      },
      "execution_count": null,
      "outputs": []
    },
    {
      "cell_type": "code",
      "source": [
        "# Calcular la matriz de correlación\n",
        "corr = df_num.corr()\n",
        "\n",
        "# Mostrar la correlación de todas las variables con Churn\n",
        "print(\"Correlación con Churn:\")\n",
        "print(corr[\"Churn\"].sort_values(ascending=False))\n"
      ],
      "metadata": {
        "id": "mA8BCjSfFwqZ"
      },
      "execution_count": null,
      "outputs": []
    },
    {
      "cell_type": "code",
      "source": [
        "import matplotlib.pyplot as plt\n",
        "import seaborn as sns\n",
        "\n",
        "plt.figure(figsize=(12,8))\n",
        "sns.heatmap(corr, annot=True, cmap=\"coolwarm\", fmt=\".2f\")\n",
        "plt.title(\"Matriz de correlación - Variables numéricas\")\n",
        "plt.show()\n"
      ],
      "metadata": {
        "id": "59JL7WLtFzad"
      },
      "execution_count": null,
      "outputs": []
    },
    {
      "cell_type": "markdown",
      "source": [
        "##Análisis Dirigido"
      ],
      "metadata": {
        "id": "ZdXxvYeFF7gB"
      }
    },
    {
      "cell_type": "code",
      "source": [
        "df[\"Churn\"] = df[\"Churn\"].map({\"Yes\":1, \"No\":0, \"Se fue\":1, \"No se fue\":0})\n"
      ],
      "metadata": {
        "id": "CFx_NxV0GG8U"
      },
      "execution_count": null,
      "outputs": []
    },
    {
      "cell_type": "code",
      "source": [
        "import matplotlib.pyplot as plt\n",
        "import seaborn as sns\n",
        "\n",
        "plt.figure(figsize=(8,5))\n",
        "sns.boxplot(x=\"Churn\", y=\"customer.tenure\", data=df)\n",
        "plt.title(\"Tiempo de contrato vs Cancelación\")\n",
        "plt.xlabel(\"Churn (0 = No canceló, 1 = Canceló)\")\n",
        "plt.ylabel(\"Meses de contrato (tenure)\")\n",
        "plt.show()\n"
      ],
      "metadata": {
        "id": "jrsqOTx5GKHq"
      },
      "execution_count": null,
      "outputs": []
    },
    {
      "cell_type": "code",
      "source": [
        "# Contar cuántos valores vacíos hay en cada columna\n",
        "print(df.isna().sum())\n"
      ],
      "metadata": {
        "id": "g-nRgmomGN2K"
      },
      "execution_count": null,
      "outputs": []
    },
    {
      "cell_type": "code",
      "source": [
        "df[\"Churn\"] = df[\"Churn\"].fillna(\"No\")\n"
      ],
      "metadata": {
        "id": "ZMWIIL3EGdol"
      },
      "execution_count": null,
      "outputs": []
    },
    {
      "cell_type": "code",
      "source": [
        "df[\"Churn\"] = df[\"Churn\"].map({\"Yes\":1, \"No\":0, \"Se fue\":1, \"No se fue\":0})\n"
      ],
      "metadata": {
        "id": "dqz18eagGrlG"
      },
      "execution_count": null,
      "outputs": []
    },
    {
      "cell_type": "code",
      "source": [
        "sns.boxplot(x=\"Churn\", y=\"customer.tenure\", data=df)\n"
      ],
      "metadata": {
        "id": "d2USd6LgGtbV"
      },
      "execution_count": null,
      "outputs": []
    },
    {
      "cell_type": "markdown",
      "source": [
        "##**Modelo Predictivo**"
      ],
      "metadata": {
        "id": "NNyQDiEUG58f"
      }
    },
    {
      "cell_type": "markdown",
      "source": [
        "##Separar Datos"
      ],
      "metadata": {
        "id": "N86FypjRHAXo"
      }
    },
    {
      "cell_type": "code",
      "source": [
        "# Features (todas menos la variable target)\n",
        "X = df.drop(\"Churn\", axis=1)\n",
        "\n",
        "# Target (lo que queremos predecir)\n",
        "y = df[\"Churn\"]\n"
      ],
      "metadata": {
        "id": "AGvMR9HMG86z"
      },
      "execution_count": null,
      "outputs": []
    },
    {
      "cell_type": "code",
      "source": [
        "from sklearn.model_selection import train_test_split\n",
        "\n",
        "# Dividir el dataset\n",
        "X_train, X_test, y_train, y_test = train_test_split(\n",
        "    X, y, test_size=0.3, random_state=42, stratify=y\n",
        ")\n",
        "\n",
        "print(\"Tamaño del dataset total:\", X.shape)\n",
        "print(\"Tamaño de entrenamiento:\", X_train.shape)\n",
        "print(\"Tamaño de prueba:\", X_test.shape)\n"
      ],
      "metadata": {
        "id": "ilhzQTnPHOZQ"
      },
      "execution_count": null,
      "outputs": []
    },
    {
      "cell_type": "markdown",
      "source": [
        "##Creación de Modelos"
      ],
      "metadata": {
        "id": "MREZ7iVqHX3p"
      }
    },
    {
      "cell_type": "code",
      "source": [
        "#Normalizar datos\n",
        "from sklearn.preprocessing import StandardScaler\n",
        "\n",
        "# Hacer copia para no modificar X\n",
        "X_scaled = X.copy()\n",
        "\n",
        "# Normalizar solo las variables numéricas\n",
        "num_cols = X.select_dtypes(include=[\"int64\",\"float64\"]).columns\n",
        "scaler = StandardScaler()\n",
        "X_scaled[num_cols] = scaler.fit_transform(X_scaled[num_cols])\n"
      ],
      "metadata": {
        "id": "QE3PtKkXHYri"
      },
      "execution_count": null,
      "outputs": []
    },
    {
      "cell_type": "code",
      "source": [
        "# Usar Regresion Logistica\n",
        "from sklearn.linear_model import LogisticRegression\n",
        "from sklearn.metrics import accuracy_score, classification_report\n",
        "\n",
        "# Usar datos normalizados\n",
        "X_train_scaled, X_test_scaled, y_train, y_test = train_test_split(\n",
        "    X_scaled, y, test_size=0.3, random_state=42, stratify=y\n",
        ")\n",
        "\n",
        "# Entrenamiento\n",
        "log_model = LogisticRegression(max_iter=1000)\n",
        "log_model.fit(X_train_scaled, y_train)\n",
        "\n",
        "# Predicciones\n",
        "y_pred_log = log_model.predict(X_test_scaled)\n",
        "\n",
        "print(\"📊 Regresión Logística\")\n",
        "print(\"Accuracy:\", accuracy_score(y_test, y_pred_log))\n",
        "print(classification_report(y_test, y_pred_log))\n"
      ],
      "metadata": {
        "id": "fBXvvnrmHqBZ"
      },
      "execution_count": null,
      "outputs": []
    },
    {
      "cell_type": "code",
      "source": [
        "print(\"Distribución en todo el dataset:\")\n",
        "print(y.value_counts())\n"
      ],
      "metadata": {
        "id": "enQbJs2BH0tt"
      },
      "execution_count": null,
      "outputs": []
    },
    {
      "cell_type": "code",
      "source": [
        "print(\"Distribución en entrenamiento:\")\n",
        "print(y_train.value_counts())\n",
        "\n",
        "print(\"Distribución en prueba:\")\n",
        "print(y_test.value_counts())\n"
      ],
      "metadata": {
        "id": "QfZ3rObtID7v"
      },
      "execution_count": null,
      "outputs": []
    },
    {
      "cell_type": "code",
      "source": [
        "print(df[\"Churn\"].unique()[:20])\n",
        "print(y.value_counts(dropna=False))\n"
      ],
      "metadata": {
        "id": "wsPARcmEIHUN"
      },
      "execution_count": null,
      "outputs": []
    },
    {
      "cell_type": "code",
      "source": [
        "print(df[\"Churn\"].unique())\n"
      ],
      "metadata": {
        "id": "pilTDNX8JMhV"
      },
      "execution_count": null,
      "outputs": []
    },
    {
      "cell_type": "code",
      "source": [
        "# ¿Hay columnas relacionadas con churn creadas por get_dummies?\n",
        "cands = [c for c in df.columns if \"churn\" in c.lower()]\n",
        "print(cands)\n"
      ],
      "metadata": {
        "id": "07x3hD2QJXMF"
      },
      "execution_count": null,
      "outputs": []
    },
    {
      "cell_type": "code",
      "source": [
        "# Revisamos valores únicos originales\n",
        "print(df[\"Churn\"].unique()[:20])\n",
        "\n",
        "# Intentamos mapear a binario\n",
        "df[\"Churn\"] = df[\"Churn\"].astype(str).str.strip()  # limpiamos espacios\n",
        "\n",
        "df[\"Churn_bin\"] = df[\"Churn\"].replace({\n",
        "    \"Yes\": 1, \"No\": 0,\n",
        "    \"Se fue\": 1, \"No se fue\": 0,\n",
        "    \"True\": 1, \"False\": 0,\n",
        "    \"1\": 1, \"0\": 0\n",
        "})\n",
        "\n",
        "print(\"Distribución después del mapeo:\")\n",
        "print(df[\"Churn_bin\"].value_counts(dropna=False))\n"
      ],
      "metadata": {
        "id": "3RA6vT6FLQFl"
      },
      "execution_count": null,
      "outputs": []
    },
    {
      "cell_type": "code",
      "source": [
        "y = df[\"Churn_bin\"].astype(int)\n"
      ],
      "metadata": {
        "id": "ClbaDHw0LP--"
      },
      "execution_count": null,
      "outputs": []
    },
    {
      "cell_type": "code",
      "source": [
        "import pandas as pd\n",
        "\n",
        "# Cargar directamente desde GitHub\n",
        "url = \"https://raw.githubusercontent.com/MadridVP/Challenge_Telecom-X-Parte-2-Predicci-n-de-Cancelaci-n-Churn-/main/TelecomX_Data.json\"\n",
        "\n",
        "df = pd.read_json(url)\n"
      ],
      "metadata": {
        "id": "rsBypvrJMk2L"
      },
      "execution_count": null,
      "outputs": []
    },
    {
      "cell_type": "code",
      "source": [
        "from google.colab import files\n",
        "uploaded = files.upload()\n",
        "\n",
        "df = pd.read_json(\"TelecomX_Data.json\")\n"
      ],
      "metadata": {
        "id": "C4amTVEYMqqP",
        "outputId": "7d973e8c-7053-4c19-89f2-c6ca8943b089",
        "colab": {
          "base_uri": "https://localhost:8080/",
          "height": 38
        }
      },
      "execution_count": null,
      "outputs": [
        {
          "output_type": "display_data",
          "data": {
            "text/plain": [
              "<IPython.core.display.HTML object>"
            ],
            "text/html": [
              "\n",
              "     <input type=\"file\" id=\"files-a78a3dd0-fb93-4218-854f-1f33ac64ad64\" name=\"files[]\" multiple disabled\n",
              "        style=\"border:none\" />\n",
              "     <output id=\"result-a78a3dd0-fb93-4218-854f-1f33ac64ad64\">\n",
              "      Upload widget is only available when the cell has been executed in the\n",
              "      current browser session. Please rerun this cell to enable.\n",
              "      </output>\n",
              "      <script>// Copyright 2017 Google LLC\n",
              "//\n",
              "// Licensed under the Apache License, Version 2.0 (the \"License\");\n",
              "// you may not use this file except in compliance with the License.\n",
              "// You may obtain a copy of the License at\n",
              "//\n",
              "//      http://www.apache.org/licenses/LICENSE-2.0\n",
              "//\n",
              "// Unless required by applicable law or agreed to in writing, software\n",
              "// distributed under the License is distributed on an \"AS IS\" BASIS,\n",
              "// WITHOUT WARRANTIES OR CONDITIONS OF ANY KIND, either express or implied.\n",
              "// See the License for the specific language governing permissions and\n",
              "// limitations under the License.\n",
              "\n",
              "/**\n",
              " * @fileoverview Helpers for google.colab Python module.\n",
              " */\n",
              "(function(scope) {\n",
              "function span(text, styleAttributes = {}) {\n",
              "  const element = document.createElement('span');\n",
              "  element.textContent = text;\n",
              "  for (const key of Object.keys(styleAttributes)) {\n",
              "    element.style[key] = styleAttributes[key];\n",
              "  }\n",
              "  return element;\n",
              "}\n",
              "\n",
              "// Max number of bytes which will be uploaded at a time.\n",
              "const MAX_PAYLOAD_SIZE = 100 * 1024;\n",
              "\n",
              "function _uploadFiles(inputId, outputId) {\n",
              "  const steps = uploadFilesStep(inputId, outputId);\n",
              "  const outputElement = document.getElementById(outputId);\n",
              "  // Cache steps on the outputElement to make it available for the next call\n",
              "  // to uploadFilesContinue from Python.\n",
              "  outputElement.steps = steps;\n",
              "\n",
              "  return _uploadFilesContinue(outputId);\n",
              "}\n",
              "\n",
              "// This is roughly an async generator (not supported in the browser yet),\n",
              "// where there are multiple asynchronous steps and the Python side is going\n",
              "// to poll for completion of each step.\n",
              "// This uses a Promise to block the python side on completion of each step,\n",
              "// then passes the result of the previous step as the input to the next step.\n",
              "function _uploadFilesContinue(outputId) {\n",
              "  const outputElement = document.getElementById(outputId);\n",
              "  const steps = outputElement.steps;\n",
              "\n",
              "  const next = steps.next(outputElement.lastPromiseValue);\n",
              "  return Promise.resolve(next.value.promise).then((value) => {\n",
              "    // Cache the last promise value to make it available to the next\n",
              "    // step of the generator.\n",
              "    outputElement.lastPromiseValue = value;\n",
              "    return next.value.response;\n",
              "  });\n",
              "}\n",
              "\n",
              "/**\n",
              " * Generator function which is called between each async step of the upload\n",
              " * process.\n",
              " * @param {string} inputId Element ID of the input file picker element.\n",
              " * @param {string} outputId Element ID of the output display.\n",
              " * @return {!Iterable<!Object>} Iterable of next steps.\n",
              " */\n",
              "function* uploadFilesStep(inputId, outputId) {\n",
              "  const inputElement = document.getElementById(inputId);\n",
              "  inputElement.disabled = false;\n",
              "\n",
              "  const outputElement = document.getElementById(outputId);\n",
              "  outputElement.innerHTML = '';\n",
              "\n",
              "  const pickedPromise = new Promise((resolve) => {\n",
              "    inputElement.addEventListener('change', (e) => {\n",
              "      resolve(e.target.files);\n",
              "    });\n",
              "  });\n",
              "\n",
              "  const cancel = document.createElement('button');\n",
              "  inputElement.parentElement.appendChild(cancel);\n",
              "  cancel.textContent = 'Cancel upload';\n",
              "  const cancelPromise = new Promise((resolve) => {\n",
              "    cancel.onclick = () => {\n",
              "      resolve(null);\n",
              "    };\n",
              "  });\n",
              "\n",
              "  // Wait for the user to pick the files.\n",
              "  const files = yield {\n",
              "    promise: Promise.race([pickedPromise, cancelPromise]),\n",
              "    response: {\n",
              "      action: 'starting',\n",
              "    }\n",
              "  };\n",
              "\n",
              "  cancel.remove();\n",
              "\n",
              "  // Disable the input element since further picks are not allowed.\n",
              "  inputElement.disabled = true;\n",
              "\n",
              "  if (!files) {\n",
              "    return {\n",
              "      response: {\n",
              "        action: 'complete',\n",
              "      }\n",
              "    };\n",
              "  }\n",
              "\n",
              "  for (const file of files) {\n",
              "    const li = document.createElement('li');\n",
              "    li.append(span(file.name, {fontWeight: 'bold'}));\n",
              "    li.append(span(\n",
              "        `(${file.type || 'n/a'}) - ${file.size} bytes, ` +\n",
              "        `last modified: ${\n",
              "            file.lastModifiedDate ? file.lastModifiedDate.toLocaleDateString() :\n",
              "                                    'n/a'} - `));\n",
              "    const percent = span('0% done');\n",
              "    li.appendChild(percent);\n",
              "\n",
              "    outputElement.appendChild(li);\n",
              "\n",
              "    const fileDataPromise = new Promise((resolve) => {\n",
              "      const reader = new FileReader();\n",
              "      reader.onload = (e) => {\n",
              "        resolve(e.target.result);\n",
              "      };\n",
              "      reader.readAsArrayBuffer(file);\n",
              "    });\n",
              "    // Wait for the data to be ready.\n",
              "    let fileData = yield {\n",
              "      promise: fileDataPromise,\n",
              "      response: {\n",
              "        action: 'continue',\n",
              "      }\n",
              "    };\n",
              "\n",
              "    // Use a chunked sending to avoid message size limits. See b/62115660.\n",
              "    let position = 0;\n",
              "    do {\n",
              "      const length = Math.min(fileData.byteLength - position, MAX_PAYLOAD_SIZE);\n",
              "      const chunk = new Uint8Array(fileData, position, length);\n",
              "      position += length;\n",
              "\n",
              "      const base64 = btoa(String.fromCharCode.apply(null, chunk));\n",
              "      yield {\n",
              "        response: {\n",
              "          action: 'append',\n",
              "          file: file.name,\n",
              "          data: base64,\n",
              "        },\n",
              "      };\n",
              "\n",
              "      let percentDone = fileData.byteLength === 0 ?\n",
              "          100 :\n",
              "          Math.round((position / fileData.byteLength) * 100);\n",
              "      percent.textContent = `${percentDone}% done`;\n",
              "\n",
              "    } while (position < fileData.byteLength);\n",
              "  }\n",
              "\n",
              "  // All done.\n",
              "  yield {\n",
              "    response: {\n",
              "      action: 'complete',\n",
              "    }\n",
              "  };\n",
              "}\n",
              "\n",
              "scope.google = scope.google || {};\n",
              "scope.google.colab = scope.google.colab || {};\n",
              "scope.google.colab._files = {\n",
              "  _uploadFiles,\n",
              "  _uploadFilesContinue,\n",
              "};\n",
              "})(self);\n",
              "</script> "
            ]
          },
          "metadata": {}
        }
      ]
    },
    {
      "cell_type": "code",
      "source": [],
      "metadata": {
        "id": "UBTBSu89M5vF"
      },
      "execution_count": null,
      "outputs": []
    },
    {
      "cell_type": "code",
      "source": [],
      "metadata": {
        "id": "lxX5Kf22J5F8"
      },
      "execution_count": null,
      "outputs": []
    }
  ]
}